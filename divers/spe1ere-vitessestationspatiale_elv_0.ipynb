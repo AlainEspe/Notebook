{
 "cells": [
  {
   "cell_type": "markdown",
   "metadata": {},
   "source": [
    "<p>Programme de calcul de vecteurs vitesse</p>"
   ]
  },
  {
   "cell_type": "code",
   "execution_count": null,
   "metadata": {},
   "outputs": [],
   "source": [
    "# Niveau 1:\n",
    "    # Faire tourner le programme et observer le graphe.\n",
    "        # Attention: penser à chaque fois à fermer le graphe avant de modifier le programme!\n",
    "    # Compléter le programme (à partir de la ligne 41) avec les instructions:\n",
    "        # print (x[2])\n",
    "        # print (y[2])\n",
    "        # et faire tourner le programme, puis indiquer (en commentaire), ce que représentent ces deux valeurs affichées par le programme\n",
    "\n",
    "# Niveau 2:\n",
    "    # Programmer le calcul des coordonnées vx[8] et vy[8] du vecteur vitesse entre les points n°8 et n°9\n",
    "        # et l'affichage du résultat sous la forme \"vx[8]= ...km/h\"\n",
    "        # \"vy[8]= ...km/h\", et faire tourner le programme\n",
    "    # Modifier la ligne commençant par #plt.quiver(...) pour qu'elle ne corresponde plus à un commentaire mais à une instruction\n",
    "        # et faire tourner le programme (si la flèche est trop longue ou trop courte, modifier l'échelle)\n",
    "        # indiquer en commentaire quel est le rôle de cette ligne\n",
    "\n",
    "# Niveau 3:\n",
    "    # A l'aide d'une boucle \"for ...\", programmer le calcul des coordonnées\n",
    "        # du vecteur vitesse pour les points n°0 à 11, dans les deux listes vx et vy\n",
    "        # (on note ces coordonnées vx[i] et vz[i])\n",
    "        # et l’affichage de ces vecteurs en vert (avec éventuellement une échelle 10), puis faire tourner le programme,\n",
    "\n",
    "#Pour les plus rapides:\n",
    "    # Programmer le calcul des valeurs (norme) de la vitesse pour chaque point de la courbe\n",
    "    # afficher le résultat sous la forme : \"Au point de coordonnées ( ...; ...), la station spatiale à une vitesse v = ... km/h\"\n",
    "\n",
    "import matplotlib.pyplot as plt     # importation des librairies : graphiques et calculs mathématiques\n",
    "import numpy as np\n",
    "from math import sqrt               # importation de la fonction racine carrée\n",
    "\n",
    "x = [400,346,200,0,-200,-346,-400,-346,-200,0,200,346,400]       # abscisses de la station spatiale (exprimée en kilomètres)\n",
    "y = [0,200,346,400,346,200,0,-200,-346,-400,-346,-200,0]         # ordonnées de la station spatiale (exprimée en kilomètres)\n",
    "\n",
    "# Definition des données\n",
    "Dt=0.125           # Définition de l'intervalle de temps entre deux mesures, exprimé en heures\n",
    "vx=[0.0]*13        # Définition de deux listes contentant les coordonnées des 12 vecteurs vitesse\n",
    "vy=[0.0]*13\n",
    "\n",
    "\n",
    "# Niveau 1: lignes à écrire pour afficher x[2] et y[2]:\n",
    "\n",
    "\n",
    "# Niveau 2: lignes à écrire pour calculer les coordonnées du vecteur vitesse\n",
    "\n",
    "\n",
    "\n",
    "# plt.quiver(x[8],y[8],vx[8],vy[8],color=\"green\", scale_units='xy', scale = 10) # Niveau 2: Commentaire à compléter\n",
    "\n",
    "# Niveau 3: calcul des coordonnées du vecteur vitesse et affichage du vecteur vitesse pour les points n°0 à 11\n",
    "\n",
    "\n",
    "# Niveau 4: calcul de la valeur de la vitesse et affichage\n",
    "\n",
    "\n",
    "plt.plot(x,y,'o', markersize=4) # propriétés (variables, style et taille des points, titre, axes, grille) du graphique à tracer\n",
    "plt.title('Trajectoire de la station spatiale')\n",
    "plt.xlabel('x en kilometres')\n",
    "plt.ylabel('y en kilometres')\n",
    "plt.grid()\n",
    "plt.show()                      # affiche le graphique\n"
   ]
  }
 ],
 "metadata": {
  "kernelspec": {
   "display_name": "Python 3",
   "language": "python",
   "name": "python3"
  },
  "language_info": {
   "codemirror_mode": {
    "name": "ipython",
    "version": 3
   },
   "file_extension": ".py",
   "mimetype": "text/x-python",
   "name": "python",
   "nbconvert_exporter": "python",
   "pygments_lexer": "ipython3",
   "version": "3.8.6"
  }
 },
 "nbformat": 4,
 "nbformat_minor": 4
}
