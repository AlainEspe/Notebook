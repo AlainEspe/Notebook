{
 "cells": [
  {
   "cell_type": "markdown",
   "metadata": {},
   "source": [
    "# Python premier Notebook"
   ]
  },
  {
   "cell_type": "markdown",
   "metadata": {},
   "source": [
    "## Exercice 1"
   ]
  },
  {
   "cell_type": "markdown",
   "metadata": {},
   "source": [
    "<p><strong>Voici un algorithme &eacute;crit en langage naturel</strong></p>"
   ]
  },
  {
   "cell_type": "markdown",
   "metadata": {},
   "source": [
    "<p>_Affecter &agrave; A la valeur 2</p>\n",
    "<p>_Affecter &agrave; B la valeur 2 x A</p>\n",
    "<p>_Affecter &agrave; C la valeur B&sup2;</p>\n",
    "<p>_Afficher C</p>"
   ]
  },
  {
   "cell_type": "markdown",
   "metadata": {},
   "source": [
    "<p><strong>Il peut &ecirc;tre traduit en Python ainsi:</strong></p>"
   ]
  },
  {
   "cell_type": "code",
   "execution_count": 1,
   "metadata": {},
   "outputs": [
    {
     "name": "stdout",
     "output_type": "stream",
     "text": [
      "16\n"
     ]
    }
   ],
   "source": [
    "A=2\n",
    "B=2*A\n",
    "C=B**2\n",
    "print (C)"
   ]
  },
  {
   "cell_type": "markdown",
   "metadata": {},
   "source": [
    "<p><strong>A faire: </strong></p>\n",
    "<p><strong>1.Modifier le programme <span style=\"font-size: 14pt;\">ci-dessus</span> pour que la valeur de A soit 4 et &eacute;x&eacute;cuter le programme.</strong></p>\n",
    "<p>&nbsp;</p>\n",
    "<p><strong>2.Modifier la copie de ce programme<span style=\"font-size: 14pt;\"> ci dessous</span> en donnant &agrave; A&nbsp; la valeur qui permet d'obrenir 25 en &eacute;x&eacute;cutant le programme.</strong></p>"
   ]
  },
  {
   "cell_type": "code",
   "execution_count": null,
   "metadata": {},
   "outputs": [],
   "source": [
    "A=\n",
    "B=2*A\n",
    "C=B**2\n",
    "print (C)"
   ]
  },
  {
   "cell_type": "markdown",
   "metadata": {},
   "source": [
    "## Exercice 2"
   ]
  },
  {
   "cell_type": "markdown",
   "metadata": {},
   "source": [
    "<p><strong>A faire:</strong></p>\n",
    "<p><strong>Programmer avec Python chacun des algorithmes suivants. Puis les &eacute;x&eacute;cuter.&nbsp;</strong></p>\n",
    "<p>&nbsp;</p>\n",
    "<p>Algorithme 1&nbsp;</p>\n",
    "<p>Affecter &agrave; A la valeur 7</p>\n",
    "<p>Affecter &agrave; B la valeur 6 x A</p>\n",
    "<p>Affecter &agrave; C la valeur A + B</p>\n",
    "<p>Affecter &agrave; D la valeur B &ndash; C</p>\n",
    "<p>Afficher D</p>"
   ]
  },
  {
   "cell_type": "code",
   "execution_count": null,
   "metadata": {},
   "outputs": [],
   "source": []
  },
  {
   "cell_type": "markdown",
   "metadata": {},
   "source": [
    "<p>Algorithme 2</p>\n",
    "<p>&nbsp;</p>\n",
    "<p>Affecter &agrave; M la valeur 2</p>\n",
    "<p>Affecter &agrave; N la valeur 4</p>\n",
    "<p>Affecter &agrave; A la valeur M x N</p>\n",
    "<p>Affecter &agrave; B la valeur M + N</p>\n",
    "<p>Affecter &agrave; C la valeur A/B</p>\n",
    "<p>Afficher C</p>"
   ]
  },
  {
   "cell_type": "code",
   "execution_count": null,
   "metadata": {},
   "outputs": [],
   "source": []
  },
  {
   "cell_type": "markdown",
   "metadata": {},
   "source": [
    "<p>Algorithme 3</p>\n",
    "<p>Affecter &agrave; A la valeur -1</p>\n",
    "<p>Affecter &agrave; B la valeur 6</p>\n",
    "<p>Affecter &agrave; P la valeur B x A</p>\n",
    "<p>Affecter &agrave; Q la valeur P x A</p>\n",
    "<p>Afficher P</p>\n",
    "<p>Afficher Q</p>"
   ]
  },
  {
   "cell_type": "code",
   "execution_count": null,
   "metadata": {},
   "outputs": [],
   "source": []
  },
  {
   "cell_type": "markdown",
   "metadata": {},
   "source": [
    "<p>Normalement, tu dois avoir obtenu les r&eacute;sultats suivants : -7 ; 1.33333333 ; -6 et 6. Sinon appelle ton professeur.</p>"
   ]
  },
  {
   "cell_type": "markdown",
   "metadata": {},
   "source": [
    "## Exercice 3"
   ]
  },
  {
   "cell_type": "markdown",
   "metadata": {},
   "source": [
    "Voici la définition en Python d'une fonction qui à la longueur x associe l'aire d'un carré de côté x."
   ]
  },
  {
   "cell_type": "code",
   "execution_count": 10,
   "metadata": {},
   "outputs": [],
   "source": [
    "def carré (x):\n",
    "    A=x**2\n",
    "    print (A)"
   ]
  },
  {
   "cell_type": "markdown",
   "metadata": {},
   "source": [
    "On peut ainsi calculer l'aire d'un carré de côté 17 unités en demandant l'image de 17 par le fonction carré :"
   ]
  },
  {
   "cell_type": "code",
   "execution_count": 11,
   "metadata": {},
   "outputs": [
    {
     "name": "stdout",
     "output_type": "stream",
     "text": [
      "289\n"
     ]
    }
   ],
   "source": [
    "carré(17)"
   ]
  },
  {
   "cell_type": "markdown",
   "metadata": {},
   "source": [
    "<p><strong>A faire: calculer l'aire d'un carr&eacute; de c&ocirc;t&eacute; 23 unit&eacute;s en utilisant cette m&ecirc;me fonction . </strong></p>\n",
    "<p><em>Attention : avant d'&eacute;x&eacute;cuter ta commande, il faut &eacute;x&eacute;cuter le programme qui d&eacute;fini la fonction carr&eacute; pour que celle-ci puisse &ecirc;tre utilis&eacute;e ensuite.</em><strong><br /></strong></p>"
   ]
  },
  {
   "cell_type": "code",
   "execution_count": null,
   "metadata": {},
   "outputs": [],
   "source": []
  },
  {
   "cell_type": "markdown",
   "metadata": {},
   "source": [
    "<p><strong>A faire : <span style=\"font-size: 14pt;\">D&eacute;finir une fonction</span> p&eacute;rim&egrave;tre qui &agrave; la longueur x associe le p&eacute;rim&egrave;tre d'un carr&eacute; de c&ocirc;t&eacute; x.</strong></p>"
   ]
  },
  {
   "cell_type": "code",
   "execution_count": null,
   "metadata": {},
   "outputs": [],
   "source": []
  },
  {
   "cell_type": "markdown",
   "metadata": {},
   "source": [
    "<p><strong>A faire: utiliser cette fonction pour calculer le p&eacute;rim&egrave;tre d'un carr&eacute; de c&ocirc;t&eacute; 181 unit&eacute;s.</strong></p>"
   ]
  },
  {
   "cell_type": "code",
   "execution_count": null,
   "metadata": {},
   "outputs": [],
   "source": []
  },
  {
   "cell_type": "markdown",
   "metadata": {},
   "source": [
    "<p>Tu dois obtenir un r&eacute;sultat de 724. Sinon demande de l'aide</p>"
   ]
  },
  {
   "cell_type": "markdown",
   "metadata": {},
   "source": [
    "<p><strong>A faire : d&eacute;finir une fonction pour calculer le volume d'un cube en fonction de son c&ocirc;t&eacute;. Dans le bloc suivant , calculer le volume d'un cube de c&ocirc;t&eacute; 23 unit&eacute;s.</strong></p>"
   ]
  },
  {
   "cell_type": "code",
   "execution_count": null,
   "metadata": {},
   "outputs": [],
   "source": []
  },
  {
   "cell_type": "code",
   "execution_count": null,
   "metadata": {},
   "outputs": [],
   "source": []
  },
  {
   "cell_type": "markdown",
   "metadata": {},
   "source": [
    "<p>On peut d&eacute;finir des fonctions &agrave; deux variables, comme celle-ci qui donner l'aire d'un triangle en fonction de sa base et de sa hauteur.</p>"
   ]
  },
  {
   "cell_type": "code",
   "execution_count": 13,
   "metadata": {},
   "outputs": [],
   "source": [
    "def airetriangle (b,h):\n",
    "    A=b*h/2\n",
    "    print (A)"
   ]
  },
  {
   "cell_type": "markdown",
   "metadata": {},
   "source": [
    "Voici ainsi l'aire d'un triangle de base 8 unités et de hauteur 12 unités"
   ]
  },
  {
   "cell_type": "code",
   "execution_count": 14,
   "metadata": {},
   "outputs": [
    {
     "name": "stdout",
     "output_type": "stream",
     "text": [
      "48.0\n"
     ]
    }
   ],
   "source": [
    "airetriangle (8,12)"
   ]
  },
  {
   "cell_type": "markdown",
   "metadata": {},
   "source": [
    "<p><strong>A faire : d&eacute;finir une fonction pour calculer le p&eacute;rim&egrave;tre d'un rectangle en fontion de sa longueur et de sa largeur. </strong></p>\n",
    "<p><strong>Dans le deuxi&egrave;me bloc, tester votre fonction en calculant le p&eacute;rim&egrave;tre d'un rectangle de longueur 6 unit&eacute;s et de larcgeur 15 unit&eacute;s</strong></p>"
   ]
  },
  {
   "cell_type": "code",
   "execution_count": null,
   "metadata": {},
   "outputs": [],
   "source": []
  },
  {
   "cell_type": "code",
   "execution_count": null,
   "metadata": {},
   "outputs": [],
   "source": []
  },
  {
   "cell_type": "markdown",
   "metadata": {},
   "source": [
    "## Exercice 4"
   ]
  },
  {
   "cell_type": "markdown",
   "metadata": {},
   "source": [
    "Parlons maintenant de pourcentages. "
   ]
  },
  {
   "cell_type": "markdown",
   "metadata": {},
   "source": [
    "<p><strong>A faire : d&eacute;finir une fonction pour appliquer une augmentation de 18% &agrave; un prix donn&eacute;</strong></p>"
   ]
  },
  {
   "cell_type": "code",
   "execution_count": null,
   "metadata": {},
   "outputs": [],
   "source": []
  },
  {
   "cell_type": "markdown",
   "metadata": {},
   "source": [
    "<p><strong>A faire : demander &agrave; quoi correspond le prix de 150&euro; augment&eacute; de 18%</strong></p>"
   ]
  },
  {
   "cell_type": "code",
   "execution_count": null,
   "metadata": {},
   "outputs": [],
   "source": []
  },
  {
   "cell_type": "markdown",
   "metadata": {},
   "source": [
    "<p><strong>A faire: d&eacute;finir une fonction &agrave; deux arguments (prix et taux) permettant de calculer l'&eacute;volution d'un prix d'un taux donn&eacute;.</strong></p>"
   ]
  },
  {
   "cell_type": "code",
   "execution_count": null,
   "metadata": {},
   "outputs": [],
   "source": []
  },
  {
   "cell_type": "markdown",
   "metadata": {},
   "source": [
    "<p><strong>A faire: calculer 14 augment&eacute; de 25% puis 82 augment&eacute; de 89%.</strong></p>"
   ]
  },
  {
   "cell_type": "code",
   "execution_count": null,
   "metadata": {},
   "outputs": [],
   "source": []
  },
  {
   "cell_type": "code",
   "execution_count": null,
   "metadata": {},
   "outputs": [],
   "source": []
  },
  {
   "cell_type": "markdown",
   "metadata": {},
   "source": [
    "<p><strong>A faire: d&eacute;finir une fonction &agrave; trois arguments (p,t et n) pour calculer &agrave; combien correspond un prix p augment&eacute;&nbsp; &agrave; n reprises de t%.<br />Dans le deuxi&egrave;me bloc calculer le prix obtenu en augmentant&nbsp; 6 fois de 20% la somme de 50&euro;.&nbsp;</strong></p>\n",
    "<p><strong>Dans le troisi&egrave;me bloc calculer le prix obtenu en r&eacute;duisant 3 fois de 85% la somme de 200&euro;</strong></p>"
   ]
  },
  {
   "cell_type": "code",
   "execution_count": null,
   "metadata": {},
   "outputs": [],
   "source": []
  },
  {
   "cell_type": "code",
   "execution_count": null,
   "metadata": {},
   "outputs": [],
   "source": []
  },
  {
   "cell_type": "code",
   "execution_count": null,
   "metadata": {},
   "outputs": [],
   "source": []
  }
 ],
 "metadata": {
  "kernelspec": {
   "display_name": "Python 3",
   "language": "python",
   "name": "python3"
  },
  "language_info": {
   "codemirror_mode": {
    "name": "ipython",
    "version": 3
   },
   "file_extension": ".py",
   "mimetype": "text/x-python",
   "name": "python",
   "nbconvert_exporter": "python",
   "pygments_lexer": "ipython3",
   "version": "3.6.9"
  }
 },
 "nbformat": 4,
 "nbformat_minor": 4
}
