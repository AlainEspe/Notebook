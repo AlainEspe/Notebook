{
 "cells": [
  {
   "cell_type": "markdown",
   "metadata": {},
   "source": [
    "# TP sur les matrices"
   ]
  },
  {
   "cell_type": "markdown",
   "metadata": {},
   "source": [
    "Le but de ce TP est de programmer quelques algorithmes sur les matrices.\n",
    "\n",
    "\n",
    "On testera toutes les fonctions à partir de matrices aléatoires de différentes tailles.\n",
    "\n",
    "On se donne ci-desous quelques matrices \n"
   ]
  },
  {
   "cell_type": "code",
   "execution_count": 1,
   "metadata": {},
   "outputs": [],
   "source": [
    "import random\n",
    "def matrice_aleatoire(nb_lignes, nb_colonnes):\n",
    "    \"\"\" Renvoie une matrice de tailles nb_lignes et nb_colonnes\n",
    "        contenant des nombres aléatoire\n",
    "    \"\"\"\n",
    "    return [[random.randint(-99,100) for j in range(nb_colonnes)]\\\n",
    "                                     for i in range(nb_lignes)]\n",
    "\n",
    "#Jeu de tests\n",
    "\n",
    "assert len(matrice_aleatoire(5, 3)) == 5\n",
    "assert len(matrice_aleatoire(5, 3)[0]) == 3\n",
    "assert len(matrice_aleatoire(0, 0)) == 0\n",
    "\n",
    "\n",
    "     \n",
    "def matrice_nulle(nb_lignes, nb_colonnes):\n",
    "    \"\"\" Renvoie une matrice nulle de tailles nb_lignes et nb_colonnes \"\"\"\n",
    "    return [[0 for j in range(nb_colonnes)] for i in range(nb_lignes)]\n",
    "\n",
    "\n",
    "#Jeu de tests\n",
    "assert matrice_nulle(0, 0) == []\n",
    "assert matrice_nulle(2, 2) == [[0, 0], [0, 0]]\n",
    "assert matrice_nulle(2, 3) == [[0, 0, 0], [0, 0, 0]]\n",
    "\n",
    "\n",
    "def copie_matrice(M):\n",
    "    \"\"\" Renvoie une copie de la matrice M\"\"\"\n",
    "    return [[elem for elem in lignes] for lignes in M]\n",
    "\n",
    "# Jeu de tests\n",
    "\n",
    "assert copie_matrice([[1, 3], [7, 5]]) == [[1, 3], [7, 5]]"
   ]
  },
  {
   "cell_type": "markdown",
   "metadata": {},
   "source": [
    "## Exercice 1: Taille d'une matrice\n",
    "Écrire la fonction `taille(M)`, qui prend comme argument une matrice, et renvoie  le couple de nombres (nb de lignes, nb de colonnes) :\n",
    "\n",
    "Par exemple pour une matrice $M$ de $5$ lignes et $3$ colonnes, la fonction `taille(M)` renvoie le couple `(5,3)`.\n",
    "\n",
    "\n",
    "*Dans la suite, on utilisera la fonction `taille` pour donner la taille d'une matrice.*"
   ]
  },
  {
   "cell_type": "code",
   "execution_count": 2,
   "metadata": {},
   "outputs": [
    {
     "ename": "AssertionError",
     "evalue": "",
     "output_type": "error",
     "traceback": [
      "\u001b[0;31m---------------------------------------------------------------------------\u001b[0m",
      "\u001b[0;31mAssertionError\u001b[0m                            Traceback (most recent call last)",
      "\u001b[0;32m<ipython-input-2-c65e580bc1a4>\u001b[0m in \u001b[0;36m<module>\u001b[0;34m\u001b[0m\n\u001b[1;32m      4\u001b[0m \u001b[0;31m# Jeu de tests\u001b[0m\u001b[0;34m\u001b[0m\u001b[0;34m\u001b[0m\u001b[0;34m\u001b[0m\u001b[0m\n\u001b[1;32m      5\u001b[0m \u001b[0;34m\u001b[0m\u001b[0m\n\u001b[0;32m----> 6\u001b[0;31m \u001b[0;32massert\u001b[0m \u001b[0mtaille\u001b[0m\u001b[0;34m(\u001b[0m\u001b[0;34m[\u001b[0m\u001b[0;34m[\u001b[0m\u001b[0;36m0\u001b[0m\u001b[0;34m]\u001b[0m\u001b[0;34m]\u001b[0m\u001b[0;34m)\u001b[0m \u001b[0;34m==\u001b[0m \u001b[0;34m(\u001b[0m\u001b[0;36m1\u001b[0m\u001b[0;34m,\u001b[0m \u001b[0;36m1\u001b[0m\u001b[0;34m)\u001b[0m\u001b[0;34m\u001b[0m\u001b[0;34m\u001b[0m\u001b[0m\n\u001b[0m\u001b[1;32m      7\u001b[0m \u001b[0;32massert\u001b[0m \u001b[0mtaille\u001b[0m\u001b[0;34m(\u001b[0m\u001b[0;34m[\u001b[0m\u001b[0;34m[\u001b[0m\u001b[0;36m5\u001b[0m\u001b[0;34m,\u001b[0m \u001b[0;36m3\u001b[0m\u001b[0;34m]\u001b[0m\u001b[0;34m,\u001b[0m \u001b[0;34m[\u001b[0m\u001b[0;36m3\u001b[0m\u001b[0;34m,\u001b[0m \u001b[0;36m5\u001b[0m\u001b[0;34m]\u001b[0m\u001b[0;34m]\u001b[0m\u001b[0;34m)\u001b[0m \u001b[0;34m==\u001b[0m \u001b[0;34m(\u001b[0m\u001b[0;36m2\u001b[0m\u001b[0;34m,\u001b[0m \u001b[0;36m2\u001b[0m\u001b[0;34m)\u001b[0m\u001b[0;34m\u001b[0m\u001b[0;34m\u001b[0m\u001b[0m\n\u001b[1;32m      8\u001b[0m \u001b[0;32massert\u001b[0m \u001b[0mtaille\u001b[0m\u001b[0;34m(\u001b[0m\u001b[0;34m[\u001b[0m\u001b[0;34m[\u001b[0m\u001b[0;36m5\u001b[0m\u001b[0;34m,\u001b[0m \u001b[0;36m2\u001b[0m\u001b[0;34m]\u001b[0m\u001b[0;34m,\u001b[0m \u001b[0;34m[\u001b[0m\u001b[0;36m5\u001b[0m\u001b[0;34m,\u001b[0m \u001b[0;36m3\u001b[0m\u001b[0;34m]\u001b[0m\u001b[0;34m,\u001b[0m \u001b[0;34m[\u001b[0m\u001b[0;36m7\u001b[0m\u001b[0;34m,\u001b[0m \u001b[0;36m2\u001b[0m\u001b[0;34m]\u001b[0m\u001b[0;34m]\u001b[0m\u001b[0;34m)\u001b[0m \u001b[0;34m==\u001b[0m \u001b[0;34m(\u001b[0m\u001b[0;36m3\u001b[0m\u001b[0;34m,\u001b[0m \u001b[0;36m2\u001b[0m\u001b[0;34m)\u001b[0m\u001b[0;34m\u001b[0m\u001b[0;34m\u001b[0m\u001b[0m\n",
      "\u001b[0;31mAssertionError\u001b[0m: "
     ]
    }
   ],
   "source": [
    "def taille(M):\n",
    "    \"\"\" Renvoie les dimensions de la matrice M \"\"\"\n",
    "\n",
    "# Jeu de tests\n",
    "\n",
    "assert taille([[0]]) == (1, 1)\n",
    "assert taille([[5, 3], [3, 5]]) == (2, 2)\n",
    "assert taille([[5, 2], [5, 3], [7, 2]]) == (3, 2)\n",
    "assert taille([]) == (0, 0)"
   ]
  },
  {
   "cell_type": "markdown",
   "metadata": {},
   "source": [
    "## Exercice 2 : Quelques fonctions simples.\n",
    "\n",
    "### Question 1 :\n",
    "Observer et comprendre `produit_scalaire` "
   ]
  },
  {
   "cell_type": "code",
   "execution_count": null,
   "metadata": {},
   "outputs": [],
   "source": [
    "def produit_avec_scalaire(a, M):\n",
    "    \"\"\" Renvoie le produit de a par M où a est un scalaire\n",
    "        et M une matrice\n",
    "    \"\"\"\n",
    "    nb_lignes, nb_colonnes = taille(M)\n",
    "    M2 = matrice_nulle(nb_lignes, nb_colonnes)\n",
    "    for i in range(nb_lignes):\n",
    "        for j in range(nb_colonnes):\n",
    "            M2[i][j] = a * M[i][j]\n",
    "    return M2\n",
    "\n",
    "# Jeu de tests\n",
    "\n",
    "assert produit_avec_scalaire(0, [[1, 2], [2, 3]]) == [[0, 0], [0, 0]]\n",
    "assert produit_avec_scalaire(1, [[1, 2], [2, 3]]) == [[1, 2], [2, 3]]\n",
    "assert produit_avec_scalaire(2, [[1, 2], [2, 3]]) == [[2, 4], [4, 6]]\n",
    "assert produit_avec_scalaire(2, [[1, 2]]) == [[2, 4]]\n",
    "assert produit_avec_scalaire(2, []) == []\n",
    "A = matrice_aleatoire(5, 5)\n",
    "produit_avec_scalaire(2, A)"
   ]
  },
  {
   "cell_type": "markdown",
   "metadata": {},
   "source": [
    "### Question 2 : \n",
    "Écrire la fonction `est_carree(M)` qui prend comme argument une matrice et renvoie le booléen `True` si celle-ci est une matrice carrée et `False` sinon."
   ]
  },
  {
   "cell_type": "code",
   "execution_count": null,
   "metadata": {},
   "outputs": [],
   "source": [
    "def est_carree(A):\n",
    "    \"\"\"Renvoie True si la matrice est carrée et False sinon\"\"\"\n",
    "\n",
    "# Jeu de tests\n",
    "\n",
    "assert est_carree([[5, 3], [7, 2]])\n",
    "assert est_carree([[5]])\n",
    "assert not est_carree([[5, 3, 6], [2, 3, 4]])\n",
    "assert not est_carree([[5, 3], [2, 3], [6, 3]])\n",
    "assert est_carree([])\n",
    "A = matrice_aleatoire(5, 5)\n",
    "est_carree(A)"
   ]
  },
  {
   "cell_type": "markdown",
   "metadata": {},
   "source": [
    "### Question 3\n",
    "Écrire la fonction `est_diagonale` qui prend comme argument une matrice et renvoie le booléen `True` si celle-ci est une matrice diagonale et `False` sinon."
   ]
  },
  {
   "cell_type": "code",
   "execution_count": null,
   "metadata": {},
   "outputs": [],
   "source": [
    "def est_diagonale(M):\n",
    "    \"\"\"Renvoie True si la matrice M est diagonale et False sinon\"\"\"\n",
    "\n",
    "\n",
    "\n",
    "# Jeu de tests\n",
    "\n",
    "assert not est_diagonale([[5, 3], [2, 6]])\n",
    "assert not est_diagonale([[5, 0], [2, 6]])\n",
    "assert est_diagonale([[2, 0], [0, 5]])\n",
    "assert not est_diagonale([[2, 0, 0], [0, 3, 0]])\n",
    "assert est_diagonale([[2, 0, 0], [0, 3, 0], [0, 0, 0]])\n",
    "A = matrice_aleatoire(5, 5)\n",
    "est_diagonale(A)"
   ]
  },
  {
   "cell_type": "markdown",
   "metadata": {},
   "source": [
    "### Question 4 :\n",
    "Écrire la fonction `est_triangulaire_sup` qui prend comme argument une matrice et renvoie le booléen `True` si celle-ci est une matrice triangulaire supérieure et `False` sinon."
   ]
  },
  {
   "cell_type": "code",
   "execution_count": null,
   "metadata": {},
   "outputs": [],
   "source": [
    "def est_triangulaire_sup(A):\n",
    "    \"\"\"Renvoie True si la matrice M est triangulaire sup et False sinon\"\"\"\n",
    "\n",
    "\n",
    "    \n",
    "    \n",
    "# Jeu de tests\n",
    "\n",
    "assert not est_triangulaire_sup([[5, 3], [2, 6]])\n",
    "assert est_triangulaire_sup([[2, 6], [0, 5]])\n",
    "assert not est_triangulaire_sup([[2, 1, 5], [0, 3, 2]])\n",
    "assert est_triangulaire_sup([[2, 0, 1], [0, 3, 5], [0, 0, 1]]) \n",
    "assert not est_triangulaire_sup([[2, 0, 1], [0, 3, 5], [0, 1, 1]]) \n",
    "A = matrice_aleatoire(5, 5)\n",
    "est_triangulaire_sup(A)"
   ]
  },
  {
   "cell_type": "markdown",
   "metadata": {},
   "source": [
    "## Exercice 2 : Addition\n",
    "Écrire la fonction `addition(A, B)` qui prend comme arguments deux matrices `A` et `B` et renvoie la somme de ces matrices si elles sont de mêmes tailles, sinon elle renvoie `False`."
   ]
  },
  {
   "cell_type": "code",
   "execution_count": null,
   "metadata": {},
   "outputs": [],
   "source": [
    "def addition(M, N):\n",
    "    \"\"\" Renvoie la somme des matrices M et N \"\"\"\n",
    "\n",
    "# Jeu de tests\n",
    "\n",
    "assert addition([[5]], [[2]]) == [[7]]\n",
    "assert addition([[5, 3], [3, 7]], [[2, 5], [1, 1]]) == [[7, 8], [4, 8]]\n",
    "M = [[4, 3], [2, 5], [7, 1]]\n",
    "N = [[1, 1], [2, 3], [0, 1]]\n",
    "P = [[5, 4], [4, 8], [7, 2]]\n",
    "assert addition(M, N) == P\n",
    "assert not addition([[5, 3], [7, 2]], [[6, 3, 2], [6, 4, 2]]);\n",
    "A = matrice_aleatoire(5, 5)\n",
    "B = matrice_aleatoire(5, 5)\n",
    "addition(A, B)"
   ]
  },
  {
   "cell_type": "markdown",
   "metadata": {},
   "source": [
    "# Exercice 4 : Tansposée"
   ]
  },
  {
   "cell_type": "markdown",
   "metadata": {},
   "source": [
    "### Question 1 : \n",
    "Écrire la fonction `transposee` qui prend comme argument une matrice de taille $(n,q)$ et renvoie sa matrice transposée de taille $(q,n)$."
   ]
  },
  {
   "cell_type": "code",
   "execution_count": null,
   "metadata": {},
   "outputs": [],
   "source": [
    "def transposee(M):\n",
    "    \"\"\"Renvoie la transposée de la matrice M\"\"\"\n",
    "\n",
    "\n",
    "# Jeu de tests\n",
    "assert transposee([]) == []\n",
    "assert transposee([[5, 3], [7, 2]]) == [[5, 7], [3, 2]]\n",
    "assert transposee([[5, 3], [7, 2], [9, 4]]) == [[5, 7, 9], [3, 2, 4]]\n",
    "assert transposee([[5, 7, 9], [3, 2, 4]]) == [[5, 3], [7, 2], [9, 4]]"
   ]
  },
  {
   "cell_type": "markdown",
   "metadata": {},
   "source": [
    "### Question 2 :\n",
    "En déduire la fonction `est_symetrique` qui prend comme argument une matrice et renvoie le booléen `True` si celle-ci est une matrice symétrique et `False` sinon."
   ]
  },
  {
   "cell_type": "code",
   "execution_count": null,
   "metadata": {},
   "outputs": [],
   "source": [
    "def est_symetrique(M):\n",
    "    \"\"\"Renvoie vraie si A est symétrique\"\"\"\n",
    "\n",
    "\n",
    "# Jeu de tests\n",
    "assert est_symetrique([])\n",
    "assert est_symetrique([[7, 3], [3, 9]])\n",
    "assert not est_symetrique([[7, 3], [-2, 9]])\n",
    "assert not est_symetrique([[7, 3, 5], [5, 9, 6]])\n",
    "A = matrice_aleatoire(5,5)\n",
    "est_symetrique(A)"
   ]
  },
  {
   "cell_type": "markdown",
   "metadata": {},
   "source": [
    "## Exercice 5 : Produit, puissances "
   ]
  },
  {
   "cell_type": "markdown",
   "metadata": {},
   "source": [
    "### Question 1 : \n",
    "Écrire la fonction `produit` qui prend comme arguments deux matrices de taille respective $(n,q)$ et $(q,p)$ et renvoie la matrice produit de taille $(n,p)$. Si les tailles ne coïncident pas, la fonction renvoie `False`."
   ]
  },
  {
   "cell_type": "code",
   "execution_count": null,
   "metadata": {},
   "outputs": [],
   "source": [
    "def produit(M, N):\n",
    "    \"\"\"Renvoie le produit des matrices M et N\"\"\"\n",
    "\n",
    "\n",
    "# Jeu de tests\n",
    "assert produit([], []) == []\n",
    "assert produit([[7, 2], [5, 4]], [[3, 5], [2, 6]]) == [[25, 47], [23, 49]]\n",
    "assert produit([[7, 2], [5, 4]], [[3, 5, 6], [2, 6, 9]]) == [[25, 47, 60], [23, 49, 66]]\n",
    "M = [[7, 2, 6], [5, 4, 8], [2, 3, 7]]\n",
    "N = [[3, 5, 6, 2], [2, 6, 9, 3], [9, 6, 7, 1]]\n",
    "P = [[79, 83, 102, 26], [95, 97, 122, 30], [75, 70, 88, 20]]\n",
    "assert produit(M, N) == P\n",
    "assert not produit([[7, 2], [5, 4]], [[7,2], [5, 4], [5, 2]])\n",
    "A = matrice_aleatoire(5,5)\n",
    "B = matrice_aleatoire(5,5)\n",
    "produit(A, B)"
   ]
  },
  {
   "cell_type": "markdown",
   "metadata": {},
   "source": [
    "### Question 2 :\n",
    "En déduire la fonction `puissance(M)` qui prend comme arguments une matrice carré `M` et un nombre entier `n`  positif et renvoie $M^n$. Si les tailles ne sont pas valables, la fonction renvoie `False`."
   ]
  },
  {
   "cell_type": "code",
   "execution_count": null,
   "metadata": {},
   "outputs": [],
   "source": [
    "def matrice_identite(taille):\n",
    "    \"\"\"Renvoie la matrice identité de taille taille\"\"\"\n",
    "\n",
    "\n",
    "\n",
    "assert matrice_identite(1) == [[1]]\n",
    "assert matrice_identite(2) == [[1, 0], [0, 1]]\n",
    "assert matrice_identite(4) == [[1, 0, 0, 0], [0, 1, 0, 0],\n",
    "                               [0, 0, 1, 0], [0, 0, 0, 1]]\n",
    "\n",
    "\n",
    "def puissance(M, n):\n",
    "    \"\"\"renvoie renvoie la matrice M^n\"\"\"\n",
    "\n",
    "\n",
    "# Jeu de tests\n",
    "\n",
    "assert puissance([[7, 2], [5, 3]], 0) == [[1, 0], [0, 1]]\n",
    "assert puissance([[7, 2], [5, 3]], 1) == [[7, 2], [5, 3]]\n",
    "assert puissance([[7, 2], [5, 3]], 2) == [[59, 20], [50, 19]]\n",
    "assert puissance([[7, 2], [5, 3]], 10) == [[1999314299, 696424100],\n",
    "                                           [1741060250, 606466099]]\n",
    "M = [[7, 2, 5, 7, 2], [5, 3, 6, 7, -5], [7, 8, 9, 2, 6],\n",
    "     [2, 5, 8, 8, 7], [2, 5, -2, 3, 6]]\n",
    "P = [[112301105102243204115, 110969454561932314782, 138059662308321276737,\n",
    "      127808898144377219915, 76583419130679435314],\n",
    "     [99497634498644667601, 98317806742216352771, 122319453910879555042,\n",
    "      113237380237600741943, 67852130388840121759],\n",
    "     [140144319140149365355, 138482506303237974028, 172289289469430181001,\n",
    "      159497016958242565770, 95571018513859162706],\n",
    "     [133936939878879836046, 132348733562547381005, 164658118050499606044,\n",
    "      152432452152271421660, 91337913032204169883],\n",
    "     [46387049833914403614, 45836998430078198213, 57026871435352047018,\n",
    "      52792693734986223627, 31633517276154176302]]\n",
    "\n",
    "assert puissance(M, 15) == P\n",
    "A = matrice_aleatoire(5,5)\n",
    "puissance(A, 5)"
   ]
  },
  {
   "cell_type": "markdown",
   "metadata": {},
   "source": [
    "### Question 3 : \n",
    "Proposer une fonction `nilpotente(M)` qui renvoie `p` si la matrice est nilpotente d'indice `p` et `-1` sinon.\n"
   ]
  },
  {
   "cell_type": "code",
   "execution_count": null,
   "metadata": {},
   "outputs": [],
   "source": [
    "def nilpotente(M):\n",
    "    \"\"\" Renvoie True si la matrice est nilpotente et False sinon\"\"\"\n",
    "\n",
    "\n",
    "# Jeu de tests\n",
    "assert nilpotente([[3, 9, -9], [2, 0, 0], [3, 3, -3]]) == 3\n",
    "M = [[7, 2, 5, 7, 2], [5, 3, 6, 7, -5], [7, 8, 9, 2, 6],\n",
    "     [2, 5, 8, 8, 7], [2, 5, -2, 3, 6]]\n",
    "assert nilpotente(M) == -1\n",
    "M = [[7, 2, 5, 7, 2], [5, 3, 6, 7, 0], [7, 8, 9, 0, 0],\n",
    "     [2, 5, 0, 0, 0], [4, 10, 0, 0, 0]]\n",
    "assert nilpotente(M)\n",
    "A = matrice_aleatoire(5,5)\n",
    "nilpotente(A)"
   ]
  },
  {
   "cell_type": "code",
   "execution_count": null,
   "metadata": {},
   "outputs": [],
   "source": []
  }
 ],
 "metadata": {
  "kernelspec": {
   "display_name": "Python 3",
   "language": "python",
   "name": "python3"
  },
  "language_info": {
   "codemirror_mode": {
    "name": "ipython",
    "version": 3
   },
   "file_extension": ".py",
   "mimetype": "text/x-python",
   "name": "python",
   "nbconvert_exporter": "python",
   "pygments_lexer": "ipython3",
   "version": "3.6.9"
  }
 },
 "nbformat": 4,
 "nbformat_minor": 4
}
