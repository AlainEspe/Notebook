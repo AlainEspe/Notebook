{
 "cells": [
  {
   "cell_type": "markdown",
   "metadata": {},
   "source": [
    "#                          Introduction aux suites"
   ]
  },
  {
   "cell_type": "markdown",
   "metadata": {},
   "source": [
    "Nous allons ici écrire quelques petits programmes permettant de calculer les termes d'une suite donnée, en réactivant les notions de fonctions, boucles bornées, boucles non bornées vues dans les rappels de seconde en python."
   ]
  },
  {
   "cell_type": "markdown",
   "metadata": {},
   "source": [
    "Une suite $(u_n)$ peut être vue comme une liste de nombres, mais la notion de liste en python ne sera pas utilisée dans ce 'notebook'. "
   ]
  },
  {
   "cell_type": "markdown",
   "metadata": {},
   "source": [
    "## Terme d'une suite ; terme suivant, terme précédent"
   ]
  },
  {
   "cell_type": "markdown",
   "metadata": {},
   "source": [
    "Une suite $(u_n)$ peut être vue comme une liste de nombres (*Attention, ce n'est pas une définition mathématique!*).  \n",
    "  \n",
    "À un entier $n$ on associe un nombre noté $u_n$ ; le nombre $u_0$ est le terme de rang $0$, le nombre $u_1$ le terme de rang $1$, etc.   "
   ]
  },
  {
   "cell_type": "markdown",
   "metadata": {},
   "source": [
    "Le terme suivant $u_{12}$ est  \n",
    "Le terme suivant $u_{n}$ est   \n",
    "Le terme précédant $u_{n}$ est "
   ]
  },
  {
   "cell_type": "markdown",
   "metadata": {},
   "source": [
    "## Suites définies par des expressions explicites"
   ]
  },
  {
   "cell_type": "markdown",
   "metadata": {},
   "source": [
    "Dans ce paragraphe, les suites sont définies par une expression explicite, c'est-à-dire que chaque nombre $u_n$ ne dépend que de la valeur de $n$.  \n",
    "*(ou encore que la valeur du nombre dans une liste ne dépend que de sa position dans cette liste)*"
   ]
  },
  {
   "cell_type": "markdown",
   "metadata": {},
   "source": [
    "### Un premier exemple"
   ]
  },
  {
   "cell_type": "code",
   "execution_count": null,
   "metadata": {},
   "outputs": [],
   "source": [
    "from fractions import*   #permet de travailler avec des fractions\n",
    "\n",
    "def suite1(n):\n",
    "    u=Fraction((-1)**n,n+3)\n",
    "    return u"
   ]
  },
  {
   "cell_type": "markdown",
   "metadata": {},
   "source": [
    "Exécuter cette fonction pour $n=5$, puis pour $n=8$.  \n",
    "Écrire une formule mathématique donnant le nombre $u_n$ en fonction de $n$. "
   ]
  },
  {
   "cell_type": "code",
   "execution_count": null,
   "metadata": {},
   "outputs": [],
   "source": [
    "# exécuter la fonction ici"
   ]
  },
  {
   "cell_type": "markdown",
   "metadata": {},
   "source": [
    "*(donner la formule mathématique ici)*"
   ]
  },
  {
   "cell_type": "markdown",
   "metadata": {},
   "source": [
    "Compléter le programme suivant de sorte qu'il affiche tous les termes de la suite $(u_n)$ jusqu'à un rang donné, avec le rang de chaque terme.  \n",
    "Ce programme doit utiliser la fonction **suite1** ci-dessus.  \n",
    "\n",
    "*Par exemple, si on entre la valeur $N=10$, le programme doit afficher $(0,u_0), (1,u_1),\\ldots,(9,u_9),(10,u_{10})$.*"
   ]
  },
  {
   "cell_type": "code",
   "execution_count": null,
   "metadata": {},
   "outputs": [],
   "source": [
    "N=int(input('Saisir un entier: '))\n",
    "# compléter le programme...\n",
    "\n",
    "\n",
    "\n",
    "\n"
   ]
  },
  {
   "cell_type": "markdown",
   "metadata": {},
   "source": [
    "### Exercice 1:  \n",
    "1. Écrire une fonction python **suite2** qui prend en paramètre un entier $n$ et renvoie le nombre $v_n = 2^n - 3n^2$.  \n",
    "Tester la fonction pour $n=3$ puis pour $n=12$, et vérifier à la calculatrice les résultats obtenus. "
   ]
  },
  {
   "cell_type": "code",
   "execution_count": null,
   "metadata": {},
   "outputs": [],
   "source": [
    "# C'est ici qu'il faut écrire !!!!!!!\n",
    "\n"
   ]
  },
  {
   "cell_type": "markdown",
   "metadata": {},
   "source": [
    "2. On souhaite écrire un programme qui, un réel $S$ étant entré par l'utilisateur, affiche tous les termes de la suite $(v_n)$ qui sont inférieurs à ce réel $S$, ainsi que leurs rangs.  \n",
    "Compléter le programme suivant de sorte qu'il réponde au problème posé. "
   ]
  },
  {
   "cell_type": "code",
   "execution_count": null,
   "metadata": {},
   "outputs": [],
   "source": [
    "S=float(input('Saisir le seuil: '))\n",
    "i=0 \n",
    "while \n",
    "\n",
    "\n",
    "\n",
    "\n"
   ]
  },
  {
   "cell_type": "markdown",
   "metadata": {},
   "source": [
    "3. Modifier le programme ci-dessus de sorte qu'il affiche le premier terme de la suite $(v_n)$ qui dépasse $S$, ainsi que son rang. "
   ]
  },
  {
   "cell_type": "code",
   "execution_count": null,
   "metadata": {},
   "outputs": [],
   "source": [
    "# C'est ici qu'il faut écrire !!!!!!!\n"
   ]
  },
  {
   "cell_type": "markdown",
   "metadata": {},
   "source": [
    "## Suites définies par récurrence"
   ]
  },
  {
   "cell_type": "markdown",
   "metadata": {},
   "source": [
    "### Un premier exemple"
   ]
  },
  {
   "cell_type": "markdown",
   "metadata": {},
   "source": [
    "On définit ici une fonction $f$:"
   ]
  },
  {
   "cell_type": "code",
   "execution_count": null,
   "metadata": {},
   "outputs": [],
   "source": [
    "def f(x):\n",
    "    return x**2-5*x-4"
   ]
  },
  {
   "cell_type": "markdown",
   "metadata": {},
   "source": [
    "On définit maintenant une suite $(u_n)$ définie de la façon suivante: *($f$ étant la fonction définie ci-dessus)*\n",
    "- $u_0 = 1$\n",
    "- $u_1 = f(u_0)$\n",
    "- $u_2 = f(u_1)$  \n",
    "\n",
    "etc  \n",
    "\n",
    "Calculer $u_1$, $u_2$, et $u_3$ à la calculatrice."
   ]
  },
  {
   "cell_type": "markdown",
   "metadata": {},
   "source": [
    "*(Résultats à reporter ici)*"
   ]
  },
  {
   "cell_type": "markdown",
   "metadata": {},
   "source": [
    "On souhaite écrire un programme qui affiche le nombre $u_n$, où $n$ est un entier saisi par l'utilisateur.  \n",
    "**Attention!** On demande ici de n'afficher que le nombre $u_n$, et non pas tous les termes de la suite de $u_0$ à $u_n$...\n",
    "  \n",
    "  \n",
    "Compléter le programme suivant de sorte qu'il réponde au problème posé. "
   ]
  },
  {
   "cell_type": "code",
   "execution_count": null,
   "metadata": {},
   "outputs": [],
   "source": [
    "k=int(input('Saisir un entier: '))\n",
    "u=1\n",
    "for i in range(1,k+1):\n",
    "\n",
    "        "
   ]
  },
  {
   "cell_type": "markdown",
   "metadata": {},
   "source": [
    "Modifions le programme précédent en le transformant en fonction **terme**: l'entier $n$ est alors vu comme un paramètre de la fonction, et la fonction **terme** renvoie le nombre $u_n$. "
   ]
  },
  {
   "cell_type": "code",
   "execution_count": null,
   "metadata": {},
   "outputs": [],
   "source": [
    "def terme(k):\n",
    "    \n",
    "# À vous de jouer pour la suite (sans mauvais jeu de mot bien sûr...)\n",
    " \n",
    "    "
   ]
  },
  {
   "cell_type": "markdown",
   "metadata": {},
   "source": [
    "### Un autre type de suite définie par récurrence"
   ]
  },
  {
   "cell_type": "markdown",
   "metadata": {},
   "source": [
    "On considère la fonction suivante, définissant une suite $(u_n)$:"
   ]
  },
  {
   "cell_type": "code",
   "execution_count": null,
   "metadata": {},
   "outputs": [],
   "source": [
    "def pasdidéedenompourcettefonction(n):\n",
    "    u=3   # représente le terme de départ, ici u0\n",
    "    for i in range(1,n+1):\n",
    "        u=2*u-3*i-1    \n",
    "    return(u)"
   ]
  },
  {
   "cell_type": "markdown",
   "metadata": {},
   "source": [
    "À l'aide de cette fonction, en déduire la valeur de $u_9$"
   ]
  },
  {
   "cell_type": "code",
   "execution_count": null,
   "metadata": {},
   "outputs": [],
   "source": [
    "# c'est ici que ça se passe"
   ]
  },
  {
   "cell_type": "markdown",
   "metadata": {},
   "source": [
    "Exécuter à la main ce programme, en présentant les calculs effectués sous forme de tableau : une des lignes du tableau représente les valeurs successives prises par la variable $i$, l'autre représente les valeurs successives prises par la variable $u$.  \n",
    "Pour éviter les calculs fastidieux, on pourra supposer que la valeur entrée est $n=5$."
   ]
  },
  {
   "cell_type": "markdown",
   "metadata": {},
   "source": [
    "|  i  | XX |  1  |  2  |  3  |  4  |  4  |  \n",
    "|-----|----|-----|-----|-----|-----|-----|  \n",
    "|  u  |  3 |     |     |     |     |     | "
   ]
  },
  {
   "cell_type": "markdown",
   "metadata": {},
   "source": [
    "**Vrai ou Faux?** \"La valeur d'un terme de cette suite dépend uniquement du terme précédent\" "
   ]
  },
  {
   "cell_type": "markdown",
   "metadata": {},
   "source": [
    "*Répondre en justifiant*"
   ]
  },
  {
   "cell_type": "markdown",
   "metadata": {},
   "source": [
    "À partir de la fonction ci-dessus, écrire une formule donnant:  \n",
    "1. $u_1$ en fonction de $u_0$ ;  \n",
    "2. $u_2$ en fonction de $u_1$ ; \n",
    "3. $u_4$ en fonction de $u_3$ ; \n",
    "4. un terme $u_n$ en fonction du terme précédent $u_{n-1}$ ;  \n",
    "5. un terme $u_{n+1}$ en fonction du terme précédent $u_{n}$."
   ]
  },
  {
   "cell_type": "markdown",
   "metadata": {},
   "source": [
    "*5 questions, une ligne par question*  \n",
    "1.   \n",
    "2.    \n",
    "3.    \n",
    "4.  \n",
    "5.  \n",
    "\n",
    "\n",
    "\n"
   ]
  },
  {
   "cell_type": "markdown",
   "metadata": {},
   "source": [
    "## Pour aller (un peu, pas beaucoup non plus) plus loin"
   ]
  },
  {
   "cell_type": "markdown",
   "metadata": {},
   "source": [
    "### Exercice 2:  \n",
    "Écrire une fonction python qui prend en paramètre un entier $n$ et renvoie le terme de rang $n$ de la suite définie par $u_0=2$ et  \n",
    "$$ \\mbox{pour tout entier naturel $n$,} \\qquad u_{n+1} = 3u_n -2n\\sqrt{u_n} $$\n"
   ]
  },
  {
   "cell_type": "code",
   "execution_count": null,
   "metadata": {},
   "outputs": [],
   "source": [
    "# franchement, ça va en vrai..."
   ]
  },
  {
   "cell_type": "markdown",
   "metadata": {},
   "source": [
    "### Exercice 3:  \n",
    "Écrire une fonction python qui prend en paramètre un entier $n$ et renvoie le terme de rang $n$ de la suite définie par $u_0=1$, $u_1=1$, et  \n",
    "$$ \\mbox{pour tout entier naturel $n$ non nul,} \\qquad u_{n+1} = u_n + u_{n-1} $$"
   ]
  },
  {
   "cell_type": "code",
   "execution_count": null,
   "metadata": {},
   "outputs": [],
   "source": [
    "# ah, il faut faire attention..."
   ]
  },
  {
   "cell_type": "markdown",
   "metadata": {},
   "source": [
    "### Exercice 4:  \n",
    "Écrire une fonction python qui prend en paramètre un entier $n$ et renvoie le terme de rang $n$ de la suite $(x_n)$ du paragraphe **Listes de nombres et suites logiques**, dont les premiers termes sont  \n",
    "$$ x_0=0, \\ x_1=1, \\ x_2 = 2, \\ x_3=5, \\ x_4=20, \\ x_5=25 $$"
   ]
  },
  {
   "cell_type": "code",
   "execution_count": null,
   "metadata": {},
   "outputs": [],
   "source": [
    "# c'est pas que c'est dur, mais c'est un peu pénible"
   ]
  }
 ],
 "metadata": {
  "kernelspec": {
   "display_name": "Python 3",
   "language": "python",
   "name": "python3"
  },
  "language_info": {
   "codemirror_mode": {
    "name": "ipython",
    "version": 3
   },
   "file_extension": ".py",
   "mimetype": "text/x-python",
   "name": "python",
   "nbconvert_exporter": "python",
   "pygments_lexer": "ipython3",
   "version": "3.8.3"
  }
 },
 "nbformat": 4,
 "nbformat_minor": 4
}
