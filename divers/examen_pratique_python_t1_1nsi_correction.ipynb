{
 "cells": [
  {
   "cell_type": "markdown",
   "metadata": {},
   "source": [
    "# Examen pratique en python,  1ère NSI, T1 "
   ]
  },
  {
   "cell_type": "markdown",
   "metadata": {},
   "source": [
    "## Exercice : l'avenir en musique\n",
    "\n",
    "Une boîte à musique chante jusqu'à la fin des temps cette rengaine de Beethoven : \"si\" \"si\" \"do\" \"ré\" \"ré\" \"do\" \"si\" \"la\" \"sol\" \"sol\" \"la\" \"si\" \"la\" \"sol\" \"sol\", au rythme d'une note par seconde. Elle commence maintenant. \n",
    "\n",
    "Écrivez le code python permettant de prévoir la note qu'elle chantera dans un  an exactement (sachant qu'une année compte 365 jours).  "
   ]
  },
  {
   "cell_type": "code",
   "execution_count": 15,
   "metadata": {},
   "outputs": [
    {
     "data": {
      "text/plain": [
       "'si'"
      ]
     },
     "execution_count": 15,
     "metadata": {},
     "output_type": "execute_result"
    }
   ],
   "source": [
    "hymne = (\"si\", \"si\", \"do\", \"ré\", \"ré\", \"do\", \"si\", \\\n",
    "         \"la\", \"sol\", \"sol\", \"la\", \"si\", \"la\", \"sol\", \"sol\")\n",
    "# à vous\n",
    "hymne[(24*60*60*365) % 15]"
   ]
  },
  {
   "cell_type": "markdown",
   "metadata": {},
   "source": [
    "## Exercice : décimal et binaire\n",
    "\n",
    "Écrivez la fonction `dec2bin(dec)`  selon les spécifications suivantes : \n",
    "\n",
    "`dec2bin(dec)`\n",
    "\n",
    "* Entrée : un nombre entier positif `dec` représenté en décimal\n",
    "* sortie : la représentation binaire de `dec`, sous forme de `str`.\n",
    "\n",
    "Vous ne pouvez pas utiliser la fonction `bin()`."
   ]
  },
  {
   "cell_type": "code",
   "execution_count": 84,
   "metadata": {},
   "outputs": [],
   "source": [
    "# à vous\n"
   ]
  },
  {
   "cell_type": "markdown",
   "metadata": {},
   "source": [
    "## Exercice : cette liste est-elle croissante ? \n",
    "\n",
    "Écrire la fonction `est_croissante(L)` qui retourne `True` si la liste `L` est croissante, et  `False` sinon. \n",
    "\n",
    "Une liste est croissante si et seulement si pour tout `x, y` dans l'intervalle `[0, len(liste)-1]`, si `x < y`, alors `L[x] <= L[y]`. Une liste vide est croissante.\n",
    "\n",
    "Vous ne pouvez pas utiliser les fonctions python `sort(), sorted(), max(), min()`."
   ]
  },
  {
   "cell_type": "code",
   "execution_count": 24,
   "metadata": {},
   "outputs": [],
   "source": [
    "# à vous\n",
    "def est_croissante(L):\n",
    "    \"\"\"\n",
    "    doctest est_croissante\n",
    "\t>>> est_croissante(list(range(10)))\n",
    "\tTrue\n",
    "\t>>> est_croissante([1, 2, 3, 2])\n",
    "\tFalse\n",
    "\t>>> est_croissante([])\n",
    "\tTrue\n",
    "\t>>> est_croissante([2, 2, 2, 1])\n",
    "\tFalse\n",
    "\t>>> est_croissante([3, 3, 3, 3])\n",
    "\tTrue\n",
    "\t>>> est_croissante([1])\n",
    "\tTrue\n",
    "\t>>> est_croissante(list(range(10000)))\n",
    "\tTrue\n",
    "\t>>> est_croissante(list(\"abcde\"))\n",
    "\tTrue\n",
    "\t>>> est_croissante([3, 2, 1])\n",
    "\tFalse\n",
    "\t\"\"\"\n",
    "    for i in range(len(L)-1):\n",
    "        if L[i] > L[i+1]:\n",
    "            return False\n",
    "    return True\n",
    "#\n",
    "# autre technique, parfois utile : utiliser un indicateur\n",
    "def est_croissante2(liste):\n",
    "    croissante = True\n",
    "    # complétez ces trois lignes\n",
    "    # ...\n",
    "    # ...\n",
    "    return croissante"
   ]
  },
  {
   "cell_type": "markdown",
   "metadata": {},
   "source": [
    "## Exercice : tri par sélection\n",
    "\n",
    "Écrivez la fonction `tri_select(L)` selon la spécification suivante : \n",
    "* Entrée : une liste (ou un tuple) `L` d'éléments tous comparables ;\n",
    "* sortie : une liste contenant tous les éléments de `L` classés dans l'ordre croissant. \n",
    "\n",
    "Utilisez l'algorithme suivant : \n",
    "\n",
    "    créer une liste vide `M`,     \n",
    "    faire autant de fois qu'il y a d'éléments dans `L`:\n",
    "        sélectionner le plus petit élément de `L`, \n",
    "        le retirer de `L`\n",
    "        l'ajouter à la fin de `M`\n",
    "        \n",
    "Vous pouvez utiliser la fonction python `min(...)` et pour retirer un élément d'une liste `liste`, utilisez :"
   ]
  },
  {
   "cell_type": "code",
   "execution_count": 28,
   "metadata": {},
   "outputs": [
    {
     "data": {
      "text/plain": [
       "[1, 3]"
      ]
     },
     "execution_count": 28,
     "metadata": {},
     "output_type": "execute_result"
    }
   ],
   "source": [
    "liste = [1, 2, 3]\n",
    "liste.remove(2)\n",
    "liste"
   ]
  },
  {
   "cell_type": "code",
   "execution_count": 29,
   "metadata": {},
   "outputs": [
    {
     "data": {
      "text/plain": [
       "TestResults(failed=0, attempted=34)"
      ]
     },
     "execution_count": 29,
     "metadata": {},
     "output_type": "execute_result"
    }
   ],
   "source": [
    "# à vous\n",
    "def tri_select(L):\n",
    "    \"\"\"Test tri_select\n",
    "    >>> tri_select([1, 2, 3])\n",
    "    [1, 2, 3]\n",
    "    >>> tri_select([])\n",
    "    []\n",
    "    >>> tri_select([0])\n",
    "    [0]\n",
    "    >>> tri_select([3, 2, 1])\n",
    "    [1, 2, 3]\n",
    "    >>> tri_select([0, 0, 0])\n",
    "    [0, 0, 0]\n",
    "    >>> tri_select([1, 0, 0])\n",
    "    [0, 0, 1]\n",
    "    >>> tri_select([0, 1, 0])\n",
    "    [0, 0, 1]\n",
    "    >>> tri_select([0, 0, -1])\n",
    "    [-1, 0, 0]\n",
    "    >>> tri_select([2, 1, 2])\n",
    "    [1, 2, 2]\n",
    "    \"\"\"\n",
    "    res = []\n",
    "    lg = len(L)\n",
    "    for i in range(lg):\n",
    "        # itérer sur les éléments ne marchera pas car la liste rétrécit. \n",
    "        nouv = min(L)\n",
    "        res.append(nouv)\n",
    "        L.remove(nouv)\n",
    "    return res\n",
    "#\n",
    "import doctest\n",
    "doctest.testmod()\n"
   ]
  },
  {
   "cell_type": "markdown",
   "metadata": {},
   "source": [
    "## Exercice : anagrammes\n",
    "\n",
    "Le mot A est un *anagramme* du mot B si et seulement si le mot B contient toutes les lettres du mot A et seulement ces lettres, dans un ordre éventuellement différent. \n",
    "\n",
    "Par ex, *nectar* est un anagramme de *carnet*. \n",
    "\n",
    "Dans cet exercice, tous les caractères sont minuscules, et peu importe que les mots appartiennent au Français ou pas.\n",
    "\n",
    "Vous devez écrire une fonction `est_anagramme(A, B)` selon la spécification suivante : \n",
    "* Entrée : deux `str` A et B\n",
    "* Sortie : `True` si B est un anagramme de A, `False` dans le cas contraire. \n",
    "\n",
    "Par ex : \n",
    "    \n",
    "    est_anagramme(\"romain\", \"marion\") => True\n",
    "    est_anagramme(\"pot\", \"poto\") => False\n",
    "    est_anagramme(\"aac\", \"aca\") => True\n",
    "    est_anagramme(\"aac\", \"aaa\") => False\n",
    "\n",
    "Suggestion : \n",
    "commencez par vous familiariser (avec la console) avec les instructions sur ce modèle :"
   ]
  },
  {
   "cell_type": "code",
   "execution_count": 35,
   "metadata": {},
   "outputs": [],
   "source": [
    "\"\"\"\n",
    "en équipe de 2, l'un écrit la doctest, l'autre écrit le code\n",
    "l'élève qui écrit la doctest doit honnêtement piéger  l'élève qui \n",
    "écrit le code. L'élève qui écrit le code doit éviter tous les pièges.\n",
    "\"\"\"\n",
    "def est_anagramme(m, n):\n",
    "    \"\"\"\n",
    "\tdoctest anagrammes\n",
    "    écrivez les tests ici.\n",
    "    \n",
    "\t\"\"\"\n",
    "\n",
    "# laissez ces deux dernières lignes, elles afficheront le résultat du test.\n",
    "import doctest\n",
    "doctest.testmod()"
   ]
  },
  {
   "cell_type": "markdown",
   "metadata": {},
   "source": [
    "## Exercice pour aller plus loin : le \"vrai\" tri sélection in place\n",
    "\n",
    "Écrivez une seconde fonction de tri par sélection qui opère \"in-place\", c'est-à-dire directement sur la liste passée en argument, sans en créer une autre. \n",
    "\n",
    "    pour chaque élément e de L:\n",
    "        sélectionner le plus petit élément de L à droite de e (e compris)\n",
    "        échanger cet élément avec e\n",
    "        \n",
    "Commencez par écrire une fonction `select_min(liste, debut)` qui trouve l'index du plus petit élément de `liste` en commençant la recherche, non pas forcément au début de `liste`, mais à l'index `debut`. Cela simplifiera l'étape 1 de l'algorithme."
   ]
  },
  {
   "cell_type": "code",
   "execution_count": 48,
   "metadata": {},
   "outputs": [],
   "source": [
    "# à vous !"
   ]
  },
  {
   "cell_type": "code",
   "execution_count": null,
   "metadata": {},
   "outputs": [],
   "source": []
  }
 ],
 "metadata": {
  "kernelspec": {
   "display_name": "Python 3",
   "language": "python",
   "name": "python3"
  },
  "language_info": {
   "codemirror_mode": {
    "name": "ipython",
    "version": 3
   },
   "file_extension": ".py",
   "mimetype": "text/x-python",
   "name": "python",
   "nbconvert_exporter": "python",
   "pygments_lexer": "ipython3",
   "version": "3.8.6"
  }
 },
 "nbformat": 4,
 "nbformat_minor": 4
}
