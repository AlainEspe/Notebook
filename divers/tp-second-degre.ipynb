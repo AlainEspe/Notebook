{
 "cells": [
  {
   "cell_type": "markdown",
   "metadata": {},
   "source": [
    "# TP autour des polynomes ...\n",
    "\n",
    "Nous allons prendre comme prétexte le cours sur le second degré vu cette année pour programmer un peu en python3..."
   ]
  },
  {
   "cell_type": "markdown",
   "metadata": {},
   "source": [
    "### Exercice 1 : le calcul de $\\Delta$ pour un polynôme du second degré\n",
    "\n",
    "Écrire un programme qui :\n",
    "\n",
    "1) demande à l'utilisateur les coefficients réels (type float) $a$, $b$ et $c$\n",
    "\n",
    "2) écrive ensuite le polynôme correspondant $f(x)=\\ldots$\n",
    "\n",
    "3) calcule le discriminant $\\Delta$"
   ]
  },
  {
   "cell_type": "code",
   "execution_count": null,
   "metadata": {},
   "outputs": [],
   "source": [
    "\n",
    "\n",
    "\n"
   ]
  },
  {
   "cell_type": "markdown",
   "metadata": {},
   "source": [
    "### Exercice 2 : le calcul des racines éventuelles\n",
    "\n",
    "En utilisant (par un copier-coller sans pitié) le programme précédent, le compléter pour qu'il nous dise si $f(x)$ possède des racines ou pas, et si oui afficher leur valeur approchée et/ou exacte !"
   ]
  },
  {
   "cell_type": "code",
   "execution_count": null,
   "metadata": {},
   "outputs": [],
   "source": [
    "\n",
    "\n"
   ]
  },
  {
   "cell_type": "markdown",
   "metadata": {},
   "source": [
    "### Exercice 3 : le tableau de signe\n",
    "\n",
    "\n",
    "Utiliser les programmes précédent pour en écrire un qui donne le tableau de signe d'un polynôme du second degré lorsque l'utilisateur entre $a$, $b$ et $c$."
   ]
  },
  {
   "cell_type": "code",
   "execution_count": null,
   "metadata": {},
   "outputs": [],
   "source": [
    "\n",
    "\n"
   ]
  },
  {
   "cell_type": "markdown",
   "metadata": {},
   "source": [
    "### Exercice 4 pour les pros : l'équation du 3eme degré ? \n",
    "\n",
    "On veut écrire un programme qui trouve, si elles existent, les solutions de l'équation $ax^3+bx^2+cx+d=0$.\n",
    "\n",
    "1) le programme doit demander à l'utilisateur les coefficients réels $a$, $b$, $c$ et $d$.\n",
    "\n",
    "2) définir la fonction $f(x)=ax^3+bx^2+cx+d$\n",
    "\n",
    "2) créer un \"balayage\" de la variable $x$ qui détecte lorsque $f(x)$ change de signe.\n",
    "\n",
    "3) en déduire le nombre probable de solutions (il y en a 3 au maximum), et les encadrer.\n",
    "\n",
    "4) si on ne trouve pas de solution, trouver le maximum ou bien le minimum de la fonction"
   ]
  },
  {
   "cell_type": "code",
   "execution_count": null,
   "metadata": {},
   "outputs": [],
   "source": [
    "\n",
    "\n",
    "\n"
   ]
  }
 ],
 "metadata": {
  "kernelspec": {
   "display_name": "Python 3",
   "language": "python",
   "name": "python3"
  },
  "language_info": {
   "codemirror_mode": {
    "name": "ipython",
    "version": 3
   },
   "file_extension": ".py",
   "mimetype": "text/x-python",
   "name": "python",
   "nbconvert_exporter": "python",
   "pygments_lexer": "ipython3",
   "version": "3.6.9"
  }
 },
 "nbformat": 4,
 "nbformat_minor": 2
}
