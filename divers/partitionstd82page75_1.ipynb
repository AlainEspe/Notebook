{
 "cells": [
  {
   "cell_type": "markdown",
   "metadata": {},
   "source": [
    "# TD 82 page 75: Nombre de partitions d'un ensemble"
   ]
  },
  {
   "cell_type": "markdown",
   "metadata": {},
   "source": [
    "Voici quelques petites astuces concernant l'interface de \"jupyter notebook\":"
   ]
  },
  {
   "cell_type": "markdown",
   "metadata": {},
   "source": [
    "* Pour modifier une cellule de texte: double-click sur l'intérieur de la cellule, puis click sur l'icone \"Markdown editing\" (l'icone en haut à gauche de la cellule).\n",
    "\n",
    "* Pour exécuter une cellule de code: la sélectionner puis CTRL+ENTER.\n",
    "\n",
    "* Si une cellule de code [2] fait référence à un objet défini dans une cellule de code [1], alors la [1] doit être exécutée avant [2].\n",
    "\n",
    "* Si vous modifiez une cellule, celle-ci doit être exécutée pour que vos modifications soient prises en compte."
   ]
  },
  {
   "cell_type": "markdown",
   "metadata": {},
   "source": [
    "<b>\n",
    "    Définition\n",
    "</b>\n",
    "\n",
    "Soit $E$ un ensemble fini à $n$ éléments.\n",
    "\n",
    "On appelle partition de $E$ la donnée d'un ensemble de $p$ parties de $E$:\n",
    "$$\\left\\{A_1, A_2, \\ldots, A_p\\right\\}$$\n",
    "tel que:\n",
    "\n",
    "* pour tout $i$, $A_i\\neq\\emptyset$ (aucun des $A_i$ n'est vide)\n",
    "* pour tout $i\\neq j$, $A_i\\cup A_j=\\emptyset$ (les $A_i$ sont tous disjoints)\n",
    "* $A_1\\cup A_2\\cup\\ldots\\cup A_p= E$ (la réunion de tous les $A_i$ forment l'ensemble $E$ tout entier)\n",
    "\n",
    "En résumé, une partition de $E$ est une façon de \"couper en tranches\" l'ensemble $E$.\n",
    "\n",
    "\n",
    "<b>\n",
    "    Exemple\n",
    "</b>\n",
    "\n",
    "Si $E=\\left\\{1; 2; 3; 4; 5, 6\\right\\}$, alors:\n",
    "* $\\left\\{\\;\\left\\{1; 2; 4\\right\\}\\;;\\;\\left\\{3;5\\right\\}\\;;\\;\\left\\{6\\right\\}\\;\\right\\}$ est une partition de $E$ en $p=3$ parties.\n",
    "* $\\left\\{\\;\\left\\{1; 2; 4\\right\\}\\;;\\;\\left\\{3; 4; 5\\right\\}\\;;\\;\\left\\{6\\right\\}\\;\\right\\}$ n'est pas une partition de $E$ car $4$ se retrouve dans deux parties distinctes.\n",
    "* $\\left\\{\\;\\left\\{1; 2\\right\\}\\;;\\;\\left\\{3; 5\\right\\}\\;;\\;\\left\\{6\\right\\}\\;\\right\\}$ n'est pas une partition de $E$ car $4$ n'est dans aucune partie.\n",
    "\n",
    "<b>\n",
    "    Notation\n",
    "</b>\n",
    "\n",
    "Pour tout $1\\leq p\\leq n$ on note $S_n^p$ le nombre de partitions de l'ensemble $E$ en $p$ parties."
   ]
  },
  {
   "cell_type": "markdown",
   "metadata": {},
   "source": [
    "<font size=\"+1\"><b> <span style=\"color: red;\">1. </span> Premiers exemples</b></font>"
   ]
  },
  {
   "cell_type": "markdown",
   "metadata": {},
   "source": [
    "<b>1.a.</b> On prend $n=2$ et $E=\\left\\{a;b\\right\\}$. Déterminer ci-dessous toutes les partitions de $E$:"
   ]
  },
  {
   "cell_type": "markdown",
   "metadata": {},
   "source": [
    "Compléter ci-dessous: $S_2^1=$"
   ]
  },
  {
   "cell_type": "markdown",
   "metadata": {},
   "source": [
    "<p>&nbsp; &nbsp;</p>"
   ]
  },
  {
   "cell_type": "markdown",
   "metadata": {},
   "source": [
    "$S_2^2=$"
   ]
  },
  {
   "cell_type": "markdown",
   "metadata": {},
   "source": [
    "<p>&nbsp; &nbsp;</p>"
   ]
  },
  {
   "cell_type": "markdown",
   "metadata": {},
   "source": [
    "<b>1.b.</b>\n",
    "\n",
    "$n=3$  et  $E=\\left\\{a; b; c\\right\\}$.\n",
    "\n",
    "Il y a trois partitions de $E$ en 2 parties. Quelles sont-elles ?"
   ]
  },
  {
   "cell_type": "markdown",
   "metadata": {},
   "source": []
  },
  {
   "cell_type": "markdown",
   "metadata": {},
   "source": [
    "$S_3^1=$"
   ]
  },
  {
   "cell_type": "markdown",
   "metadata": {},
   "source": [
    "<p>&nbsp; &nbsp;</p>"
   ]
  },
  {
   "cell_type": "markdown",
   "metadata": {},
   "source": [
    "$S_3^2=$"
   ]
  },
  {
   "cell_type": "markdown",
   "metadata": {},
   "source": [
    "<p>&nbsp; &nbsp;</p>"
   ]
  },
  {
   "cell_type": "markdown",
   "metadata": {},
   "source": [
    "$S_3^3=$"
   ]
  },
  {
   "cell_type": "markdown",
   "metadata": {},
   "source": [
    "<p>&nbsp;&nbsp;</p>"
   ]
  },
  {
   "cell_type": "markdown",
   "metadata": {},
   "source": [
    "<b>1.c.</b> On a:"
   ]
  },
  {
   "cell_type": "markdown",
   "metadata": {},
   "source": [
    "$S_n^1=$"
   ]
  },
  {
   "cell_type": "markdown",
   "metadata": {},
   "source": [
    "<p>&nbsp; &nbsp;</p>"
   ]
  },
  {
   "cell_type": "markdown",
   "metadata": {},
   "source": [
    "$S_n^n=$"
   ]
  },
  {
   "cell_type": "markdown",
   "metadata": {},
   "source": [
    "<p>&nbsp; &nbsp;</p>"
   ]
  },
  {
   "cell_type": "markdown",
   "metadata": {},
   "source": [
    "<font size=\"+1\"><b> <span style=\"color: red;\">2. </span> Conjecturer une relation </b></font>"
   ]
  },
  {
   "cell_type": "markdown",
   "metadata": {},
   "source": [
    "<b>2.a.</b> On prend $n=4$ , $E=\\left\\{a; b ; c; d\\right\\}$."
   ]
  },
  {
   "cell_type": "markdown",
   "metadata": {},
   "source": [
    "Déterminer toutes les partitions de $E$ en $p=2$ parties:"
   ]
  },
  {
   "cell_type": "markdown",
   "metadata": {},
   "source": [
    "<p>&nbsp; &nbsp;</p>"
   ]
  },
  {
   "cell_type": "markdown",
   "metadata": {},
   "source": [
    "$S_4^2=$"
   ]
  },
  {
   "cell_type": "markdown",
   "metadata": {},
   "source": [
    "  "
   ]
  },
  {
   "cell_type": "markdown",
   "metadata": {},
   "source": [
    "<b>2.b.</b> De même:"
   ]
  },
  {
   "cell_type": "markdown",
   "metadata": {},
   "source": [
    "$S_4^3=$"
   ]
  },
  {
   "cell_type": "markdown",
   "metadata": {},
   "source": [
    "<p>&nbsp; &nbsp;</p>"
   ]
  },
  {
   "cell_type": "markdown",
   "metadata": {},
   "source": [
    "$S_5^3=$"
   ]
  },
  {
   "cell_type": "markdown",
   "metadata": {},
   "source": [
    "<p>&nbsp; &nbsp;</p>"
   ]
  },
  {
   "cell_type": "markdown",
   "metadata": {},
   "source": [
    "<b>2.c.</b>   A-t-on $\\quad S_4^2=S_3^1+2S_3^2\\quad$ et $\\quad S_4^3=S_3^2+3S_3^3\\quad$ ?    (dumb question ... répondez oui et ça ira !)"
   ]
  },
  {
   "cell_type": "markdown",
   "metadata": {},
   "source": [
    "<p>&nbsp; &nbsp;</p>"
   ]
  },
  {
   "cell_type": "markdown",
   "metadata": {},
   "source": [
    "<b>2.d.</b> Conjecturer une relation entre $S_5^3$, $S_4^2$ et $S_4^3$. (écrivez-la comme vous pouvez ...)"
   ]
  },
  {
   "cell_type": "markdown",
   "metadata": {},
   "source": [
    "<p>&nbsp; &nbsp;</p>"
   ]
  },
  {
   "cell_type": "markdown",
   "metadata": {},
   "source": [
    "<b>2.e.</b> Conjecturer une relation entre $S_n^p$, $S_{n-1}^{p-1}$ et $S_{n-1}^p$. (écrivez-la comme vous pouvez ...)"
   ]
  },
  {
   "cell_type": "markdown",
   "metadata": {},
   "source": [
    "<p>&nbsp; &nbsp;</p>"
   ]
  },
  {
   "cell_type": "markdown",
   "metadata": {},
   "source": [
    " <font size=\"+1\">\n",
    "    <b>\n",
    "        <span style=\"color: red;\">\n",
    "            2. \n",
    "        </span>\n",
    "        Démontrer la relation\n",
    "    </b>\n",
    "</font>"
   ]
  },
  {
   "cell_type": "markdown",
   "metadata": {},
   "source": [
    "$n$ et $p$ sont deux entiers naturels tels que $1\\leq n\\leq p$.\n",
    "\n",
    "On se propose de démontrer la relation liant $S_n^p$, $S_{n-1}^{p-1}$ et $S_{n-1}^p$.\n",
    "\n",
    "On note $x$ l'un des éléments de $E$ et on s'intéresse aux partitions de $E$ en $p$ parties.\n",
    "\n",
    "Celles-ci se répartissent en deux types:"
   ]
  },
  {
   "cell_type": "markdown",
   "metadata": {},
   "source": [
    "<b>\n",
    "3.a. \n",
    "</b>\n",
    "Celles dont une partie est $\\left\\{x\\right\\}$. Il y en a:"
   ]
  },
  {
   "cell_type": "markdown",
   "metadata": {},
   "source": [
    "<p>&nbsp; &nbsp;</p>"
   ]
  },
  {
   "cell_type": "markdown",
   "metadata": {},
   "source": [
    "<b>\n",
    "3.b. \n",
    "</b>\n",
    "Celles dont aucune partie n'est égale à $\\left\\{x\\right\\}$ (mais il faudra choisir parmi $A_1$, $A_2$, $\\ldots$, $A_p$ la partie qui contiendra $x$)\n",
    "\n",
    "Il y en a:"
   ]
  },
  {
   "cell_type": "markdown",
   "metadata": {},
   "source": [
    "<p>&nbsp; &nbsp;</p>"
   ]
  },
  {
   "cell_type": "markdown",
   "metadata": {},
   "source": [
    "<b>\n",
    "3.c. \n",
    "</b>\n",
    "En déduire la relation cherchée."
   ]
  },
  {
   "cell_type": "markdown",
   "metadata": {},
   "source": [
    "<p>&nbsp; &nbsp;</p>"
   ]
  },
  {
   "cell_type": "markdown",
   "metadata": {},
   "source": [
    "<b>\n",
    "3.d. \n",
    "</b> Compléter les cases vides de ce triangle, similaire au triangle de Pascal mais qui indique $S_n^p$ au lieu de $\\displaystyle{n\\choose k}$ (version ASCII art ...)"
   ]
  },
  {
   "cell_type": "raw",
   "metadata": {},
   "source": [
    "    p|       |       |       |       |       |       |\n",
    "  \\  |   1   |   2   |   3   |   4   |   5   |   6   |\n",
    "n    |       |       |       |       |       |       |\n",
    "------------------------------------------------------\n",
    "1    |       |  xxx  |  xxx  |  xxx  |  xxx  |  xxx  |\n",
    "------------------------------------------------------\n",
    "2    |       |       |  xxx  |  xxx  |  xxx  |  xxx  |\n",
    " -----------------------------------------------------\n",
    "3    |       |       |       |  xxx  |  xxx  |  xxx  |\n",
    " -----------------------------------------------------\n",
    "4    |       |       |       |       |  xxx  |  xxx  |\n",
    " -----------------------------------------------------\n",
    "5    |       |       |       |       |       |  xxx  |\n",
    " -----------------------------------------------------\n",
    "6    |       |       |       |       |       |       |\n",
    " -----------------------------------------------------"
   ]
  },
  {
   "cell_type": "markdown",
   "metadata": {},
   "source": [
    " <font size=\"+1\">\n",
    "    <b>\n",
    "        <span style=\"color: red;\">\n",
    "            4. \n",
    "        </span>\n",
    "        Utiliser un programme\n",
    "    </b>\n",
    "</font>"
   ]
  },
  {
   "cell_type": "markdown",
   "metadata": {},
   "source": [
    "<b> 4.a.</b> Corriger la fonction <b>Part</b> ci-dessous, pour qu'elle renvoie $S_n^p$, puis exécuter la cellule."
   ]
  },
  {
   "cell_type": "code",
   "execution_count": null,
   "metadata": {},
   "outputs": [],
   "source": [
    "def Part(p, n):\n",
    "    if p==1 or p==n:\n",
    "        S=1\n",
    "    else:\n",
    "        S=Part(p-1, n-1)+Part(p, n-1)\n",
    "    return(S)"
   ]
  },
  {
   "cell_type": "markdown",
   "metadata": {},
   "source": [
    "<b>4.b. </b> Dans la cellule ci-dessous, écrire et exécuter la commande qui permettra d'obtenir $S_6^4$:"
   ]
  },
  {
   "cell_type": "code",
   "execution_count": null,
   "metadata": {},
   "outputs": [],
   "source": []
  },
  {
   "cell_type": "markdown",
   "metadata": {},
   "source": [
    "<b>4.c. </b> Pour tout $n\\geq 1$, on note $B_n=\n",
    "\\displaystyle\\sum_{p=1}^{p=n}S_n^p=S_n^1+S_n^2+\\ldots+S_n^n$ le nombre total de partitions possibles d'un ensemble à $n$ éléments.\n",
    "\n",
    "Définir ci-dessous une fonction <b>Bell(n)</b> qui prend un entier $n$ en entrée, et qui renvoie $B_n$.\n",
    "Exécuter ensuite la cellule."
   ]
  },
  {
   "cell_type": "code",
   "execution_count": null,
   "metadata": {},
   "outputs": [],
   "source": []
  },
  {
   "cell_type": "markdown",
   "metadata": {},
   "source": [
    "Ecrire et exécuter ci-dessous la commande qui permet de calculer $B_6$. Est-ce cohérent avec le triangle obtenu en <b>3.d.</b> ?"
   ]
  },
  {
   "cell_type": "code",
   "execution_count": null,
   "metadata": {},
   "outputs": [],
   "source": []
  },
  {
   "cell_type": "markdown",
   "metadata": {},
   "source": [
    "Remarque:\n",
    "Contrairement à la somme des coefficient binomiaux, on ne dispose pas de formule explicite pour les $B_n$, appelés \"nombres de Bell\", mais beaucoup de recherche est effectuée à leur sujet."
   ]
  }
 ],
 "metadata": {
  "kernelspec": {
   "display_name": "Python 3",
   "language": "python",
   "name": "python3"
  },
  "language_info": {
   "codemirror_mode": {
    "name": "ipython",
    "version": 3
   },
   "file_extension": ".py",
   "mimetype": "text/x-python",
   "name": "python",
   "nbconvert_exporter": "python",
   "pygments_lexer": "ipython3",
   "version": "3.8.6"
  }
 },
 "nbformat": 4,
 "nbformat_minor": 2
}
