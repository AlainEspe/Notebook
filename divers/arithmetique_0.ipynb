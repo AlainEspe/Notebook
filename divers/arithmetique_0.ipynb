{
 "cells": [
  {
   "cell_type": "markdown",
   "metadata": {},
   "source": [
    "# Utilisation de Jupyter\n",
    "Jupyter est un environnement pour faire faire des TP de programmation en python.\n",
    "Vous pouvez créer des cellules avec le bouton + ci-dessus.\n",
    "Dans chaque cellule on peut choisir dans le menu ci-dessus, dans la barre déroulante, un mode de fonctionnement.\n",
    "+ Le mode Markdown, qui fait de votre un éditeur de texte trés simplifié.\n",
    "+ Le mode Code qui permet de tester des programme en python\n",
    "\n",
    "## Le mode code\n",
    "Aprés l'écriture d'un programme, on peut lancer le programme en appuyant sur le triangle de lecture $\\blacktriangleright $\n",
    "\n",
    "\n",
    "### Exemple"
   ]
  },
  {
   "cell_type": "code",
   "execution_count": null,
   "metadata": {},
   "outputs": [],
   "source": [
    "print(\"lkslkks\")"
   ]
  },
  {
   "cell_type": "markdown",
   "metadata": {},
   "source": [
    "Vous pouvez ainsi créer plusieurs cellules les unes à la suite des autres. Un objet créé dans une cellule antérieure sera disponible dans les cellules suivantes. Par exemble, si vous créer une variable ou une fonction dans une cellule et que vous avez charger cette cellule avec $\\blacktriangleright $, cette variable et cette fonction seront disponible dans les cellules suivantes:\n",
    "\n",
    "\n",
    "### Exemple"
   ]
  },
  {
   "cell_type": "code",
   "execution_count": null,
   "metadata": {},
   "outputs": [],
   "source": [
    "a=5\n",
    "def mafonction(x):\n",
    "    '''\n",
    "    IN: un flottant (float)\n",
    "    Out : un flottant (float) , la valeur de f(x)= 2x+5\n",
    "    '''\n",
    "    return 2*x+5"
   ]
  },
  {
   "cell_type": "code",
   "execution_count": null,
   "metadata": {},
   "outputs": [],
   "source": [
    "print(a)\n",
    "print(mafonction(a))"
   ]
  },
  {
   "cell_type": "markdown",
   "metadata": {},
   "source": [
    "## Le mode markdown\n",
    "Pour écrire du texte ou changer du texte dans ce mode on peut se réferer à la documenatation suivante : \n",
    "\n",
    "https://www.dropbox.com/s/5o6jp19fchf9j1r/M62-CM1.pdf?dl=0\n",
    "\n",
    "On lance le formatage du texte en appuyant sur $\\blacktriangleright $. On peut changer le texte en double cliquant sur la cellule.\n",
    "\n",
    "## Ecrire des mathématiques avec latex\n",
    "On peut écrire des formules mathématiques avec le latex dans le mode markdown. Pour cela on les écrit entre \\$. \n",
    "\n",
    "### Exemple\n",
    "Double cliquer sur cette cellule pour voir comment on écrit des puissances, des indices, des fractions et des racines carrés. Pour plus de détail regarder la documentation précédente.\n",
    "\n",
    "$A_{n+1}=\\dfrac{n^5+n^4+3}{54}+\\sqrt{n^4+1}$"
   ]
  },
  {
   "cell_type": "markdown",
   "metadata": {},
   "source": [
    "# Arithmetique : faire du python "
   ]
  },
  {
   "cell_type": "markdown",
   "metadata": {},
   "source": [
    "En python, on utilise des types de variables, voici les essentiels à connaitre:\n",
    "   + Les flottants (float) pour représenter les réels.\n",
    "   + Les integer (int) pour représenter les entiers relatifs\n",
    "   + Les booléens (bool) pour représenter les valeurs de vérité (True ou False)\n",
    "   + Les strings (str) pour représenter les chaines de caractéres\n",
    "   + Les listes (list) pour faire des tableaux de variables.\n",
    "    \n",
    "Exemples:\n",
    "   + `5+4` est un entier, sa valeur est `9`\n",
    "   + `5.0+4.0` est un flottant, sa valeur est `9.0`\n",
    "   + `5<4` est un booléen, sa valeur est `False`\n",
    "   + `\"5<4\"` est une chaine de caractere, sa valeur est la concatenation des signes `\"5\"`, `\"<\"` et `\"4\"`.\n",
    "   + `[5+4,5.0+4.0,5<4,\"5<4\"]` est une liste contenant different type et sa valeur est `[9,9.0,False,'5<4']`\n",
    "\n",
    "Regardons l'affichage de ces differents types:"
   ]
  },
  {
   "cell_type": "code",
   "execution_count": null,
   "metadata": {},
   "outputs": [],
   "source": [
    "print(5+4)\n",
    "print(5.0+4.0)\n",
    "print(5<4)\n",
    "print(\"5+4\")\n",
    "print([5+4,5.0+4.0,5<4,\"5<4\"])"
   ]
  },
  {
   "cell_type": "markdown",
   "metadata": {},
   "source": [
    "## Exercice 1 : les différentes commandes\n",
    "\n",
    "+ On aura besoin de faire des boucles for..."
   ]
  },
  {
   "cell_type": "code",
   "execution_count": null,
   "metadata": {},
   "outputs": [],
   "source": [
    "n=5\n",
    "for i in range(n):\n",
    "    print(i)"
   ]
  },
  {
   "cell_type": "markdown",
   "metadata": {},
   "source": [
    "+ On aura besoin de faire des boucles while...\n",
    "Que fait ce programme avec plusieurs valeurs de $n$ ?"
   ]
  },
  {
   "cell_type": "code",
   "execution_count": null,
   "metadata": {},
   "outputs": [],
   "source": [
    "n=3\n",
    "i=0\n",
    "s=0\n",
    "while i<=n:\n",
    "    s=s+i\n",
    "    i=i+1\n",
    "print(s)"
   ]
  },
  {
   "cell_type": "markdown",
   "metadata": {},
   "source": [
    "Mettre la réponse ici :\n",
    "\n",
    "    ----------------------------------------------------\n",
    "    \n",
    "    \n",
    "    \n",
    "    ----------------------------------------------------\n",
    "\n",
    "\n"
   ]
  },
  {
   "cell_type": "markdown",
   "metadata": {},
   "source": [
    "+ On aura besoin de faire des conditions.\n",
    "Que fait ce programme ? Changer les valeurs de a et b pour faire des tests."
   ]
  },
  {
   "cell_type": "code",
   "execution_count": null,
   "metadata": {},
   "outputs": [],
   "source": [
    "a=5\n",
    "b=3\n",
    "if a<b:\n",
    "    print(b-a)\n",
    "else:\n",
    "    print(a-b)"
   ]
  },
  {
   "cell_type": "markdown",
   "metadata": {},
   "source": [
    "Mettre la réponse ici :\n",
    "\n",
    "    ----------------------------------------------------\n",
    "    \n",
    "    \n",
    "    \n",
    "    ----------------------------------------------------"
   ]
  },
  {
   "cell_type": "markdown",
   "metadata": {},
   "source": [
    "+ On aura besoin des opétareurs `%` et `//`. Changer les valeurs de a et b et dites ce que font les opérateurs `%` et `//` \n"
   ]
  },
  {
   "cell_type": "code",
   "execution_count": null,
   "metadata": {},
   "outputs": [],
   "source": [
    "a=35\n",
    "b=2\n",
    "print(a//b)\n",
    "print(a%b)"
   ]
  },
  {
   "cell_type": "markdown",
   "metadata": {},
   "source": [
    "Mettre la réponse ici :\n",
    "\n",
    "    ----------------------------------------------------\n",
    "    \n",
    "    \n",
    "    \n",
    "    ----------------------------------------------------"
   ]
  },
  {
   "cell_type": "markdown",
   "metadata": {},
   "source": [
    "+ On aura besoin de fonctions. On donne la fonction `divise()` ci-dessous. Elle renvoie le quotient et le reste de la division euclidenne de \n",
    "a par b. Compléter et tester en changeant les valeurs de a et b :"
   ]
  },
  {
   "cell_type": "code",
   "execution_count": null,
   "metadata": {},
   "outputs": [],
   "source": [
    "def divise(x,y):\n",
    "    \"\"\"\n",
    "    In: un couple d'entier (int,int)\n",
    "    Out: n couple d'entier (int,int) \n",
    "    \"\"\"\n",
    "    r=\n",
    "    q=\n",
    "    return q,r"
   ]
  },
  {
   "cell_type": "code",
   "execution_count": null,
   "metadata": {},
   "outputs": [],
   "source": [
    "#Tests\n",
    "a=89\n",
    "b=12\n",
    "print(divise(a,b))\n",
    "a=\n",
    "b=\n",
    "print(divise(a,b))\n",
    "a=\n",
    "b=\n",
    "..."
   ]
  },
  {
   "cell_type": "markdown",
   "metadata": {},
   "source": [
    "+ On aura besoin de liste. Pour créer une liste on écrit `maliste=[]` pour faire une liste vide. On utilise `maliste.append(valeur)`\n",
    "pour la remplir. Par exemple on construit la liste de entiers pair inférieur à 100 de la façon suivante:"
   ]
  },
  {
   "cell_type": "code",
   "execution_count": null,
   "metadata": {},
   "outputs": [],
   "source": [
    "EntierPair=[]\n",
    "for i in range(51):\n",
    "    EntierPair.append(2*i)\n",
    "print(EntierPair)"
   ]
  },
  {
   "cell_type": "markdown",
   "metadata": {},
   "source": [
    "# Exercice 2 Congruence et liste\n",
    "\n",
    "1. Calculer les restes de $3^k$ modulo 5 pour $k<5$.\n",
    "\n",
    "Mettre la réponse ici :\n",
    "\n",
    "       ----------------------------------------------------\n",
    "\n",
    " \n",
    "\n",
    "   \n",
    "       ----------------------------------------------------"
   ]
  },
  {
   "cell_type": "markdown",
   "metadata": {},
   "source": [
    "2. Compléter une fonction `mesreste(n)` où n est un entier positif et qui renvoie la liste des restes modulo 5 de $3^i$ avec $i$ un entier positif tel que $i<n$. N'oubliez pas de compléter la documentation. Sur le même exemple, faire une fonction  `mesreste2(a,b,n)` qui renvoie la liste des restes modulo $b$ de $a^i$ avec $i$ un entier positif tel que $i<n$."
   ]
  },
  {
   "cell_type": "code",
   "execution_count": null,
   "metadata": {},
   "outputs": [],
   "source": [
    "def mesrestes(n):\n",
    "    \"\"\"\n",
    "    In:\n",
    "    Out:\n",
    "    \"\"\"\n",
    "    reste=[]\n",
    "    for i in ....\n",
    "    \n",
    "    \n",
    "    return..."
   ]
  },
  {
   "cell_type": "code",
   "execution_count": null,
   "metadata": {},
   "outputs": [],
   "source": [
    "#tests\n",
    "print(mesrestes(...))\n",
    "print(mesrestes(...))\n",
    "print(mesrestes(...))"
   ]
  },
  {
   "cell_type": "code",
   "execution_count": null,
   "metadata": {},
   "outputs": [],
   "source": [
    "def mesrestes2(a,b,n):\n",
    "    \"\"\"\n",
    "    In:\n",
    "    Out:\n",
    "    \"\"\"\n",
    "    reste=[]\n",
    "    for i in ....\n",
    "    \n",
    "    \n",
    "    return..."
   ]
  },
  {
   "cell_type": "code",
   "execution_count": null,
   "metadata": {},
   "outputs": [],
   "source": [
    "#Tests"
   ]
  },
  {
   "cell_type": "markdown",
   "metadata": {},
   "source": [
    "# Exercice 3\n",
    "Voici une fonction `test()` ci-dessous .\n",
    "\n",
    "1. Expliquer ce que représente le booléen renvoyé par cette fonction.\n",
    "\n",
    "2. Executer plusieurs fois cette fonction. Enoncer alors une conjoncture\n",
    "\n",
    "3. Démontrer par disjonction des cas, la conjecture pour tout $n\\in \\mathbb{N}$.\n",
    "4. Ecrire à l'aide de l'exemple précédent une fonction `test2()` qui teste $a=5n^3+n$, énoncer une conjecture et démontrer là."
   ]
  },
  {
   "cell_type": "code",
   "execution_count": null,
   "metadata": {},
   "outputs": [],
   "source": [
    "def test(n):\n",
    "    \"\"\"\n",
    "    In: Un entier (int)\n",
    "    Out: Un booleen (bool)\n",
    "    \"\"\"\n",
    "    a=n*(n+1)*(n+5)\n",
    "    if a%6==0:\n",
    "        booleen=True\n",
    "    else:\n",
    "        booleen=False\n",
    "    return booleen"
   ]
  },
  {
   "cell_type": "code",
   "execution_count": null,
   "metadata": {},
   "outputs": [],
   "source": [
    "#Tests\n",
    "print(test(5))\n",
    "print(test(89))\n",
    "print(test(54))"
   ]
  },
  {
   "cell_type": "markdown",
   "metadata": {},
   "source": [
    "Mettre la réponse ici :\n",
    "\n",
    "    ----------------------------------------------------\n",
    "    1.\n",
    "    \n",
    "    2.\n",
    "    \n",
    "    3.\n",
    "    \n",
    "    \n",
    "    ----------------------------------------------------"
   ]
  },
  {
   "cell_type": "code",
   "execution_count": null,
   "metadata": {},
   "outputs": [],
   "source": [
    "#4\n",
    "def test2(n):\n",
    "    \"\"\"\n",
    "    In: Un entier (int)\n",
    "    Out: Un booleen (bool)\n",
    "    \"\"\"\n",
    "    ..."
   ]
  },
  {
   "cell_type": "code",
   "execution_count": null,
   "metadata": {},
   "outputs": [],
   "source": [
    "#Tests\n",
    "print(test2(5))\n",
    "..."
   ]
  },
  {
   "cell_type": "markdown",
   "metadata": {},
   "source": [
    "Mettre la réponse ici :\n",
    "\n",
    "    ----------------------------------------------------\n",
    "    4.\n",
    "    \n",
    "    \n",
    "    ----------------------------------------------------"
   ]
  },
  {
   "cell_type": "markdown",
   "metadata": {},
   "source": [
    "# Exercice 4 (81 p 154)\n",
    "$(v_n)$ est une suite définie pour tout $n\\geq 1$ par :\n",
    "    $$v_n=22^n+6n-1$$\n",
    "1. Ecrire une fonction `ma_suite()` qui, pour $n\\in \\mathbb{N}^*$ calcule et renvoie la liste $[v_1,v_2,...,v_n]$\n",
    "2. Tester ce programme avec plusieurs valeurs.\n",
    "3. Démontrer que pour tout $n\\in \\mathbb{N}^*$ , $v_n$ est divisible par 9."
   ]
  },
  {
   "cell_type": "code",
   "execution_count": null,
   "metadata": {},
   "outputs": [],
   "source": [
    "# Pour ajouter un élement à une liste on utilise ma_liste.append(nouveau)\n",
    "ma_liste=[645,7,87,4]\n",
    "print(ma_liste)\n",
    "ma_liste.append(1111111)\n",
    "print(ma_liste)"
   ]
  },
  {
   "cell_type": "code",
   "execution_count": null,
   "metadata": {},
   "outputs": [],
   "source": [
    "#1\n",
    "def ma_suite(n):\n",
    "    \"\"\"\n",
    "    In:\n",
    "    Out:\n",
    "    \"\"\"\n",
    "    ..."
   ]
  },
  {
   "cell_type": "code",
   "execution_count": null,
   "metadata": {},
   "outputs": [],
   "source": [
    "#2 Mettre des tests avec plusieurs valeurs\n",
    "print(ma_suite(4))\n",
    "..."
   ]
  },
  {
   "cell_type": "markdown",
   "metadata": {},
   "source": [
    "Mettre la réponse ici :\n",
    "\n",
    "Pour écrire des expressions mathématiques on peut utiliser le latex, par exemple regarder comment on écrit $v_n=22^n+6n-1$, entre \\$.\n",
    "\n",
    "   \n",
    "       ----------------------------------------------------\n",
    "3.\n",
    "    \n",
    "    \n",
    "        ----------------------------------------------------"
   ]
  },
  {
   "cell_type": "markdown",
   "metadata": {},
   "source": [
    "# Exercice 5 : Test de primalité\n",
    "\n",
    "1. Rappelez la définition d'un nombre premier. Comment vérifier qu'un nombre est premier ou non ?\n",
    "2. Complétez la fonction `is_premier1()` qui teste si un nombre premier.\n",
    "3. Testez votre fonction en affichant les nombres premiers inférieurs à 100.\n",
    "4. Montrer que $n$ n'est pas premier si et seulement il existe $k\\in \\mathbb{N}$ avec $2\\leq k\\leq\\sqrt{n}$ tel que $k$ divise $n$\n",
    "5. Ecrire la fonction `is_premier2()` qui teste si un nombre premier mais qui utilise la condition précédente. Pour faire la racine carré il faut importer le module avec `import math` et faire `math.sqrt(n)`. \n",
    "6. Testez votre fonction en affichant les nombres premiers inférieurs à 100.\n",
    "7. Quel est l'avantage de `is_premier2()` par rapport à `is_premier1()` ? "
   ]
  },
  {
   "cell_type": "markdown",
   "metadata": {},
   "source": [
    "Mettre la réponse ici :\n",
    "\n",
    "    ----------------------------------------------------\n",
    "    1.\n",
    "    \n",
    "    ----------------------------------------------------"
   ]
  },
  {
   "cell_type": "code",
   "execution_count": null,
   "metadata": {},
   "outputs": [],
   "source": [
    "#2 \n",
    "import math\n",
    "#utiliser math.sqrt(n) pour la racine carré\n",
    "def is_premier1(n):\n",
    "    \"\"\"\n",
    "    In:...\n",
    "    Out:...\n",
    "    \"\"\"\n",
    "    for i in range(...,...):\n",
    "        if ...:\n",
    "            return ...\n",
    "    return ...."
   ]
  },
  {
   "cell_type": "code",
   "execution_count": null,
   "metadata": {},
   "outputs": [],
   "source": [
    "\n",
    "for k in range(2,100):\n",
    "    if is_premier1(k):\n",
    "        print(k)"
   ]
  },
  {
   "cell_type": "markdown",
   "metadata": {},
   "source": [
    "Mettre la réponse ici :\n",
    "\n",
    "    ----------------------------------------------------\n",
    "    4.\n",
    "    \n",
    "    ----------------------------------------------------"
   ]
  },
  {
   "cell_type": "code",
   "execution_count": null,
   "metadata": {},
   "outputs": [],
   "source": [
    "#5\n",
    "import math\n",
    "def is_premier2(n):\n",
    "    \"\"\"\n",
    "    In:...\n",
    "    Out:...\n",
    "    \"\"\"\n",
    "    for i in range(...,...):\n",
    "        if ...:\n",
    "            return ...\n",
    "    return ...."
   ]
  },
  {
   "cell_type": "code",
   "execution_count": null,
   "metadata": {},
   "outputs": [],
   "source": [
    "#6\n",
    "for k in range(2,100):\n",
    "    if is_premier2(k):\n",
    "        print(k)"
   ]
  },
  {
   "cell_type": "markdown",
   "metadata": {},
   "source": [
    "Mettre la réponse ici :\n",
    "\n",
    "    ----------------------------------------------------\n",
    "    7.\n",
    "    \n",
    "    ----------------------------------------------------"
   ]
  },
  {
   "cell_type": "markdown",
   "metadata": {},
   "source": [
    "# Exercice 6 : diviseurs\n",
    "1. Completer la fonction suivante pour qu'elle renvoie une liste de diviseur d'un nombre entier.\n",
    "2. Faire une dizaine de tests"
   ]
  },
  {
   "cell_type": "code",
   "execution_count": null,
   "metadata": {},
   "outputs": [],
   "source": [
    "#1\n",
    "def diviseurs(n):\n",
    "    \"\"\"\n",
    "    In : un entier (int)\n",
    "    Ou : Une liste d'entier list(int) contenant les diviseurs de n\n",
    "    \"\"\"\n",
    "    divieurDen=[1] #la liste qui contient forcement 1\n",
    "    for i in range(...,...):\n",
    "        if ...:\n",
    "            divieurDen.append(...) #append rajoute un élément à une liste\n",
    "            \n",
    "    return ..."
   ]
  },
  {
   "cell_type": "code",
   "execution_count": null,
   "metadata": {},
   "outputs": [],
   "source": [
    "#2\n",
    "print(diviseurs(45))\n",
    "...."
   ]
  },
  {
   "cell_type": "markdown",
   "metadata": {},
   "source": [
    "# Exercice 7 : la conjecture de syracuse\n",
    "Soit a un entier naturel, on considére l'algorithme suivant:\n",
    "+ Si a est par on le divise par 2\n",
    "+ Si a  est impair on le multiple par 3 et on ajoute 1.\n",
    "En recommencant le procédé avec chaque valeur obtenue, on obtient une suite d'entiers.\n",
    "\n",
    "On définie $U_0=a$ et $(U_n)$, la suite des entiers qui suivent cette algorithme appelée suite de Syracuse.\n",
    "\n",
    "1. Que vaut $U_{n+1}$ en fonction de $U_n$ ?\n",
    "2. \n",
    "    a. Ecrire une fonction `algoSyracuse(a)` qui renvoie la valeur donné par l'algorithme précédent. \n",
    "    \n",
    "    b. Ecrire une fonction `syracuseListe(a,n)` qui renvoie la liste des n premiers termes en utilisant la fonction précédente.\n",
    "3. Emettre une conjecture, vers quoi semble tendre la suite de Syracuse ? N'hésitez pas à prendre des valeurs de n assez grande."
   ]
  },
  {
   "cell_type": "markdown",
   "metadata": {},
   "source": [
    "Mettre la réponse ici :\n",
    "\n",
    "    ----------------------------------------------------\n",
    "    1.\n",
    "    \n",
    "    ----------------------------------------------------"
   ]
  },
  {
   "cell_type": "code",
   "execution_count": null,
   "metadata": {},
   "outputs": [],
   "source": [
    "#2.a)\n",
    "def algoSyracuse(a):\n",
    "    \"\"\"\n",
    "    In : un entier (int)\n",
    "    Ou : un entier (int)\n",
    "    \"\"\"\n",
    "    ....        \n",
    "    return ..."
   ]
  },
  {
   "cell_type": "code",
   "execution_count": null,
   "metadata": {},
   "outputs": [],
   "source": [
    "#Tests"
   ]
  },
  {
   "cell_type": "code",
   "execution_count": null,
   "metadata": {},
   "outputs": [],
   "source": [
    "#2.b)\n",
    "def syracuseListe(a,n):\n",
    "    \"\"\"\n",
    "    In : un entier (int) valeur initiale de la suite de Syracuse et un entier (int) nombre d'enteir à calculer\n",
    "    Ou : une liste d'entier qui contient les nombres de Syracuse (list(int))\n",
    "    \"\"\"\n",
    "    ....        \n",
    "    return ..."
   ]
  },
  {
   "cell_type": "code",
   "execution_count": null,
   "metadata": {},
   "outputs": [],
   "source": [
    "#Tests"
   ]
  },
  {
   "cell_type": "markdown",
   "metadata": {},
   "source": [
    "Mettre la réponse ici :\n",
    "\n",
    "    ----------------------------------------------------\n",
    "    3.\n",
    "    \n",
    "    ----------------------------------------------------"
   ]
  },
  {
   "cell_type": "markdown",
   "metadata": {},
   "source": [
    "# Exercice 8 : Factorisation en nombre premier\n",
    "1. En utilisant la fonction `is_premier2(n)` ecrire une fonction `listePremier(n)` qui renvoie la liste des nombres\n",
    "premier inferieur à n.\n",
    "2. En utilisant la fonction `listePremier()` ecrire une fonction `diviseurPremier()` qui renvoie la liste des nombres\n",
    "premier qui divise n. Il peut y avoir plusieurs fois le même diviseur dans la liste. Par exemple pour 300\n",
    "\n",
    "``` python\n",
    "print(diviseurPremier(300))\n",
    "\n",
    "[2,2,3,5,5]\n",
    "```\n",
    "\n",
    "3. En utilisant la fonction `diviseurPremier(n)` ecrire une fonction `factoPremier(n)` qui renvoie la liste des nombres\n",
    "premier qui divise n avec leur multiplicité. Par exemple :\n",
    "\n",
    "Pour $300=2^2\\times 3\\times 5^2$ :\n",
    "    \n",
    "``` python\n",
    "print(factoPremier(300)\n",
    "\n",
    "[(2,2),(3,1),(5,2)]\n",
    "```\n",
    "\n",
    "4. (Facultatif) Pour finir on peut essayer de faire un affichage du type `300=(2^3)x3x(5^2)` avec une fonction `affichageFacto(n)` ."
   ]
  },
  {
   "cell_type": "code",
   "execution_count": null,
   "metadata": {},
   "outputs": [],
   "source": [
    "\n",
    "def listePremier(n):\n",
    "    '''\n",
    "    In: un entier (int)\n",
    "    Out: Une liste d'entier premier inferieur à n list(int)\n",
    "    '''\n",
    "    A=[]\n",
    "    for ...........:\n",
    "        if .....:\n",
    "            A.append(i)\n",
    "    return A\n",
    "        \n",
    "        "
   ]
  },
  {
   "cell_type": "code",
   "execution_count": null,
   "metadata": {},
   "outputs": [],
   "source": [
    "#Tests"
   ]
  },
  {
   "cell_type": "code",
   "execution_count": null,
   "metadata": {},
   "outputs": [],
   "source": [
    "def diviseurPremier(n):\n",
    "    \"\"\"\n",
    "    In:n un entier (int)\n",
    "    Out: une liste de nombre premier qui divise n list(int)\n",
    "    \"\"\"\n",
    "    A=[]\n",
    "    \n",
    "    ....\n",
    "    \n",
    "    return A"
   ]
  },
  {
   "cell_type": "code",
   "execution_count": null,
   "metadata": {},
   "outputs": [],
   "source": [
    "#Tests"
   ]
  },
  {
   "cell_type": "code",
   "execution_count": null,
   "metadata": {},
   "outputs": [],
   "source": [
    "def factoPremier(n):\n",
    "    \"\"\"\n",
    "    In:n un entier (int)\n",
    "    Out: une liste de couples de nombre entier ,(premier, multiplicité) qui représente la factorisation \n",
    "    de n. list((int,int)\n",
    "    \"\"\"\n",
    "    A=[]\n",
    "    \n",
    "    ....\n",
    "    \n",
    "   return A"
   ]
  },
  {
   "cell_type": "code",
   "execution_count": null,
   "metadata": {},
   "outputs": [],
   "source": [
    "#Tests\n"
   ]
  },
  {
   "cell_type": "code",
   "execution_count": null,
   "metadata": {},
   "outputs": [],
   "source": [
    "def affichageFacto(n):\n",
    "    \"\"\"\n",
    "    In: Un entier (int)\n",
    "    Out:  Une chaine de caractere permetttant d'afficher la factorisation de n (str)\n",
    "    \"\"\"\n",
    "    A=factoPremier(n)\n",
    "    aff=\"\"\n",
    "     \n",
    "        ...\n",
    "     \n",
    "    return aff"
   ]
  },
  {
   "cell_type": "code",
   "execution_count": null,
   "metadata": {},
   "outputs": [],
   "source": [
    "#tests"
   ]
  },
  {
   "cell_type": "markdown",
   "metadata": {},
   "source": [
    "# Exercice 9 : Algorithme d'euclide\n",
    "Compléter la fonction python `PGCD()` ci-dessous pour qu'elle renvoi le pgcd avec la méthode d'Euclide de deux nombres entier $a$ et $b$ avec $a>b>0$. Testez votre fonction."
   ]
  },
  {
   "cell_type": "code",
   "execution_count": null,
   "metadata": {},
   "outputs": [],
   "source": [
    "def PGCD(a,b):\n",
    "    \"\"\"\n",
    "    In:\n",
    "    out:\n",
    "    \"\"\"\n",
    "    while b!=0:\n",
    "        r=a%b\n",
    "        a=...\n",
    "        b=...\n",
    "    return ..."
   ]
  },
  {
   "cell_type": "code",
   "execution_count": null,
   "metadata": {},
   "outputs": [],
   "source": [
    "print (PGCD(756,98))\n",
    "#normalement 14\n",
    "print(PGCD(2020,663))\n",
    "#normalement 1\n",
    "#Faire d'autres tests\n",
    "#.....\n"
   ]
  },
  {
   "cell_type": "markdown",
   "metadata": {},
   "source": [
    "Ce programme fonctionne-t-il lorsque $0\\leq a\\leq b$ ? Expliquer pourquoi ."
   ]
  },
  {
   "cell_type": "markdown",
   "metadata": {},
   "source": [
    "Mettre la réponse ici :\n",
    "\n",
    "    ----------------------------------------------------\n",
    "    \n",
    "    \n",
    "    ----------------------------------------------------"
   ]
  }
 ],
 "metadata": {
  "kernelspec": {
   "display_name": "Python 3",
   "language": "python",
   "name": "python3"
  },
  "language_info": {
   "codemirror_mode": {
    "name": "ipython",
    "version": 3
   },
   "file_extension": ".py",
   "mimetype": "text/x-python",
   "name": "python",
   "nbconvert_exporter": "python",
   "pygments_lexer": "ipython3",
   "version": "3.6.9"
  }
 },
 "nbformat": 4,
 "nbformat_minor": 4
}
