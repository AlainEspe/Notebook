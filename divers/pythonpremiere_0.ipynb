{
 "cells": [
  {
   "cell_type": "markdown",
   "metadata": {},
   "source": [
    "# Découverte\n",
    "\n",
    "Vous travaillez ici sur un document interactif appellé un \"Notebook\" Python. Ce document peut contenir du texte, mais aussi des cellules avec du code qui peut être interprété en Python (à gauche de ces cellules est écrit \"Entrée\" ou \"In\" parfois).\n",
    "\n",
    "Pour exécuter une cellule Python, il suffit de la sélectionner, puis, au choix, de :\n",
    "\n",
    "* Cliquer sur le bouton Exécuter de la barre d'outil\n",
    "* Aller dans le menu \"Cellule\", puis cliquer sur \"Exécuter les cellules\"\n",
    "* D'effectuer au clavier la combinaison de touches Shift+Enter (permet de passer à la cellule suivante) ou Ctrl+Enter (on ne change pas de cellule)"
   ]
  },
  {
   "cell_type": "markdown",
   "metadata": {},
   "source": [
    "La cellule suivante contient du code en python, il suffit d'utiliser une des trois techniques vues au-dessus pour l'exécuter.\n",
    "\n",
    "La réponse de l'interpréteur python (le logiciel qui lit et exécute le code) s'affiche alors en dessous."
   ]
  },
  {
   "cell_type": "code",
   "execution_count": null,
   "metadata": {},
   "outputs": [],
   "source": [
    "print('Bravo, vous avez exécuter votre premier script en python sur un notebook')"
   ]
  },
  {
   "cell_type": "markdown",
   "metadata": {},
   "source": [
    "# Introduction aux algorithmes et à la programmation\n",
    "\n",
    "## Définitions\n",
    "\n",
    "**Définition** \n",
    "Un algorithme est une suite d'instructions à réaliser dans l'ordre indiqué.\n",
    "\n",
    "Un algorithme peut être écrit en langage naturel, comme l'algorithme d'Euclide permettant de déterminer le PGCD de deux nombres.\n",
    "\n",
    "Il peut également être écrit dans un langage informatique, une sorte de langage intermédiaire entre la langue que nous utilisons et le langage binaire, fait de 0 et de 1 de la machine. \n",
    "\n",
    "Il existe de nombreux langages informatiques, le C++, le pascal, le python... C'est ce dernier que nous utiliserons."
   ]
  },
  {
   "cell_type": "markdown",
   "metadata": {},
   "source": [
    "**Exemple** Voici un algorithme écrit de deux façons :\n",
    "\n",
    "|**En langage naturel**|\n",
    "| :-------------------- |\n",
    "|Saisir la valeur de $x$|\n",
    "|$y$ prend la valeur $x^2$|\n",
    "|$z$ prend la valeur $x\\times 3$|\n",
    "|Si $y\\leqslant z$ : |\n",
    "|Alors : Afficher \"Le nombre le plus grand est \"|\n",
    "|&nbsp;&nbsp;&nbsp;&nbsp;&nbsp;&nbsp;&nbsp;&nbsp;&nbsp;&nbsp;&nbsp;&nbsp;Afficher $z$ |\n",
    "|Sinon : Afficher \"Le nombre le plus grand est \"|\n",
    "|&nbsp;&nbsp;&nbsp;&nbsp;&nbsp;&nbsp;&nbsp;&nbsp;&nbsp;&nbsp;&nbsp;&nbsp;Afficher $y$|"
   ]
  },
  {
   "cell_type": "markdown",
   "metadata": {},
   "source": [
    "**En python**\n",
    "\n",
    "`x=float(input(\"x=\"))\n",
    "y=x**2\n",
    "z=x*3\n",
    "if y<=z:\n",
    "    print(\"Le nombre le plus grand est \",z)\n",
    "else:\n",
    "    print(\"Le nombre le plus grand est \",y)`\n",
    "\n",
    "\n",
    "Exécutons ce code dans la fenêtre suivante :"
   ]
  },
  {
   "cell_type": "code",
   "execution_count": null,
   "metadata": {},
   "outputs": [],
   "source": [
    "x=float(input(\"x=\"))\n",
    "y=x**2\n",
    "z=x*3\n",
    "if y<=z:\n",
    "    print(\"Le nombre le plus grand est \",z)\n",
    "else:\n",
    "    print(\"Le nombre le plus grand est \",y)"
   ]
  },
  {
   "cell_type": "markdown",
   "metadata": {},
   "source": [
    "**Définition:** La programmation est l'écriture d'un texte, appelé script, destiné à être lu par une machine. \n",
    "Dans l'exemple précédent, le second programme était un script.\n",
    "\n",
    "Les scripts que nous allons écrire seront donc lus, interprétés et exécutés dans les cellules notée \"Entrée\"\n",
    "\n",
    "On peut également utiliser des logiciels, comme Pyzo ou Spyder."
   ]
  },
  {
   "cell_type": "markdown",
   "metadata": {},
   "source": [
    "## Variables\n",
    "\n",
    "Affecter une valeur à une variable, c'est \"stocker\" cette valeur dans la mémoire de la machine. \n",
    "\n",
    "La mémoire d'une machine est un ensemble de cases et chaque variable définie correspond à une case.\n",
    "\n",
    "\n",
    "**Exemple** En langage naturel, on dit \"affecter à $a$ la valeur $5$\", avec Python, `a=5` \n",
    "\n",
    "Pour afficher un résultat, il faut le demander à la machine en écrivant : `print(...)`"
   ]
  },
  {
   "cell_type": "code",
   "execution_count": null,
   "metadata": {},
   "outputs": [],
   "source": [
    "a=5\n",
    "print(2*a)"
   ]
  },
  {
   "cell_type": "markdown",
   "metadata": {},
   "source": [
    "Ecrire ci-dessous un script permettant d'afficher $a^{25}$"
   ]
  },
  {
   "cell_type": "code",
   "execution_count": null,
   "metadata": {},
   "outputs": [],
   "source": []
  },
  {
   "cell_type": "markdown",
   "metadata": {},
   "source": [
    "**Remarque :** Un variable en informatique n'est pas toujours une lettre comme en mathématiques. \n",
    "\n",
    "Le script suivant, à compléter par vos soins, permet de calculer l'aire d'un rectangle de longueur 5 et de largeur 3 : \n"
   ]
  },
  {
   "cell_type": "code",
   "execution_count": null,
   "metadata": {},
   "outputs": [],
   "source": [
    "#Les '#' prmettent d'écrire des commentaires qui ne sont pas lus par l'interpréteur\n",
    "# Remplacer les ..... par la formule qui convient\n",
    "longueur = 5\n",
    "largeur = 3\n",
    "Aire = .....\n",
    "print(Aire)"
   ]
  },
  {
   "cell_type": "markdown",
   "metadata": {},
   "source": [
    "**Exercice 1** Dans les trois scripts suivants, déterminer quelle valeur contient la variable `c` à la fin de ces scripts  sans les exécuter : \n",
    "\n",
    "`#Script 1\n",
    "a=8\n",
    "b=a+2\n",
    "c=2*b+a`\n",
    "\n",
    "\n",
    "\n",
    "`#Script 2\n",
    "a=8\n",
    "b=a-3\n",
    "a=5\n",
    "c=a+b`\n",
    "\n",
    "\n",
    "`#Script 3\n",
    "a=8\n",
    "a=2*a\n",
    "a=a-5\n",
    "c=2*a`"
   ]
  },
  {
   "cell_type": "markdown",
   "metadata": {},
   "source": [
    "# Calculs et premiers algorithmes\n",
    "\n",
    "## Calculs\n",
    "\n",
    "On peut taper des calculs directement dans les cellules \"Entrée\" :\n",
    "\n",
    "Taper et afficher le calcul suivant : `2+3`"
   ]
  },
  {
   "cell_type": "code",
   "execution_count": null,
   "metadata": {},
   "outputs": [],
   "source": []
  },
  {
   "cell_type": "markdown",
   "metadata": {},
   "source": [
    "Taper et afficher le calcul suivant : `2.3-1`"
   ]
  },
  {
   "cell_type": "code",
   "execution_count": null,
   "metadata": {},
   "outputs": [],
   "source": []
  },
  {
   "cell_type": "markdown",
   "metadata": {},
   "source": [
    "Taper et afficher le calcul suivant : `14/3`"
   ]
  },
  {
   "cell_type": "code",
   "execution_count": null,
   "metadata": {},
   "outputs": [],
   "source": []
  },
  {
   "cell_type": "markdown",
   "metadata": {},
   "source": [
    "Taper et afficher le calcul suivant : `14//3`"
   ]
  },
  {
   "cell_type": "code",
   "execution_count": null,
   "metadata": {},
   "outputs": [],
   "source": []
  },
  {
   "cell_type": "markdown",
   "metadata": {},
   "source": [
    "Taper et afficher le calcul suivant : `14%3`"
   ]
  },
  {
   "cell_type": "code",
   "execution_count": null,
   "metadata": {},
   "outputs": [],
   "source": []
  },
  {
   "cell_type": "markdown",
   "metadata": {},
   "source": [
    "Taper et afficher le calcul suivant : `2**10`"
   ]
  },
  {
   "cell_type": "code",
   "execution_count": null,
   "metadata": {},
   "outputs": [],
   "source": []
  },
  {
   "cell_type": "markdown",
   "metadata": {},
   "source": [
    "**Exercice 2** Ces commandes correspondent à des opérations connues, retrouvez-les !"
   ]
  },
  {
   "cell_type": "markdown",
   "metadata": {},
   "source": [
    "## Types de variables\n",
    "\n",
    "Voici deux scripts, vous allez les saisir puis les exécuter dans les cellules en dessous en notant les réponses.\n",
    "\n",
    "`a=30\n",
    "b=2\n",
    "c=a*b\n",
    "print(c)`\n",
    "\n",
    "`a=30\n",
    "b=2.0\n",
    "c=a*b\n",
    "print(c)`"
   ]
  },
  {
   "cell_type": "code",
   "execution_count": null,
   "metadata": {},
   "outputs": [],
   "source": []
  },
  {
   "cell_type": "code",
   "execution_count": null,
   "metadata": {},
   "outputs": [],
   "source": []
  },
  {
   "cell_type": "markdown",
   "metadata": {},
   "source": [
    "**Exercice 3** Quelle(s) différence(s) voyez-vous ?"
   ]
  },
  {
   "cell_type": "markdown",
   "metadata": {},
   "source": [
    "Dans le premier algorithme, `a` et `b` sont des entiers (integers en anglais) donc leur produit, `c`, est également un entier. \n",
    "\n",
    "Par contre, dans le second algorithme, `a` est un entier mais `b` est un nombre décimal, un nombre à virgule flottante en informatique (float en anglais), leur produit est donc un nombre à virgule flottante, même si la partie décimale est nulle.\n",
    "\n",
    "Il existe de nombreux types en langage python, nous ne travaillerons qu'avec les entiers (integers), les nombres à virgule flottante (float), les chaînes de caractères (character string, ou juste string) et les listes (list)."
   ]
  },
  {
   "cell_type": "markdown",
   "metadata": {},
   "source": [
    "### Les différents types"
   ]
  },
  {
   "cell_type": "markdown",
   "metadata": {},
   "source": [
    "**Les entiers :**\n",
    "\n",
    "Python est très précis pour le calcul sur les entiers, il est par exemple capable de calculer $2^{1000}$ de façon exacte.\n",
    "Le type entier se nomme `int`."
   ]
  },
  {
   "cell_type": "markdown",
   "metadata": {},
   "source": [
    "**Les nombres à virgules flottantes :**\n",
    "\n",
    "Contrairement aux calculs sur les entiers, les calculs sur les nombres à virgules flottantes (on parlera souvent de \"flottants\" par abus de langage) sont beaucoup moins précis, limités à 16 chiffres significatifs. Par contre, ils sont beaucoup plus rapide et beaucoup moins consommateurs de mémoire.\n",
    "Le type entier se nomme `float`."
   ]
  },
  {
   "cell_type": "markdown",
   "metadata": {},
   "source": [
    "**Les chaînes de caractères :**\n",
    "\n",
    "Une chaîne de caractère est une suite de caractères (lettres, chiffres, symboles) rangés dans un ordre donné. On note une chaîne de caractère entre guillemets simples : ` '  ' ` ou doubles ` \"  \" `."
   ]
  },
  {
   "cell_type": "markdown",
   "metadata": {},
   "source": [
    "**Les listes :**\n",
    "\n",
    "Nous travaillerons sur ces listes dans un second chapitre.\n",
    "\n",
    "Nous utiliserons aussi parfois d'autres types, les Booléens (Boolean) par exemple ou les N-uplet (tuple)."
   ]
  },
  {
   "cell_type": "markdown",
   "metadata": {},
   "source": [
    "**Remarque :** Pour identifier le type d'une variable, on utilise la fonction `type()`, cette fonction renvoie `<class 'float'>` si la variable est un nombre à virgule flottante."
   ]
  },
  {
   "cell_type": "markdown",
   "metadata": {},
   "source": [
    "**Exercice 4** Le programme d'une application de course à pieds comporte entre autres, trois variables, `nom` , `distance` et `nombre_d_activites`. La distance est arrondie à 0,1 km et le nombre d'activités correspond au nombre de courses lors du dernier mois.\n",
    "\n",
    "Donner un type possible pour chacune de ces variables."
   ]
  },
  {
   "cell_type": "markdown",
   "metadata": {},
   "source": [
    "**Exercice 5** Ci-dessous sont saisient quatre scripts. \n",
    "\n",
    "Avant d'exécuter ces scripts, tentez de deviner le type de chaque variable et ce qu'ils afficheront.\n",
    "\n",
    "Une fois les scripts exécutés, déterminer l'effet des fonctions `float` , `int` et `str`."
   ]
  },
  {
   "cell_type": "code",
   "execution_count": null,
   "metadata": {},
   "outputs": [],
   "source": [
    "#Scritp 1\n",
    "a=3\n",
    "b=a*2\n",
    "b=float(b)\n",
    "print(a)\n",
    "print(b)"
   ]
  },
  {
   "cell_type": "code",
   "execution_count": null,
   "metadata": {},
   "outputs": [],
   "source": [
    "#Scritp 2\n",
    "a=3\n",
    "b=a*2.5\n",
    "b=int(b)\n",
    "print(a)\n",
    "print(b)"
   ]
  },
  {
   "cell_type": "code",
   "execution_count": null,
   "metadata": {},
   "outputs": [],
   "source": [
    "#Scritp 3\n",
    "a=\"30\"\n",
    "print(a)\n",
    "a=a*2\n",
    "print(a)"
   ]
  },
  {
   "cell_type": "code",
   "execution_count": null,
   "metadata": {},
   "outputs": [],
   "source": [
    "#Scritp 4\n",
    "a=32\n",
    "a=str(a)\n",
    "b=a*2\n",
    "print(b)"
   ]
  },
  {
   "cell_type": "markdown",
   "metadata": {},
   "source": [
    "## Entrées et sorties\n",
    "\n",
    "En informatique, on appelle entrées les informations données par l'utilisateur (celui qui se sert de l'algorithme, pas celui qui l'écrit) à la machine. \n",
    "\n",
    "Les sorties sont les informations affichées par l'algorithme. "
   ]
  },
  {
   "cell_type": "markdown",
   "metadata": {},
   "source": [
    "**Exemple** Dans l'algorithme ci-dessous, l'utilisateur donne en entrée son année de naissance et l'algorithme donne en sortie son age cette année.\n",
    "\n",
    "|Algorithme :|\n",
    "|:------------|\n",
    "|annee=int(input(\"En quelle année es-tu né ? \"))|\n",
    "|age=2018-annee|\n",
    "|print(\"Tu es dans l'année de tes \",age,\"ans.\")|"
   ]
  },
  {
   "cell_type": "markdown",
   "metadata": {},
   "source": [
    "Les entrées à saisir par l'utilisateur sont de la forme : \n",
    "\n",
    "`variable=type_de_variable(input(\"Indications à destination de l'utilisateur\"))`\n",
    "\n",
    "Évidemment, `type_de_variable` est à remplacer par `float` si la variable est un nombre décimal et `int` si la variable est un entier, etc.\n",
    "\n",
    " \n",
    "Les sorties sont les `print(...)`, ou les `return` dans les fonctions. Ils indiquent à l'algorithme qu'il doit écrire (imprimer à l'écran) ces informations sur la console pour le `print` ou renvoyer une donnée pour le `return`."
   ]
  },
  {
   "cell_type": "markdown",
   "metadata": {},
   "source": [
    "**Exercice 6** \n",
    "1. Je suis né en 1997, quel age aurai-je lors de la prochaine élection présidentielle en France en 2022 ?\n",
    "2. Le site internet d'un parti politique a besoin d'un script avec en entrée l'année de naissance du visiteur du site et donnant en sortie l'age du visiteur en 2022. Écrire un algorithme qui conviendrait dans le cadre ci-dessous\n",
    "3. Le parti politique aimerait savoir si le visiteur aura le droit de voter en 2022. Modifier votre algorithme pour qu'il affiche \"Vous pourrez voter en 2022\" ou \"Vous ne pourrez pas voter en 2022\". \n",
    "\n",
    "_Pour la troisième questions, on pourra s'inspirer du deuzième bloc de code de ce notebook si nécessaire._"
   ]
  },
  {
   "cell_type": "code",
   "execution_count": null,
   "metadata": {},
   "outputs": [],
   "source": []
  },
  {
   "cell_type": "markdown",
   "metadata": {},
   "source": [
    "\n",
    "# Instruction conditionnelle\n",
    "\n",
    "Lors du dernier exercice, vous avez eu besoin de donner une réponse en fonction d'une condition, nous allons donc voir comment utiliser ces instructions conditionnelles. \n",
    "\n",
    "L'instruction conditionnelle correspond à la structure \"Si ... Alors ... Sinon ...\". \n",
    "\n",
    "On teste une condition, par exemple $age\\geq 18$ et le résultat de ce test détermine la suite de l'exécution du script. \n",
    "\n",
    "Il est important de noté que le \"Sinon ...\" n'est pas obligatoire. Dans ce cas, si la condition est vérifiée, vous passez au \"Alors ...\" et sinon, vous ne faites rien !\n",
    "\n",
    "Une fois cette instruction conditionnelle passée, l'algorithme se poursuit normalement jusqu'à sa dernière ligne."
   ]
  },
  {
   "cell_type": "markdown",
   "metadata": {},
   "source": [
    "**Exemple** L'algorithme ci-dessous, écrit en langage naturel permet de simuler un jeu dans lequel on lance un dé équilibré à six faces. \n",
    "\n",
    "Une fois le dé jeté, si la condition est vérifiée, l'algorithme affiche \"Vous avez gagné\", sinon il affiche \"Vous avez perdu\". \n",
    "\n",
    "Enfin, quoiqu'il arrive, l'algorithme affiche \"Merci d'avoir joué !\"\n",
    "\n",
    "\n",
    "|Algorithme :|\n",
    "|:------------|\n",
    "|$x \\leftarrow$ entier aléatoire entre 1 et 6|\n",
    "|Si $x=6$|\n",
    "|&nbsp;&nbsp;&nbsp;&nbsp;&nbsp;&nbsp;&nbsp;&nbsp;&nbsp;Afficher(\"Vous avez gagné.\")|\n",
    "|Sinon|\n",
    "|&nbsp;&nbsp;&nbsp;&nbsp;&nbsp;&nbsp;&nbsp;&nbsp;&nbsp;Afficher(\"Vous avez perdu.\")|\n",
    "|Fin si|\n",
    "|Afficher(\"Merci d'avoir joué !\")|\n"
   ]
  },
  {
   "cell_type": "markdown",
   "metadata": {},
   "source": [
    "En langage python, les instructions conditionnelles s'écrivent de la façon suivante : \n",
    "\n",
    "`if condition:\n",
    "    action1\n",
    "    action2\n",
    "    ...\n",
    "else:\n",
    "    action3\n",
    "    action4\n",
    "    ...`\n",
    "\n",
    "\n",
    "\n",
    "Si la condition est vérifiée,\n",
    "\n",
    "&nbsp;&nbsp;&nbsp;&nbsp;&nbsp;&nbsp;&nbsp;&nbsp;&nbsp;l'action 1 se réalise,\n",
    "\n",
    "&nbsp;&nbsp;&nbsp;&nbsp;&nbsp;&nbsp;&nbsp;&nbsp;&nbsp;l'action 2 se réalise,\n",
    "\n",
    "&nbsp;&nbsp;&nbsp;&nbsp;&nbsp;&nbsp;&nbsp;&nbsp;&nbsp;et ainsi de suite\n",
    "    \n",
    "Sinon, si la condition n'est pas vérifiée, \n",
    "\n",
    "&nbsp;&nbsp;&nbsp;&nbsp;&nbsp;&nbsp;&nbsp;&nbsp;&nbsp;l'action 3 se réalise,\n",
    "\n",
    "&nbsp;&nbsp;&nbsp;&nbsp;&nbsp;&nbsp;&nbsp;&nbsp;&nbsp;l'action 4 se réalise, \n",
    "\n",
    "&nbsp;&nbsp;&nbsp;&nbsp;&nbsp;&nbsp;&nbsp;&nbsp;&nbsp;et ainsi de suite.\n",
    "    \n",
    "\n",
    "\n",
    "\n",
    "L'écart entre le début de la première ligne et le début de la seconde s'appelle une indentation, elle s'obtient automatiquement dans un éditeur ou grâce à la touche \"tabulation\" du clavier (la touche avec deux flèches, l'une allant de droite à gauche et en dessous, l'autre allant de gauche à droite).\n",
    "\n",
    "La fin de l'indentation marque la fin de l'instruction conditionnelle.\n",
    "\n",
    "Ainsi, l'algorithme de l'exemple devient : \n",
    "\n",
    "`from random import randint\n",
    "x=randint(1,6)\n",
    "if x==6:\n",
    "    print(\"Vous avez gagné\")\n",
    "else:\n",
    "    print(\"Vous avez perdu\")\n",
    "print(\"Merci d'avoir joué !\")`\n",
    "\n",
    "\n",
    "**Remarque** Le test d'égalité, est-ce que $x$ est égal à 6, s'écrit `x==6` en python. Le signe `=` est réservé à l'affectation.\n"
   ]
  },
  {
   "cell_type": "markdown",
   "metadata": {},
   "source": [
    "**Exercice 7** Un cinéma pratique un tarif réduit pour les personnes de moins de 18 ans, 5€ la séance au lieu de 9€ pour les adultes. Le gérant de ce cinéma souhaite créer un script avec en entrée l'age du client et en sortie le prix de la place pour faire fonctionner une machine automatique, plus économique selon lui qu'un guichet. \n",
    "\n",
    "1. Proposez un script correspondant à cette demande dans le cadre sous l'exercice.\n",
    "2. Après un an d'exploitation, le gérant décide de créer un tarif intermédiaire de 7€ pour attirer davantage de jeunes adultes de moins de 26 ans. Proposer un nouveau script répondant à cette exigence dans le secon cadre."
   ]
  },
  {
   "cell_type": "code",
   "execution_count": null,
   "metadata": {},
   "outputs": [],
   "source": []
  },
  {
   "cell_type": "code",
   "execution_count": null,
   "metadata": {},
   "outputs": [],
   "source": []
  },
  {
   "cell_type": "markdown",
   "metadata": {},
   "source": [
    "**Exercice 8** Un élève cherche à savoir si $x^2$ est plus grand que $3x+4$ pour certaines valeurs de $x$ qu'il donnera en entrée. Ecrire un script qui permet cela dans le cadre ci-dessous."
   ]
  },
  {
   "cell_type": "code",
   "execution_count": null,
   "metadata": {},
   "outputs": [],
   "source": []
  },
  {
   "cell_type": "markdown",
   "metadata": {},
   "source": [
    "# Boucles\n",
    "\n",
    "## Boucle bornée\n",
    "\n",
    "**Définition** Lorsque l'on veut exécuter un nombre déterminé de fois un même bloc d'instructions, on utilise une **boucle bornée**, aussi appelée **boucle Pour**.\n",
    "Le nombre de répétition est compté par une variable compteur que l'on peut utiliser dans les instructions à répéter."
   ]
  },
  {
   "cell_type": "markdown",
   "metadata": {},
   "source": [
    "**Exemple** On a placé 5000€ sur un compte bancaire rémunéré à 2,5%.\n",
    "L'algorithme suivant permet de calculer le montant disponible sur ce compte après 5 ans puis, quand cela est fait, affiche  \"Boucle terminée\" :\n",
    "\n",
    "Faire tourner l'algorithme ci-dessous \"débranché\", c'est-à-dire sans le saisir. On pourra utiliser un tableau.\n",
    "\n",
    "|Algorithme :|\n",
    "|:-----------|\n",
    "|compte=5000|\n",
    "|Pour $i$ allant de 1 à 5|\n",
    "|&nbsp;&nbsp;&nbsp;&nbsp;&nbsp;&nbsp;&nbsp;&nbsp;&nbsp;compte = compte $\\times$ 1,025|\n",
    "|&nbsp;&nbsp;&nbsp;&nbsp;&nbsp;&nbsp;&nbsp;&nbsp;&nbsp;Afficher compte |\n",
    "|Fin pour|\n",
    "|Afficher \"Boucle terminée\"|"
   ]
  },
  {
   "cell_type": "markdown",
   "metadata": {},
   "source": [
    "**Remarque** Dans la boucle précédente, la variable $i$ est le compteur. On dit qu'à chaque passage dans la boucle, $i$ est incrémenté de 1 c'est-à-dire augmente de 1."
   ]
  },
  {
   "cell_type": "markdown",
   "metadata": {},
   "source": [
    "En langage python, une boucle bornée se rédige ainsi :\n",
    "\n",
    "\n",
    "`for k in range(a,b):\n",
    "    action1\n",
    "    action2\n",
    "    ...`\n",
    "\n",
    "Pour k allant de a à b-1,\n",
    "\n",
    "&nbsp;&nbsp;&nbsp;&nbsp;&nbsp;&nbsp;&nbsp;&nbsp;&nbsp;L'action 1 se réalise,\n",
    "\n",
    "&nbsp;&nbsp;&nbsp;&nbsp;&nbsp;&nbsp;&nbsp;&nbsp;&nbsp;L'action 2 se réalise,\n",
    "\n",
    "&nbsp;&nbsp;&nbsp;&nbsp;&nbsp;&nbsp;&nbsp;&nbsp;&nbsp;Et ainsi de suite."
   ]
  },
  {
   "cell_type": "markdown",
   "metadata": {},
   "source": [
    "**Exercice 9** Traduire en langage python l'algorithme de l'exemple précédent dans le cadre ci-dessous "
   ]
  },
  {
   "cell_type": "code",
   "execution_count": null,
   "metadata": {},
   "outputs": [],
   "source": []
  },
  {
   "cell_type": "markdown",
   "metadata": {},
   "source": [
    "## Boucle conditionnelle \n",
    "\n",
    "**Définition** Lorsque l'on veut répéter un même bloc d'instructions tant qu'une certaine condition est vérifiée, on utilise une **boucle conditionnelle**, aussi appelée **boucle Tant que**."
   ]
  },
  {
   "cell_type": "markdown",
   "metadata": {},
   "source": [
    "**Exercice 10** Reprenons l'exemple précédent. On souhaite savoir au bout de combien d'année le montant du compte en banque atteindra 6000€ .\n",
    "\n",
    "|Algorithme :|\n",
    "|:-----------|\n",
    "|compte=5000|\n",
    "|Tant que compte < 6000|\n",
    "|&nbsp;&nbsp;&nbsp;&nbsp;&nbsp;&nbsp;&nbsp;&nbsp;&nbsp;compte = compte $\\times$ 1,025|\n",
    "|Fin tant que|\n",
    "|Afficher compte|\n",
    "\n",
    "\n",
    "Faire tourner cet algorithme débranché."
   ]
  },
  {
   "cell_type": "markdown",
   "metadata": {},
   "source": [
    "**Remarque**\n",
    "* Comme la condition de la boucle Tant que de l'exemple précédent porte sur la variable compte, cette variable doit être initialisée préalablement (c'est-à-dire qu'il faut lui donner une valeur) : ici, on l'a initialisé à 5000, le montant initial du compte bancaire.\n",
    "* Dans une boucle tant que, il n'y a pas de compteur de passage dans la boucle mais l'on peut facilement en créer un en l'initialisant à 0 avant la boucle et en l'incrémentant de 1 à chaque passage dans la boucle."
   ]
  },
  {
   "cell_type": "markdown",
   "metadata": {},
   "source": [
    "En langage python, une boucle conditionnelle se rédige ainsi : \n",
    "\n",
    "`while condition :\n",
    "    action1\n",
    "    action2\n",
    "    ...`\n",
    "\n",
    "\n",
    "Tant que la condition est vérifiés,\n",
    "\n",
    "&nbsp;&nbsp;&nbsp;&nbsp;&nbsp;&nbsp;&nbsp;&nbsp;&nbsp;L'action 1 se réalise,\n",
    "\n",
    "&nbsp;&nbsp;&nbsp;&nbsp;&nbsp;&nbsp;&nbsp;&nbsp;&nbsp;L'action 2 se réalise,\n",
    "\n",
    "&nbsp;&nbsp;&nbsp;&nbsp;&nbsp;&nbsp;&nbsp;&nbsp;&nbsp;Et ainsi de suite."
   ]
  },
  {
   "cell_type": "markdown",
   "metadata": {},
   "source": [
    "**Exercice 11** Traduire en langage python l'algorithme de l'exercice 10"
   ]
  },
  {
   "cell_type": "code",
   "execution_count": null,
   "metadata": {},
   "outputs": [],
   "source": []
  },
  {
   "cell_type": "markdown",
   "metadata": {},
   "source": [
    "# Fonctions\n",
    "\n",
    "\n",
    "**Définition** Pour des raisons de lisibilité ou pour éviter des répétitions d'instructions, il peut être utile de définir une **fonction** c'est-à-dire un bloc d'instructions qui ne sera exécuté que s'il est appelé (éventuellement plusieurs fois).\n",
    "\n",
    "Une fonction possède généralement des **paramètres** et retourne une **valeur de retour** (mais pas systématiquement)."
   ]
  },
  {
   "cell_type": "markdown",
   "metadata": {},
   "source": [
    "**Exemple** Dans un triangle $ABC$ rectangle en $A$, la longueur de l'hypoténuse est donnée, grâce au théorème de Pythagore par : $BC=\\sqrt{AB^2+AC^2}$.\n",
    "\n",
    "On peut donc définir une fonction : \n",
    "\n",
    "|Fonction : |\n",
    "|:----------|\n",
    "|Fonction pythagore(cote1,cote2)|\n",
    "|&nbsp;&nbsp;&nbsp;&nbsp;&nbsp;&nbsp;&nbsp;&nbsp;&nbsp;Retourner $\\sqrt{\\text{cote1}^2+\\text{cote2}^2}$|\n",
    "\n",
    "Cet algorithme est composé des variables cote1 et cote2 et retourne (ou renvoie, ou donne) la valeur de la longueur de l'hypoténuse.\n",
    "\n",
    "Ainsi, lorsqu'on tape pythagore(3,4), la fonction nous renvoie 5."
   ]
  },
  {
   "cell_type": "markdown",
   "metadata": {},
   "source": [
    "**Remarque** Une fonction peut ne pas retourner de valeur (on parle alors de procédure), par exemple si c'est une fonction qui réalise un affichage."
   ]
  },
  {
   "cell_type": "markdown",
   "metadata": {},
   "source": [
    "**Exercice 12**\n",
    "\n",
    "|Fonction :|\n",
    "|:---------|\n",
    "|fonction bienvenue(nom)|\n",
    "|&nbsp;&nbsp;&nbsp;&nbsp;&nbsp;&nbsp;&nbsp;&nbsp;&nbsp;Afficher \"Bonjour \" sans retour à la ligne|\n",
    "|&nbsp;&nbsp;&nbsp;&nbsp;&nbsp;&nbsp;&nbsp;&nbsp;&nbsp;Afficher nom|\n",
    "\n",
    "Qu'affiche cette fonction ?"
   ]
  },
  {
   "cell_type": "markdown",
   "metadata": {},
   "source": [
    "En langage python, une fonction se définit ainsi : \n",
    "`def nom_de_la_fonction (var1, var2, ... ) :\n",
    "    action1\n",
    "    action2\n",
    "    ...`\n",
    "\n",
    "définition de la fonction `nom_de_la_fonction` avec pour variables `var1`, `var2` etc.\n",
    "\n",
    "&nbsp;&nbsp;&nbsp;&nbsp;&nbsp;&nbsp;&nbsp;&nbsp;&nbsp;L'action 1 se réalise,\n",
    "\n",
    "&nbsp;&nbsp;&nbsp;&nbsp;&nbsp;&nbsp;&nbsp;&nbsp;&nbsp;L'action 2 se réalise,\n",
    "\n",
    "&nbsp;&nbsp;&nbsp;&nbsp;&nbsp;&nbsp;&nbsp;&nbsp;&nbsp;Et ainsi de suite."
   ]
  },
  {
   "cell_type": "markdown",
   "metadata": {},
   "source": [
    "**Exercice 13** Traduire en langage python l'algorithme de l'exercice 12."
   ]
  },
  {
   "cell_type": "code",
   "execution_count": null,
   "metadata": {},
   "outputs": [],
   "source": []
  }
 ],
 "metadata": {
  "kernelspec": {
   "display_name": "Python 3",
   "language": "python",
   "name": "python3"
  },
  "language_info": {
   "codemirror_mode": {
    "name": "ipython",
    "version": 3
   },
   "file_extension": ".py",
   "mimetype": "text/x-python",
   "name": "python",
   "nbconvert_exporter": "python",
   "pygments_lexer": "ipython3",
   "version": "3.6.9"
  }
 },
 "nbformat": 4,
 "nbformat_minor": 4
}
