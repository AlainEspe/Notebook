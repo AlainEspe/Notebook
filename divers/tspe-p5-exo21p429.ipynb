{
 "cells": [
  {
   "cell_type": "code",
   "execution_count": null,
   "metadata": {},
   "outputs": [],
   "source": [
    "# ====================================================================\n",
    "# Chapitre 18 Exercice 21                                       ENONCE\n",
    "# ====================================================================\n",
    "from matplotlib import pyplot as plt\n",
    "from math import pi\n",
    "import numpy as np\n",
    "\n",
    "T=1 # en milliseconde\n",
    "t=np.linspace(0,4,400)\n",
    "A1=float(input('Amplitude du signal 1 (en mV) : A1 ='))\n",
    "A2=float(input('Amplitude du signal 2 (en mV): A2 ='))\n",
    "phi=eval(input('Phase à l\\'origine (en rad): phi ='))\n",
    "\n",
    "def s(A,T,phi):\n",
    "    return A*np.cos(2*pi*t/T+phi)\n",
    "\n",
    "plt.plot(t,s(A1,T,0),'--',lw=1.2,label='$s_{1}(t)$')\n",
    "plt.plot(t,s(A2,T,phi),'--',lw=1.2,label='$s_{2}(t)$')\n",
    "plt.plot(t,s(A1,T,0)+s(A2,T,phi),lw=2.5,label='$s_{1}(t)+ s_{2}(t)$')\n",
    "\n",
    "plt.title('Somme de deux signaux sinusoïdaux')\n",
    "plt.xlim(0,4)\n",
    "plt.ylim(-1.5*(A1+A2),1.5*(A1+A2))\n",
    "plt.xlabel('$t$ (en s)')\n",
    "plt.ylabel('Elongation (en mV)')\n",
    "plt.grid(which='both',ls='--')\n",
    "plt.legend(loc=9, ncol=3)\n",
    "plt.show()"
   ]
  }
 ],
 "metadata": {
  "kernelspec": {
   "display_name": "Python 3",
   "language": "python",
   "name": "python3"
  },
  "language_info": {
   "codemirror_mode": {
    "name": "ipython",
    "version": 3
   },
   "file_extension": ".py",
   "mimetype": "text/x-python",
   "name": "python",
   "nbconvert_exporter": "python",
   "pygments_lexer": "ipython3",
   "version": "3.6.9"
  }
 },
 "nbformat": 4,
 "nbformat_minor": 4
}
