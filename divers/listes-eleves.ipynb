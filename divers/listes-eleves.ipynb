{
 "cells": [
  {
   "cell_type": "markdown",
   "metadata": {},
   "source": [
    "# <center><span style=\"color: red\"><u>Les listes</u></span>  </center>\n",
    "\n",
    "\n",
    "# <span style=\"color: green\"><u>1.Définition</u></span> \n",
    "\n",
    "Les listes font partie de ce qu'on appelle les *données composites* (nous verrons plus tard les *tuples* et les *dictionnaires*). Elles permettent de regrouper de manière structurée des ensembles de valeurs.\n",
    "On les appelle *listes* en Python, ou bien *tableaux* de manière plus générale.\n",
    "\n",
    "\n",
    "**Notation :** dans une liste, les éléments sont séparés par des **virgules**, et l'ensemble est délimité par des **crochets**."
   ]
  },
  {
   "cell_type": "code",
   "execution_count": null,
   "metadata": {},
   "outputs": [],
   "source": [
    "from metakernel import register_ipython_magics\n",
    "register_ipython_magics()"
   ]
  },
  {
   "cell_type": "code",
   "execution_count": null,
   "metadata": {},
   "outputs": [],
   "source": [
    "%%tutor\n",
    "ma_premiere_liste = [1, \"ok\", True]"
   ]
  },
  {
   "cell_type": "markdown",
   "metadata": {},
   "source": [
    "Même si cela n'a ici un grand intérêt, les éléments d'une liste peuvent donc être de types différents : ici, nous avons successivement un entier (`int`), une chaine de caractères (`str`), et un booléen (`bool`)."
   ]
  },
  {
   "cell_type": "markdown",
   "metadata": {},
   "source": [
    "L'instruction suivante permet la construction d'une liste d'éléments identiques:"
   ]
  },
  {
   "cell_type": "code",
   "execution_count": null,
   "metadata": {},
   "outputs": [],
   "source": [
    "p=[0]*12\n",
    "print(p)"
   ]
  },
  {
   "cell_type": "markdown",
   "metadata": {},
   "source": [
    "Cette instruction est très utile pour initialiser des listes de taille donnée."
   ]
  },
  {
   "cell_type": "markdown",
   "metadata": {},
   "source": [
    "### Exemple\n",
    "le code ci-dessous compte l'occurence de chaque lettre de l'alphabet dans un texte."
   ]
  },
  {
   "cell_type": "code",
   "execution_count": null,
   "metadata": {},
   "outputs": [],
   "source": [
    "%%tutor\n",
    "texte = \"cet texte est prodigieusement ennuyeux\"\n",
    "\n",
    "def rang(lettre):\n",
    "    return(ord(lettre)-97)\n",
    "\n",
    "compt = [0]*26\n",
    "for k in texte :\n",
    "    if k != \" \" :\n",
    "        compt[rang(k)] += 1"
   ]
  },
  {
   "cell_type": "markdown",
   "metadata": {},
   "source": [
    " # <span style=\"color: green\"><u>2. Accès et modifications d'une liste</u></span> \n",
    "## <u> Accès aux éléments d'une liste </u>\n",
    " On accède à un élément d'une liste en mettant entre crochets l'indice de l'élémént (qui commence à **zéro**)."
   ]
  },
  {
   "cell_type": "code",
   "execution_count": null,
   "metadata": {},
   "outputs": [],
   "source": [
    "famille = [\"Bart\", \"Lisa\", \"Maggie\"]"
   ]
  },
  {
   "cell_type": "code",
   "execution_count": null,
   "metadata": {},
   "outputs": [],
   "source": [
    "famille[0]"
   ]
  },
  {
   "cell_type": "markdown",
   "metadata": {},
   "source": [
    "Un indice qui dépasse la valeur  `longueur de la liste -1` provoquera une erreur `list index out of range`."
   ]
  },
  {
   "cell_type": "code",
   "execution_count": null,
   "metadata": {},
   "outputs": [],
   "source": [
    "famille[3]"
   ]
  },
  {
   "cell_type": "markdown",
   "metadata": {},
   "source": [
    "Il est par contre possible d'utiliser des indices **négatifs** :"
   ]
  },
  {
   "cell_type": "code",
   "execution_count": null,
   "metadata": {},
   "outputs": [],
   "source": [
    "famille[-1]"
   ]
  },
  {
   "cell_type": "markdown",
   "metadata": {},
   "source": [
    "## <u> Modification des éléments d'une liste </u>\n",
    "C'est une différence fondamentale avec une autre structure (les *tuples*) que nous verrons plus tard."
   ]
  },
  {
   "cell_type": "code",
   "execution_count": null,
   "metadata": {},
   "outputs": [],
   "source": [
    "famille[0] = \"Milhouse\""
   ]
  },
  {
   "cell_type": "code",
   "execution_count": null,
   "metadata": {},
   "outputs": [],
   "source": [
    "famille"
   ]
  },
  {
   "cell_type": "markdown",
   "metadata": {},
   "source": [
    "On dit que les listes sont des objets **mutables**."
   ]
  },
  {
   "cell_type": "markdown",
   "metadata": {},
   "source": [
    "## <u> Ajout d'un élement à une liste : méthode **append()** </u>"
   ]
  },
  {
   "cell_type": "code",
   "execution_count": null,
   "metadata": {},
   "outputs": [],
   "source": [
    "famille.append(\"Lisa\")"
   ]
  },
  {
   "cell_type": "code",
   "execution_count": null,
   "metadata": {},
   "outputs": [],
   "source": [
    "famille"
   ]
  },
  {
   "cell_type": "markdown",
   "metadata": {},
   "source": [
    "La méthode `append()` rajoute donc un élément **à la fin** de la liste."
   ]
  },
  {
   "cell_type": "markdown",
   "metadata": {},
   "source": [
    "Très souvent, la méthode `append()` ci-dessus est utilisée à partir d'une liste vide `[]`, à laquelle on rajoute peu à peu des éléments."
   ]
  },
  {
   "cell_type": "markdown",
   "metadata": {},
   "source": [
    "###  Exemple\n",
    "Filtrons la liste m ci-dessous pour n'en garder que les éléments supérieurs à 20."
   ]
  },
  {
   "cell_type": "code",
   "execution_count": null,
   "metadata": {},
   "outputs": [],
   "source": [
    "m = [45, 12, 15, 20, 18, 19, 23, 17, 12, 18]\n",
    "p = []\n",
    "\n",
    "for k in m :\n",
    "    if k > 20:\n",
    "        p.append(k)"
   ]
  },
  {
   "cell_type": "markdown",
   "metadata": {},
   "source": [
    "## <u> Suppression d'un élément d'une liste ... </u>\n",
    "### ... par la méthode remove() :"
   ]
  },
  {
   "cell_type": "code",
   "execution_count": null,
   "metadata": {},
   "outputs": [],
   "source": [
    "famille.remove(\"Lisa\")"
   ]
  },
  {
   "cell_type": "code",
   "execution_count": null,
   "metadata": {},
   "outputs": [],
   "source": [
    "famille"
   ]
  },
  {
   "cell_type": "markdown",
   "metadata": {},
   "source": [
    "La méthode `remove()` va supprimer le premier élément de la liste (ce qui est problématique s'il y en a plusieurs) qui correspond à l'élément passé en argument."
   ]
  },
  {
   "cell_type": "code",
   "execution_count": null,
   "metadata": {},
   "outputs": [],
   "source": [
    "maliste = [8, 4, 2, 4, 7]\n",
    "maliste.remove(4)"
   ]
  },
  {
   "cell_type": "code",
   "execution_count": null,
   "metadata": {},
   "outputs": [],
   "source": [
    "maliste"
   ]
  },
  {
   "cell_type": "code",
   "execution_count": null,
   "metadata": {
    "scrolled": true
   },
   "outputs": [],
   "source": [
    "maliste.remove(5)"
   ]
  },
  {
   "cell_type": "markdown",
   "metadata": {},
   "source": [
    "### ...  par la fonction del() :\n",
    "La fonction `del()` permet de supprimer un élément en donnant son indice."
   ]
  },
  {
   "cell_type": "code",
   "execution_count": null,
   "metadata": {},
   "outputs": [],
   "source": [
    "maliste = [8, 4, 2, 5, 7]\n",
    "del maliste[3]"
   ]
  },
  {
   "cell_type": "code",
   "execution_count": null,
   "metadata": {},
   "outputs": [],
   "source": [
    "maliste"
   ]
  },
  {
   "cell_type": "markdown",
   "metadata": {},
   "source": [
    " # <span style=\"color: green\"><u>3. Longueur d'une liste</span> \n",
    "\n",
    "La longueur d'une liste sera donnée par la fonction `len()`"
   ]
  },
  {
   "cell_type": "code",
   "execution_count": null,
   "metadata": {},
   "outputs": [],
   "source": [
    "len(famille)"
   ]
  },
  {
   "cell_type": "markdown",
   "metadata": {},
   "source": [
    "Attention : le dernier élément de la liste a donc l'indice `len(liste)-1`"
   ]
  },
  {
   "cell_type": "markdown",
   "metadata": {},
   "source": [
    " # <span style=\"color: green\"><u>4. Parcours des éléments d'une liste</span> \n",
    "\n"
   ]
  },
  {
   "cell_type": "code",
   "execution_count": null,
   "metadata": {},
   "outputs": [],
   "source": [
    "for k in range(len(famille)):\n",
    "    print(famille[k])"
   ]
  },
  {
   "cell_type": "markdown",
   "metadata": {},
   "source": [
    "**Remarque :** nous avons déjà vu une méthode plus directe de parcours d'une liste :"
   ]
  },
  {
   "cell_type": "markdown",
   "metadata": {},
   "source": [
    "for k in famille :  # <- beaucoup plus efficace !\n",
    "    print(k)"
   ]
  },
  {
   "cell_type": "markdown",
   "metadata": {},
   "source": [
    "\n",
    "# <span style=\"color: green\"><u> 5) Tableaux à plusieurs dimensions : listes de listes </span> \n",
    "\n",
    "En python, une liste peut contenir d'autres  listes :\n"
   ]
  },
  {
   "cell_type": "code",
   "execution_count": null,
   "metadata": {},
   "outputs": [],
   "source": [
    "a = [[3, 5, 2],\n",
    "     [7, 1, 4], \n",
    "     [8, 6, 9]]"
   ]
  },
  {
   "cell_type": "markdown",
   "metadata": {},
   "source": [
    "La liste `a` est composée de 3 éléments qui sont eux-même des listes de 3 éléments.\n",
    "Une liste de listes est appélée tableau.\n",
    "\n",
    "L'instruction pour accéder à la première liste ( position 0)  est la suivante:"
   ]
  },
  {
   "cell_type": "code",
   "execution_count": null,
   "metadata": {},
   "outputs": [],
   "source": [
    "a[0]"
   ]
  },
  {
   "cell_type": "markdown",
   "metadata": {},
   "source": [
    "Pour accéder au deusième élément de la première liste, l'instruction est la suivante:"
   ]
  },
  {
   "cell_type": "code",
   "execution_count": null,
   "metadata": {},
   "outputs": [],
   "source": [
    "a[0][1]"
   ]
  },
  {
   "cell_type": "markdown",
   "metadata": {},
   "source": [
    "Quelle est la commande qui permet l'accès au troisième élément de la troisième liste?"
   ]
  },
  {
   "cell_type": "code",
   "execution_count": null,
   "metadata": {},
   "outputs": [],
   "source": []
  },
  {
   "cell_type": "markdown",
   "metadata": {},
   "source": [
    "## <u> Exercice 1 : Écrire un programme Python qui permet de : </u>\n",
    "    \n",
    "définir une liste (nommée liste) contenant les nombres : 45 , 17 , 89 , 38 , 10 et 74 dans cet ordre ;\n",
    " "
   ]
  },
  {
   "cell_type": "code",
   "execution_count": null,
   "metadata": {},
   "outputs": [],
   "source": []
  },
  {
   "cell_type": "markdown",
   "metadata": {},
   "source": [
    "afficher la liste obtenue : "
   ]
  },
  {
   "cell_type": "code",
   "execution_count": null,
   "metadata": {},
   "outputs": [],
   "source": []
  },
  {
   "cell_type": "markdown",
   "metadata": {},
   "source": [
    "ajouter l’élément 12 à la liste ;\n"
   ]
  },
  {
   "cell_type": "code",
   "execution_count": null,
   "metadata": {},
   "outputs": [],
   "source": []
  },
  {
   "cell_type": "markdown",
   "metadata": {},
   "source": [
    "afficher le dernier élément en utilisant un indexage négatif ;"
   ]
  },
  {
   "cell_type": "code",
   "execution_count": null,
   "metadata": {},
   "outputs": [],
   "source": []
  },
  {
   "cell_type": "markdown",
   "metadata": {},
   "source": [
    "## <u>Exercice 2: </u>\n",
    "Écrire une fonction liste_aléa(N) qui prend comme paramètre N la longueur d’une liste et retourne une  liste de N valeurs entières déterminées au hasard entre 1 et 100  "
   ]
  },
  {
   "cell_type": "code",
   "execution_count": null,
   "metadata": {},
   "outputs": [],
   "source": [
    "from random import randint\n",
    "\n",
    "\n",
    "    \n"
   ]
  },
  {
   "cell_type": "markdown",
   "metadata": {},
   "source": [
    "## <u> Exercice 3: la fonction len </u>\n",
    "Écrire une fonction longeur(liste) qui prend comme paramètre une liste et retourne un entier de la taille de la liste.\n"
   ]
  },
  {
   "cell_type": "code",
   "execution_count": null,
   "metadata": {},
   "outputs": [],
   "source": []
  },
  {
   "cell_type": "markdown",
   "metadata": {},
   "source": [
    "## <u> Exercice 4 : Algorithme du maximum (à connaître)</u>\n",
    "Compléter la fonction qui prend en paramètre une liste et qui doit renvoyer son maximum.\n",
    "(les éléments de la liste peuvent se comparer)"
   ]
  },
  {
   "cell_type": "code",
   "execution_count": null,
   "metadata": {},
   "outputs": [],
   "source": [
    "def Max_liste(liste):  \n",
    "    Max = liste [0]  # on initialise le maximum au premier élément de la liste \n"
   ]
  },
  {
   "cell_type": "markdown",
   "metadata": {},
   "source": [
    "## <u> Exercice 5: Rendre la monnaie (version liste) </u>\n",
    "En utilisant la liste, liste_piece = [ 50 , 20 , 10 , 5 , 2 ,1 ], écrire une fonction prenant en paramètre un nombre entier ( prix) et qui retourne une liste de pièce à rendre (le nombre de pièces rendus doit être minimal).\n"
   ]
  },
  {
   "cell_type": "code",
   "execution_count": null,
   "metadata": {},
   "outputs": [],
   "source": [
    "def rendu(prix):\n",
    "  \n",
    "        "
   ]
  },
  {
   "cell_type": "markdown",
   "metadata": {},
   "source": [
    "## <u> Exercice 6: </u> \n",
    "Ecrire un programme qui demande à l'uilisateur de saisir une liste  10 entiers entre 0 et 100, puis à l'aide de parcours succesif de la liste effectuer les actions suivantes:\n",
    "1. Afficher la liste\n",
    "2. Additionner tous les éléments de la liste\n",
    "3. obtenir le plus petit élément de la liste\n",
    "4. Compter le nombre de nombre pair de la liste"
   ]
  },
  {
   "cell_type": "code",
   "execution_count": null,
   "metadata": {},
   "outputs": [],
   "source": [
    "  \n",
    "                           \n",
    "                           \n",
    "    "
   ]
  },
  {
   "cell_type": "markdown",
   "metadata": {},
   "source": [
    "## <u> Exercice 7: </u>\n",
    "Trouvez le nombre qui est exactement à la même place dans la liste `a` et dans la liste `b` (les deux listes ont la même taille)"
   ]
  },
  {
   "cell_type": "code",
   "execution_count": null,
   "metadata": {},
   "outputs": [],
   "source": [
    "a = [8468, 4560, 3941, 3328, 7, 9910, 9208, 8400, 6502, 1076, 5921, 6720, 948, 9561, 7391, 7745, 9007, 9707, 4370, 9636, 5265, 2638, 8919, 7814, 5142, 1060, 6971, 4065, 4629, 4490, 2480, 9180, 5623, 6600, 1764, 9846, 7605, 8271, 4681, 2818, 832, 5280, 3170, 8965, 4332, 3198, 9454, 2025, 2373, 4067]\n",
    "b = [9093, 2559, 9664, 8075, 4525, 5847, 67, 8932, 5049, 5241, 5886, 1393, 9413, 8872, 2560, 4636, 9004, 7586, 1461, 350, 2627, 2187, 7778, 8933, 351, 7097, 356, 4110, 1393, 4864, 1088, 3904, 5623, 8040, 7273, 1114, 4394, 4108, 7123, 8001, 5715, 7215, 7460, 5829, 9513, 1256, 4052, 1585, 1608, 3941]\n",
    "\n",
    "\n",
    "\n"
   ]
  },
  {
   "cell_type": "markdown",
   "metadata": {},
   "source": [
    "## <u> Exerice 8:Utilsation d'un tableau </u>\n",
    "\n",
    "Le tableau suivant contient dans chaque liste:\n",
    "- un nom de pays\n",
    "- le nombre de cas covid confirmé au 12/12/20\n",
    "- le nombre de décès lié au covid \n",
    "- le nombre de personnes rétablient du covid\n",
    "- le nombre de mort par million d'habitant\n",
    "\n",
    "1) Déterminer le pays ayant le nombre de mort par  million d'habitant le plus important.\n",
    "\n",
    "2) Déterminer le pays ayant le plus de décès lié au covid.\n",
    "\n",
    "3) Déterminer  la somme du nombre de cas covid confirmé au 12/12/20"
   ]
  },
  {
   "cell_type": "code",
   "execution_count": null,
   "metadata": {},
   "outputs": [],
   "source": [
    "donnees=[['  Afghanistan ', 51357, 2126, 39900, 61] ,\n",
    "['  Afrique du Sud ', 968563, 25983, 822978, 436] ,\n",
    "['  Albanie ', 54827, 1125, 30276, 372] ,\n",
    "['  Algérie ', 97007, 2705, 64777, 65] ,\n",
    "['  Allemagne ', 1614326, 29681, 1183996, 357] ,\n",
    "['  Andorre ', 7699, 83, 7171, 1090] ,\n",
    "['  Angola ', 17029, 395, 9918, 13] ,\n",
    "['  Antigua-et-Barbuda ', 153, 5, 143, 49] ,\n",
    "['  Arabie saoudite ', 361725, 6159, 352608, 187] ,\n",
    "['  Argentine ', 1563848, 42314, 1384262, 942] ,\n",
    "['  Arménie ', 156142, 2714, 136766, 926] ,\n",
    "['  Australie ', 28238, 908, 25486, 37] ,\n",
    "['  Autriche ', 347204, 5745, 315952, 652] ,\n",
    "['  Azerbaïdjan ', 210061, 2380, 155886, 235] ,\n",
    "['  Bahamas ', 7788, 169, 6166, 427] ,\n",
    "['  Bahreïn ', 91070, 350, 88963, 234] ,\n",
    "['  Bangladesh ', 506102, 7378, 446690, 45] ,\n",
    "['  Barbade ', 236, 7, 218, 24] ,\n",
    "['  Belgiqueg ', 632321, 18939, '', 1657] ,\n",
    "['  Belize ', 10370, 226, 8933, 603] ,\n",
    "['  Bénin ', 3167, 44, 3061, 4] ,\n",
    "['  Bhoutan ', 541, 0, 442, 0] ,\n",
    "['  Biélorussie ', 181113, 1358, 159437, 144] ,\n",
    "['  Birmanie ', 119788, 2532, 99927, 47] ,\n",
    "['  Bolivie ', 153121, 9076, 129387, 821] ,\n",
    "['  Bosnie-Herzégovine ', 108298, 3878, 73896, 1106] ,\n",
    "['  Botswana ', 11982, 38, 11147, 17] ,\n",
    "['  Brésil ', 7424430, 190032, 6448740, 904] ,\n",
    "['  Brunei ', 150, 3, 145, 7] ,\n",
    "['  Bulgarie ', 196658, 7023, 107680, 1003] ,\n",
    "['  Burkina Faso ', 5649, 77, 4018, 4] ,\n",
    "['  Burundi ', 760, 2, 687, 0] ,\n",
    "['  Cambodge ', 363, 0, 354, 0] ,\n",
    "['  Cameroun ', 25849, 448, 23851, 19] ,\n",
    "['  Canada ', 535212, 14719, 444063, 388] ,\n",
    "['  Cap-Vert ', 11668, 112, 11311, 205] ,\n",
    "['  Chili ', 593310, 16303, 563457, 903] ,\n",
    "['  Chine ', 86899, 4634, 81950, 3] ,\n",
    "['  Chypre ', 19316, 107, 2057, 94] ,\n",
    "['  Colombie ', 1559766, 41454, 1417316, 845] ,\n",
    "['  Comores ', 693, 7, 615, 8] ,\n",
    "['  Corée du Sud ', 54770, 773, 38048, 15] ,\n",
    "['  Costa Rica ', 162990, 2086, 128842, 425] ,\n",
    "[\"  Côte d'Ivoire \", 21984, 133, 21573, 5] ,\n",
    "['  Croatie ', 202319, 3464, 183532, 844] ,\n",
    "['  Cuba ', 10500, 139, 9307, 12] ,\n",
    "['  Danemarkh ', 146341, 1114, 102184, 195] ,\n",
    "['  Djibouti ', 5789, 61, 5681, 64] ,\n",
    "['  Dominique ', 96, 0, 87, 0] ,\n",
    "['  Égypte ', 128993, 7260, 108474, 77] ,\n",
    "['  Émirats arabes unis ', 198435, 647, 174479, 69] ,\n",
    "['  Équateur ', 208010, 13977, 181618, 841] ,\n",
    "['  Érythrée ', 877, 1, 599, 0] ,\n",
    "['  Espagne ', 1854951, 49824, '', 1066] ,\n",
    "['  Estonie ', 24009, 192, 15393, 145] ,\n",
    "['  Eswatini ', 7868, 153, 6879, 136] ,\n",
    "['  États-Unis', 18846059, 332283, 8280764, 1023] ,\n",
    "['  Éthiopie ', 121399, 1872, 106845, 18] ,\n",
    "['  Fidji ', 46, 2, 44, 2] ,\n",
    "['  Finlande ', 34447, 524, 22500, 95] ,\n",
    "['  Francec,d ', 2527509, 62268, 188639, 939] ,\n",
    "['  Gabon ', 9469, 64, 9310, 32] ,\n",
    "['  Gambie ', 3791, 123, 3659, 59] ,\n",
    "['  Géorgie ', 216843, 2276, 194705, 612] ,\n",
    "['  Ghana ', 54043, 333, 52777, 12] ,\n",
    "['  Grèce ', 134235, 4457, '', 414] ,\n",
    "['  Grenade ', 103, 0, 49, 0] ,\n",
    "['  Guatemala ', 134894, 4749, 122965, 275] ,\n",
    "['  Guinée ', 13630, 80, 13039, 6] ,\n",
    "['  Guinée équatoriale ', 5236, 85, 5078, 67] ,\n",
    "['  Guinée-Bissau ', 2447, 44, 2337, 24] ,\n",
    "['  Guyana ', 6266, 162, 5478, 208] ,\n",
    "['  Haïti ', 9771, 234, 8408, 21] ,\n",
    "['  Honduras ', 118421, 3060, 55433, 330] ,\n",
    "['  Hong Kong ', 8425, 135, 7203, 18] ,\n",
    "['  Hongrie ', 311554, 8729, 120529, 893] ,\n",
    "['  Îles Marshall ', 2, 0, 0, 0] ,\n",
    "['  Îles Salomon ', 13, 0, 4, 0] ,\n",
    "['  Inde ', 10123778, 146756, 9693173, 111] ,\n",
    "['  Indonésie ', 700097, 20847, 570304, 77] ,\n",
    "['  Irak ', 588803, 12744, 527341, 333] ,\n",
    "['  Iran ', 1183182, 54308, 924685, 679] ,\n",
    "['  Irlande ', 83073, 2192, 24000, 460] ,\n",
    "['  Islande ', 5683, 28, 5506, 78] ,\n",
    "['  Israël ', 389502, 3170, 354616, 349] ,\n",
    "['  Italie ', 2009317, 70900, 1344785, 1175] ,\n",
    "['  Jamaïque ', 12423, 290, 9416, 100] ,\n",
    "['  Japon ', 206139, 3050, 174879, 24] ,\n",
    "['  Jordanie ', 283690, 3681, 254496, 353] ,\n",
    "['  Kazakhstan ', 149462, 2196, 135063, 120] ,\n",
    "['  Kenya ', 95431, 1652, 76720, 34] ,\n",
    "['  Kirghizistan ', 80025, 1340, 74177, 216] ,\n",
    "['  Kosovo ', 49866, 1290, 38118, 685] ,\n",
    "['  Koweït ', 149017, 926, 144898, 201] ,\n",
    "['  Laos ', 41, 0, 37, 0] ,\n",
    "['  Lesotho ', 2725, 51, 1466, 23] ,\n",
    "['  Lettonie ', 33484, 479, 22523, 251] ,\n",
    "['  Liban ', 165933, 1353, 116143, 222] ,\n",
    "['  Libéria ', 1779, 83, 1406, 18] ,\n",
    "['  Libye ', 97192, 1399, 67661, 209] ,\n",
    "['  Liechtenstein ', 1920, 30, 1591, 791] ,\n",
    "['  Lituanie ', 126581, 1205, 60946, 432] ,\n",
    "['  Luxembourg ', 45471, 461, 37574, 736] ,\n",
    "['  Macao ', 46, 0, 46, 0] ,\n",
    "['  Macédoine du Nord ', 80407, 2375, 57434, 1144] ,\n",
    "['  Madagascar ', 17633, 260, 17147, 10] ,\n",
    "['  Malaisie ', 100318, 446, 81099, 14] ,\n",
    "['  Malawi ', 6277, 187, 5676, 10] ,\n",
    "['  Maldives ', 13537, 48, 12983, 110] ,\n",
    "['  Mali ', 6441, 235, 3968, 13] ,\n",
    "['  Malte ', 12062, 203, 10423, 436] ,\n",
    "['  Maroc ', 425864, 7130, 388728, 198] ,\n",
    "['  Maurice ', 527, 10, 496, 8] ,\n",
    "['  Mauritanie ', 13118, 301, 9490, 68] ,\n",
    "['  Mexique ', 1362564, 121172, 1015256, 928] ,\n",
    "['  Moldavie ', 139435, 2848, 123924, 1116] ,\n",
    "['  Monaco ', 573, 3, 497, 78] ,\n",
    "['  Mongolie ', 1069, 0, 584, 0] ,\n",
    "['  Monténégro ', 45423, 648, 35735, 1041] ,\n",
    "['  Mozambique ', 18031, 156, 16015, 5] ,\n",
    "['  Namibie ', 19984, 183, 16892, 72] ,\n",
    "['  Népal ', 256592, 1808, 247400, 61] ,\n",
    "['  Nicaragua ', 5938, 163, 4225, 26] ,\n",
    "['  Niger ', 2933, 90, 1579, 4] ,\n",
    "['  Nigeria ', 81963, 1242, 69651, 7] ,\n",
    "['  Norvège ', 45809, 421, 37658, 78] ,\n",
    "['  Nouvelle-Zélande ', 2116, 25, 1680, 5] ,\n",
    "['  Oman ', 128290, 1491, 120441, 309] ,\n",
    "['  Ouganda ', 32914, 245, 10821, 6] ,\n",
    "['  Ouzbékistan ', 76315, 612, 73589, 18] ,\n",
    "['  Pakistan ', 467222, 9753, 418958, 45] ,\n",
    "['  Panama ', 223674, 3715, 180045, 906] ,\n",
    "['  Papouasie-Nouvelle-Guinée ', 681, 7, 588, 1] ,\n",
    "['  Paraguay ', 103329, 2154, 75509, 316] ,\n",
    "['  Pays-Basf ', 732570, 10826, '', 639] ,\n",
    "['  Pérou ', 1003982, 37317, 940040, 1270] ,\n",
    "['  Philippines ', 465724, 9055, 430490, 90] ,\n",
    "['  Pologne ', 1239998, 26752, 975876, 697] ,\n",
    "['  Portugal ', 387636, 6413, 312533, 605] ,\n",
    "['  Qatar ', 142605, 243, 140404, 92] ,\n",
    "['  République centrafricaine ', 4948, 63, 1924, 14] ,\n",
    "['  République démocratique du Congo ', 16281, 573, 13982, 7] ,\n",
    "['  République dominicaine ', 163654, 2404, 126732, 231] ,\n",
    "['  République du Congo ', 6571, 100, 4988, 19] ,\n",
    "['  Roumanie ', 608561, 14912, 523829, 761] ,\n",
    "['  Royaume-Unie ', 2188587, 69625, '', 1063] ,\n",
    "['  Russie ', 2963688, 53096, 2370857, 362] ,\n",
    "['  Rwanda ', 7598, 66, 6163, 5] ,\n",
    "['  Sahara Occidental ', 28, 2, 26, 0] ,\n",
    "['  Saint-Christophe-et-Niévès ', 30, 0, 24, 0] ,\n",
    "['  Saint-Marin ', 2205, 56, 1846, 1677] ,\n",
    "['  Saint-Vincent-et-les-Grenadines ', 98, 0, 81, 0] ,\n",
    "['  Sainte-Lucie ', 303, 5, 263, 28] ,\n",
    "['  Salvador ', 44619, 1283, 39989, 200] ,\n",
    "['  Samoa ', 2, 0, 0, 0] ,\n",
    "['  Sao Tomé-et-Principe ', 1012, 17, 960, 83] ,\n",
    "['  Sénégal ', 18200, 381, 16742, 24] ,\n",
    "['  Serbie ', 316344, 2882, '', 410] ,\n",
    "['  Seychelles ', 202, 0, 184, 0] ,\n",
    "['  Sierra Leone ', 2531, 76, 1866, 10] ,\n",
    "['  Singapour ', 58495, 29, 58332, 5] ,\n",
    "['  Slovaquie ', 161562, 1732, 114267, 321] ,\n",
    "['  Slovénie ', 112021, 2479, '', 1199] ,\n",
    "['  Somalie ', 4690, 127, 3605, 12] ,\n",
    "['  Soudan ', 23316, 1468, 13524, 36] ,\n",
    "['  Soudan du Sud ', 3181, 62, 2977, 5] ,\n",
    "['  Sri Lanka ', 39231, 185, 30568, 9] ,\n",
    "['  Suède ', 396048, 8279, '', 798] ,\n",
    "['  Suisse ', 428197, 6534, 317600, 772] ,\n",
    "['  Suriname ', 5810, 118, 5388, 209] ,\n",
    "['  Syrie ', 10442, 630, 4885, 34] ,\n",
    "['  Tadjikistan ', 13071, 89, 12536, 10] ,\n",
    "['  Taïwan ', 780, 7, 640, 0] ,\n",
    "['  Tchad ', 1938, 102, 1638, 7] ,\n",
    "['  Tchéquie ', 660461, 10776, 552444, 1008] ,\n",
    "['  Thaïlande ', 5910, 60, 4137, 1] ,\n",
    "['  Timor oriental ', 30, 0, 30, 0] ,\n",
    "['  Togo ', 3494, 68, 3131, 9] ,\n",
    "['  Trinité-et-Tobago ', 7071, 125, 6495, 91] ,\n",
    "['  Tunisie ', 125000, 4275, 97026, 370] ,\n",
    "['  Turquie ', 2100712, 19115, 1935292, 233] ,\n",
    "['  Ukraine ', 1012167, 17581, 646772, 413] ,\n",
    "['  Uruguay ', 15457, 135, 10040, 39] ,\n",
    "['  Vanuatu ', 1, 0, 1, 0] ,\n",
    "['  Vatican ', 29, 0, 27, 0] ,\n",
    "['  Venezuela ', 111024, 1002, 105249, 35] ,\n",
    "['  Viêt Nam ', 1432, 35, 1281, 0] ,\n",
    "['  Yémen ', 2436, 660, 1580, 23] ,\n",
    "['  Zambie ', 19234, 381, 17969, 22] ,\n",
    "['  Zimbabwe ', 12656, 330, 10259, 20] ,\n",
    "]\n"
   ]
  },
  {
   "cell_type": "code",
   "execution_count": null,
   "metadata": {},
   "outputs": [],
   "source": []
  },
  {
   "cell_type": "code",
   "execution_count": null,
   "metadata": {},
   "outputs": [],
   "source": []
  },
  {
   "cell_type": "code",
   "execution_count": null,
   "metadata": {},
   "outputs": [],
   "source": []
  }
 ],
 "metadata": {
  "kernelspec": {
   "display_name": "Python 3",
   "language": "python",
   "name": "python3"
  },
  "language_info": {
   "codemirror_mode": {
    "name": "ipython",
    "version": 3
   },
   "file_extension": ".py",
   "mimetype": "text/x-python",
   "name": "python",
   "nbconvert_exporter": "python",
   "pygments_lexer": "ipython3",
   "version": "3.7.6"
  },
  "toc": {
   "base_numbering": 1,
   "nav_menu": {},
   "number_sections": false,
   "sideBar": true,
   "skip_h1_title": false,
   "title_cell": "Table of Contents",
   "title_sidebar": "Contents",
   "toc_cell": false,
   "toc_position": {},
   "toc_section_display": true,
   "toc_window_display": false
  }
 },
 "nbformat": 4,
 "nbformat_minor": 4
}
