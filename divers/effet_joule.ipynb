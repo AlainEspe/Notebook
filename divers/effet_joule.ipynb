{
 "cells": [
  {
   "cell_type": "markdown",
   "metadata": {},
   "source": [
    "# Thème 2 : le futur des énergies - Mathématiques"
   ]
  },
  {
   "cell_type": "markdown",
   "metadata": {},
   "source": [
    "## Optimisation du transport de l’électricité"
   ]
  },
  {
   "cell_type": "markdown",
   "metadata": {},
   "source": [
    "### I. Pertes par effet Joule"
   ]
  },
  {
   "cell_type": "markdown",
   "metadata": {},
   "source": [
    "La tension de l’électricité domestique est de 230 volts. On pourrait croire qu’elle est constante d’un bout à l’autre du réseau électrique, mais ce n’est pas le cas. À quelques kilomètres du compteur domestique, la tension n’est pas  de 230  volts  mais  de  l’ordre  de \n",
    "20 000 volts. Si les câbles étaient idéaux, la puissance électrique produite par le générateur serait transmise au récepteur en maintenant une tension de 230 volts d’un bout à l’autre de la ligne. En réalité, les câbles fonctionnent comme des résistances et dissipent par effet Joule une partie de l’énergie destinée au récepteur. L’objectif est de réduire cette perte d’énergie."
   ]
  },
  {
   "cell_type": "markdown",
   "metadata": {},
   "source": [
    "#### 1. Rappeler la loi d’Ohm ainsi que la relation liant puissance, intensité et tension, tout en rappelant leurs unités. "
   ]
  },
  {
   "cell_type": "markdown",
   "metadata": {},
   "source": [
    "$U=$ ...\n"
   ]
  },
  {
   "cell_type": "markdown",
   "metadata": {},
   "source": [
    "$P=$ ..."
   ]
  },
  {
   "cell_type": "markdown",
   "metadata": {},
   "source": [
    "#### 2. Exprimer maintenant la puissance dissipée par effet Joule $P_J$ en fonction de R et I."
   ]
  },
  {
   "cell_type": "markdown",
   "metadata": {},
   "source": [
    "$P_j=$ ...\n"
   ]
  },
  {
   "cell_type": "markdown",
   "metadata": {},
   "source": [
    "La puissance perdue par effet Joule $P_J$ dépend donc de l’intensité  du courant et de la résistance 𝑅 du câble. Pour diminuer la perte par effet Joule, on peut donc diminuer la résistance ou l’intensité du courant. "
   ]
  },
  {
   "cell_type": "markdown",
   "metadata": {},
   "source": [
    "• Baisse de la résistance"
   ]
  },
  {
   "cell_type": "markdown",
   "metadata": {},
   "source": [
    "La résistance dépend de la longueur 𝑙 du câble, de l’aire 𝐴 de sa section et de sa résistivité 𝜌 (résistance par unité de section et de longueur). On a : $R = 𝜌 \\times \\frac{1}{A}$"
   ]
  },
  {
   "cell_type": "markdown",
   "metadata": {},
   "source": [
    "\n",
    "La longueur du câble étant fixée par les contraintes du réseau, pour diminuer sa résistance, on peut diminuer sa résistivité ou augmenter l’aire de sa section. En pratique, la résistivité du câble est déterminée par le matériau utilisé, le cuivre ; on diminue donc la résistance du câble en augmentant l’aire de sa section, et donc son rayon (𝐴 = 𝜋𝑟²). Mais cette augmentation ne peut se faire que dans une certaine limite, afin de limiter le poids des câbles. Il n’est donc pas simple de réduire la résistance du câble.\n",
    "\n",
    "<div>\n",
    "<img src=\"resistance.png\" width=\"400\"/>\n",
    "</div>\n",
    "\n"
   ]
  },
  {
   "cell_type": "markdown",
   "metadata": {},
   "source": [
    "• Baisse de l’intensité du courant"
   ]
  },
  {
   "cell_type": "markdown",
   "metadata": {},
   "source": [
    "La puissance transportée est 𝑃 = 𝑈𝐼. La puissance étant constante, pour réduire l’intensité, il faut augmenter la tension. C’est pourquoi on utilise des lignes à haute tension. \n",
    "Comme $P_J=RI^2$ , il est donc bien plus efficace de réduire l’intensité que de réduire la résistance. Ainsi, en divisant l’intensité par 2, on divise par 4 la puissance due à l’effet Joule, alors qu’en divisant par 2 la résistance, on divise seulement par 2 l’effet Joule. D’après le site RTE (réseau transport d’électricité) les pertes sur les réseaux en France s’élèvent, en moyenne, à 2,5 % par an sachant que l’énergie totale produite en France est de 460 TWh. (TeraWatt-heure)\n"
   ]
  },
  {
   "cell_type": "markdown",
   "metadata": {},
   "source": [
    "#### 3. Calculer les pertes d’énergie sur l’ensemble du réseau en France."
   ]
  },
  {
   "cell_type": "markdown",
   "metadata": {},
   "source": [
    "Les lignes à haute tension posent des questions de sécurité mais, si on divisait la tension par deux, les pertes par effet Joule atteindraient 10 % de la production."
   ]
  },
  {
   "cell_type": "markdown",
   "metadata": {},
   "source": [
    "→ Pour réduire les pertes par effet Joule ($P_J=$....................................), on va donc chercher à minimiser l’intensité I du courant."
   ]
  },
  {
   "cell_type": "markdown",
   "metadata": {},
   "source": [
    "### II. Études de cas "
   ]
  },
  {
   "cell_type": "markdown",
   "metadata": {},
   "source": [
    "#### **A. Cas complexe : résolution d’un problème par lecture graphique**"
   ]
  },
  {
   "cell_type": "markdown",
   "metadata": {},
   "source": [
    "Deux villes de taille moyenne sont fournies en électricité par une petite centrale hydroélectrique distribuant un courant électrique d’intensité $I_1$, une centrale solaire photovoltaïque distribuant un courant électrique d’intensité $I_2$ et un parc éolien distribuant un courant électrique d’intensité $I_3$. "
   ]
  },
  {
   "cell_type": "markdown",
   "metadata": {},
   "source": [
    "Les intensités distribuées sont majorées : $$I_{1_{max}} =I_{2_{max}} =I_{3_{max}} = 5A$$"
   ]
  },
  {
   "cell_type": "markdown",
   "metadata": {},
   "source": [
    "Avant d’arriver jusqu’aux villes, l’électricité passe par un répartiteur qui distribue le courant en fonction des besoins. Les villes ont besoin toutes les deux d'un courant électrique ($I_4$ et $I_5$) d’une intensité égale à 6A. "
   ]
  },
  {
   "cell_type": "markdown",
   "metadata": {},
   "source": [
    "Chaque ligne électrique du réseau est composée d’un conducteur ohmique de résistance donnée : $R_1=R_3= 0,1 Ω$ et $R_2= 0,2 Ω$ (es lignes 1, 2 et 3 rejoignent les sources 1, 2 et 3 au répartiteur)  \n",
    "$R_4=R_5= 0,1 Ω$ (les lignes 4 et 5 rejoignent le répartiteur aux deux cibles)"
   ]
  },
  {
   "cell_type": "markdown",
   "metadata": {},
   "source": [
    "Étape 1 : Modéliser le problème à l’aide d’un graphe"
   ]
  },
  {
   "cell_type": "markdown",
   "metadata": {},
   "source": [
    "Un réseau électrique peut être modélisé par un graphe pondéré et orienté."
   ]
  },
  {
   "cell_type": "markdown",
   "metadata": {},
   "source": [
    "**Graphe non orienté** : constitué d’un ensemble de points, appelés nœuds, et d’un ensemble de paires de nœuds distincts appelés arêtes."
   ]
  },
  {
   "cell_type": "markdown",
   "metadata": {},
   "source": [
    "**Graphe orienté** : graphe où les arêtes sont représentées par des flèches."
   ]
  },
  {
   "cell_type": "markdown",
   "metadata": {},
   "source": [
    "**Graphe pondéré** : graphe, orienté ou non, étant pondéré par des valeurs numériques affectées à ses arêtes."
   ]
  },
  {
   "cell_type": "markdown",
   "metadata": {},
   "source": [
    "<div>\n",
    "<img src=\"graphe.png\" width=\"400\"/>\n",
    "</div>"
   ]
  },
  {
   "cell_type": "markdown",
   "metadata": {},
   "source": [
    "Pour un réseau électrique, les sommets du graphe représentent les sources (générateur d’électricité), les cibles (récepteurs) et un certain nombre de nœuds intermédiaires. Les arêtes du graphe représentent les lignes électriques, elles sont pondérées par l’intensité du courant électrique dans le câble et orientées par le sens du courant (des sources vers les cibles)."
   ]
  },
  {
   "cell_type": "markdown",
   "metadata": {},
   "source": [
    "#### 1. Modéliser mathématiquement le réseau par un graphe orienté comportant les trois sources de production qu’on notera $S_1$, $S_2$ et $S_3$ puis le nœud N et les deux villes cibles $C_1$ et $C_2$. Vous ajouterez également les pondérations I₁, I₂, I₃, I₄ et I₅. Utilisez geogebra pour la figure et exporter l'image au format png sous le nom: modelisation.png à mettre dans le dossier du TP."
   ]
  },
  {
   "cell_type": "markdown",
   "metadata": {},
   "source": [
    "<div>\n",
    "<img src=\"modelisation.png\" width=\"400\"/>\n",
    "</div>"
   ]
  },
  {
   "cell_type": "markdown",
   "metadata": {},
   "source": [
    "**Étape 2 : Exprimer mathématiquement les contraintes**"
   ]
  },
  {
   "cell_type": "markdown",
   "metadata": {},
   "source": [
    "La répartition des courants dans le réseau doit satisfaire plusieurs contraintes :"
   ]
  },
  {
   "cell_type": "markdown",
   "metadata": {},
   "source": [
    "    • Contrainte de production : l’intensité sortant d’une source ne peut dépasser sa capacité de production ; "
   ]
  },
  {
   "cell_type": "markdown",
   "metadata": {},
   "source": [
    "    • Loi d’additivité (loi des nœuds) : l’intensité totale entrant dans chaque nœud doit être égale à l’intensité qui en sort ;"
   ]
  },
  {
   "cell_type": "markdown",
   "metadata": {},
   "source": [
    "    • Besoin des cibles :  l’intensité arrivant à chaque cible est fixée par ses besoins en énergie électrique."
   ]
  },
  {
   "cell_type": "markdown",
   "metadata": {},
   "source": [
    "#### 2. Exprimer les contraintes sur I₁, I₂, I₃, I₄ et I₅. Donner ensuite les intervalles auxquels appartiennent I₁ et I₂."
   ]
  },
  {
   "cell_type": "markdown",
   "metadata": {},
   "source": [
    "..."
   ]
  },
  {
   "cell_type": "markdown",
   "metadata": {},
   "source": [
    "**Étape 3 : Optimiser**"
   ]
  },
  {
   "cell_type": "markdown",
   "metadata": {},
   "source": [
    "#### 3. Déterminer la puissance dissipée par effet Joule notée $P_j$  en fonction de $I_1$ et $I_2$."
   ]
  },
  {
   "cell_type": "markdown",
   "metadata": {},
   "source": [
    "On veut donc ici optimiser sous contraintes, c’est-à-dire trouver l’extremum (ici un minimum puis qu’on veut que les pertes par effet Joule soient minimes) d’une fonction dépendant de plusieurs paramètres qui vérifient des inégalités ou qui sont reliés entre eux par des égalités. On retrouve souvent ce type de problèmes complexes d’optimisation sous contraintes dans les problèmes d’ingénierie. Dans notre cas, la fonction trouvée dépendant de deux inconnues, nous nous contenterons de conjecturer la réponse au problème grâce à une lecture graphique."
   ]
  },
  {
   "cell_type": "markdown",
   "metadata": {},
   "source": [
    "..."
   ]
  },
  {
   "cell_type": "markdown",
   "metadata": {},
   "source": [
    "#### 4. A l’aide de Geogebra, représenter cette fonction. (On pourra utiliser un « curseur » et  « trace » pour la deuxième variable $I_2$ )"
   ]
  },
  {
   "cell_type": "markdown",
   "metadata": {},
   "source": [
    "#### 5. Donner les valeurs de $I_1$ et $I_2$ pour lesquelles la fonction P J est minimale et déterminer la valeur de ce minimum. Vérifier que les valeurs de $I_1$ et $I_2$ obtenues vérifient les contraintes."
   ]
  },
  {
   "cell_type": "markdown",
   "metadata": {},
   "source": [
    "#### 6. Conclure quant à l’optimisation du problème."
   ]
  },
  {
   "cell_type": "markdown",
   "metadata": {},
   "source": [
    "#### **B. Cas simplifié : résolution par le calcul**"
   ]
  },
  {
   "cell_type": "markdown",
   "metadata": {},
   "source": [
    "On reprend la situation précédente en ne prenant en compte que deux sources d’énergie."
   ]
  },
  {
   "cell_type": "markdown",
   "metadata": {},
   "source": [
    "Deux villes de taille moyenne sont fournies en électricité par une petite centrale hydroélectrique et par une centrale solaire photovoltaïque. Avant d’arriver aux villes, l’électricité passe par un répartiteur qui distribue le courant en fonction des besoins."
   ]
  },
  {
   "cell_type": "markdown",
   "metadata": {},
   "source": [
    "**Étape 1 : Modéliser le problème à l’aide d’un graphe**"
   ]
  },
  {
   "cell_type": "markdown",
   "metadata": {},
   "source": [
    "1. Modéliser mathématiquement le réseau par un graphe orienté comportant les deux sources de production $S_1$ et $S_2$, un nœud N et les deux villes (cible destinatrice) $C_1$ et $C_2$."
   ]
  },
  {
   "cell_type": "markdown",
   "metadata": {},
   "source": []
  },
  {
   "cell_type": "markdown",
   "metadata": {},
   "source": [
    "**Étape 2 : Exprimer mathématiquement les contraintes**"
   ]
  },
  {
   "cell_type": "markdown",
   "metadata": {},
   "source": [
    "2. Reprendre les trois contraintes vues dans la première étude de cas et les appliquer à ce problème tout en gardant des expressions littérales. Donner ensuite l’intervalle auquel appartient $I_1$."
   ]
  },
  {
   "cell_type": "markdown",
   "metadata": {},
   "source": [
    "Dans le cas de ce réseau de distribution, où l’électricité est transportée sous une tension de 90kV, les deux centrales solaires produisent chacune, au maximum, une intensité de 5A. De leur côté, les deux villes ont besoin chacune d’une puissance de 270kW. La résistance des lignes hautes tension est de 0,1Ω sauf dans la ligne électrique de la source $S_2$ au nœud où elle est de 0,2Ω."
   ]
  },
  {
   "cell_type": "markdown",
   "metadata": {},
   "source": [
    "3. Calculer $I_3$ et $I_4$, les intensités requises par les deux villes."
   ]
  },
  {
   "cell_type": "markdown",
   "metadata": {},
   "source": []
  },
  {
   "cell_type": "markdown",
   "metadata": {},
   "source": [
    "4. Reprendre les contraintes trouvées en b. avec les valeurs numériques."
   ]
  },
  {
   "cell_type": "markdown",
   "metadata": {},
   "source": []
  },
  {
   "cell_type": "markdown",
   "metadata": {},
   "source": [
    "**Étape 3 : Optimiser (trouver max/min de la fonction)**"
   ]
  },
  {
   "cell_type": "markdown",
   "metadata": {},
   "source": [
    "On cherche à exprimer la puissance dissipée $P_J$ en fonction de $I_1$ puis à trouver la valeur de $I_1$ qui la minimise."
   ]
  },
  {
   "cell_type": "markdown",
   "metadata": {},
   "source": [
    "5. En vous aidant de la première étude de cas, montrer que $P_J(I_1)$ peut s’écrire sous la forme $P_J(I_1)=0.3I_1^2 −2.4 I_1 +9$ ."
   ]
  },
  {
   "cell_type": "markdown",
   "metadata": {},
   "source": [
    "6. Donner la nature de cette fonction et rappeler son ensemble de définition. Comment s’appelle sa courbe représentative ? "
   ]
  },
  {
   "cell_type": "markdown",
   "metadata": {},
   "source": [
    "7. Dans cette question, vous ferez le premier point si vous avez suivi Maths-Spé en 1ère, le deuxième point sinon.\n",
    "• Dériver la fonction $P_J (x )=0.3 x^2 −2.4 x +9$ grâce aux règles de dérivation vues en 1ère.\n",
    "• A l’aide de la calculatrice, afficher la courbe de la fonction (ou le tableau de valeurs)."
   ]
  },
  {
   "cell_type": "markdown",
   "metadata": {},
   "source": [
    "8. Donner la valeur de x pour laquelle $P_J (x )$ est minimale ainsi que cette valeur $P_ J (x )$\n",
    "minimale. Vérifier que la valeur de x trouvée appartient bien à l’ensemble de définition de\n",
    "la fonction."
   ]
  },
  {
   "cell_type": "markdown",
   "metadata": {},
   "source": [
    "9. Donner la conclusion du problème."
   ]
  },
  {
   "cell_type": "markdown",
   "metadata": {},
   "source": []
  },
  {
   "cell_type": "markdown",
   "metadata": {},
   "source": []
  },
  {
   "cell_type": "markdown",
   "metadata": {},
   "source": []
  }
 ],
 "metadata": {
  "kernelspec": {
   "display_name": "Python 3",
   "language": "python",
   "name": "python3"
  },
  "language_info": {
   "codemirror_mode": {
    "name": "ipython",
    "version": 3
   },
   "file_extension": ".py",
   "mimetype": "text/x-python",
   "name": "python",
   "nbconvert_exporter": "python",
   "pygments_lexer": "ipython3",
   "version": "3.8.6"
  }
 },
 "nbformat": 4,
 "nbformat_minor": 4
}
