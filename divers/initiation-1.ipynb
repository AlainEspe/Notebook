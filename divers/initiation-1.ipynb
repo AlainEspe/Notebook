{
 "cells": [
  {
   "cell_type": "markdown",
   "metadata": {},
   "source": [
    "# TP Python\n",
    "L'idée de ce \"notebook\" est de montrer des exemples simples de création de suites afin de comprendre pas à pas ce que Python permet de faire.\n",
    "\n",
    "## Partie 1 : les suites \n",
    "\n",
    "    1) définition d'une suite\n",
    "\n",
    "        2) calcul de terme\n",
    "\n",
    "            3) recherche de particularités"
   ]
  },
  {
   "attachments": {
    "Capture%20d%E2%80%99e%CC%81cran%202020-09-23%20a%CC%80%2018.23.35.png": {
     "image/png": "[encoded data removed]"
    }
   },
   "cell_type": "markdown",
   "metadata": {},
   "source": [
    "#### Exemple 1\n",
    "Nous allons apprendre à définir très simplement une suite $u_n$\n",
    "\n",
    "Le menu de Jupyter se présente ainsi : \n",
    "![Capture%20d%E2%80%99e%CC%81cran%202020-09-23%20a%CC%80%2018.23.35.png](attachment:Capture%20d%E2%80%99e%CC%81cran%202020-09-23%20a%CC%80%2018.23.35.png)\n",
    "\n",
    "Le bouton \"RUN\" est celui sur lequel il faut appuyer pour faire fonctionner un programme.\n",
    "\n",
    "Regarder le programme ci-dessous : les lignes sont numérotées et chacune d'elles comporte une instruction.\n",
    "les # sont des commentaires :"
   ]
  },
  {
   "cell_type": "code",
   "execution_count": 3,
   "metadata": {},
   "outputs": [
    {
     "name": "stdout",
     "output_type": "stream",
     "text": [
      "72\n",
      "72.727272\n",
      "[72, 72, 72]\n",
      "La Sarthe\n"
     ]
    }
   ],
   "source": [
    "# Définiton de la suite u(n)= n^2\n",
    "\n",
    "def u(n):\n",
    "    return n**2        # cela signifie \"n^2\"\n",
    "\n",
    "# affichage de u_10\n",
    "print(u(10))\n"
   ]
  },
  {
   "cell_type": "markdown",
   "metadata": {},
   "source": [
    "### Exercice 1\n",
    "Écrire dans le cadre ci-dessous un programme avec les contraintes suivantes :\n",
    "\n",
    "définir la suite $v_n=n^2+2n+1$ puis afficher $v_5$"
   ]
  },
  {
   "cell_type": "code",
   "execution_count": null,
   "metadata": {},
   "outputs": [],
   "source": [
    "\n",
    "\n",
    "\n"
   ]
  },
  {
   "cell_type": "markdown",
   "metadata": {},
   "source": [
    "#### Exemple 2\n",
    "A présent on veut afficher les 20 premiers termes d'une suite $u_n$.\n",
    "Cela se fait en deux étapes :\n",
    "\n",
    "1) D'abord on définit la suite \n",
    "\n",
    "2) ensuite on crée un compteur $n$ allant de 0 à 20\n",
    "\n",
    "3) enfin pour chaque valeur du compteur $n$ on affiche $u_n$\n",
    "\n",
    "\n",
    "Faites fonctionner ce programme. L'affichage est-il satisfaisant ?"
   ]
  },
  {
   "cell_type": "code",
   "execution_count": null,
   "metadata": {},
   "outputs": [],
   "source": [
    "# définition de la suite\n",
    "def u(n):\n",
    "    return n^2\n",
    "\n",
    "# initialisation du compteur\n",
    "n=0\n",
    "\n",
    "# création de la boucle \"tant que n<21, avec affichage de u(n)\n",
    "while n<21:\n",
    "    print(u(n))\n",
    "    n=n+1    # le compteur avance de 1"
   ]
  },
  {
   "cell_type": "markdown",
   "metadata": {},
   "source": [
    "Modifier la ligne 10 du programme précédent pour qu'il affiche le numéro $n$ puis la valeur de $u_n$"
   ]
  },
  {
   "cell_type": "markdown",
   "metadata": {},
   "source": [
    "### Exercice 2\n",
    "\n",
    "Afficher les 10 premiers termes de la suite $u_n=3^{n}-n^3$"
   ]
  },
  {
   "cell_type": "code",
   "execution_count": null,
   "metadata": {},
   "outputs": [],
   "source": [
    "\n",
    "\n",
    "\n"
   ]
  },
  {
   "cell_type": "markdown",
   "metadata": {},
   "source": [
    "### Exercice 3\n",
    "A partir du 1er janvier 2021 un individu porteur d'un virus de type fou rire en contamine 3 le premier jour. Ensuite il continue de rire mais n'est plus contagieux.\n",
    "Il n'y a aucun remède, donc le virus se propage de jour en jour.\n",
    "\n",
    "Créer un programme dans le cadre ci-desous tel que :\n",
    "\n",
    "1) il affiche le nombre de \"malade\" au fil des jours\n",
    "\n",
    "2) il s'arrête lorsque toute la population est contaminée et le monde mort de rire.\n"
   ]
  },
  {
   "cell_type": "code",
   "execution_count": null,
   "metadata": {},
   "outputs": [],
   "source": [
    "\n",
    "\n",
    "\n"
   ]
  },
  {
   "cell_type": "markdown",
   "metadata": {},
   "source": [
    "### Exercice 4\n",
    "\n",
    "Créer un programme dans le cadre ci-dessous, qui trouve à partir de quelle valeur de $n$ on a : $2^{2^n}>10^{100}$.\n"
   ]
  },
  {
   "cell_type": "markdown",
   "metadata": {},
   "source": [
    "### Exercice 5 pour les débutants !\n",
    "\n",
    "Écrire un programme qui comporte nous dise pour quelle valeurs de $n$ la suite définie par $u_n=30n$ est supérieure à la suite $v_n$ définie par $v_n=1,1^n$.\n",
    "\n",
    "Pour cela vous devez définir les deux suites puis créer une \"boucle\" qui les compare, et s'arrête lorsque $u_n<v_n$.\n"
   ]
  },
  {
   "cell_type": "code",
   "execution_count": null,
   "metadata": {},
   "outputs": [],
   "source": [
    "\n",
    "\n",
    "\n"
   ]
  },
  {
   "cell_type": "markdown",
   "metadata": {},
   "source": [
    "### Exercice 5 pour les pro !\n",
    "\n",
    "Voici deux suites liées l'une à l'autre de la manière suivante :\n",
    "\n",
    "$\\left\\{\\begin{aligned}u_{n+1}&=0,3\\times u_n+0,7\\times v_n\\\\ v_{n+1}&=0,6\\times u_n+0,4\\times v_n\\end{aligned}\\right.$\n",
    "\n",
    "On a de plus $u_0=10$ et $v_0=0$.\n",
    "\n",
    "Écrire un programme qui donne les 20 premières valeurs de chaque suite."
   ]
  },
  {
   "cell_type": "code",
   "execution_count": null,
   "metadata": {},
   "outputs": [],
   "source": [
    "\n",
    "\n",
    "\n"
   ]
  },
  {
   "cell_type": "markdown",
   "metadata": {},
   "source": [
    "#### Exemple 3\n",
    "\n",
    "Comment \"entrer\" la valeur $u_0$ d'une suite ?\n",
    "\n",
    "On utilise pour cela la commande \"input\" qui a plusieurs variantes suivant le type de nombre que l'on souhaite traiter :\n",
    "\n",
    "     a=input(\"donne moi un mot\") \n",
    "     b=int(input(\"donne moi un nombre entier\"))\n",
    "     c=float(input(\"donne moi un nombre réel\"))\n",
    "\n",
    "Faire fonctionner l'exemple ci-dessous :\n"
   ]
  },
  {
   "cell_type": "code",
   "execution_count": null,
   "metadata": {},
   "outputs": [],
   "source": [
    "# on définit u_0  réel de type \"float\" (à virgule flotante) :\n",
    "u_0=float(input(\"donnez moi un nombre :\"))\n",
    "print(\"votre nombre est : \",u_0)"
   ]
  },
  {
   "cell_type": "markdown",
   "metadata": {},
   "source": [
    "### Exercice 6 pour les débutants\n",
    "\n",
    "Écrire un petit programme qui demande à l'utilisateur d'entrer un nombre entier (positif) $A$ (de type integer).\n",
    "\n",
    "Le programme doit ensuite dire à partir de quelle valeur de $n$ on a $A^n>10^{100}$."
   ]
  },
  {
   "cell_type": "code",
   "execution_count": null,
   "metadata": {},
   "outputs": [],
   "source": []
  },
  {
   "cell_type": "markdown",
   "metadata": {},
   "source": [
    "### Exercice 6 pour les pros\n",
    "\n",
    "Écrire un petit programme qui demande à l'utilisateur un entier $A$ et un entier $B$.\n",
    "\n",
    "Le programme doit ensuite trouver s'il y a des nombres premiers compris (strictement) entre $A$ et $B$ et les afficher.\n",
    "\n",
    "Rappel : un nombre premier n'a que deux diviseurs : 1 et lui même...\n"
   ]
  },
  {
   "cell_type": "code",
   "execution_count": null,
   "metadata": {},
   "outputs": [],
   "source": []
  }
 ],
 "metadata": {
  "kernelspec": {
   "display_name": "Python 3",
   "language": "python",
   "name": "python3"
  },
  "language_info": {
   "codemirror_mode": {
    "name": "ipython",
    "version": 3
   },
   "file_extension": ".py",
   "mimetype": "text/x-python",
   "name": "python",
   "nbconvert_exporter": "python",
   "pygments_lexer": "ipython3",
   "version": "3.6.9"
  }
 },
 "nbformat": 4,
 "nbformat_minor": 2
}
