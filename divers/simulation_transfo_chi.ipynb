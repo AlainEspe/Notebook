{
 "cells": [
  {
   "cell_type": "markdown",
   "metadata": {},
   "source": [
    "# <u> TP: Simulation d'une transformation chimique</u>\n",
    "Le but du TP est de réaliser un programme permettant de calculer la quantité de matière de toutes les éspèces chimiques à la fin de la transformation chimique modélisée par la réaction suivante:\n",
    "$$ {I_2}_{(aq)}  + 2 {S_2 O_3^{2-}}_{(aq)} \\rightarrow  2 {I^-}_{(aq)} + {S_4 O_6 ^{2-}}_{(aq)} $$\n",
    "\n",
    "Après avoir dréssé le tableau d'avancement de la réaction, compléter le code suivant:\n",
    "Il faut au début compléter les ... puis finir le code.\n"
   ]
  },
  {
   "cell_type": "code",
   "execution_count": null,
   "metadata": {},
   "outputs": [],
   "source": [
    "# demande la quantité de matière initiale de I2 et créé une variable nI2_0\n",
    "nI2_0=float(input(\"quantité de matière de diiode I2(aq) en mol:\")) \n",
    "\n",
    "# demande la quantité de matière initiale de S2O3 et créé une variable nS2O3_0\n",
    "nS2O3_0=float(input(\"quantité de matière de thiosulfate S2O32-(aq) en mol:\"))\n",
    "\n",
    "# Si la quantité nI2_0 est plus petite que nS2O3_0/2\n",
    "if nI2_0<nS2O3_0/2:\n",
    "    #afficher :\n",
    "    print(\"Le réactif limitant est le diiode I2\")\n",
    "    #calcul de x_max\n",
    "    x_max=nI2_0\n",
    "    # afficher la quantitée finale de thiosulfate\n",
    "    print(\"La quantité finale de thiosulfate S2O32-(aq) est :\",nS2O3_0-2*x_max,\"mol\")\n",
    "    print(\"La quantité finale d'ion iodure I-(aq) est :\",...,\"mol\")\n",
    "    print(\"La quantité finale d'ion tétrathionate S4O62-(aq) est :\",...,\"mol\")\n",
    "    \n",
    "if ...... :\n",
    "    print(\"Le réactif limitant est le thiosulfate S2O32-(aq)\")\n",
    "    \n",
    "    \n",
    "    \n",
    "if I2_0==nS2O3_0/2:\n",
    "    print(\"???\")"
   ]
  }
 ],
 "metadata": {
  "kernelspec": {
   "display_name": "Python 3",
   "language": "python",
   "name": "python3"
  },
  "language_info": {
   "codemirror_mode": {
    "name": "ipython",
    "version": 3
   },
   "file_extension": ".py",
   "mimetype": "text/x-python",
   "name": "python",
   "nbconvert_exporter": "python",
   "pygments_lexer": "ipython3",
   "version": "3.7.6"
  }
 },
 "nbformat": 4,
 "nbformat_minor": 4
}
