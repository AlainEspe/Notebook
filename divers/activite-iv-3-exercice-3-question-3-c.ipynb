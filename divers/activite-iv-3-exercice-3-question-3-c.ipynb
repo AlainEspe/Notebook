{
 "cells": [
  {
   "cell_type": "markdown",
   "metadata": {},
   "source": [
    "<p><span style=\"font-size: 14pt;\"><strong>Algorithme de Balayage</strong></span></p>\n",
    "<p><span style=\"font-size: 12pt;\">Activit&eacute; IV-3 Exercice n&deg;3 Question <strong>3 c.</strong></span></p>\n",
    "<p>&nbsp;</p>\n",
    "<p><span style=\"font-size: 12pt;\">D&eacute;finir la fonction f de l'exercice dans la cellule ci-dessous.</span></p>"
   ]
  },
  {
   "cell_type": "code",
   "execution_count": null,
   "metadata": {},
   "outputs": [],
   "source": [
    "def f(x):\n",
    "    "
   ]
  },
  {
   "cell_type": "markdown",
   "metadata": {},
   "source": [
    "<p><span style=\"font-size: 12pt;\">Programmer, dans la cellule ci-dessous, en langage Python, l'algorithme de balayage &eacute;crit en langage naturel en classe.</span></p>"
   ]
  },
  {
   "cell_type": "code",
   "execution_count": null,
   "metadata": {},
   "outputs": [],
   "source": [
    "def balayage(n):\n",
    "    "
   ]
  },
  {
   "cell_type": "markdown",
   "metadata": {},
   "source": [
    "<font size=\"3\"> Exécuter les deux scripts Python ci-dessus et donner, ci-dessous, les bornes d'un encadrement de $\\alpha$ d'amplitude $10^{-2}$."
   ]
  },
  {
   "cell_type": "code",
   "execution_count": null,
   "metadata": {},
   "outputs": [],
   "source": []
  },
  {
   "cell_type": "markdown",
   "metadata": {},
   "source": [
    "<font size=\"3\"> Donner, ci-dessous, les bornes d'un encadrement de $\\alpha$ d'amplitude $10^{-3}$."
   ]
  },
  {
   "cell_type": "code",
   "execution_count": null,
   "metadata": {},
   "outputs": [],
   "source": []
  }
 ],
 "metadata": {
  "kernelspec": {
   "display_name": "Python 3",
   "language": "python",
   "name": "python3"
  },
  "language_info": {
   "codemirror_mode": {
    "name": "ipython",
    "version": 3
   },
   "file_extension": ".py",
   "mimetype": "text/x-python",
   "name": "python",
   "nbconvert_exporter": "python",
   "pygments_lexer": "ipython3",
   "version": "3.6.9"
  }
 },
 "nbformat": 4,
 "nbformat_minor": 2
}
