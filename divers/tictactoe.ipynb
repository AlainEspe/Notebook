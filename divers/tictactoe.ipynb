{
 "cells": [
  {
   "cell_type": "markdown",
   "metadata": {},
   "source": [
    "# Première approche de l'IA\n",
    "\n",
    "L'Intelligence Artificielle appliquée aux jeux se heure à deux difficultés :\n",
    "\n",
    "- la largeur du jeu (le nombre de coups possible à tour de jeu)\n",
    "- la profondeur du jeu (le nombre de tours de jeu)\n",
    "\n",
    "Dans des jeux comme les danes, les échecs ou pire le go, la largeur et la profondeur sont très importantes. Le nombre de parties possibles est donc immense ($10^{170}$ configurations légales possibles au go).\n",
    "\n",
    "![go](https://upload.wikimedia.org/wikipedia/commons/thumb/4/4a/Go_game.jpg/220px-Go_game.jpg)\n",
    "\n",
    "\n",
    "Dans cette étude, on va modéliser un jeu de morpion (tic-tac-toe) dans lequel on cherche à tour de rôle à aligner trois pions sur un plateau carré à 9 cases.\n",
    "\n",
    "![morpion](https://upload.wikimedia.org/wikipedia/commons/3/33/Tictactoe1.gif)\n",
    "\n",
    "Pour simplifier la programmation, on remplace les pions «X» et les «O» par les chiffres 1 et des 2 (0 pour une case vide) et on modélise le plateau $3\\times 3$ par un tableau à deux dimensions dont les lignes et colonnes sont numérotées de 0,1,2 comme Python a l'habitude de numéroter ses listes.\n",
    "\n",
    "       °  ¹  ²\n",
    "    ° [2, 2, 1]\n",
    "    ¹ [1, 2, 0]\n",
    "    ² [0, 1, 2]\n",
    "    \n",
    "Sur le plateau ci-dessus, le joueur 2 a gagné.\n",
    "\n",
    "Pour lancer chaque script, utilisez le bouton `▶| Exécuter` après avoir cliqué sur une cellule de code."
   ]
  },
  {
   "cell_type": "code",
   "execution_count": null,
   "metadata": {},
   "outputs": [],
   "source": [
    "plateau = [[1,2,0],[1,2,0],[0,1,2]]\n",
    "print(plateau)"
   ]
  },
  {
   "cell_type": "markdown",
   "metadata": {},
   "source": [
    "# Afficher correctement le plateau\n",
    "\n",
    "Problème, on le voit l'affichage n'est pas très lisible.\n",
    "On construit donc une fonction `affiche` qui présente le plateau de jeu sous une forme plus agréable.\n",
    "\n",
    "La syntaxe `print(\"blabla %s\" var)` affiche «blabla» suivi du contenu (transformé en chaîne de caractères) de la variable `var`."
   ]
  },
  {
   "cell_type": "code",
   "execution_count": null,
   "metadata": {},
   "outputs": [],
   "source": [
    "def affiche(pl):\n",
    "    print(\"   °  ¹  ²\")\n",
    "    print(\"° %s\" %pl[0])\n",
    "    print(\"¹ %s\" %pl[1])\n",
    "    print(\"² %s\" %pl[2])\n",
    "    print()"
   ]
  },
  {
   "cell_type": "code",
   "execution_count": null,
   "metadata": {},
   "outputs": [],
   "source": [
    "plateau = [[1,2,0],[1,2,0],[0,1,2]]\n",
    "affiche(plateau)"
   ]
  },
  {
   "cell_type": "markdown",
   "metadata": {},
   "source": [
    "# Vérifier si quelqu'un a gagné\n",
    "\n",
    "Pour déterminer si pour un plateau donné, un des deux joueurs a gagné, on construit une fonction qui renvoie une valeur selon les cas :\n",
    "- 0 si personne n'a encore gangé\n",
    "- 1 si le joueur 1 a aligné trois pions\n",
    "- 2 si le joueur 2 a aligné trois pions\n",
    "\n",
    "On peut sans doute faire plus court mais cette définition de la fonction `qui_gagne` a l'avantage d'être simple : on se contente de vérifier les 8 manières de gagner pour chaque joueur."
   ]
  },
  {
   "cell_type": "code",
   "execution_count": null,
   "metadata": {},
   "outputs": [],
   "source": [
    "def qui_gagne(pl):\n",
    "    for j in 1,2:\n",
    "        if pl[0][0]==pl[0][1]==pl[0][2]==j : return j\n",
    "        if pl[1][0]==pl[1][1]==pl[1][2]==j : return j\n",
    "        if pl[2][0]==pl[2][1]==pl[2][2]==j : return j\n",
    "        if pl[0][0]==pl[1][0]==pl[2][0]==j : return j\n",
    "        if pl[0][1]==pl[1][1]==pl[2][1]==j : return j\n",
    "        if pl[0][2]==pl[1][2]==pl[2][2]==j : return j\n",
    "        if pl[0][0]==pl[1][1]==pl[2][2]==j : return j\n",
    "        if pl[0][2]==pl[1][1]==pl[2][0]==j : return j\n",
    "    return 0"
   ]
  },
  {
   "cell_type": "markdown",
   "metadata": {},
   "source": [
    "Vérifions avec deux exemples"
   ]
  },
  {
   "cell_type": "code",
   "execution_count": null,
   "metadata": {},
   "outputs": [],
   "source": [
    "plateau = [[1,2,0],[1,2,0],[0,1,2]]\n",
    "affiche(plateau)\n",
    "qui_gagne(plateau)\n",
    "# Renvoie 0 car personne n'a gagné"
   ]
  },
  {
   "cell_type": "code",
   "execution_count": null,
   "metadata": {},
   "outputs": [],
   "source": [
    "plateau = [[1,2,0],[0,2,1],[0,2,1]]\n",
    "affiche(plateau)\n",
    "qui_gagne(plateau)\n",
    "# Renvoie 2 car les pions du joueur 2 sont alignés"
   ]
  },
  {
   "cell_type": "markdown",
   "metadata": {},
   "source": [
    "# Laisser jouer l'humain\n",
    "\n",
    "On construit maintenant une fonction qui interroge le joueur humain pour lui permettre de placer un pion numéro `numero`."
   ]
  },
  {
   "cell_type": "code",
   "execution_count": null,
   "metadata": {},
   "outputs": [],
   "source": [
    "def humain_joue(pl,numero):\n",
    "    rejoue = True\n",
    "    while rejoue:\n",
    "        l = int(input(\"ligne (0,1 ou 2): \"))\n",
    "        c = int(input(\"colonne (0,1 ou 2): \"))\n",
    "        if pl[l][c]==0 : # Vérifie si case libre\n",
    "            rejoue = False\n",
    "            pl[l][c]=numero"
   ]
  },
  {
   "cell_type": "markdown",
   "metadata": {},
   "source": [
    "Essayons de jouer :"
   ]
  },
  {
   "cell_type": "code",
   "execution_count": null,
   "metadata": {},
   "outputs": [],
   "source": [
    "plateau = [[0,0,0],[0,0,0],[0,0,0]]\n",
    "\n",
    "affiche(plateau)\n",
    "humain_joue(plateau,1)\n",
    "affiche(plateau)\n",
    "humain_joue(plateau,1)\n",
    "affiche(plateau)"
   ]
  },
  {
   "cell_type": "markdown",
   "metadata": {},
   "source": [
    "# Laisser jouer la machine\n",
    "\n",
    "Une fonction qui permet à l'ordinateur de placer un pion `numero` avec l'algorithme le plus simple : le hasard.\n",
    "\n",
    "La machine choisit une ligne et une colonne au hasard jusqu'à trouver une place libre."
   ]
  },
  {
   "cell_type": "code",
   "execution_count": null,
   "metadata": {},
   "outputs": [],
   "source": [
    "from random import *\n",
    "\n",
    "def ordi_joue(pl,numero):\n",
    "    rejoue = True\n",
    "    while rejoue:\n",
    "        l = randint(0,2)\n",
    "        c = randint(0,2)\n",
    "        if pl[l][c]==0 :\n",
    "            pl[l][c]=numero\n",
    "            rejoue = False\n",
    "\n",
    "plateau = [[0,0,0],[0,0,0],[0,0,0]]\n",
    "affiche(plateau)\n",
    "ordi_joue(plateau,2)\n",
    "affiche(plateau)\n",
    "ordi_joue(plateau,2)\n",
    "affiche(plateau)"
   ]
  },
  {
   "cell_type": "markdown",
   "metadata": {},
   "source": [
    "# Une partie Humain vs Machine\n",
    "\n",
    "Dans la partie suivante l'humain joue les pions 1 et la machine les pions 2."
   ]
  },
  {
   "cell_type": "code",
   "execution_count": null,
   "metadata": {},
   "outputs": [],
   "source": [
    "plateau = [[0,0,0],[0,0,0],[0,0,0]]\n",
    "affiche(plateau)\n",
    "while True:\n",
    "    humain_joue(plateau,1)\n",
    "    affiche(plateau)\n",
    "    if qui_gagne(plateau)==1 : break\n",
    "    ordi_joue(plateau,2)\n",
    "    affiche(plateau)\n",
    "    if qui_gagne(plateau)==2 : break\n",
    "print(\"victoire de %s\" %qui_gagne(plateau))"
   ]
  },
  {
   "cell_type": "markdown",
   "metadata": {},
   "source": [
    "# Première IA : jouer pour gagner\n",
    "\n",
    "Une première startégie simple, plutôt que jouer au hasard, à cahque tour, on va chercher parmi les cases vides, celles qui permettraient de gagner la partie en un coup. \n",
    "\n",
    "Il nous faut donc d'abord une fonction qui liste les coordonnées des cases libres."
   ]
  },
  {
   "cell_type": "code",
   "execution_count": null,
   "metadata": {},
   "outputs": [],
   "source": [
    "def list_cases_libres(pl):\n",
    "    L = []\n",
    "    for i in 0,1,2:\n",
    "        for j in 0,1,2:\n",
    "            if pl[i][j]==0: L = L+[[i,j]]\n",
    "    return L\n",
    "\n",
    "plateau = [[1,2,0],[0,0,1],[0,2,1]]\n",
    "affiche(plateau)\n",
    "list_cases_libres(plateau)"
   ]
  },
  {
   "cell_type": "markdown",
   "metadata": {},
   "source": [
    "Maintenant, on construit une fonction qui va tester chaque case libre et lui attribuer 1000 ou 0 points selon qu'elle permet de gagner ou non et qui renvoie une liste des points correspondant à la liste des cases libres. "
   ]
  },
  {
   "cell_type": "code",
   "execution_count": null,
   "metadata": {},
   "outputs": [],
   "source": [
    "def valeur_coups_profondeur_1(pl):\n",
    "    pl_test = pl[:]\n",
    "    L = []\n",
    "    for pos in list_cases_libres(pl):\n",
    "        pl_test[pos[0]][pos[1]]=2\n",
    "        if qui_gagne(pl_test)==2:\n",
    "            L = L + [1000]\n",
    "        else:\n",
    "            L = L + [0]\n",
    "        pl_test[pos[0]][pos[1]]=0\n",
    "    return L"
   ]
  },
  {
   "cell_type": "code",
   "execution_count": null,
   "metadata": {},
   "outputs": [],
   "source": [
    "affiche(plateau)\n",
    "print(list_cases_libres(plateau))\n",
    "valeur_coups_profondeur_1(plateau)\n",
    "# on voit que seule [1,1] correspond à la valeur 1000. Les autres coups valent 0."
   ]
  },
  {
   "cell_type": "markdown",
   "metadata": {},
   "source": [
    "On peut maintenant construire une fonction capable de placer \n",
    "- soit un pion gagnant lorsque c'est possible\n",
    "- soit le pion au centre si la case est libre\n",
    "- soit un pion au hasard si le gain de la partie n'est pas possible immédiatement."
   ]
  },
  {
   "cell_type": "code",
   "execution_count": null,
   "metadata": {},
   "outputs": [],
   "source": [
    "def ordi_joue_prof1(pl,numero):\n",
    "    vcp1 = valeur_coups_profondeur_1(plateau)\n",
    "    if max(vcp1)>0 :\n",
    "        best = vcp1.index(max(vcp1))\n",
    "        Z = list_cases_libres(plateau)\n",
    "        l,c = Z[best][0], Z[best][1]\n",
    "        pl[l][c] = numero\n",
    "    elif (pl[1][1]==0):\n",
    "        pl[1][1] = numero\n",
    "    else :\n",
    "        ordi_joue(pl,numero)"
   ]
  },
  {
   "cell_type": "markdown",
   "metadata": {},
   "source": [
    "# Deux algos s'affrontent : hasard vs profondeur=1\n",
    "\n",
    "On va donc lancer une partie entre une machine jouant au hasard (fonction `ordi_joue`) contre une machine jouant avec l'algorithme de profondeur 1 (fonction `ordi_joue_prof1`)"
   ]
  },
  {
   "cell_type": "code",
   "execution_count": null,
   "metadata": {},
   "outputs": [],
   "source": [
    "plateau = [[0,0,0],[0,0,0],[0,0,0]]\n",
    "print(\" Plateau de départ : \")\n",
    "affiche(plateau)\n",
    "print(\"--------\")\n",
    "\n",
    "while True:\n",
    "    print(\"Machine hasard joue : \")\n",
    "    ordi_joue(plateau,1)\n",
    "    affiche(plateau)\n",
    "    print(\"--------\")\n",
    "    if qui_gagne(plateau)==1 : break\n",
    "\n",
    "    print(\" ordi prof1 joue:\")\n",
    "    ordi_joue_prof1(plateau,2)\n",
    "    affiche(plateau)\n",
    "    print(\"--------\")\n",
    "    if qui_gagne(plateau)==2 : break\n",
    "\n",
    "\n",
    "print(\"victoire de %s\" %qui_gagne(plateau))"
   ]
  },
  {
   "cell_type": "markdown",
   "metadata": {},
   "source": [
    "# Seconde IA : jouer pour gagner en prévoyant le coup de l'adversaire\n",
    "\n",
    "On va maintenant programmer une startégie en deux coups. Il va falloir construire l'ensemble des coups possibles sur un en trois coups :\n",
    "\n",
    "MACHine -> ADVersaire -> MACHine.\n",
    "\n",
    "- **Profondeur 1** : on part d'un plateau `pl`, on le copie dans `pl1` dans lequel on teste toutes les coups possibles. \n",
    "- **Profondeur 2** : pour chaque coup, on copie `pl1` dans `pl2` dans lequel on teste  toutes les réponses possibles.\n",
    "- **Profondeur 3** : pour chaque réponse, on copie `pl3` dans `pl3` dans lequel on teste toutes les contres possibles.\n",
    "\n",
    "C'est donc une stratégie dans laquelle l'arbre des possibilités sur trois niveaux est complètement testé.\n"
   ]
  },
  {
   "cell_type": "code",
   "execution_count": null,
   "metadata": {},
   "outputs": [],
   "source": [
    "def valeur_coups_profondeur_3(pl,n_Mach,n_Adv):\n",
    "    # liste des positions de niv.1 étudiées\n",
    "    Lpos = []\n",
    "    # nb victoires pour chaque position de niv.1\n",
    "    nb_vic = []\n",
    "    nb = 0\n",
    "\n",
    "    pl1 = pl[:]\n",
    "    # tous les coups possibles, profondeur p=1  \n",
    "    for pos1 in list_cases_libres(pl): \n",
    "        pl1[pos1[0]][pos1[1]]=num_Machine\n",
    "        if qui_gagne(pl1)==num_Machine: \n",
    "            # si on gagne du premier coup : fini\n",
    "            # on renvoie le coup gagnant\n",
    "            # après avoir remis pl1 en place\n",
    "            pl1[pos1[0]][pos1[1]]=0\n",
    "            return [pos1],[1]\n",
    "        \n",
    "        # si pas gagné du 1er coup toutes les\n",
    "        # réponses de l'adversaire, prof. p=2\n",
    "        pl2 = pl1[:]\n",
    "        for pos2 in  list_cases_libres(pl1):\n",
    "            pl2[pos2[0]][pos2[1]]=num_Adversaire\n",
    "            if qui_gagne(pl2)==num_Adversaire:\n",
    "                # si adversaire gagne ici,\n",
    "                # alors il faut jouer à sa place\n",
    "                # après avoir remis pl1 et pl2 en place\n",
    "                pl1[pos1[0]][pos1[1]]=0\n",
    "                pl2[pos2[0]][pos2[1]]=0\n",
    "                return [pos2],[-1]\n",
    "            else:\n",
    "                \n",
    "                # si adversaire n'a pas gagné en\n",
    "                # réponse, tous les contres à la\n",
    "                # réponse de l'adversaire, prof. p=3\n",
    "                pl3 = pl2[:]\n",
    "                for pos3 in  list_cases_libres(pl2):\n",
    "                    pl3[pos3[0]][pos3[1]]=num_Machine\n",
    "                    if qui_gagne(pl1)==num_Machine:\n",
    "                        nb = nb+1\n",
    "                    # RàZ avant étude du contre p=3 suivt \n",
    "                    pl3[pos3[0]][pos3[1]]=0\n",
    "                    \n",
    "                # RàZ avant étude de réponse p=2 suivt  \n",
    "                pl2[pos2[0]][pos2[1]]=0\n",
    "                \n",
    "        Lpos = Lpos + [pos1]\n",
    "        nb_vic = nb_vic + [nb]\n",
    "        nb = 0\n",
    "        # RàZ avant étude du coup p=1 suivant\n",
    "        pl1[pos1[0]][pos1[1]]=0\n",
    "        \n",
    "    return Lpos,nb_vic"
   ]
  },
  {
   "cell_type": "markdown",
   "metadata": {},
   "source": [
    "Testons cet algorithme sur un exemple pour voir que est selon lui le meilleur coup à jouer :"
   ]
  },
  {
   "cell_type": "code",
   "execution_count": null,
   "metadata": {},
   "outputs": [],
   "source": [
    "plateau = [[1,0,2],[0,0,1],[0,2,0]]\n",
    "affiche(plateau)\n",
    "Lpos,nb_vic = valeur_coups_profondeur_3(plateau,n_Mach=2,n_Adv=1)\n",
    "print(Lpos)\n",
    "print(nb_vic)\n",
    "\n",
    "best = nb_vic.index(max(nb_vic))\n",
    "print(\"meilleur coup : \")\n",
    "print(Lpos[best])"
   ]
  },
  {
   "cell_type": "markdown",
   "metadata": {},
   "source": [
    "On peut maintenant construire une fonction capable de placer un pion au meilleur endroit possible après étude de l'arbre de profondeur 3."
   ]
  },
  {
   "cell_type": "code",
   "execution_count": null,
   "metadata": {},
   "outputs": [],
   "source": [
    "def ordi_joue_prof3(pl,numero):\n",
    "    Lpos,nb_vic = valeur_coups_profondeur_3(plateau,n_Mach=2,n_Adv=numero+1%2)\n",
    "    if (pl[1][1]==0):\n",
    "        pl[1][1] = numero\n",
    "    else :\n",
    "        best = nb_vic.index(max(nb_vic))\n",
    "        l,c = Lpos[best]\n",
    "        pl[l][c] = numero"
   ]
  },
  {
   "cell_type": "markdown",
   "metadata": {},
   "source": [
    "# Deux algos s'affrontent : hasard vs profondeur=3\n",
    "\n",
    "On va donc lancer une partie entre une machine jouant au hasard (fonction `ordi_joue`) contre une machine jouant avec l'algorithme de profondeur 1 (fonction `ordi_joue_prof3`)"
   ]
  },
  {
   "cell_type": "code",
   "execution_count": null,
   "metadata": {},
   "outputs": [],
   "source": [
    "plateau = [[0,0,0],[0,0,0],[0,0,0]]\n",
    "print(\" Plateau de départ : \")\n",
    "affiche(plateau)\n",
    "print(\"--------\")\n",
    "\n",
    "while True:\n",
    "    print(\"Machine hasard joue : \")\n",
    "    ordi_joue(plateau,1)\n",
    "    affiche(plateau)\n",
    "    print(\"--------\")\n",
    "    if qui_gagne(plateau)==1 : break\n",
    "\n",
    "    print(\" ordi prof3 joue:\")\n",
    "    ordi_joue_prof3(plateau,2)\n",
    "    affiche(plateau)\n",
    "    print(\"--------\")\n",
    "    if qui_gagne(plateau)==2 : break\n",
    "\n",
    "\n",
    "print(\"victoire de %s\" %qui_gagne(plateau))"
   ]
  }
 ],
 "metadata": {
  "kernelspec": {
   "display_name": "Python 3",
   "language": "python",
   "name": "python3"
  },
  "language_info": {
   "codemirror_mode": {
    "name": "ipython",
    "version": 3
   },
   "file_extension": ".py",
   "mimetype": "text/x-python",
   "name": "python",
   "nbconvert_exporter": "python",
   "pygments_lexer": "ipython3",
   "version": "3.6.9"
  }
 },
 "nbformat": 4,
 "nbformat_minor": 4
}
