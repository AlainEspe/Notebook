{
 "cells": [
  {
   "cell_type": "markdown",
   "metadata": {},
   "source": [
    "# Chapitre 0 : Algorithmique et Programmation\n",
    "\n",
    "*Robotique, véhicules autonomes, réseaux sociaux, commerce en ligne, cyber-criminalité, e-sport, les domaines où interviennent les algorithmes sont chaque jour plus nombreux. Ces algorithmes ne sont que des bouts de code informatique, et pourtant ils sont chaque jour plus précis, plus rapides, plus invasifs.\n",
    "Le but de ce chapitre est de comprendre leurs principes essentiels, et d'en programmer certains.*\n",
    "\n",
    "Le cours comprendra cinq grandes parties :\n",
    "\n",
    "1. Variables et affectation\n",
    "2. Instruction conditionnelle : if\n",
    "3. Boucle bornée : for\n",
    "4. Boucle non bornée : while\n",
    "5. Fonctions\n",
    "\n",
    "---\n",
    "\n",
    "## I. Variables et affectation\n",
    "\n",
    "**Définitions**\n",
    "- Une variable informatique est un emplacement dans la mémoire de l'ordinateur, qui permet de stocker toute sorte d'information : valeur numérique, texte ou autre. On accède à cette variable grâce à son nom.\n",
    "- L'affectation est l'instruction qui permet d'associer une valeur à une variable.\n",
    "\n",
    "\n",
    "**Exemples**\n",
    "\n",
    "L'instruction `a = 12` est une affectation : elle stocke le nombre entier 12 dans la variable `a`.  \n",
    "L'instruction `b = -3.141592654` est une affectation : elle stocke le nombre réel -3,141592654 dans la variable `b`.  \n",
    "L'instruction `c = \"Lycée Jean Jaurès\"` est une affectation : elle stocke le texte \"Lycée Jean Jaurès\" dans la variable `c`.  "
   ]
  },
  {
   "cell_type": "code",
   "execution_count": null,
   "metadata": {},
   "outputs": [],
   "source": [
    "# Tester les trois affectations précédentes dans cette cellule de code :\n",
    "a = 12\n",
    "a"
   ]
  },
  {
   "cell_type": "markdown",
   "metadata": {},
   "source": [
    "**Remarques**\n",
    "- En Python, comme dans la plupart des langages informatiques, l'affectation s'écrit \"=\".\n",
    "- En informatique les nombres décimaux s'écrivent avec un point et non une virgule.\n",
    "- Le nom d'une variable ne doit contenir ni espace, ni tiret \"-\".\n",
    "  \n",
    "**Définition : types de variables**  \n",
    "On distingue quatre principaux types de variables :\n",
    "- les entiers (*integer* en anglais), correspondant aux entiers naturels en mathématiques.\n",
    "- les flottants (*float* en anglais), correspondant aux nombres réels.\n",
    "- les chaînes de caractères (*string* en anglais), correspondant à du texte.\n",
    "- les booléens (*boolean* en anglais), prenant uniquement une des deux valeurs logiques suivantes : Vrai (True) ou Faux (False).\n",
    "\n",
    "**Exemples**\n",
    "Donner le type des variables suivantes."
   ]
  },
  {
   "cell_type": "code",
   "execution_count": null,
   "metadata": {},
   "outputs": [],
   "source": [
    "a = 13.8 # la variable a est de type ...\n",
    "b = \"J'ai encore raté mon bus\" # la variable b est de type...\n",
    "c = 123456789 # la variable c est de type ...\n",
    "d = True # la variable d est de type ..."
   ]
  },
  {
   "cell_type": "markdown",
   "metadata": {},
   "source": [
    "**Remarque : opérateurs numériques**  \n",
    "En Python, les opérations numériques s'effectuent avec les symboles suivants.  \n",
    "\n",
    "| Opération      | Caractère   |\n",
    "| :------------- | :---------: |\n",
    "| Addition       |           + |\n",
    "| Soustraction   |           - |\n",
    "| Multiplication |          \\* |\n",
    "| Division       |           / |\n",
    "| Puissance      |        \\*\\* |\n",
    "\n",
    "\n",
    "**Exercices**\n"
   ]
  },
  {
   "cell_type": "code",
   "execution_count": null,
   "metadata": {},
   "outputs": [],
   "source": [
    "# On veut calculer le périmètre d'un rectangle de longueur 8 cm et de largeur 5 cm.\n",
    "# Compléter le code ci-dessous, l'exécuter et écrire le résultat en commentaire.\n",
    "longueur = ...\n",
    "largeur = ...\n",
    "(longueur+largeur)*2\n",
    "# Le périmètre vaut ... cm"
   ]
  },
  {
   "cell_type": "code",
   "execution_count": null,
   "metadata": {},
   "outputs": [],
   "source": [
    "# Affecter les valeurs 4, 12.6 et -14.78 à trois variables a, b et c.\n",
    "# Déterminer ensuite la valeur de l'expression 2a*(b/3 - c²).\n",
    "...\n",
    "...\n",
    "...\n",
    "...\n",
    "# L'expression 2a*(b/3 - c²) vaut exactement ..."
   ]
  },
  {
   "cell_type": "code",
   "execution_count": null,
   "metadata": {},
   "outputs": [],
   "source": [
    "# En 2017, environ 94% de la population française possédait un téléphone portable.\n",
    "# La population française est estimée à 66 990 826 individus.\n",
    "# Calculer le nombre d'habitants possédant un téléphone portable.\n",
    "...\n",
    "...\n",
    "...\n",
    "# Le nombre d'habitants possédant un téléphone portable est estimé à ..."
   ]
  },
  {
   "cell_type": "markdown",
   "metadata": {},
   "source": [
    "**Remarque : entrée de valeurs**  \n",
    "En Python, on utilise l'instruction `input()` pour saisir une valeur d'entrée. Cette instruction considère par défaut que tout ce qui est saisi de cette manière est une chaîne de caractères. Si ce n'est pas le cas, il faut lui indiquer de la manière suivante :\n",
    "+ pour entrer un entier (ou integer) :\n",
    "``` language-python\n",
    "    a = int(input())\n",
    "```\n",
    "+ pour entrer un flottant (ou float) :\n",
    "``` language-python\n",
    "    b = float(input())\n",
    "```\n",
    "\n",
    "**Exemple**"
   ]
  },
  {
   "cell_type": "code",
   "execution_count": null,
   "metadata": {},
   "outputs": [],
   "source": [
    "# Compléter le programme suivant pour qu'il calcule le volume d'un cube de côté x.\n",
    "# x est le nom de la variable dans laquelle on stocke la valeur entrée par l'utilisateur.\n",
    "x = float(input())\n",
    "...\n",
    "..."
   ]
  },
  {
   "cell_type": "markdown",
   "metadata": {},
   "source": [
    "**Exercices à faire dans Spyder** (et/ou sur le cahier d'exercices)\n",
    "n°2 p.327, n°17 et 18 p.336\n",
    "\n",
    "## II. Instruction conditionnelle : if\n",
    "\n",
    "**Définition**  \n",
    "L'instruction conditionnelle est composée de deux parties :\n",
    "+ une condition, marquée par le mot clé `if`.\n",
    "+ une instruction, appelée aussi *traitement*, exécutée uniquement si la condition est vraie.  \n",
    "\n",
    "En pseudo-code :  \n",
    "  \n",
    "    Si condition alors\n",
    "        traitement\n",
    "    Fin Si\n",
    "\n",
    "**Remarques**\n",
    "+ Une condition peut uniquement être vraie (True) ou fausse (False). On parle de condition *booléenne*.\n",
    "+ Une condition donne très souvent lieu à un test. Si l'on veut tester l'égalité entre une variable `a` et la valeur `12`, on écrira `a == 12`, avec deux \"=\".\n",
    "+ En Python, l'instruction conditionnelle s'écrit ainsi :\n",
    "```langague-python\n",
    "if (a == 12) :\n",
    "      b = a*3\n",
    "```\n",
    "L'indentation, c'est-à-dire le décalage vers la droite, après le \":\" est obligatoire. Tout ce qui est décalé est considéré comme contenu dans le traitement.\n",
    "\n",
    "**Exemple**  \n",
    "Tester le programme suivant. Que fait-il ?"
   ]
  },
  {
   "cell_type": "code",
   "execution_count": null,
   "metadata": {},
   "outputs": [],
   "source": [
    "a = float(input(\"Entrer un nombre réel : \"))\n",
    "if (a > 0):\n",
    "    print(\"Le nombre a est strictement positif\")\n",
    "# Le programme ...\n",
    "\n",
    "\n"
   ]
  },
  {
   "cell_type": "markdown",
   "metadata": {
    "collapsed": true
   },
   "source": [
    "**Définition : instruction conditionnelle niveau 2**  \n",
    "Une instruction conditionnelle peut contenir, en plus d'une condition et d'un traitement, un traitement alternatif (si la première condition n'est pas réalisée) et même une ou plusieurs conditions supplémentaires, agrémentées des traitements correspondants.\n",
    "\n",
    "En pseudo-code :  \n",
    "  \n",
    "    Si condition alors\n",
    "        traitement_1\n",
    "    Sinon\n",
    "        traitement_2    <-- traitement alternatif\n",
    "    Fin Si\n",
    "\n",
    "ou alors :\n",
    "  \n",
    "    Si condition_1 alors\n",
    "        traitement_1\n",
    "    Sinon Si condition_2 alors     <-- condition supplémentaire\n",
    "        traitement_2               <-- traitement supplémentaire\n",
    "    Sinon Si condition_3 alors     <-- condition supplémentaire\n",
    "        traitement_3               <-- traitement supplémentaire\n",
    "    Sinon\n",
    "        traitement_4               <-- traitement alternatif\n",
    "    Fin Si\n",
    "  \n",
    "  \n",
    "**Remarques**  \n",
    "+ En Python, le Sinon s'écrit `else` et le Sinon Si `elif`, contraction de `else` et `if`.\n",
    "+ En Python, une instruction conditionnelle complexe s'écrit ainsi :\n",
    "```langague-python\n",
    "if (a > 0) :\n",
    "      print(\"Le nombre a est strictement positif\")\n",
    "elif (a < 0) :\n",
    "      print(\"Le nombre a est strictement négatif\")\n",
    "else :\n",
    "      print(\"Le nombre a est nul\")\n",
    "```\n",
    "  \n",
    "**Exemple**  \n",
    "Tester le programme suivant. Que fait-il ?"
   ]
  },
  {
   "cell_type": "code",
   "execution_count": null,
   "metadata": {},
   "outputs": [],
   "source": [
    "age = float(input(\"Veuillez entrer votre âge : \"))\n",
    "if (age > 18):\n",
    "    print(\"Vous êtes majeur, vous avez un accès total à notre site.\")\n",
    "else :\n",
    "    print(\"Désolé, nous vous redirigeons vers un site adapté à votre âge.\")\n",
    "# Le programme ...\n",
    "\n",
    "\n"
   ]
  },
  {
   "cell_type": "markdown",
   "metadata": {},
   "source": [
    "Dans la cellule suivante, modifier le programme précédent afin de traiter différemment les âges suspects (négatifs ou supérieurs à 150)."
   ]
  },
  {
   "cell_type": "code",
   "execution_count": null,
   "metadata": {},
   "outputs": [],
   "source": [
    "age = float(input(\"Veuillez entrer votre âge : \"))\n",
    "if (age > 18):\n",
    "    print(\"Vous êtes majeur, vous avez un accès total à notre site.\")\n",
    "..."
   ]
  },
  {
   "cell_type": "markdown",
   "metadata": {},
   "source": [
    "**Exercices à faire dans Spyder** (et/ou sur le cahier d'exercices)  \n",
    "n°5 et 6 p.329, n°19 et 20 p.336  \n",
    "  \n",
    "## III. Boucle bornée : for  \n",
    "\n",
    "**Définition**  \n",
    "Si l'on désire répéter une instruction plusieurs fois, deux solutions s'offrent à nous :\n",
    "1. Ecrire plusieurs fois l'instruction, en séquence. C'est pénible et fort peu pratique.\n",
    "2. Utiliser une *boucle*. Lorsque que le nombre de répétitions est connu, on utilise une *boucle bornée*. Une boucle bornée nécessite un *compteur*, c'est-à-dire une variable qui compte le nombre de tours de la boucle.\n",
    "\n",
    "En pseudo-code :  \n",
    "  \n",
    "    Pour i allant de 1 à n Faire     <-- ici le compteur est la variable i\n",
    "        Traitement\n",
    "    Fin Pour  \n",
    "  \n",
    "**Remarques**  \n",
    "+ En Python, la fonction `range()` est indispensable pour écrire une boucle. Elle énumère les entiers de 0 à la valeur strictement inférieure à celle entrée dans la fonction. Autrement dit, si on veut énumérer les entiers de 0 à 9, on écrira `range(10)`.\n",
    "+ En Python, une boucle bornée s'écrit avec le mot clé `for` :\n",
    "```langage-python\n",
    "for i in range(10):\n",
    "      print(\"J'adore la programmation !\")\n",
    "```\n",
    "Ce programme affiche 10 fois \"J'adore la programmation !\". Pas très utile...  \n",
    "  \n",
    "**Exemples**  \n",
    "Tester le programme suivant. Que fait-il ?"
   ]
  },
  {
   "cell_type": "code",
   "execution_count": null,
   "metadata": {},
   "outputs": [],
   "source": [
    "for i in range(10):\n",
    "    print(9*i)\n",
    "# Le programme ...\n",
    "\n",
    "# On remarque que le compteur ...\n"
   ]
  },
  {
   "cell_type": "markdown",
   "metadata": {},
   "source": [
    "Et celui-ci ?"
   ]
  },
  {
   "cell_type": "code",
   "execution_count": null,
   "metadata": {},
   "outputs": [],
   "source": [
    "somme = 0\n",
    "for i in range(100):\n",
    "    somme = somme + i\n",
    "somme\n",
    "# Le programme ...\n",
    "\n"
   ]
  },
  {
   "cell_type": "markdown",
   "metadata": {},
   "source": [
    "À l'aide des exemples précédents, écrire un programme qui calcule la somme des 50 premiers nombres pairs.   "
   ]
  },
  {
   "cell_type": "code",
   "execution_count": null,
   "metadata": {},
   "outputs": [],
   "source": [
    "somme = 0\n",
    "for ...\n",
    "\n",
    "\n"
   ]
  },
  {
   "cell_type": "markdown",
   "metadata": {},
   "source": [
    "**Exercices à faire dans Spyder** (et/ou sur le cahier d'exercices)  \n",
    "n°8 et 9 p.331, n°21 et 22 p.336  \n",
    "  \n",
    "## IV. Boucle non bornée : while\n",
    "\n",
    "**Définition**  \n",
    "Dans une boucle, on peut vouloir répéter une ou plusieurs instructions tant qu'une condition n'est pas vérifiée. Dans ce cas, on ne connaît pas à l'avance le nombre de tours que la boucle va faire. On utilise alors une *boucle non bornée*.\n",
    "\n",
    "En pseudo-code :  \n",
    "  \n",
    "    Tant que condition Faire     <-- dans une boucle bornée, il y a toujours une condition\n",
    "        Traitement               <-- le traitement est répété tant que la condition est vraie\n",
    "    Fin Tant que                 <-- on sort de la boucle dès que la condition est fausse\n",
    "  \n",
    "**Remarques**  \n",
    "+ Si la condition de la boucle non bornée n'est jamais fausse, le traitement sera répété à l'infini. On parle de *boucle infinie*. Cette erreur est souvent détectée par l'ordinateur, mais peut parfois conduire à un arrêt de ce dernier.\n",
    "+ En Python, une boucle non bornée s'écrit avec le mot clé `while` :\n",
    "```langage-python\n",
    "x = 0\n",
    "while(2*x+3 < 50):\n",
    "      x = x + 1\n",
    "x\n",
    "```\n",
    "Ce programme calcule l'image de x par la fonction affine f(x)=2x+3, pour x=0 au début. Si le résultat est inférieur à 50, on ajoute 1 à x et on recommence le calcul. On dit aussi qu'on *incrémente* x. Dans le cas contraire, c'est-à-dire si le résultat est supérieur ou égal à 50, on sort de la boucle et on donne la valeur de x.  \n",
    "  \n",
    "**Exemples**  \n",
    "Tester le programme suivant. Que fait-il ?"
   ]
  },
  {
   "cell_type": "code",
   "execution_count": null,
   "metadata": {},
   "outputs": [],
   "source": [
    "x = 0\n",
    "while(1200 - 3*x >= 499):\n",
    "    x = x + 1\n",
    "x\n",
    "# Le programme ...\n",
    "\n",
    "\n",
    "\n",
    "\n"
   ]
  },
  {
   "cell_type": "markdown",
   "metadata": {},
   "source": [
    "En s'aidant de l'exemple précédent, écrire un programme qui détermine le plus petit entier naturel tel que son carré soit strictement supérieur 123456789."
   ]
  },
  {
   "cell_type": "code",
   "execution_count": null,
   "metadata": {},
   "outputs": [],
   "source": [
    "x = 0\n",
    "while(...):\n",
    "\n"
   ]
  },
  {
   "cell_type": "markdown",
   "metadata": {},
   "source": [
    "**Remarque**  \n",
    "Python dispose d'une bibliothèque de fonctions aléatoires, nommée `random`. Dans cette bibliothèque, on trouve la fonction `randint` qui choisit au hasard un nombre entier entre deux bornes incluses.\n",
    "Ainsi l'instruction `randint(1,10)` va retourner un nombre entier compris entre 1 et 10.  \n",
    "  \n",
    "**Exemple**\n",
    "Tester le programme suivant. Que fait-il ?"
   ]
  },
  {
   "cell_type": "code",
   "execution_count": null,
   "metadata": {},
   "outputs": [],
   "source": [
    "import random\n",
    "nombre_secret = random.randint(1,10)\n",
    "x = int(input(\"Essayez de deviner le nombre secret, compris entre 1 et 10 : \"))\n",
    "while ( x != nombre_secret):\n",
    "    x = int(input(\"Essayez à nouveau de deviner le nombre secret, compris entre 1 et 10 : \"))\n",
    "print(\"Bravo c'était bien : \",x)"
   ]
  },
  {
   "cell_type": "markdown",
   "metadata": {},
   "source": [
    "Modifier le programme précédent pour obtenir le nombre de coups tentés à la sortie de la boucle.  \n",
    "  \n",
    "**Exercices à faire dans Spyder** (et/ou sur le cahier d'exercices)  \n",
    "n°11 p.333, n°23 et 24 p.337  \n",
    "  \n",
    "## V. Fonctions\n",
    "\n",
    "**Définition**  \n",
    "Dans un programme informatique, on peut être amené à faire plusieurs fois les mêmes calculs, ou à exécuter plusieurs fois les mêmes instructions. Afin de ne pas répéter inutilement les lignes de code associées, il est possible de créer une fonction qu'il suffira d'appeler dès que nous en aurons besoin.\n",
    "Une fonction est caractérisée par trois choses :  \n",
    "1. son nom.\n",
    "2. les paramètres d'entrée, facultatifs, appelés aussi arguments d'entrée.\n",
    "3. le traitement effectué à l'intérieur de la fonction, qui peut donner lieu à un retour de valeur(s).\n",
    "  \n",
    "**Remarques**\n",
    "- Nous avons déjà fait appel à des fonctions, définies au préalable dans des bibliothèques (`print`,`input`,`randint` par exemple).\n",
    "- Pour utiliser une fonction, il faut l'appeler, c'est-à-dire s'en servir après l'avoir définie.\n",
    "- En Python, une fonction s'écrit avec le mot clé `def`, et peut renvoyer une valeur avec le mot clé `return` :\n",
    "```langage-python\n",
    "def aire_triangle(b,h):\n",
    "      aire = (b*h)/2\n",
    "      return aire\n",
    "```\n",
    "Cette fonction s'appelle `aire_triangle`. Elle a deux paramètres en entrée (`b` et `h`, pour la base et la hauteur du triangle). Elle calcule l'aire correspondante, puis la renvoie sous forme numérique.  \n",
    "  \n",
    "**Exemple**\n",
    "Tester le programme suivant. Changer la valeur des paramètres d'entrée, et vérifier que le résultat est correct."
   ]
  },
  {
   "cell_type": "code",
   "execution_count": null,
   "metadata": {},
   "outputs": [],
   "source": [
    "# Définition de la fonction\n",
    "def aire_triangle(b,h):\n",
    "      aire = (b*h)/2\n",
    "      return aire\n",
    "# Appel de la fonction\n",
    "aire_triangle(10,0.8)"
   ]
  },
  {
   "cell_type": "markdown",
   "metadata": {},
   "source": [
    "**Remarque**  \n",
    "- L'instruction `return` interrompt le déroulement de la fonction dès qu'elle est exécutée.\n",
    "- Le nom des fonctions obéit aux mêmes règles que celui des variables : pas d'espace !\n",
    "  \n",
    "**Exercice**  \n",
    "Un vidéaste web a constaté qu'il gagnait 7% de followers chaque mois. Au 1er septembre 2018, il en compte 129 000. Il voudrait savoir quand il dépassera le million de followers. Pour cela, il a écrit un petit programme avec une boucle `while`, mais il lui manque la fonction `calcul_mois_suivant`. À vous d'identifier ses caractéristiques et de l'écrire."
   ]
  },
  {
   "cell_type": "code",
   "execution_count": null,
   "metadata": {},
   "outputs": [],
   "source": [
    "# Fonction calcul_mois_suivant\n",
    "...\n",
    "...\n",
    "...\n",
    "# programme principal\n",
    "nb_followers = 129000\n",
    "mois = 0\n",
    "while (nb_followers < 1000000):\n",
    "    nb_followers = calcul_mois_suivant(nb_followers)\n",
    "    mois = mois + 1\n",
    "print(nb_followers,mois)"
   ]
  },
  {
   "cell_type": "markdown",
   "metadata": {},
   "source": [
    "Quel résultat obtient-on ? Donner une réponse claire à ce vidéaste (année + mois).  \n",
    "  \n",
    "**Exercices à faire dans Spyder** (et/ou sur le cahier d'exercices)  \n",
    "n°13-16 p.335, n°25-27 p.337 "
   ]
  },
  {
   "cell_type": "code",
   "execution_count": null,
   "metadata": {},
   "outputs": [],
   "source": []
  }
 ],
 "metadata": {
  "kernelspec": {
   "display_name": "Python 3",
   "language": "python",
   "name": "python3"
  },
  "language_info": {
   "codemirror_mode": {
    "name": "ipython",
    "version": 3
   },
   "file_extension": ".py",
   "mimetype": "text/x-python",
   "name": "python",
   "nbconvert_exporter": "python",
   "pygments_lexer": "ipython3",
   "version": "3.7.2"
  }
 },
 "nbformat": 4,
 "nbformat_minor": 2
}
