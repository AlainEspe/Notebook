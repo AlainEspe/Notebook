{
 "cells": [
  {
   "cell_type": "markdown",
   "metadata": {},
   "source": [
    "# TP2 Python - Calcul de racines carrées\n",
    "\n",
    "On se propose d'étudier une suite dont chaque terme est une approximation de plus en plus précise de $\\sqrt{2}$.\n",
    "\n",
    "On note $u$ la suite définie par \n",
    "$$\n",
    "\\left\\{\n",
    "\\begin{align*}\n",
    "u_0&=1\\\\\n",
    "\\forall n\\in\\mathbb{N},\\ u_{n+1}&=\\frac{u_n+\\frac{2}{u_n}}{2}\n",
    "\\end{align*}\n",
    "\\right.\n",
    "$$"
   ]
  },
  {
   "cell_type": "markdown",
   "metadata": {},
   "source": [
    "## Questions\n",
    "\n",
    "1. Donner les quatre premiers termes de la suite. On donnera les valeurs exactes sous forme de fraction.\n",
    "2. Comparer ces valeurs à l'approximation de $\\sqrt{2}$ fournie par votre calculatrice. Que pouvez-vous dire?\n",
    "3. Compléter le code suivant pour que `suite(n)` retourne la valeur de $u_n$."
   ]
  },
  {
   "cell_type": "code",
   "execution_count": 3,
   "metadata": {},
   "outputs": [],
   "source": [
    "# Remplacez les ... par le code nécessaire\n",
    "def suite(n):\n",
    "    u = 1\n",
    "    for i in range(...):\n",
    "        u = ....\n",
    "    return u # arrivé ici dans le code, u doit valoir u_n"
   ]
  },
  {
   "cell_type": "markdown",
   "metadata": {},
   "source": [
    "4. Vérifier votre code en comparant `suite(n)` aux valeurs de $u_n$ calculées plus haut.\n",
    "5. On fournit la valeur approchée suivante $\\sqrt{2}\\approx 1.4142135623730951$. Pour 5 premières valeurs de $n$, donner le nombre de décimales que cette valeur approchée et $u_n$ ont en commun. Combien de décimales exactes gagne-t-on à chaque étape ?\n",
    "6. Modifier le code ci-dessus pour que le code calcule des valeur approchées de $\\sqrt{3}$. Puis refaites la question 5 avec $\\sqrt{3}\\approx 1.7320508075688772$"
   ]
  },
  {
   "cell_type": "markdown",
   "metadata": {},
   "source": [
    "Cette méthode était connue des Grecs, elle porte le nom de l'un d'entre eux : Héron. Mais elle était sans doute connue des égyptiens. Si vous avez le temps, tracez sur Geogebra les rectangles de largeur $u_n$ et de longueur $2/u_n$. Que remarquez-vous ?"
   ]
  }
 ],
 "metadata": {
  "kernelspec": {
   "display_name": "Python 3",
   "language": "python",
   "name": "python3"
  },
  "language_info": {
   "codemirror_mode": {
    "name": "ipython",
    "version": 3
   },
   "file_extension": ".py",
   "mimetype": "text/x-python",
   "name": "python",
   "nbconvert_exporter": "python",
   "pygments_lexer": "ipython3",
   "version": "3.6.9"
  }
 },
 "nbformat": 4,
 "nbformat_minor": 4
}
