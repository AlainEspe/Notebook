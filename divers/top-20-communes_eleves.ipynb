{
 "cells": [
  {
   "cell_type": "markdown",
   "metadata": {},
   "source": [
    "<html>\n",
    "    <h1>Top 20 des communes de France</h1>\n",
    "    <p>Dans cet exercice nous allons travailler sur les 20 communes de France les plus peuplés.Le but sera partir des longitudes et latitudes afficher sur une carte ces 20 villes.</p>\n",
    "        <p>Vous vous en doutez nous allons avoir besoin de données pour cet exercice. C'est pourquoi vous avez le fichier communes20.csv disponible dans le répertoire du TP. Afin de simplifier le travail, la ligne des titres a été volontairement supprimé. Voici quelques informations sur ce fichier:</br>\n",
    "            <ol><li>La colonne 0 est l'id de la ville</li>\n",
    "    <li>La colonne 1 est le numéro du département de la ville</li>\n",
    "    <li>La colonne 2 est le nom de la ville</li>\n",
    "    <li>La colonne 3 est le nombre d'habitants de la ville</li>\n",
    "    <li>La colonne 5 est la latitude de la ville au point zéro</li>\n",
    "    <li>La colonne 6 est la longitude de la ville au point zéro</li>\n",
    "    <li>Les colonnes 4; 7 et 8 ne seront pas utilises pour notre exercice</li>\n",
    "    </ol></p>\n",
    "    \n",
    "<p><ul><li>Ouvrir le fichier communes20.csv avec un blocnote (comme notepad++) et repérer quel est le séparateur entre les données</li></ul></p>\n",
    "</html>"
   ]
  },
  {
   "cell_type": "markdown",
   "metadata": {},
   "source": [
    "<html>\n",
    "    <p><ul><li>Compléter le code ci-dessous:\n",
    "    <ul><li>Insérer en \"dur\" dans la liste location les coordonnées de la ville de Paris càd: location=[ x,y ] en remplaçant x et y par la longitude et la latitude trouvé dans le fichier csv</li>\n",
    "        <li>saisir le bon delimiter</li></ul></p>\n",
    "</html>"
   ]
  },
  {
   "cell_type": "code",
   "execution_count": 11,
   "metadata": {},
   "outputs": [],
   "source": [
    "import csv\n",
    "import folium #Importe une librairie permettant de créer des cartes\n",
    "\n",
    "\"\"\"Build map\"\"\"\n",
    "#Compléter la liste location\n",
    "m = folium.Map(\n",
    "location=[ 48.86 , 2.34445 ],\n",
    "zoom_start=5, \n",
    "tiles='Stamen Terrain'\n",
    ")\n",
    "\n",
    "with open( \"communes20.csv\" , newline = '' ) as csvfile: \n",
    "    reader = csv.reader( csvfile , delimiter = '' )#Compléter -> Donner le bon delimiter"
   ]
  },
  {
   "cell_type": "markdown",
   "metadata": {},
   "source": [
    "<html>\n",
    "    <h1>Cartographie</h1>\n",
    "    <p><ul><li>Compléter le code ci-dessous afin de récupérer dans une variable long la longitude et dans une variable lat la latitude.</li>\n",
    "    <li>Modifier la partie \"popup='nomVille'\" en remplaçant nomVille par le nom récupérer par le fichier csv, Même chose pour tooltip.</li></ul> </p>\n",
    "</html>"
   ]
  },
  {
   "cell_type": "code",
   "execution_count": 12,
   "metadata": {},
   "outputs": [],
   "source": [
    "with open( \"communes20.csv\" , newline = '' ) as csvfile: \n",
    "    reader = csv.reader( csvfile , delimiter = '' )#Compléter -> Donner le bon delimiter\n",
    "    for row in reader:\n",
    "        long = float( row )\n",
    "        lat = float( row )\n",
    "\n",
    "        folium.Marker([ lat , long ], popup='nomVille', tooltip='tooltip').add_to(m)\n",
    "        \n",
    "    m.save('index.html')\n"
   ]
  },
  {
   "cell_type": "markdown",
   "metadata": {},
   "source": [
    "<html>\n",
    "    <p>Un fichier index.html s'est créé dans votre répertoire. Pour tester votre résultat, ouvrez le fichier et vérifier que les pointeurs soient positionnés correctements</p>\n",
    "</html>"
   ]
  },
  {
   "cell_type": "markdown",
   "metadata": {},
   "source": [
    "<html>\n",
    "    <h1>S'il vous reste du temps</h1>\n",
    "    <p><ul><li>Compléter le code ci-dessous pour afficher le nom de la ville qui contient le moins d'habitants</li></ul></p>\n",
    "</html>"
   ]
  },
  {
   "cell_type": "code",
   "execution_count": null,
   "metadata": {},
   "outputs": [],
   "source": [
    "with open( \"communes20.csv\" , newline = '' ) as csvfile:\n",
    "    reader = csv.reader( csvfile , delimiter = '' )#Compléter -> Donner le bon delimiter\n",
    "    #trouver la ville avec le moins d'habitants"
   ]
  }
 ],
 "metadata": {
  "kernelspec": {
   "display_name": "Python 3",
   "language": "python",
   "name": "python3"
  },
  "language_info": {
   "codemirror_mode": {
    "name": "ipython",
    "version": 3
   },
   "file_extension": ".py",
   "mimetype": "text/x-python",
   "name": "python",
   "nbconvert_exporter": "python",
   "pygments_lexer": "ipython3",
   "version": "3.6.9"
  }
 },
 "nbformat": 4,
 "nbformat_minor": 4
}
