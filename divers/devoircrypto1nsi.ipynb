{
 "cells": [
  {
   "cell_type": "markdown",
   "metadata": {},
   "source": [
    "# Devoir maison n°3"
   ]
  },
  {
   "cell_type": "markdown",
   "metadata": {},
   "source": [
    "### Ex 1 : l'utilité de l'opérateur `%`\n",
    "\n",
    "Écrivez le programme python qui calcule l'heure qu'il sera dans un certain nombre d'heures. \n",
    "\n",
    "* Entrée : on vous donne une variable `heureDepart` de type `str`  représentant une heure au format HH:MM sur 24 h, et une variable `decalage`  de type `int`.\n",
    "* Sortie : on demande l'heure qu'il sera `décalage` heures après (ou avant, si `decalage` < 0) `heureDepart`, au format HH:MM\n",
    "\n",
    "Exemples :\n",
    "1.  `heureDepart = 02:30`, `decalage = 5` : la sortie attendue est `07:30`\n",
    "2.  `heureDepart = 23:30`, `decalage = 5` : la sortie attendue est `04:30`\n",
    "2.  `heureDepart = 23:30`, `decalage = 24` : la sortie attendue est `23:30`\n",
    "4.  `heureDepart = 01:30`, `decalage = -2` : la sortie attendue est `23:30`\n",
    "\n",
    "Aide : \n",
    "Pour couper une `str` en morceaux autour d'un séparateur, utiliser la fonction `split` de la manière suivante : "
   ]
  },
  {
   "cell_type": "code",
   "execution_count": 110,
   "metadata": {},
   "outputs": [
    {
     "name": "stdout",
     "output_type": "stream",
     "text": [
      "morceaux : ['3', '141592653589793']\n",
      "deuxième morceau : 141592653589793\n"
     ]
    }
   ],
   "source": [
    "#EXEMPLE\n",
    "pi = \"3.141592653589793\"                         #attention c'est bien une str\n",
    "print(\"morceaux : \" + str(pi.split('.')))        #split retourne la liste de morceaux.\n",
    "print(\"deuxième morceau : \" + pi.split('.')[1])  #on peut accéder à un élément"
   ]
  },
  {
   "cell_type": "markdown",
   "metadata": {},
   "source": [
    "### Ex 2 : Chiffre de César\n",
    "\n",
    "La cryptographie sert à rendre un message impossible (ou très difficile) à lire  sauf pour une personne qui connaît le *chiffre*. On part d'un *texte clair*, on le *chiffre* à l'aide d'une méthode et d'une *clé*, on obtient le *texte chiffré*, qui pourra être *déchiffré* pour retrouver le *texte clair*.\n",
    "\n",
    "Le *Chiffre de César* est une méthode de chiffrage qui consiste à décaler chaque lettre du texte clair de $N$ positions vers la droite. Le correspondant doit connaître $N$ pour déchiffrer en décalant chaque lettre du texte *chiffré* de $N$ positions vers la gauche. \n",
    "\n",
    "Par ex, avec $N = 3$ le mot `\"abc\"` sera chiffré `\"def\"` et le mot `\"message\"` sera chiffré `\"phvvdjh\"`.\n",
    "\n",
    "On appelle $N$ la *clé* de chiffrage. \n",
    "\n",
    "\n",
    "<img src=\"EnRond.png\" alt=\"Cadran alphabétique\" idth=40% style=\"float:right\">\n",
    "\n",
    "Dans tout l'exercice, on n'utilisera que des lettres de l'alphabet `\"abcdefghijklmnopqrstuvwxyz\"`. Les espaces entre les mots seront supprimés.\n",
    "\n",
    "Attention :  avec $N = 26$ le mot `\"abc\"` sera chiffré `\"abc\"`. Le « cadran » à droite l'explique : après 26 décalages, on a fait un tour complet."
   ]
  },
  {
   "cell_type": "markdown",
   "metadata": {},
   "source": [
    "#### Partie  A : chiffrement\n",
    "\n",
    "Écrivez le programme python pour chiffrer un message avec la méthode de César.\n",
    "\n",
    "* Entrée : deux variables `texte_clair` de type `str` et `cle` de type `int` \n",
    "* Sortie : le `texte_clair` chiffré selon la méthode de César avec la `cle`.\n",
    "\n",
    "Exemple : avec `texte_clair = zazous` et `cle = 3`, la sortie attendue est `\"cdcrxv\"`\n",
    "\n",
    "Aide : avec `alphabet = \"abcdefghijklmnopqrstuvwxyz\"`, on obtient l'index de la lettre `\"c\"` par exemple avec la fonction `alphabet.index(\"c\")`. "
   ]
  },
  {
   "cell_type": "markdown",
   "metadata": {},
   "source": [
    "#### Partie B : déchiffrement\n",
    "\n",
    "* Entrée : deux variables `texte_chiffre` de type `str` et `cle` de type `int`. `texte_chiffre` est le résultat du chiffrement d'un texte écrit en utilisant uniquement l'alphabet \"abcdefghijklmnopqrstuvwxyz\" (donc sans espaces) par la méthode de César avec la clé `cle`.\n",
    "* Sortie : le texte clair dont `texte_chiffre` est la version chiffrée. "
   ]
  },
  {
   "cell_type": "markdown",
   "metadata": {},
   "source": [
    "#### Partie C : cassage brutal\n",
    "\n",
    "*Casser* un chiffrement, c'est deviner la méthode de chiffrement et la clé en utilisant un échantillon de messages chiffrés. \n",
    "\n",
    "La méthode dite *en force brute* consiste à essayer toutes les clés possibles jusqu'à trouver un résultat qui ressemble à un message clair. \n",
    "\n",
    "Écrire le programme python pour casser en force brute un message chiffré par le code de César, et  n'utilisant que les lettres de l'alphabet défini au début de l'exercice. Le programme affichera, pour chaque clé essayée,  la clé, et le résultat déchiffré. C'est l'utilisateur du programme qui choisira d'arrêter lorsqu'il estimera que le texte clair a été trouvé. \n",
    "\n",
    "Aide : exemple de code pour arrêter une boucle en fonction d'une entrée de l'utlisateur : "
   ]
  },
  {
   "cell_type": "code",
   "execution_count": 96,
   "metadata": {},
   "outputs": [
    {
     "name": "stdout",
     "output_type": "stream",
     "text": [
      "stop ? entrer o pour oui, sinon n'importe quelle toucheo\n"
     ]
    }
   ],
   "source": [
    "for i in range(10):\n",
    "    reponse = input(\"stop ? entrer o pour oui, sinon n'importe quelle touche\")\n",
    "    if reponse == \"o\":\n",
    "        break   #interrompt la boucle si la réponse est 'o'"
   ]
  },
  {
   "cell_type": "markdown",
   "metadata": {},
   "source": [
    "#### Partie D : cassage intelligent\n",
    "\n",
    "<img src=\"Al-kindi.jpeg\" alt=\"Portrait d'Al-Kindi\" width=\"20%\" style=\"float:right\">\n",
    "Au IX e siècle, le philosophe arabe Al-Kindi proposa une méthode pour « casser » les messages   chiffrés par substitution comme avec le chiffre de César. Cette méthode utilisait le fait que dans une langue donnée, certains caractères sont beaucoup plus fréquents que d'autres. \n",
    "\n",
    "Voici les 7 lettres (non accentuées) les plus fréquentes dans un texte en français, classées selon leur fréquence d’apparition.\n",
    "\n",
    "e, a, i, s, n, r, t ((i,s,n,r,t) sont presque ex-æquo)\n",
    "\n",
    "Écrivez le programme python qui vous aide à casser un message par la méthode d'Al-Kindi.\n",
    "\n",
    "* Entrée : une variable `texte_cible` de type `str`, et l'alphabet déjà défini plus haut. \n",
    "* Sortie : afficher, pour chaque lettre de l'alphabet, cette lettre, et le nombre de fois où elle apparaît dans le `texte_cible`. À vous d'en déduire ensuite la clé et le message clair !\n",
    "\n",
    "Essayez par exemple avec :\n",
    "\n",
    "\"vhswphufhghvyhuwhvghvfhqghqwohqwhphqwyhuvohvkhuehvyhuwhv\"\n",
    "\n",
    "\"pszhwwyvjohcvbshuashwshapykbujvbwcpmthpzshupthswypazvucvskpzwhyhpzzhuakhuzshubpahchuaxbpshpawbshzzhpsspy\""
   ]
  }
 ],
 "metadata": {
  "kernelspec": {
   "display_name": "Python 3",
   "language": "python",
   "name": "python3"
  },
  "language_info": {
   "codemirror_mode": {
    "name": "ipython",
    "version": 3
   },
   "file_extension": ".py",
   "mimetype": "text/x-python",
   "name": "python",
   "nbconvert_exporter": "python",
   "pygments_lexer": "ipython3",
   "version": "3.8.6"
  }
 },
 "nbformat": 4,
 "nbformat_minor": 4
}
