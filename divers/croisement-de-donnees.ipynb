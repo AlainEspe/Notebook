{
 "cells": [
  {
   "cell_type": "markdown",
   "metadata": {},
   "source": [
    "<html>\n",
    "    <h1>Animaux de compagnie</h1>\n",
    "    <p> Le code ci-dessous comporte deux listes:\n",
    "    <ul> <li> La première liste stocke numéro de maître, le nom du chien, la race et l'âge</li>\n",
    "        <li>La seconde liste stocke le numéro de maître et le nom du maître</li></ul>\n",
    "    <p><ul><li>Executer le code ci-dessous</li><ul></p>\n",
    "</html>"
   ]
  },
  {
   "cell_type": "code",
   "execution_count": 11,
   "metadata": {},
   "outputs": [],
   "source": [
    "chiens = [ [ 1457 , \"Scooby\" , \"Dogue Allemand\" , 5 ] , [ 1697 , \"Bill\" , \"Cocker\" , 3 ] , \n",
    "          [ 1452 , \"Plutot\" , \"Saint Hubert\" , 6 ] , [ 1697 , \"Droopy\" , \"Basset Hound\" , 8 ] , \n",
    "          [ 1452 , \"Rouky\" , \"Saint Hubert\" , 3 ] ]\n",
    "\n",
    "maitres = [ [ 2001 , \"Robert\" ] , [ 1452 , \"Camille\" ] , [ 1457 , \"Laura\" ] , [ 1697 , \"Bob\" ] , [ 2211 , \"Jose\" ] ] "
   ]
  },
  {
   "cell_type": "markdown",
   "metadata": {},
   "source": [
    "Identifier le ou les champs commun(s) entre ces deux listes"
   ]
  },
  {
   "cell_type": "markdown",
   "metadata": {},
   "source": [
    "<html>\n",
    "    <p><ul><li>Compléter le code ci-dessous pour que l3 soit remplis que si le champ commun entre chiens et maitres sont égaux</li></ul>\n",
    "</html>"
   ]
  },
  {
   "cell_type": "code",
   "execution_count": null,
   "metadata": {},
   "outputs": [],
   "source": [
    "for iIndex in range( len( maitres ) ):\n",
    "    l3 = [ cIt for cIt in chiens ]#A compléter\n",
    "    for nIt in l3:\n",
    "        maitres[ iIndex ].append( nIt[ 1 ] )\n",
    "print( maitres )"
   ]
  },
  {
   "cell_type": "markdown",
   "metadata": {},
   "source": [
    "<html>\n",
    "    <p><ul><li>Justifier que les cases de:\n",
    "    <ul><li>Robert</li>\n",
    "        <li>Jose</li></ul>\n",
    "    dans la liste maitres n'aient pas changés</li></ul></p>\n",
    "<html>"
   ]
  },
  {
   "cell_type": "raw",
   "metadata": {},
   "source": []
  },
  {
   "cell_type": "markdown",
   "metadata": {},
   "source": [
    "<html>\n",
    "    <h2>Les chats</h2>\n",
    "    <p>Les maitres Robert et Jose possèdent des chats:\n",
    "        Robert possède:\n",
    "    <ul><li>mistigri est un persan, agé de 4 ans</li></ul>\n",
    "        Jose possède:\n",
    "        <ul><li>gribouille est un siamois, agé de 3ans</li>\n",
    "            <li>nsicat est un geek, agé de 1an</li></ul>\n",
    "        Sur le même principe que la liste chien, construire une liste chats</p>\n",
    "</html>"
   ]
  },
  {
   "cell_type": "code",
   "execution_count": null,
   "metadata": {},
   "outputs": [],
   "source": [
    "#Créer la liste chats"
   ]
  },
  {
   "cell_type": "markdown",
   "metadata": {},
   "source": [
    "<html>\n",
    "    <p><ul><li>Sur le même principe que les questions précédentes, associer les trois chats à leur mâitre </li></ul></p>\n",
    "</html>"
   ]
  },
  {
   "cell_type": "code",
   "execution_count": null,
   "metadata": {},
   "outputs": [],
   "source": [
    "#Associer chats et maîtres"
   ]
  },
  {
   "cell_type": "markdown",
   "metadata": {},
   "source": [
    "<html>\n",
    "    <p><ul><li>Faire valider par le professeur. </li></ul></p>\n",
    "</html>"
   ]
  },
  {
   "cell_type": "markdown",
   "metadata": {},
   "source": [
    "<html>\n",
    "    <h1>Age min/max </h1>\n",
    "    <p><ul><li>A partir de la liste chiens, créer un script qui permet de déterminer le chien le plus jeune</li></ul></p>\n",
    "</html>"
   ]
  },
  {
   "cell_type": "code",
   "execution_count": null,
   "metadata": {},
   "outputs": [],
   "source": [
    "#Script chien le plus jeune"
   ]
  },
  {
   "cell_type": "markdown",
   "metadata": {},
   "source": [
    "<html>\n",
    "    <p><ul><li>A partir de la liste chiens, créer un script qui permet de déterminer le chien le plus agé</li></ul></p>\n",
    "</html>"
   ]
  },
  {
   "cell_type": "code",
   "execution_count": null,
   "metadata": {},
   "outputs": [],
   "source": [
    "#Script chien le plus agé"
   ]
  },
  {
   "cell_type": "markdown",
   "metadata": {},
   "source": [
    "<html>\n",
    "    <p><ul><li>Faire valider par le professeur. </li></ul></p>\n",
    "</html>"
   ]
  },
  {
   "cell_type": "code",
   "execution_count": null,
   "metadata": {},
   "outputs": [],
   "source": []
  }
 ],
 "metadata": {
  "kernelspec": {
   "display_name": "Python 3",
   "language": "python",
   "name": "python3"
  },
  "language_info": {
   "codemirror_mode": {
    "name": "ipython",
    "version": 3
   },
   "file_extension": ".py",
   "mimetype": "text/x-python",
   "name": "python",
   "nbconvert_exporter": "python",
   "pygments_lexer": "ipython3",
   "version": "3.6.9"
  }
 },
 "nbformat": 4,
 "nbformat_minor": 4
}
