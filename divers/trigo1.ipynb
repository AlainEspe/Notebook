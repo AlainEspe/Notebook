{
 "cells": [
  {
   "cell_type": "markdown",
   "metadata": {},
   "source": [
    "<p>La boucle &laquo; TANT QUE &raquo; (boucle non born&eacute;e).</p>\n",
    "<p>La structure algorithme est la suivante :</p>\n",
    "<p>Tant que (condition) :</p>\n",
    "<p>&nbsp;&nbsp;&nbsp;&nbsp; &hellip;</p>\n",
    "<p>&nbsp;&nbsp;&nbsp;&nbsp; &hellip; (instructions &agrave; r&eacute;p&eacute;ter)</p>\n",
    "<p>Fin Tant</p>\n",
    "<p>&hellip; (suite du programme)</p>\n",
    "<p>Il s'agit d'une r&eacute;p&eacute;tition d'instructions en boucle \"tant que\" la condition est vraie.</p>\n",
    "<p>C'est une boucle &laquo; non born&eacute;e &raquo; car si la condition ne devient jamais fausse, elle se r&eacute;p&egrave;te ind&eacute;finiment&hellip; !(A &eacute;viter biens&ucirc;r).</p>\n",
    "<p>En Python, la syntaxe est la suivante :</p>\n",
    "<p>while 'condition':</p>\n",
    "<p>&nbsp;&nbsp;&nbsp;&nbsp;&nbsp; ..... bloc d'instructions indent&eacute;es</p>\n",
    "<p>suite du programme</p>"
   ]
  },
  {
   "cell_type": "markdown",
   "metadata": {},
   "source": [
    "<p>Exercice :</p>\n",
    "<p>Lorsqu'un r&eacute;el a est en dehors de l'intervalle ]-pi ; pi], on peut enlever ou ajouter un certain nombre de fois 2pi pour placer le point image par enroulement sur le cercle trigonom&eacute;trique. Pour un r&eacute;el a donn&eacute;, il existe un unique entier k tel que a = b + 2kpi, o&ugrave; b est dans l'intervalle ]-pi ; pi].</p>\n",
    "<p>Voici une fonction Python :</p>"
   ]
  },
  {
   "cell_type": "code",
   "execution_count": null,
   "metadata": {},
   "outputs": [],
   "source": [
    "from math import*\n",
    "def tours(a):\n",
    "    if a > pi :\n",
    "        b = a\n",
    "        while b > pi : # tant que b est plus grand que pi, on retire un tour complet c'est à dire 2pi\n",
    "            b = b - 2*pi\n",
    "        return b\n",
    "    elif a <= -pi : \n",
    "        b = a\n",
    "        while b <= -pi: # tant que b est plus petit que -pi, on ajoute un tour complet c'est à dire 2pi\n",
    "            b = b + 2*pi\n",
    "        return b\n",
    "    else:       \n",
    "        return a"
   ]
  },
  {
   "cell_type": "markdown",
   "metadata": {},
   "source": [
    "1°) Quel est le rôle de la fonction tours?"
   ]
  },
  {
   "cell_type": "markdown",
   "metadata": {},
   "source": [
    "2°) Que retourne tours(35*pi)?"
   ]
  },
  {
   "cell_type": "markdown",
   "metadata": {},
   "source": [
    "3°) Modifier cette fonction pour qu'elle retourne également le nombre de tours qui a été enlevé ou ajouté."
   ]
  }
 ],
 "metadata": {
  "kernelspec": {
   "display_name": "Python 3",
   "language": "python",
   "name": "python3"
  },
  "language_info": {
   "codemirror_mode": {
    "name": "ipython",
    "version": 3
   },
   "file_extension": ".py",
   "mimetype": "text/x-python",
   "name": "python",
   "nbconvert_exporter": "python",
   "pygments_lexer": "ipython3",
   "version": "3.6.9"
  }
 },
 "nbformat": 4,
 "nbformat_minor": 2
}
