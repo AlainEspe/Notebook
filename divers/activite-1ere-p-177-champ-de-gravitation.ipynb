{
 "cells": [
  {
   "cell_type": "code",
   "execution_count": 2,
   "metadata": {},
   "outputs": [
    {
     "data": {
      "image/png": "[encoded data removed]",
      "text/plain": [
       "<Figure size 432x288 with 1 Axes>"
      ]
     },
     "metadata": {
      "needs_background": "light"
     },
     "output_type": "display_data"
    }
   ],
   "source": [
    "import matplotlib.pyplot as plt\n",
    "\n",
    "#placement de la particule source du champ\n",
    "x_masse=0 #position au centre du graphique, ne pas modifier\n",
    "y_masse=0 #position au centre du graphique, ne pas modifier\n",
    "\n",
    "#Masse du corps ponctuel A\n",
    "masse=2.0\n",
    "\n",
    "#coordonnées de la position à laquelle on est soumis au champ\n",
    "x=3\n",
    "y=0\n",
    "\n",
    "#affichage d'un message d'erreur si la demande de placement se situe au niveau de la particule;\n",
    "if x==x_masse and y==y_masse :\n",
    "    print(\"Erreur car la charge se situe au niveau de la particule\")\n",
    "    print(\"Fermez cette fenêtre et recommencez\" )\n",
    "    sys.exit(0)\n",
    "\n",
    "# distance entre l'origine et la charge\n",
    "Dist = ((x-x_masse)**2+(y-y_masse)**2)**0.5\n",
    "\n",
    "#Modélisation du champ selon deux vecteurs Gx et Gy\n",
    "Gx=-masse*(x-x_masse)/Dist**3\n",
    "Gy=-masse*(y-y_masse)/Dist**3\n",
    "\n",
    "#Valeur du champ à afficher sur le graphique\n",
    "G=6.67e-11*masse/(Dist)**2\n",
    "\n",
    "#conversion en \"string\" pour pouvoir être affichée\n",
    "G=str(\"%.2E\"%G)\n",
    "\n",
    "#graphique\n",
    "xmin, ymin, xmax, ymax = -10,-12,10,12\n",
    "\n",
    "#titre avec valeur du champ\n",
    "plt.title(\"Champ de gravitation en ce point :  G=\"+G+\" $\\mathrm{N\\cdot kg^{-1}}$\")\n",
    "plt.xlabel(\"abscisse en m\")\n",
    "plt.ylabel(\"ordonnée en m\")\n",
    "plt.axis('equal')\n",
    "\n",
    "plt.xlim(xmin, xmax)\n",
    "plt.ylim(ymin, ymax)\n",
    "ax = plt.gca()\n",
    "plt.grid()\n",
    "\n",
    "# Représentation de la masse centrale\n",
    "plt.scatter(x_masse,y_masse,marker=\"o\",color='red')\n",
    "plt.text(0,0.5,\"$m_A$\",color='red')\n",
    "\n",
    "#valeur de la masse à afficher\n",
    "mA=str(masse)\n",
    "plt.text(-9,-6,\"$m_A$ = \"+mA+ \" kg\",color='red')\n",
    "\n",
    "#valeur de la distance à afficher\n",
    "d=str(\"%.2E\"%Dist)\n",
    "plt.text(-9,-7,\"$d$ = \"+d+ \" m\")\n",
    "\n",
    "# Représentation du champ de gravitation\n",
    "plt.scatter(x,y,marker=\"x\")\n",
    "plt.text(x+0.2,y+0.2,\"$\\overrightarrow{G}$\")\n",
    "plt.arrow(x,y,3*Gx,3*Gy,ec=\"k\",head_width=0.2,head_length=0.2) #coeff de proportionnalité pour la longueur changé\n",
    "\n",
    "plt.show()\n",
    "\n"
   ]
  },
  {
   "cell_type": "code",
   "execution_count": null,
   "metadata": {},
   "outputs": [],
   "source": []
  },
  {
   "cell_type": "code",
   "execution_count": null,
   "metadata": {},
   "outputs": [],
   "source": []
  }
 ],
 "metadata": {
  "kernelspec": {
   "display_name": "Python 3",
   "language": "python",
   "name": "python3"
  },
  "language_info": {
   "codemirror_mode": {
    "name": "ipython",
    "version": 3
   },
   "file_extension": ".py",
   "mimetype": "text/x-python",
   "name": "python",
   "nbconvert_exporter": "python",
   "pygments_lexer": "ipython3",
   "version": "3.6.9"
  }
 },
 "nbformat": 4,
 "nbformat_minor": 4
}
