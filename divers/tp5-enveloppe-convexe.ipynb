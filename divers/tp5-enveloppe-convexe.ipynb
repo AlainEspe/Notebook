{
 "cells": [
  {
   "cell_type": "markdown",
   "metadata": {},
   "source": [
    "# TP n°5 : Recherche d'enveloppe convexe dans le plan"
   ]
  },
  {
   "cell_type": "markdown",
   "metadata": {},
   "source": [
    "L'objectif de ce TP est de déterminer l'enveloppe convexe d'une famille finie de points\n",
    "dans le plan, que l'on appelle nuage de points. On remarquera la grande proximité avec des algorithmes de tri.\n",
    "\n",
    "\n",
    "Le calcul de l'enveloppe convexe d'un nuage de points est un problème fondamental en informatique, qui trouve des applications dans de nombreux domaines comme :\n",
    "- la robotique, par exemple pour l'accélération de la détection de collisions dans le cadre de la planification de trajectoires ;\n",
    "- le traitement d'image et la vision, par exemple pour la détection d'objets convexes (comme les plaques minéralogiques de voiture) dans les scènes 2D ;\n",
    "- l'informatique graphique ;\n",
    "- la théorie des jeux, par exemple pour déterminer l'existence d'équilibre de Nash ;\n",
    "- la vérification formelle, par exemple pour déterminer si une variable risque de dépasser la capacité de stockage ou d'atteindre un ensemble de valeurs interdites lors de l'exécution d'une boucle dans un programme ;\n",
    "- bien d'autres encore. "
   ]
  },
  {
   "cell_type": "code",
   "execution_count": 2,
   "metadata": {},
   "outputs": [],
   "source": [
    "from queue import * # servira pour la partie 3\n",
    "import matplotlib.pyplot as plt"
   ]
  },
  {
   "cell_type": "markdown",
   "metadata": {},
   "source": [
    "On commence par un exemple test qui servira d'illustration pour la suite. "
   ]
  },
  {
   "cell_type": "code",
   "execution_count": 5,
   "metadata": {},
   "outputs": [],
   "source": [
    "T = [[0,0], [1,4], [1,8], [4,1], [4,4], [5,9], [5,6], [7,-1], [7,2], [8,5], [11,6], [13,1]]"
   ]
  },
  {
   "cell_type": "code",
   "execution_count": 9,
   "metadata": {},
   "outputs": [
    {
     "data": {
      "text/plain": [
       "<matplotlib.collections.PathCollection at 0x1181e7a90>"
      ]
     },
     "execution_count": 9,
     "metadata": {},
     "output_type": "execute_result"
    },
    {
     "data": {
      "image/png": "[encoded data removed]",
      "text/plain": [
       "<Figure size 432x288 with 1 Axes>"
      ]
     },
     "metadata": {
      "needs_background": "light"
     },
     "output_type": "display_data"
    }
   ],
   "source": [
    "X = [P[0] for P in T]\n",
    "Y = [P[1] for P in T]\n",
    "plt.grid()\n",
    "plt.scatter(X,Y)"
   ]
  },
  {
   "cell_type": "markdown",
   "metadata": {},
   "source": [
    "## Partie 1 : Préliminaires"
   ]
  },
  {
   "cell_type": "markdown",
   "metadata": {
    "collapsed": true
   },
   "source": [
    "Ecrire une fonction $\\mathtt{plusBas}(tab)$ qui prend en entrée un tableau représentant un nuage de points en renvoyant l'indice du point le plus bas, i.e. ayant l'ordonnée minimale. "
   ]
  },
  {
   "cell_type": "code",
   "execution_count": null,
   "metadata": {},
   "outputs": [],
   "source": [
    "# Q1\n",
    "def plusBas(tab):\n",
    "    \"\"\"votre code ici\"\"\"\n",
    "    return "
   ]
  },
  {
   "cell_type": "markdown",
   "metadata": {},
   "source": [
    "Dans la suite, nous n'aurons besoin que d'un seul type de test géométrique : celui de l'orientation. \n",
    "étant donnés trois points du plan on définit leur orientation via la figure suivante. "
   ]
  },
  {
   "cell_type": "markdown",
   "metadata": {
    "collapsed": true
   },
   "source": [
    "![Orientation des triangles](https://capytale2.ac-paris.fr/web/sites/default/files/2021-01-11-19-43-18/ac-paris-1/mln_serge.dupont4/envcvxe2.png)"
   ]
  },
  {
   "cell_type": "markdown",
   "metadata": {},
   "source": [
    "Ecrire une fonction $\\mathtt{orientation}(tab,i,j,k)$ qui prend en entrée le nuage de point et trois indices et qui renvoie $+1$, $0$ ou $-1$ selon que  le triangle $(P_{i},P_{j},P_{k})$ est orienté positivement, aplati ou orienté négativement. (On pourra remarquer que l'orientation se lit sur un déterminant.)\n"
   ]
  },
  {
   "cell_type": "code",
   "execution_count": null,
   "metadata": {},
   "outputs": [],
   "source": [
    "# Q2\n",
    "def orientation(tab, i, j, k):\n",
    "    \"\"\"votre code ici\"\"\"\n",
    "    return "
   ]
  },
  {
   "cell_type": "markdown",
   "metadata": {},
   "source": [
    "## Partie 2 : Algorithme du paquet-cadeau"
   ]
  },
  {
   "cell_type": "markdown",
   "metadata": {},
   "source": [
    "Cet algorithme a été proposé par Jarvis en 1973. Il consiste à envelopper petit à petit le nuage de points $P$ par une sorte de paquet cadeau. On commence par insérer le point de plus petite ordonnée dans le paquet cadeau, puis on sélectionne à chaque étape le prochain point à insérer (voir figure 3). \n",
    "\n",
    "La procédure de sélection fonctionne comme suit. Soit $P_{i}$ le dernier point inséré\n",
    "dans le paquet cadeau. La relation binaire sur les points de $P\\setminus\\{ P_{i}\\}$ définie par \n",
    "$$P_{j} \\preceq P_{k} \\Longleftrightarrow \\mathtt{orientation}(tab,i,j,k) \\leq 0$$\n",
    "est une relation d'ordre totale. (On ne demande pas de le démontrer.) Le prochain point \\`a insérer est l'élément maximum pour $\\preceq$. \n"
   ]
  },
  {
   "cell_type": "markdown",
   "metadata": {},
   "source": [
    "![algorithme du paquet cadeau](https://capytale2.ac-paris.fr/web/sites/default/files/2021-01-11-19-43-18/ac-paris-1/mln_serge.dupont4/envcvxe3.png)"
   ]
  },
  {
   "cell_type": "markdown",
   "metadata": {},
   "source": [
    "Ecrire un programme $\\mathtt{prochainPoint}(tab,i)$ qui prend en argument $P$ et l'indice $i$ du point $P_{i}$ et qui renvoie l'indice du prochain point à insérer.  On demande une complexité en $O(n)$. \n"
   ]
  },
  {
   "cell_type": "code",
   "execution_count": 13,
   "metadata": {},
   "outputs": [],
   "source": [
    "# Q3\n",
    "def prochainPoint(tab,i):\n",
    "    j = 0\n",
    "    \"\"\" votre code ici\"\"\""
   ]
  },
  {
   "cell_type": "markdown",
   "metadata": {},
   "source": [
    "Ecrire une fonction $\\mathtt{convJarvis}(tab)$ d'argument le nuage de points  $P$\n",
    "et qui renvoie la liste des indices des sommets de l'enveloppe convexe, en commençant par le sommet le plus bas. On demande une complexité en $O(nm)$ où $m$ est le nombre de sommets de l'enveloppe convexe."
   ]
  },
  {
   "cell_type": "code",
   "execution_count": 14,
   "metadata": {},
   "outputs": [],
   "source": [
    "# Q4\n",
    "def convJarvis(tab):\n",
    "    \"\"\" votre code ici\"\"\""
   ]
  },
  {
   "cell_type": "markdown",
   "metadata": {},
   "source": [
    "Ecrire une fonction $\\mathtt{enveloppeJarvis}(tab)$ qui prend en argument un nuage de points et affiche \n",
    "son enveloppe convexe en utilisant la méthode de Jarvis. \n",
    "Afficher les enveloppes convexes des nuages de points contenus dans les fichiers EXEMPLE1, \n",
    "EXEMPLE2 et EXEMPLE3. On pourra ausi ajouter les points du nuage via la fonction \n",
    "*scatter* de la bibliothèque *matplotlib.pyplot* qui a la même syntaxe que *plot*. \n",
    "\n",
    "Les fichiers d'exemples : \n",
    "- https://capytale2.ac-paris.fr/web/sites/default/files/2021-01-11-19-42-57/ac-paris-1/mln_serge.dupont4/exemple1.txt\n",
    "- https://capytale2.ac-paris.fr/web/sites/default/files/2021-01-11-19-42-57/ac-paris-1/mln_serge.dupont4/exemple2.txt\n",
    "- https://capytale2.ac-paris.fr/web/sites/default/files/2021-01-11-19-42-57/ac-paris-1/mln_serge.dupont4/exemple3.txt\n",
    "\n",
    "\n",
    "Pour récupérer les données, on pourra utiliser *rstrip* qui supprime le caractère $\\mathsf{\\backslash n}$,\n",
    "*split(',')* qui scinde les chaînes de caractères au niveau des virgules et *float* qui convertit une chaîne de caractères en flottants. \n"
   ]
  },
  {
   "cell_type": "code",
   "execution_count": 18,
   "metadata": {},
   "outputs": [],
   "source": [
    "# {On importe ici un fichier texte à partir de son url}\n",
    "import urllib.request  # the lib that handles the url stuff\n",
    "\n",
    "TABLEAU1 = []\n",
    "for line in urllib.request.urlopen(\"https://capytale2.ac-paris.fr/web/sites/default/files/2021-01-11-19-42-57/ac-paris-1/mln_serge.dupont4/exemple1.txt\"):\n",
    "    TABLEAU1.append(line.decode('utf-8')) # utf-8 or iso8859-1 or whatever the page encoding scheme is\n",
    "[TABLEAU1[k] for k in range(10)]"
   ]
  },
  {
   "cell_type": "code",
   "execution_count": null,
   "metadata": {},
   "outputs": [],
   "source": [
    "# Q5\n",
    "def enveloppeJarvis(tab):\n",
    "    \"\"\" votre code ici\"\"\""
   ]
  },
  {
   "cell_type": "markdown",
   "metadata": {},
   "source": [
    "Combien de sommets les enveloppes convexes des trois exemples précédents ont-ils ? "
   ]
  },
  {
   "cell_type": "code",
   "execution_count": null,
   "metadata": {},
   "outputs": [],
   "source": [
    "# Q6\n",
    "    \"\"\" votre code ici\"\"\""
   ]
  },
  {
   "cell_type": "markdown",
   "metadata": {},
   "source": [
    "## Partie 3 : algorithme de balayage"
   ]
  },
  {
   "cell_type": "markdown",
   "metadata": {},
   "source": [
    "On rappelle la bibliothèque *queue* permet de gérer les piles via les instructions :\n",
    "\n",
    "- *LifoQueue()* crée une pile $p$ ;\n",
    "- *p.put(x)* ajoute $x$ au sommet de la pile $p$ ;\n",
    "- *p.get()* dépile $p$ et renvoie le sommet ;\n",
    "- *p.qsize()* renvoie la hauteur de la pile ; \n",
    "- *p.empty()* renvoie $\\texttt{True}$ si la pile est vide et $\\texttt{False}$ sinon. "
   ]
  },
  {
   "cell_type": "markdown",
   "metadata": {},
   "source": [
    "L'algorithme de balayage a été proposé par R. Graham en 1972. Nous allons décrire la variante de A. Andrew. On commence par trier les $n$ points du nuages par abscisse croissante. On suppose désormais dans cette explication que $P$ vérifie cette propriété.  \n",
    "\n",
    "L'idée de l'algorithme est de balayer le nuage de gauche à droite par une droite verticale $D$ en mettant à jour l'enveloppe convexe des points situés à gauche de $D$. (Voir figure suivante.)\n"
   ]
  },
  {
   "cell_type": "markdown",
   "metadata": {},
   "source": [
    "![balayage](https://capytale2.ac-paris.fr/web/sites/default/files/2021-01-11-19-43-18/ac-paris-1/mln_serge.dupont4/envcvxe4.png)"
   ]
  },
  {
   "cell_type": "markdown",
   "metadata": {},
   "source": [
    "Plus précisément, l'algorithme visite chaque point de $P$ une fois, par ordre croissant d'indice. à chaque nouveau point visité, il met à jour l'enveloppe convexe du sous-nuage $P[0:i+1]$ situé à gauche de $P_{i}$. Les points $P_{0}$ et $P_{i}$ sont dans cette enveloppe convexe courante. En pratique, on va stocker l'enveloppe convexe supérieure et l'enveloppe convexe inférieure, qui sont les points de l'enveloppe convexe courante situés respectivement au-dessus et en dessous de la droite $(P_{0}P_{i})$.\n",
    "\n",
    "On stockera les indices des sommets de l'enveloppe supérieure (resp. inférieure) dans une pile *es* (resp *ei*). La mise à jour de l'enveloppe convexe supérieure est illustrée dans la figure 5 : tant que le point visité ($P_{9}$ ici) et les deux points dont les indices sont situés au sommet de la pile *es* (dans l'ordre $P_{5}$ et $P_{8}$) forment un triangle $(P_{9},P_{8},P_{5})$ orienté négativement, \n",
    "on dépile *es*. On poursuit ce processus jusqu'à ce que l'orientation devienne positive ou qu'il ne reste qu'un point dans la pile. \n",
    "(Il est judicieux d'utiliser la récursivité ici.) L'indice du point visité est alors ajouté dans la pile *es* (ici $P_{9}$).  La mise à jour de l'enveloppe convexe inférieure est similaire. \n"
   ]
  },
  {
   "cell_type": "markdown",
   "metadata": {},
   "source": [
    "![balayage](https://capytale2.ac-paris.fr/web/sites/default/files/2021-01-11-19-43-18/ac-paris-1/mln_serge.dupont4/envcvxe5.png)"
   ]
  },
  {
   "cell_type": "markdown",
   "metadata": {},
   "source": [
    "Ecrire une fonction $\\mathtt{triAbscisse}(tab)$ qui d'argument le nuage de point et qui le trie selon les abscisses croissantes. On demande une complexité en $O(n \\ln n)$ en moyenne.  La fonction ne renvoie rien. "
   ]
  },
  {
   "cell_type": "code",
   "execution_count": null,
   "metadata": {},
   "outputs": [],
   "source": [
    "# Q7\n",
    "def triAbscisse(tab):\n",
    "    \"\"\"Votre code ici\"\"\""
   ]
  },
  {
   "cell_type": "markdown",
   "metadata": {},
   "source": [
    "Ecrire une fonction $\\mathtt{majES}(tab,es,i)$ qui prend en argument le nuage de point, la pile *es* et l'indice $i$ à visiter, et qui met à jour la pile *es*. \n",
    "La complexité doit être majorée par une constante fois $i$. On pourra écrire une fonction récursive. "
   ]
  },
  {
   "cell_type": "code",
   "execution_count": null,
   "metadata": {},
   "outputs": [],
   "source": [
    "# Q8\n",
    "def majES(tab,es,i):\n",
    "    \"\"\"Votre code ici\"\"\""
   ]
  },
  {
   "cell_type": "markdown",
   "metadata": {},
   "source": [
    "Ecrire une fonction $\\mathtt{majEI}(tab,es,i)$  qui met à jour la pile *ei* avec \n",
    "le même temps d'exécution.  "
   ]
  },
  {
   "cell_type": "code",
   "execution_count": 21,
   "metadata": {},
   "outputs": [],
   "source": [
    "# Q9\n",
    "def majEI(tab,ei,i):\n",
    "    \"\"\"Votre code ici\"\"\""
   ]
  },
  {
   "cell_type": "markdown",
   "metadata": {},
   "source": [
    "Ecrire une fonction $\\mathtt{convGraham}(tab)$ qui prend en argument le nuage de point et renvoie une pile *s* contenant les indices des sommets de l'enveloppe convexe en commençant par le sommet le plus à gauche et triés par ordre positif d'orientation. Par exemple, dans notre exemple, $s$ est la pile $[0,7,11,10,5,2]$. \n"
   ]
  },
  {
   "cell_type": "code",
   "execution_count": 23,
   "metadata": {},
   "outputs": [],
   "source": [
    "# Q10\n",
    "def convGraham(tab):"
   ]
  },
  {
   "cell_type": "markdown",
   "metadata": {},
   "source": [
    "Ecrire une fonction $\\mathtt{enveloppeGraham}(tab)$ qui prend en argument un nuage de points et affiche son enveloppe convexe par la méthode de Graham."
   ]
  },
  {
   "cell_type": "code",
   "execution_count": 24,
   "metadata": {},
   "outputs": [],
   "source": [
    "# Q11\n",
    "def enveloppeGraham(tab):\n",
    "    \"\"\"Votre code ici\"\"\""
   ]
  },
  {
   "cell_type": "markdown",
   "metadata": {},
   "source": [
    "Comparer les temps d'exécution des deux procédures précédentes pour les nuages fournis dans les fichiers *EXEMPLE1*, *EXEMPLE2* et *EXEMPLE3*. On pourra utiliser les lignes suivantes : "
   ]
  },
  {
   "cell_type": "code",
   "execution_count": 25,
   "metadata": {},
   "outputs": [],
   "source": [
    "# Q12\n",
    "from time import time\n",
    "d = -time()\n",
    "# ici on place le script dont on souhaite mesurer le temps d'execution \n",
    "d += time() # d contient alors la duree d'execution en secondes."
   ]
  },
  {
   "cell_type": "markdown",
   "metadata": {},
   "source": [
    "Qu'observez-vous ? "
   ]
  }
 ],
 "metadata": {
  "kernelspec": {
   "display_name": "Python 3",
   "language": "python",
   "name": "python3"
  },
  "language_info": {
   "codemirror_mode": {
    "name": "ipython",
    "version": 3
   },
   "file_extension": ".py",
   "mimetype": "text/x-python",
   "name": "python",
   "nbconvert_exporter": "python",
   "pygments_lexer": "ipython3",
   "version": "3.6.11"
  }
 },
 "nbformat": 4,
 "nbformat_minor": 2
}
