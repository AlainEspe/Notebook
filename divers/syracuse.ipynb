{
 "cells": [
  {
   "cell_type": "markdown",
   "metadata": {
    "id": "oaQYeuLQcGBp"
   },
   "source": [
    "# **Suite de Syracuse**\n",
    "\n",
    "On considère la suite $(u_n)$ définie par $u_0=k$ où $k$ est un nombre entier positif et\n",
    "\n",
    "* $u_{n+1}=\\dfrac{1}{2}u_n$ si $n$ est pair\n",
    "\n",
    "* $u_{n+1}=3u_n+1$ si $n$ est impair\n",
    "\n",
    "\n",
    "\n",
    "La conjecture de Syracuse affirme que pour n'importe quelle valeur choisie pour l'entier initial $k$, l'algorithme s'arrête en 1 au bout d'un nombre fini d'itérations.\n",
    "\n",
    "\n",
    "# **Vocabulaire**\n",
    "\n",
    "**Temps de vol :** C'est le plus petit indice $n$ tel que $u_n=1$.\n",
    "\n",
    "**Temps de vol en altitude :** C'est le plus petit indice $n$ tel que $u_{n+1} <u_0$.\n",
    "\n",
    "**Altitude maximale :** C'est la valeur maximale de la suite $(u_n)$.\n",
    "\n",
    "\n",
    "# **En Python...**\n",
    "\n",
    "On a rédigé ci-dessous une fonction Python permettant d'obtenir les termes de la suite de Syracuse associée au choix d'un entier $u_0=k$."
   ]
  },
  {
   "cell_type": "code",
   "execution_count": null,
   "metadata": {
    "id": "JPzKG0RpesV2"
   },
   "outputs": [],
   "source": [
    "def syracuse(k):\n",
    "    liste=[k]\n",
    "    while k!=1:\n",
    "        if k%2==0:\n",
    "            k=k/2\n",
    "            liste.append(k)\n",
    "        else:\n",
    "            k=3*k+1\n",
    "            liste.append(k)\n",
    "\n",
    "    return liste"
   ]
  },
  {
   "cell_type": "markdown",
   "metadata": {
    "id": "Qtr2Xr8afN0k"
   },
   "source": [
    "1. Expliquer les lignes 4, 5 et 6 de ce programme"
   ]
  },
  {
   "cell_type": "markdown",
   "metadata": {
    "id": "yKNjHw0ZfWwc"
   },
   "source": [
    "Répondre ici:"
   ]
  },
  {
   "cell_type": "markdown",
   "metadata": {
    "id": "iYIltnbkffPS"
   },
   "source": [
    "2. Vérifier la liste retournée par la fonction pour $n=11$"
   ]
  },
  {
   "cell_type": "code",
   "execution_count": null,
   "metadata": {
    "colab": {
     "base_uri": "https://localhost:8080/"
    },
    "id": "EwIzRClvfp8C",
    "outputId": "73ef3aa3-101b-4591-e72c-f5e53269f5d5"
   },
   "outputs": [],
   "source": [
    "# Programme:"
   ]
  },
  {
   "cell_type": "markdown",
   "metadata": {
    "id": "5aT79BOuf2VE"
   },
   "source": [
    "3. Écrire une fonction $tempsvol$ qui prend en paramètre un entier $k$ et qui retourne le temps de vol de la suite de Syracuse de premier terme $k$."
   ]
  },
  {
   "cell_type": "code",
   "execution_count": null,
   "metadata": {
    "id": "Jn0JwqdCf4XG"
   },
   "outputs": [],
   "source": [
    "# Programme:"
   ]
  },
  {
   "cell_type": "markdown",
   "metadata": {
    "id": "5RXt_gqpf7Cj"
   },
   "source": [
    "4. Quel est le temps de vol si $u_0= 34~239$ ?"
   ]
  },
  {
   "cell_type": "markdown",
   "metadata": {
    "id": "MDiwLUqWgCmR"
   },
   "source": [
    "Répondre ici:"
   ]
  },
  {
   "cell_type": "markdown",
   "metadata": {
    "id": "s38ix-qUgIac"
   },
   "source": [
    "5. Écrire une fonction $altmax$ qui prend en paramètre un entier $k$ et qui retourne l'altitude maximale de la suite de Syracuse de premier terme $k$."
   ]
  },
  {
   "cell_type": "code",
   "execution_count": null,
   "metadata": {
    "id": "a8rjAbDygTA3"
   },
   "outputs": [],
   "source": [
    "# Programme:"
   ]
  },
  {
   "cell_type": "markdown",
   "metadata": {
    "id": "8k_Mk9pxgWEJ"
   },
   "source": [
    "6. Quelle est l'altitude maximale si $u_0= 15$ ?"
   ]
  },
  {
   "cell_type": "markdown",
   "metadata": {
    "id": "oFQ2kNMTgbcC"
   },
   "source": [
    "Répondre ici:\n"
   ]
  },
  {
   "cell_type": "markdown",
   "metadata": {
    "id": "AOaY6o-WgiZF"
   },
   "source": [
    "7. Écrire une fonction $record$ qui prend en paramètre un entier $N$ et retourne le record d'altitude pour $1 <u_0 \\leqslant N$."
   ]
  },
  {
   "cell_type": "code",
   "execution_count": null,
   "metadata": {
    "id": "-eGoStJGgr1P"
   },
   "outputs": [],
   "source": [
    "# Programme:"
   ]
  },
  {
   "cell_type": "markdown",
   "metadata": {
    "id": "IfvzgeiRguGP"
   },
   "source": [
    "Donner la valeur du record pour $N=500$"
   ]
  },
  {
   "cell_type": "markdown",
   "metadata": {
    "id": "Wt36iXs7g5H8"
   },
   "source": [
    "Répondre ici:"
   ]
  },
  {
   "cell_type": "markdown",
   "metadata": {
    "id": "9P30e-Byg70c"
   },
   "source": [
    "Executer pour différentes valeur de k, le programme ci-dessous qui réalise la représentation graphique associée à la suite de Syracuse avec $u_0=k$"
   ]
  },
  {
   "cell_type": "code",
   "execution_count": null,
   "metadata": {
    "id": "A2vuNo0JhNh6"
   },
   "outputs": [],
   "source": [
    "from matplotlib.pyplot import*\n",
    "\n",
    "def graphevol(k):\n",
    "    plot(syracuse(k),\"ro\")\n",
    "    show()"
   ]
  },
  {
   "cell_type": "code",
   "execution_count": null,
   "metadata": {
    "colab": {
     "base_uri": "https://localhost:8080/",
     "height": 197
    },
    "id": "z5Zjd8idhmWn",
    "outputId": "402e6965-3daf-4644-e223-5bca4aa200f0"
   },
   "outputs": [],
   "source": [
    "# Programme:\n",
    "\n",
    "graphevol()"
   ]
  }
 ],
 "metadata": {
  "colab": {
   "collapsed_sections": [],
   "name": "syracuse.ipynb",
   "provenance": []
  },
  "kernelspec": {
   "display_name": "Python 3",
   "language": "python",
   "name": "python3"
  },
  "language_info": {
   "codemirror_mode": {
    "name": "ipython",
    "version": 3
   },
   "file_extension": ".py",
   "mimetype": "text/x-python",
   "name": "python",
   "nbconvert_exporter": "python",
   "pygments_lexer": "ipython3",
   "version": "3.6.9"
  }
 },
 "nbformat": 4,
 "nbformat_minor": 1
}
