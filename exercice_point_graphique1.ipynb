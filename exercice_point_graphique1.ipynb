{
 "cells": [
  {
   "cell_type": "markdown",
   "metadata": {},
   "source": [
    "<p>Un &eacute;l&egrave;ve a r&eacute;alis&eacute; une exp&eacute;rience et a mesur&eacute; une s&eacute;rie de donn&eacute;e.</p>\n",
    "<p>Il r&eacute;cup&egrave;re un programme tra&ccedil;ant les points &agrave; l'aide de python.</p>\n",
    "<p>&nbsp;</p>\n",
    "<p>Aidez le &agrave; modifier le programme pour tracer ces points dans ce programme.</p>\n",
    "<p>entrez un titre : \" exp&eacute;rience 1 \"</p>\n",
    "<p>renommer les axes comme dans le tableau</p>\n",
    "<p>&nbsp;</p>\n",
    "<p>aide : vous pouvez ex&eacute;cuter le programme quand vous voulez pour voir les modifications.</p>\n",
    "<p>&nbsp;</p>\n",
    "<p>les points obtenues, sont-ils align&eacute;s ?</p>\n",
    "<p>&nbsp;</p>\n",
    "<p>r&eacute;sultats de son exp&eacute;rience :</p>\n",
    "<p>&nbsp;</p>\n",
    "<p>abscisses |&nbsp; 2,0 | 3,0 | 4,0 | 5,0</p>\n",
    "<p>-----------------------------------------</p>\n",
    "<p>ordonn&eacute;e&nbsp; | 4,5 | 6,5 | 8,5 | 10,5</p>\n",
    "<p>&nbsp;</p>\n",
    "<p>&nbsp;</p>\n",
    "<p>programme python &agrave; modifier :</p>\n",
    "<p>&nbsp;</p>\n",
    "<p>&nbsp;</p>\n",
    "<p>&nbsp;</p>"
   ]
  },
  {
   "cell_type": "code",
   "execution_count": null,
   "metadata": {},
   "outputs": [],
   "source": [
    "\n",
    "# -*- coding: utf-8 -*-\n",
    "\n",
    "from matplotlib.pyplot import*\n",
    "\n",
    "#valeur des abscisses\n",
    "x=[0.01,0.25,0.57,0.91,1.22]\n",
    "\n",
    "#valeur des ordonnées\n",
    "y=[0.015,0.64,0.38,1.0,1.89]\n",
    "\n",
    "#tracé des points\n",
    "plot(x,y,'ro',label=\"y=f(x)\")\n",
    "\n",
    "xlabel(\"nom de l'axe x\")\n",
    "ylabel(\"nom de l'axe y\")\n",
    "grid()\n",
    "legend()\n",
    "title(\"Titre du graphique\")\n",
    "show()\n"
   ]
  }
 ],
 "metadata": {
  "kernelspec": {
   "display_name": "Python 3",
   "language": "python",
   "name": "python3"
  },
  "language_info": {
   "codemirror_mode": {
    "name": "ipython",
    "version": 3
   },
   "file_extension": ".py",
   "mimetype": "text/x-python",
   "name": "python",
   "nbconvert_exporter": "python",
   "pygments_lexer": "ipython3",
   "version": "3.6.9"
  }
 },
 "nbformat": 4,
 "nbformat_minor": 4
}
