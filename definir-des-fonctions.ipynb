{
 "cells": [
  {
   "cell_type": "markdown",
   "metadata": {},
   "source": [
    "# Définir une fonction avec Python\n",
    "Dans ce notebook, nous allons apprendre à programmer une fonction avec Python.\n",
    "\n",
    "## 1) Un premier programme\n",
    "Voici un programme de calcul proposé en langage naturel :\n",
    "```\n",
    "Entrer un nombre N\n",
    "a  ←  3 × N\n",
    "b  ←  a + 2\n",
    "Afficher b\n",
    "```\n",
    "On peut le programmer en Python (faire tourner le programme en appuyant sur <i class=\"fa-step-forward fa\"></i> ) :\n"
   ]
  },
  {
   "cell_type": "code",
   "execution_count": null,
   "metadata": {},
   "outputs": [],
   "source": [
    "N=5\n",
    "a=3*N\n",
    "b=a+2\n",
    "b"
   ]
  },
  {
   "cell_type": "markdown",
   "metadata": {},
   "source": [
    "a) Quel est le nombre choisi au départ ? Quel résultat est obtenu en sortie (Out) ?"
   ]
  },
  {
   "cell_type": "raw",
   "metadata": {},
   "source": [
    "votre réponse"
   ]
  },
  {
   "cell_type": "markdown",
   "metadata": {},
   "source": [
    "b) On veut savoir quel nombre est obtenu en prenant -8.2 au départ. Modifier le programme, et répondre."
   ]
  },
  {
   "cell_type": "raw",
   "metadata": {},
   "source": [
    "votre réponse"
   ]
  },
  {
   "cell_type": "markdown",
   "metadata": {},
   "source": [
    "c) Plutôt que modifier à chaque fois le programme, on peut définir une fonction, nommons la ```programme``` :"
   ]
  },
  {
   "cell_type": "code",
   "execution_count": null,
   "metadata": {},
   "outputs": [],
   "source": [
    "def programme(N):\n",
    "    a=3*N\n",
    "    b=a+2\n",
    "    return b"
   ]
  },
  {
   "cell_type": "markdown",
   "metadata": {},
   "source": [
    "Que se passe-t-il lorqu'on execute en appuyant sur <i class=\"fa-step-forward fa\"></i> ?"
   ]
  },
  {
   "cell_type": "raw",
   "metadata": {},
   "source": [
    "votre réponse"
   ]
  },
  {
   "cell_type": "markdown",
   "metadata": {},
   "source": [
    "Executez alors la commande suivante :"
   ]
  },
  {
   "cell_type": "code",
   "execution_count": null,
   "metadata": {},
   "outputs": [],
   "source": [
    "programme(5)"
   ]
  },
  {
   "cell_type": "markdown",
   "metadata": {},
   "source": [
    "Expliquez ce qui est obtenu en sortie (Out)."
   ]
  },
  {
   "cell_type": "raw",
   "metadata": {},
   "source": [
    "votre réponse"
   ]
  },
  {
   "cell_type": "markdown",
   "metadata": {},
   "source": [
    "Quelle est l'image de 12 par la fonction ```programme``` ?"
   ]
  },
  {
   "cell_type": "code",
   "execution_count": null,
   "metadata": {},
   "outputs": [],
   "source": [
    "# code à saisir pour répondre à la question"
   ]
  },
  {
   "cell_type": "raw",
   "metadata": {},
   "source": [
    "votre réponse"
   ]
  },
  {
   "cell_type": "markdown",
   "metadata": {},
   "source": [
    "## 2) Une fonction pas si compliquée\n",
    "Voici un autre programme de calcul proposé en langage naturel :\n",
    "```\n",
    "Entrer un nombre x\n",
    "a  ←  x - 7\n",
    "b  ←  14 × x\n",
    "c  ←  a² + b\n",
    "d  ←  c - 49\n",
    "Afficher b\n",
    "```\n",
    "Le programmer en Python en définissant une fonction ```progB``` :\n"
   ]
  },
  {
   "cell_type": "code",
   "execution_count": null,
   "metadata": {},
   "outputs": [],
   "source": [
    "def progB(x):\n",
    "    ...\n",
    "    return d"
   ]
  },
  {
   "cell_type": "markdown",
   "metadata": {},
   "source": [
    "Quelle conjecture peut-on faire sur cette fonction ? La démonter."
   ]
  },
  {
   "cell_type": "code",
   "execution_count": null,
   "metadata": {},
   "outputs": [],
   "source": [
    "# code à saisir pour tester la fonction"
   ]
  },
  {
   "cell_type": "raw",
   "metadata": {},
   "source": [
    "votre réponse"
   ]
  },
  {
   "cell_type": "markdown",
   "metadata": {},
   "source": [
    "Programmez alors une fonction (donner un nom adapté), avec une sytaxe plus brève, qui donne les mêmes sorties que ```progB``` :"
   ]
  },
  {
   "cell_type": "code",
   "execution_count": null,
   "metadata": {},
   "outputs": [],
   "source": [
    "def ...(x) :\n",
    "    ..."
   ]
  },
  {
   "cell_type": "markdown",
   "metadata": {},
   "source": [
    "## 3) D'autres fonctions : ex 107p85\n",
    "a) Programmez l'algorithme 1 :"
   ]
  },
  {
   "cell_type": "code",
   "execution_count": null,
   "metadata": {},
   "outputs": [],
   "source": [
    "def Algo1(x):\n",
    "    ..."
   ]
  },
  {
   "cell_type": "markdown",
   "metadata": {},
   "source": [
    "b) Programmez l'algorithme 2 :"
   ]
  },
  {
   "cell_type": "code",
   "execution_count": null,
   "metadata": {},
   "outputs": [],
   "source": []
  },
  {
   "cell_type": "markdown",
   "metadata": {},
   "source": [
    "c) Programmez l'algorithme 3 :"
   ]
  },
  {
   "cell_type": "code",
   "execution_count": null,
   "metadata": {},
   "outputs": [],
   "source": []
  },
  {
   "cell_type": "markdown",
   "metadata": {},
   "source": [
    "d) Programmez l'algorithme 4 :"
   ]
  },
  {
   "cell_type": "code",
   "execution_count": null,
   "metadata": {},
   "outputs": [],
   "source": []
  },
  {
   "cell_type": "markdown",
   "metadata": {},
   "source": [
    "e) En testant plusieurs valeurs d'entrée pour ces algorithmes, émettre une conjecture quant à ceux qui semble afficher le même résultats :"
   ]
  },
  {
   "cell_type": "code",
   "execution_count": null,
   "metadata": {},
   "outputs": [],
   "source": [
    "# vos tests"
   ]
  },
  {
   "cell_type": "raw",
   "metadata": {},
   "source": [
    "votre réponse"
   ]
  },
  {
   "cell_type": "markdown",
   "metadata": {},
   "source": [
    "f) Prouver votre conjecture à l'aide du calcul littéral :"
   ]
  },
  {
   "cell_type": "raw",
   "metadata": {},
   "source": [
    "votre réponse"
   ]
  },
  {
   "cell_type": "markdown",
   "metadata": {},
   "source": [
    "## 4) Exercice 113p85\n",
    "1. a."
   ]
  },
  {
   "cell_type": "code",
   "execution_count": null,
   "metadata": {},
   "outputs": [],
   "source": [
    "# Fonction calculant l'IMC d'un sujet"
   ]
  },
  {
   "cell_type": "markdown",
   "metadata": {},
   "source": [
    "1. b."
   ]
  },
  {
   "cell_type": "code",
   "execution_count": null,
   "metadata": {},
   "outputs": [],
   "source": [
    "#code"
   ]
  },
  {
   "cell_type": "raw",
   "metadata": {},
   "source": [
    "réponse"
   ]
  },
  {
   "cell_type": "markdown",
   "metadata": {},
   "source": [
    "2. a."
   ]
  },
  {
   "cell_type": "code",
   "execution_count": null,
   "metadata": {},
   "outputs": [],
   "source": [
    "# Fonction indiquant à l'utilisateur s'il est en surpoids"
   ]
  },
  {
   "cell_type": "markdown",
   "metadata": {},
   "source": [
    "2. b."
   ]
  },
  {
   "cell_type": "code",
   "execution_count": null,
   "metadata": {},
   "outputs": [],
   "source": [
    "#code"
   ]
  },
  {
   "cell_type": "raw",
   "metadata": {},
   "source": [
    "votre réponse"
   ]
  },
  {
   "cell_type": "markdown",
   "metadata": {},
   "source": [
    "3. "
   ]
  },
  {
   "cell_type": "raw",
   "metadata": {},
   "source": [
    "votre réponse par le calcul"
   ]
  },
  {
   "cell_type": "code",
   "execution_count": null,
   "metadata": {},
   "outputs": [],
   "source": [
    "# vérification par un code python"
   ]
  }
 ],
 "metadata": {
  "kernelspec": {
   "display_name": "Python 3",
   "language": "python",
   "name": "python3"
  },
  "language_info": {
   "codemirror_mode": {
    "name": "ipython",
    "version": 3
   },
   "file_extension": ".py",
   "mimetype": "text/x-python",
   "name": "python",
   "nbconvert_exporter": "python",
   "pygments_lexer": "ipython3",
   "version": "3.6.9"
  }
 },
 "nbformat": 4,
 "nbformat_minor": 2
}
