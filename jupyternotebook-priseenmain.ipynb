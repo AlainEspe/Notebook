{
 "cells": [
  {
   "cell_type": "markdown",
   "metadata": {
    "slideshow": {
     "slide_type": "slide"
    }
   },
   "source": [
    "\n",
    "# Apprentissage de jupyter Notebook\n",
    "## Exercice de prise en main\n",
    "\n",
    "Cet exercice a pour objectif de vous faire rapidement explorer les **fonctionnalités de base** de l'interpréteur interactif **jupyter** en mode **Notebook**.\n",
    "\n",
    "Mais tout d'abord **félicitations** d'être déjà parvenu à ouvrir ce notebook !\n",
    "\n",
    "-----"
   ]
  },
  {
   "cell_type": "markdown",
   "metadata": {
    "slideshow": {
     "slide_type": "slide"
    }
   },
   "source": [
    "## Édition et exécution d'une cellule de code"
   ]
  },
  {
   "cell_type": "markdown",
   "metadata": {
    "slideshow": {
     "slide_type": "subslide"
    }
   },
   "source": [
    "Un notebook jupyter consiste en **cellules** individuelles pouvant contenir du **code** Python, du **texte** (avec formatage Markdown, HTML et LaTeX) ou des **graphiques**. Commençons par les cellules de type Code.\n",
    "\n",
    "**1)** Placez le curseur dans la 1ère cellule **In[ ]:** ci-dessous puis frappez `<enter>`. Que se passe-t-il ? Rien d'autre que l'insertion d'un saut de ligne... C'est normal, car dans une cellule de type \"Code\" (c'est-à-dire préfixée par **In[ ]:**) on est par défaut en mode **édition de code** Python !\n",
    "\n",
    "\n",
    "Pour **exécuter le code** Python d'une cellule, il faut en effet frapper `<maj-enter>` (ou cliquer sur le bouton <button class='fa fa-step-forward icon-step-forward'></button>, ou encore utiliser le menu `Cell>Run and Select Below...`). Essayez !"
   ]
  },
  {
   "cell_type": "code",
   "execution_count": null,
   "metadata": {
    "slideshow": {
     "slide_type": "subslide"
    }
   },
   "outputs": [],
   "source": [
    "15 + 24"
   ]
  },
  {
   "cell_type": "code",
   "execution_count": null,
   "metadata": {
    "slideshow": {
     "slide_type": "fragment"
    }
   },
   "outputs": [],
   "source": [
    "'Hello tout le monde !'"
   ]
  },
  {
   "cell_type": "markdown",
   "metadata": {
    "slideshow": {
     "slide_type": "fragment"
    }
   },
   "source": [
    "Une ligne **Out[ ]:** devrait être apparue en dessous de la 1ère expression, affichant le résultat de celle-ci ! Le curseur est alors automatiquement passé dans la cellule d'en-dessous que vous pouvez exécuter à son tour.\n",
    "\n",
    "_Notez qu'il est aussi possible de frapper `<ctrl-enter>` (identique à `Cell>Run`). Dans ce cas, le curseur **reste dans la cellule** après l'exécution du code._"
   ]
  },
  {
   "cell_type": "markdown",
   "metadata": {
    "slideshow": {
     "slide_type": "subslide"
    }
   },
   "source": [
    "**2)** Exécutez maintenant le code de la cellule ci-dessous."
   ]
  },
  {
   "cell_type": "code",
   "execution_count": null,
   "metadata": {
    "slideshow": {
     "slide_type": "-"
    }
   },
   "outputs": [],
   "source": [
    "a, b = 6, 10      # affectation simultanée de 2 variables\n",
    "print('La somme de ces 2 nombres vaut :', a + b)"
   ]
  },
  {
   "cell_type": "markdown",
   "metadata": {
    "slideshow": {
     "slide_type": "fragment"
    }
   },
   "source": [
    "Remarquez que l'exécution du code ci-dessus n'a retourné aucune valeur. Il n'y a pas de prompt Out[ ]. "
   ]
  },
  {
   "cell_type": "markdown",
   "metadata": {
    "slideshow": {
     "slide_type": "fragment"
    }
   },
   "source": [
    "**3)** Peut-on **modifier le code** d'une cellule puis le **ré-exécuter** ? Bien sûr !  \n",
    "Expérimentez cela dans la cellule ci-dessus en modifiant la valeur des variables a et b, puis frappez à nouveau `<maj-enter>`"
   ]
  },
  {
   "cell_type": "markdown",
   "metadata": {
    "slideshow": {
     "slide_type": "slide"
    }
   },
   "source": [
    "## Création de cellules de code"
   ]
  },
  {
   "cell_type": "markdown",
   "metadata": {
    "slideshow": {
     "slide_type": "subslide"
    }
   },
   "source": [
    "**4)** Comment puis-je créer **mes propres cellules** de code ? Tout simplement de la façon suivante :\n",
    "\n",
    "- sélectionnez d'abord la cellule juste au-dessus de l'emplacement où vous désirez insérer votre propre cellule  \n",
    "_(ou respectivement juste en-dessous)_\n",
    "- puis cliquez sur le bouton <button class='fa fa-plus icon-plus btn btn-xs btn-default'></button> ou faites `Insert>Insert Cell Below`  \n",
    "_(ou respectivement `Insert>Insert Cell Above`)_"
   ]
  },
  {
   "cell_type": "markdown",
   "metadata": {
    "slideshow": {
     "slide_type": "subslide"
    }
   },
   "source": [
    "Exercez-vous en créant, juste en-dessous de la présente cellule, une nouvelle cellule. "
   ]
  },
  {
   "cell_type": "markdown",
   "metadata": {
    "slideshow": {
     "slide_type": "fragment"
    }
   },
   "source": [
    "Insérez-y le code :\n",
    "\n",
    "    print('Ouaouh... c'est ma première cellule !')\n",
    "\n",
    "puis exécutez le code de cette cellule."
   ]
  },
  {
   "cell_type": "markdown",
   "metadata": {
    "slideshow": {
     "slide_type": "fragment"
    }
   },
   "source": [
    "**5)** Nous vous avons tendu un piège : si vous avez repris cette instruction `print` telle quelle, son exécution a dû générer une erreur, car l'apostrophe de la partie de chaîne _...c'est..._ n'était pas préfixé de \"\\\". Peu importe, corrigez votre code et réexécutez-le, ce qui illustre bien l'intérêt de jupyter Notebook !"
   ]
  },
  {
   "cell_type": "markdown",
   "metadata": {
    "slideshow": {
     "slide_type": "slide"
    }
   },
   "source": [
    "## Destruction de cellules"
   ]
  },
  {
   "cell_type": "markdown",
   "metadata": {
    "slideshow": {
     "slide_type": "subslide"
    }
   },
   "source": [
    "**6)** Pour détruire une cellule, sélectionnez-la puis cliquez sur le bouton <button class='fa fa-cut icon-cut btn  btn-xs btn-default'></button> (ou faites `Edit>Delete Cell`). Exercez-vous en détruisant la cellule ci-dessous. Puis rétablissez-la avec `Edit>Undo Delete Cell`"
   ]
  },
  {
   "cell_type": "code",
   "execution_count": null,
   "metadata": {
    "slideshow": {
     "slide_type": "-"
    }
   },
   "outputs": [],
   "source": [
    "Une cellule à jeter !!!"
   ]
  },
  {
   "cell_type": "markdown",
   "metadata": {
    "slideshow": {
     "slide_type": "fragment"
    }
   },
   "source": [
    "Notez qu'il existe également : le bouton <button class='fa fa-copy icon-copy btn  btn-xs btn-default'></button> (correspondant au menu `Edit>Copy Cell`) ainsi que le bouton <button class='fa fa-paste icon-paste btn  btn-xs btn-default'></button> (et divers articles de menus `Edit>Paste Cell...`) "
   ]
  },
  {
   "cell_type": "markdown",
   "metadata": {
    "slideshow": {
     "slide_type": "slide"
    }
   },
   "source": [
    "## Déplacement, splittage et fusionnement de cellules"
   ]
  },
  {
   "cell_type": "markdown",
   "metadata": {},
   "source": [
    "**7)** Vous trouvez ci-dessous 2 cellules de type texte (on verra dans un instant comment on peut créer de telles cellules).\n",
    "\n",
    "Commencez par **spliter** la première cellule : pour cela _double-cliquez_ d'abord dans la cellule pour l'éditer, puis placez le curseur entre les 2 lignes, et faites finalement `Edit>Split Cell`\n",
    "\n",
    "Ceci est la **première cellule** de texte, blabla blabla blabla blabla blabla blabla blabla blabla \n",
    "\n",
    "blabla blabla blabla blabla blabla blabla."
   ]
  },
  {
   "cell_type": "markdown",
   "metadata": {
    "slideshow": {
     "slide_type": "-"
    }
   },
   "source": [
    "Ceci est la **troisième cellule** de texte, blabla blabla blabla blabla blabla blabla blabla blabla blabla blabla blabla blabla blabla blabla.\n",
    "\n",
    "Ceci est la **seconde cellule** de texte, blabla blabla blabla blabla blabla blabla blabla blabla blabla blabla blabla blabla blabla blabla."
   ]
  },
  {
   "cell_type": "markdown",
   "metadata": {
    "slideshow": {
     "slide_type": "subslide"
    }
   },
   "source": [
    "**8)** Vous devriez maintenant avoir ci-dessus 3 cellules de texte. **Déplacez-les** de façon à les mettre dans l'ordre, en utilisant les boutons  <button class='fa fa-arrow-up icon-arrow-up btn  btn-xs btn-default'></button> et <button class='fa fa-arrow-down icon-arrow-down btn  btn-xs btn-default'></button> ou menus `Edit>Move ...`)"
   ]
  },
  {
   "cell_type": "markdown",
   "metadata": {
    "slideshow": {
     "slide_type": "fragment"
    }
   },
   "source": [
    "**9)** Puis expérimentez le **fusionnement** de cellules en fusionnant ces 3 cellules de texte avec `Edit>Merge Cell Above` ou `Edit>Merge Cell Below`"
   ]
  },
  {
   "cell_type": "markdown",
   "metadata": {
    "slideshow": {
     "slide_type": "slide"
    }
   },
   "source": [
    "## Création de cellules de texte"
   ]
  },
  {
   "cell_type": "markdown",
   "metadata": {
    "slideshow": {
     "slide_type": "subslide"
    }
   },
   "source": [
    "Il existe 2 types de cellules de texte, selon le choix effectué à l'aide du menu déroulant de droite ou avec `Cell>Cell Type>...` :\n",
    "- **Raw NBConvert** (texte) : cellules de texte sans aucun formatage, directement éditables sans devoir _double-cliquer_ dedans ;\n",
    "- **Markdown** : cellules dans lesquelles le texte est soumis à un formatage selon la syntaxe Markdown ; les éventuelles balises HTML et le code LaTeX sont également interprétés...\n",
    "\n",
    "<u>**Remarque**</u> : le type **Heading** n'est plus supporté."
   ]
  },
  {
   "cell_type": "markdown",
   "metadata": {
    "slideshow": {
     "slide_type": "subslide"
    }
   },
   "source": [
    "**10)** Créez juste ci-dessous une cellule de type **Raw NBConvert** (texte). Pour cela, créez une cellule par le procédé standard (elle sera donc de type Code), puis changez son type à l'aide du menu déroulant. Constatez que la cellule reste toujours en mode édition."
   ]
  },
  {
   "cell_type": "markdown",
   "metadata": {
    "slideshow": {
     "slide_type": "subslide"
    }
   },
   "source": [
    "**11)** _S'agissant des cellules de texte au format **Markdown**, cela suppose quelques notions relatives au langage de balisage Markdown : [Rédigez en Markdown !](https://openclassrooms.com/courses/redigez-en-markdown)._\n",
    "\n",
    "_Pour vous donner une idée de la simplicité du balisage Markdown, vous pouvez double-cliquer dans les cellules de texte du présent notebook qui sont toutes au format Markdown._"
   ]
  },
  {
   "cell_type": "markdown",
   "metadata": {
    "slideshow": {
     "slide_type": "subslide"
    }
   },
   "source": [
    "_Et comme vous le voyez ci-dessous, il est donc même possible d'introduire du **code LaTeX** (placé entre deux caractères `$`) dans une cellule de type Markdown :_\n",
    "\n",
    "$$f(x) = x^2 - x^{1 \\over \\pi}$$"
   ]
  },
  {
   "cell_type": "markdown",
   "metadata": {
    "slideshow": {
     "slide_type": "fragment"
    }
   },
   "source": [
    "Pour plus d'informations : [un Notebook assez complet sur les cellules au format Markdown](http://nbviewer.jupyter.org/github/twistedhardware/mltutorial/blob/master/notebooks/jupyter/2.%20Markdown%20%26%20LaTeX.ipynb)"
   ]
  },
  {
   "cell_type": "markdown",
   "metadata": {
    "slideshow": {
     "slide_type": "slide"
    }
   },
   "source": [
    "## Sauvegarder et imprimer un notebook"
   ]
  },
  {
   "cell_type": "markdown",
   "metadata": {
    "slideshow": {
     "slide_type": "subslide"
    }
   },
   "source": [
    "**13)** Lorsque vous avez terminé de travailler dans un notebook, **n'oubliez pas de le sauvegarder** avec le bouton <button class='fa fa-save icon-save btn  btn-xs btn-default'></button> (ou le menu `File>Save and Checkpoint`). Sachez que jupyter effectue par défaut des sauvegardes à intervalle régulier, et que `File>Revert to Checkpoint` permet de revenir à un état enregistré."
   ]
  },
  {
   "cell_type": "markdown",
   "metadata": {
    "slideshow": {
     "slide_type": "fragment"
    }
   },
   "source": [
    "**14)** _Si vous désirez **imprimer un notebook**, n'utilisez pas la commande d'impression de votre navigateur web depuis la fenêtre de notebook, le résultat sera très mauvais. La bonne méthode consiste à faire au préalable depuis le menu `File>Print Preview`. Mais il est peut être préférable de télécharger une version numérique du notebook sur l'ordinateur local dans le format qui vous convient comme le HTML pour obtenir une page web statique avec le menu `File>Download as`...\n"
   ]
  },
  {
   "cell_type": "markdown",
   "metadata": {
    "slideshow": {
     "slide_type": "slide"
    }
   },
   "source": [
    "## Graphiques dans un notebook\n",
    "\n",
    "_Si vous exécutez la fonction magique `%pylab inline`, les packages **Numpy** et **Matplotlib** sont importés et il sera possible de dessiner des graphiques de façon \"inline\" (intégrés au notebook)._"
   ]
  },
  {
   "cell_type": "code",
   "execution_count": 1,
   "metadata": {
    "slideshow": {
     "slide_type": "-"
    }
   },
   "outputs": [
    {
     "name": "stdout",
     "output_type": "stream",
     "text": [
      "Populating the interactive namespace from numpy and matplotlib\n"
     ]
    }
   ],
   "source": [
    "%pylab inline"
   ]
  },
  {
   "cell_type": "markdown",
   "metadata": {
    "slideshow": {
     "slide_type": "subslide"
    }
   },
   "source": [
    "_L'exemple de code suivant sera alors exécutable._"
   ]
  },
  {
   "cell_type": "code",
   "execution_count": 2,
   "metadata": {
    "slideshow": {
     "slide_type": "-"
    }
   },
   "outputs": [
    {
     "data": {
      "text/plain": [
       "Text(0.5, 1.0, 'Graphique sin(x)')"
      ]
     },
     "execution_count": 2,
     "metadata": {},
     "output_type": "execute_result"
    },
    {
     "data": {
      "image/png": "[encoded data removed]",
      "text/plain": [
       "<Figure size 432x288 with 1 Axes>"
      ]
     },
     "metadata": {
      "needs_background": "light"
     },
     "output_type": "display_data"
    }
   ],
   "source": [
    "# Fait appel à numpy (linspace et pi)\n",
    "x = linspace(0, 3*pi, 500)\n",
    "\n",
    "# Fait appel à matplotlib (plot et title)\n",
    "plot(x, sin(x))\n",
    "title('Graphique sin(x)')"
   ]
  },
  {
   "cell_type": "markdown",
   "metadata": {},
   "source": [
    "## Un lien dans un notebook\n",
    "\n",
    "[Jupyter's website](https://jupyter.org/)"
   ]
  },
  {
   "cell_type": "code",
   "execution_count": null,
   "metadata": {},
   "outputs": [],
   "source": []
  },
  {
   "cell_type": "markdown",
   "metadata": {},
   "source": [
    "## Embedded code\n",
    "\n",
    "You can embed code meant for illustration instead of execution in Python:\n",
    "\n",
    "    def f(x):\n",
    "        \"\"\"a docstring\"\"\"\n",
    "        return x**2\n",
    "\n",
    "or other languages:\n",
    "\n",
    "    if (i=0; i<n; i++) {\n",
    "      printf(\"hello %d\\n\", i);\n",
    "      x += 4;\n",
    "    }"
   ]
  },
  {
   "cell_type": "markdown",
   "metadata": {
    "slideshow": {
     "slide_type": "slide"
    }
   },
   "source": [
    "## Documents Multimedia dans un notebook"
   ]
  },
  {
   "cell_type": "markdown",
   "metadata": {
    "slideshow": {
     "slide_type": "subslide"
    }
   },
   "source": [
    "### Intégrer une image :"
   ]
  },
  {
   "cell_type": "code",
   "execution_count": null,
   "metadata": {
    "slideshow": {
     "slide_type": "fragment"
    }
   },
   "outputs": [],
   "source": [
    "from IPython.display import Image\n",
    "Image(\"https://upload.wikimedia.org/wikipedia/fr/a/a5/LogoIronman2.png\")"
   ]
  },
  {
   "cell_type": "markdown",
   "metadata": {
    "slideshow": {
     "slide_type": "subslide"
    }
   },
   "source": [
    "### Intégrer une vidéo youtube :"
   ]
  },
  {
   "cell_type": "code",
   "execution_count": 3,
   "metadata": {
    "slideshow": {
     "slide_type": "fragment"
    }
   },
   "outputs": [
    {
     "data": {
      "image/jpeg": "[encoded data removed]",
      "text/html": [
       "\n",
       "        <iframe\n",
       "            width=\"400\"\n",
       "            height=\"300\"\n",
       "            src=\"https://www.youtube.com/embed/Rc4JQWowG5I\"\n",
       "            frameborder=\"0\"\n",
       "            allowfullscreen\n",
       "        ></iframe>\n",
       "        "
      ],
      "text/plain": [
       "<IPython.lib.display.YouTubeVideo at 0x7f1d69132320>"
      ]
     },
     "execution_count": 3,
     "metadata": {},
     "output_type": "execute_result"
    }
   ],
   "source": [
    "from IPython.display import YouTubeVideo\n",
    "YouTubeVideo('Rc4JQWowG5I')"
   ]
  },
  {
   "cell_type": "markdown",
   "metadata": {
    "slideshow": {
     "slide_type": "subslide"
    }
   },
   "source": [
    "### Intégrer une page web :"
   ]
  },
  {
   "cell_type": "code",
   "execution_count": 3,
   "metadata": {
    "scrolled": true,
    "slideshow": {
     "slide_type": "fragment"
    }
   },
   "outputs": [
    {
     "data": {
      "text/html": [
       "<IFrame src=\"https://interstices.info/les-algorithmes-de-tri/\" width=700 height=350>"
      ],
      "text/plain": [
       "<IPython.core.display.HTML object>"
      ]
     },
     "execution_count": 3,
     "metadata": {},
     "output_type": "execute_result"
    }
   ],
   "source": [
    "from IPython.display import HTML\n",
    "HTML('<IFrame src=\"https://interstices.info/les-algorithmes-de-tri/\" width=700 height=350>')"
   ]
  },
  {
   "cell_type": "code",
   "execution_count": 5,
   "metadata": {},
   "outputs": [
    {
     "data": {
      "text/html": [
       "\n",
       "        <iframe\n",
       "            width=\"100%\"\n",
       "            height=\"350\"\n",
       "            src=\"https://jupyter.org\"\n",
       "            frameborder=\"0\"\n",
       "            allowfullscreen\n",
       "        ></iframe>\n",
       "        "
      ],
      "text/plain": [
       "<IPython.lib.display.IFrame at 0x7f1d70997860>"
      ]
     },
     "execution_count": 5,
     "metadata": {},
     "output_type": "execute_result"
    }
   ],
   "source": [
    "from IPython.display import IFrame\n",
    "IFrame('https://jupyter.org', width='100%', height=350)"
   ]
  },
  {
   "cell_type": "markdown",
   "metadata": {
    "slideshow": {
     "slide_type": "slide"
    }
   },
   "source": [
    "<a rel=\"license\" href=\"http://creativecommons.org/licenses/by-sa/4.0/\"><img alt=\"Licence Creative Commons\" style=\"border-width:0\" src=\"https://i.creativecommons.org/l/by-sa/4.0/88x31.png\" /></a><br />Ce document  est mis à disposition selon les termes de la <a rel=\"license\" href=\"http://creativecommons.org/licenses/by-sa/4.0/\">Licence Creative Commons Attribution -  Partage dans les Mêmes Conditions 4.0 International</a>.\n",
    "Pour toute question : <a href=\"mailto:charles.poulmaire@ac-versailles.fr\">charles.poulmaire@ac-versaillesfr</a>"
   ]
  }
 ],
 "metadata": {
  "kernelspec": {
   "display_name": "Python 3",
   "language": "python",
   "name": "python3"
  },
  "language_info": {
   "codemirror_mode": {
    "name": "ipython",
    "version": 3
   },
   "file_extension": ".py",
   "mimetype": "text/x-python",
   "name": "python",
   "nbconvert_exporter": "python",
   "pygments_lexer": "ipython3",
   "version": "3.6.9"
  }
 },
 "nbformat": 4,
 "nbformat_minor": 1
}
