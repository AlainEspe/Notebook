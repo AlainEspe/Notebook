{
 "cells": [
  {
   "cell_type": "markdown",
   "metadata": {},
   "source": [
    "# Créer une fonction algorithmique\n",
    "\n",
    "But du TP : créer une fonction algorithmique capable de dire si une liste de nombre correspond à une suite arithmétique ou à une suite géométrique.\n",
    "\n",
    "## Critère arithmétique\n",
    "\n",
    "Commençons par créer une sous-fonction qui détermine si une liste de nombre peut être de type arithmétique, c'est-à-dire si la différence entre deux nombres consécutifs est toujours la même."
   ]
  },
  {
   "cell_type": "code",
   "execution_count": 1,
   "metadata": {},
   "outputs": [],
   "source": [
    "def est_arithmetique(L):\n",
    "    A=[]\n",
    "    S=0\n",
    "    l=len(L)\n",
    "    for i in range(l-1):\n",
    "        a = L[i+1]-L[i]\n",
    "        A.append(a)\n",
    "    for i in range(l-2):\n",
    "        S = S+abs(A[i+1]-A[i])\n",
    "    if (S==0):\n",
    "        return(True)\n",
    "    else:\n",
    "        return(False)"
   ]
  },
  {
   "cell_type": "markdown",
   "metadata": {},
   "source": [
    "On peut tester cette fonction avec les listes suivantes :\n",
    "- [1,2,3,4]\n",
    "- [0,2,3,4]\n",
    "- [1,1,1,1]\n",
    "- [1,1.2,1.4,1.6,1.8,2]"
   ]
  },
  {
   "cell_type": "code",
   "execution_count": 2,
   "metadata": {},
   "outputs": [
    {
     "data": {
      "text/plain": [
       "True"
      ]
     },
     "execution_count": 2,
     "metadata": {},
     "output_type": "execute_result"
    }
   ],
   "source": [
    "# tester avec la 1ère liste :\n",
    "est_arithmetique([1,2,3,4])"
   ]
  },
  {
   "cell_type": "code",
   "execution_count": 3,
   "metadata": {},
   "outputs": [
    {
     "data": {
      "text/plain": [
       "False"
      ]
     },
     "execution_count": 3,
     "metadata": {},
     "output_type": "execute_result"
    }
   ],
   "source": [
    "# tester avec la 2ème liste :\n",
    "est_arithmetique([0,2,3,4])"
   ]
  },
  {
   "cell_type": "code",
   "execution_count": null,
   "metadata": {},
   "outputs": [],
   "source": [
    "# tester avec la 3ème liste :\n"
   ]
  },
  {
   "cell_type": "code",
   "execution_count": null,
   "metadata": {},
   "outputs": [],
   "source": [
    "# tester avec la 4ème liste :\n"
   ]
  },
  {
   "cell_type": "markdown",
   "metadata": {},
   "source": [
    "## Critère géométrique\n",
    "\n",
    "Créer maintenant la fonction similaire, nommée \"est_geometrique\", qui détermine si une liste L peut être du type géométrique."
   ]
  },
  {
   "cell_type": "code",
   "execution_count": 4,
   "metadata": {},
   "outputs": [],
   "source": [
    "def est_geometrique(L):\n",
    "    A=[]\n",
    "    S=0\n",
    "    l=len(L)\n",
    "    for i in range(l):\n",
    "        if L[i]==0:\n",
    "            print('la liste contient un zéro')\n",
    "            print('la suite ne peut pas être géométrique')\n",
    "            return(False)\n",
    "    for i in range(l-1):\n",
    "        a = L[i+1]/L[i]\n",
    "        A.append(a)\n",
    "    for i in range(l-2):\n",
    "        S = S+A[i+1]/A[i]\n",
    "    if (S==l-2):\n",
    "        return(True)\n",
    "    else:\n",
    "        return(False)"
   ]
  },
  {
   "cell_type": "markdown",
   "metadata": {},
   "source": [
    "On peut de nouveau tester cette fonction, avec les listes :\n",
    "- [1,2,4,5]\n",
    "- [1,2,4,8]\n",
    "- [0,1,2,3]\n",
    "- [1,0.5,0.25,0.125,0.0625]"
   ]
  },
  {
   "cell_type": "code",
   "execution_count": 5,
   "metadata": {},
   "outputs": [
    {
     "data": {
      "text/plain": [
       "False"
      ]
     },
     "execution_count": 5,
     "metadata": {},
     "output_type": "execute_result"
    }
   ],
   "source": [
    "# Test avec la 1ère liste\n",
    "est_geometrique([1,2,4,5])"
   ]
  },
  {
   "cell_type": "code",
   "execution_count": 6,
   "metadata": {},
   "outputs": [
    {
     "data": {
      "text/plain": [
       "True"
      ]
     },
     "execution_count": 6,
     "metadata": {},
     "output_type": "execute_result"
    }
   ],
   "source": [
    "# Test avec la 2ème liste\n",
    "est_geometrique([1,2,4,8])"
   ]
  },
  {
   "cell_type": "code",
   "execution_count": null,
   "metadata": {},
   "outputs": [],
   "source": [
    "# Test avec la 3ème liste\n"
   ]
  },
  {
   "cell_type": "code",
   "execution_count": 7,
   "metadata": {},
   "outputs": [],
   "source": [
    "# Test avec la 4ème liste\n"
   ]
  },
  {
   "cell_type": "markdown",
   "metadata": {},
   "source": [
    "## Tester les deux critères sur une même liste\n",
    "\n",
    "Maintenant, on va utiliser les deux fonctions déjà créées dans un même code qui détermine si une liste peut être du type arithmétique, géométrique, ou ni l'un ni l'autre.\n",
    "La nouvelle fonction créée répond donc à la question \"quelle est la nature de la suite?\"."
   ]
  },
  {
   "cell_type": "code",
   "execution_count": 8,
   "metadata": {},
   "outputs": [],
   "source": [
    "def nature_suite(L):\n",
    "    if est_geometrique(L)==True:\n",
    "        print('La suite peut être géométrique')\n",
    "    elif est_arithmetique(L)==True:\n",
    "        print('La suite peut être arithmétique')\n",
    "    else:\n",
    "        print('La suite est ni arithmétique ni géométrique')"
   ]
  },
  {
   "cell_type": "markdown",
   "metadata": {},
   "source": [
    "Testons la fonction sur différentes listes :\n",
    "- [1,2,3,4]\n",
    "- [0,2,3,4]\n",
    "- [1,1,1,1]\n",
    "- [1,1.2,1.4,1.6,1.8,2]\n",
    "- [1,2,4,5]\n",
    "- [1,2,4,8]\n",
    "- [0,1,2,3]\n",
    "- [1,0.5,0.25,0.125,0.0625]"
   ]
  },
  {
   "cell_type": "code",
   "execution_count": 9,
   "metadata": {},
   "outputs": [
    {
     "name": "stdout",
     "output_type": "stream",
     "text": [
      "La suite peut être arithmétique\n"
     ]
    }
   ],
   "source": [
    "# Test sur la 1ère liste :\n",
    "nature_suite([1,2,3,4])"
   ]
  },
  {
   "cell_type": "code",
   "execution_count": 10,
   "metadata": {},
   "outputs": [
    {
     "name": "stdout",
     "output_type": "stream",
     "text": [
      "la liste contient un zéro\n",
      "la suite ne peut pas être géométrique\n",
      "La suite est ni arithmétique ni géométrique\n"
     ]
    }
   ],
   "source": [
    "# Test sur la 2ème liste :\n",
    "nature_suite([0,2,3,4])"
   ]
  },
  {
   "cell_type": "code",
   "execution_count": 11,
   "metadata": {},
   "outputs": [],
   "source": [
    "# Test sur la 2ème liste :\n"
   ]
  },
  {
   "cell_type": "code",
   "execution_count": 12,
   "metadata": {},
   "outputs": [],
   "source": [
    "# Test sur la 3ème liste :\n"
   ]
  },
  {
   "cell_type": "code",
   "execution_count": 13,
   "metadata": {},
   "outputs": [],
   "source": [
    "# Test sur la 4ème liste :\n"
   ]
  },
  {
   "cell_type": "code",
   "execution_count": 14,
   "metadata": {},
   "outputs": [],
   "source": [
    "# Test sur la 5ème liste :\n"
   ]
  },
  {
   "cell_type": "code",
   "execution_count": 15,
   "metadata": {},
   "outputs": [],
   "source": [
    "# Test sur la 6ème liste :\n"
   ]
  },
  {
   "cell_type": "code",
   "execution_count": 16,
   "metadata": {},
   "outputs": [],
   "source": [
    "# Test sur la 7ème liste :\n"
   ]
  },
  {
   "cell_type": "code",
   "execution_count": 17,
   "metadata": {},
   "outputs": [],
   "source": [
    "# Test sur la 8ème liste :\n"
   ]
  }
 ],
 "metadata": {
  "kernelspec": {
   "display_name": "Python 3",
   "language": "python",
   "name": "python3"
  },
  "language_info": {
   "codemirror_mode": {
    "name": "ipython",
    "version": 3
   },
   "file_extension": ".py",
   "mimetype": "text/x-python",
   "name": "python",
   "nbconvert_exporter": "python",
   "pygments_lexer": "ipython3",
   "version": "3.6.9"
  }
 },
 "nbformat": 4,
 "nbformat_minor": 4
}
