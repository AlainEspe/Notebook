{
 "cells": [
  {
   "cell_type": "markdown",
   "metadata": {},
   "source": [
    "# Arbre binaire de recherche (ABR)"
   ]
  },
  {
   "cell_type": "markdown",
   "metadata": {},
   "source": [
    "Un arbre binaire de  recherche (abrégé en ABR) est un arbre binaire dont les noeuds contiennent des valeurs qui peuvent être comparées entre elles, comme des entiers où des chaînes de caractères par exemplet, et tel que, *pour tout noeud de l'arbre*, toutes les valeurs situées dans le sous arbre gauche (resp droit) sont plus petites (resp plus grandes) que la valeur située dans le noeud. \n",
    "\n",
    "Par exemple : \n",
    "\n",
    "<p><img src=\"https://upload.wikimedia.org/wikipedia/commons/thumb/d/da/Binary_search_tree.svg/1200px-Binary_search_tree.svg.png\" alt=\"Binary search tree.svg\"><br> <a href=\"https://commons.wikimedia.org/w/index.php?curid=488330\">Lien</a></p>\n"
   ]
  },
  {
   "cell_type": "markdown",
   "metadata": {},
   "source": [
    " Un ABR étant un abre binaire, on le représente en Python exactement comme la classe `Noeud` vu précédemment.\n",
    "    \n",
    " On ne fait que rajouter deux contraintes : d'une part les valeurs contenues dans les noeuds peuvent être comparées avec les opérations <, >=, etc., de Python.\n",
    " \n",
    "D'autre part, les arbres vérifient la propriété d'ABR. \n",
    "    \n",
    "Ces deux contraintes ne sont pas encodées en Python. Elles sont uniquement supposées ou garanties, selon les cas, par les fonctions que nous allons écrire dans les sections suivantes."
   ]
  },
  {
   "cell_type": "code",
   "execution_count": null,
   "metadata": {},
   "outputs": [],
   "source": [
    "class Noeud:\n",
    "    \"\"\" un noeud d'un arbre binaire\"\"\"\n",
    "    def __init__(self, g, v, d):\n",
    "        self.gauche = g\n",
    "        self.valeur = v\n",
    "        self.droit = d\n",
    "    def modifier_fils_droit(self, d):\n",
    "        self.droit = d\n",
    "    def modifier_fils_gauche(self, g):\n",
    "        self.gauche = g\n",
    "    def fils_droit(self):\n",
    "        return self.droit\n",
    "    def fils_gauche(self):\n",
    "        return self.gauche\n",
    "    def donnee(self):\n",
    "        return self.valeur"
   ]
  },
  {
   "cell_type": "markdown",
   "metadata": {},
   "source": [
    "## Exercice 1\n",
    "### 1 Construire l'arbre ci-dessus à l'aide de la classe `Noeud`."
   ]
  },
  {
   "cell_type": "code",
   "execution_count": null,
   "metadata": {},
   "outputs": [],
   "source": [
    "a = "
   ]
  },
  {
   "cell_type": "markdown",
   "metadata": {},
   "source": [
    "### 2 Écrire la fonction `parcours_infixe(a)` qui affiche les éléments de `a`"
   ]
  },
  {
   "cell_type": "code",
   "execution_count": null,
   "metadata": {},
   "outputs": [],
   "source": [
    "def parcours_infixe(a):\n",
    "    \"\"\"effectue un parcours infixe\"\"\"\n",
    "    \n",
    "parcours_infixe(a)"
   ]
  },
  {
   "cell_type": "markdown",
   "metadata": {},
   "source": [
    "Que remarque-t-on lors de l'affichage de parcours infixe."
   ]
  },
  {
   "cell_type": "markdown",
   "metadata": {},
   "source": [
    "## Exercice 2 : Recherche dans un arbre\n",
    "\n",
    "la propriété d'ABR tire tout son interêt de l'efficacité de la recherche qu'elle permet. En effet, pour chercher une valeur dans un ABR, il suffit de la comparer à la valeur à la racine puis si elle est différente de se diriger vers un seul des deux sous-arbre.\n",
    "\n",
    "On élimine ainsi complètement la recherche dans l'autre sous-arbre.\n",
    "\n",
    "Écrivons la fonction `appartien(x, a)`"
   ]
  },
  {
   "cell_type": "code",
   "execution_count": null,
   "metadata": {},
   "outputs": [],
   "source": [
    "def appartient(x, a):\n",
    "    \"\"\" Renvoie True si x est dans a\n",
    "        Renvoie False sinon\n",
    "    \"\"\"\n",
    "   \n",
    "    \n",
    "assert appartient(7, a)\n",
    "assert not appartient(2, a)"
   ]
  },
  {
   "cell_type": "markdown",
   "metadata": {},
   "source": [
    "## Exercice 3\n",
    " Pour construire un ABR, nous avons besoin de la fonction `ajouter(x, a)` qui ajoute un nouvel élément `x` dans `a`. \\pause\n",
    "    \n",
    "En principe cet algorithme ne modifie pas l'arbre, nous choisissons donc de ne pas utiliser notre arbre de façon ***mutable*** mais de façon ***immuable***.     \n",
    "Le principe est : \n",
    "  - Si `x` est plus petit que `a`, on l'ajoute dans le sous-arbre gauche;\n",
    "  - Si `x` est plus grand que `a`, on l'ajoute dans le sous-arbre-droit\n",
    "  - Si `a` est un arbre vide, on renvoie un noeud contenant juste `x`\n"
   ]
  },
  {
   "cell_type": "code",
   "execution_count": null,
   "metadata": {},
   "outputs": [],
   "source": [
    "def ajoute(x, a):\n",
    "    \"\"\" ajoute x dans l'arbre a,\n",
    "        Renvoie un nouvel arbre\n",
    "    \"\"\"\n",
    "   \n",
    "    "
   ]
  },
  {
   "cell_type": "markdown",
   "metadata": {},
   "source": [
    "## Exercice 4\n",
    "Supprimons un élément"
   ]
  },
  {
   "cell_type": "markdown",
   "metadata": {},
   "source": [
    "### Question 1 : fonction `minimum(a)`\n",
    "Écrire la fonction `minimum(a)` qui renvoie la valeur minimum de `a` (on oublie pas que le minimum d'un ABR est facile à trouver.\n",
    "\n",
    "On suppose `a` non vide."
   ]
  },
  {
   "cell_type": "code",
   "execution_count": null,
   "metadata": {},
   "outputs": [],
   "source": [
    "def minimum(a):\n",
    "    \"\"\"Renvoie le minimum de a\n",
    "       Précondition : a est non vide\n",
    "    \"\"\"\n",
    "    assert a is not None\n",
    " \n",
    "    \n",
    "assert minimum(a) == 1\n",
    "        "
   ]
  },
  {
   "cell_type": "markdown",
   "metadata": {},
   "source": [
    "### Question 2 : fonction `supprime_minimum(a)`\n",
    "Écrire la fonction `supprime_minimum(a)` qui renvoie un arbre qui contient les éléments de `a` sauf le minimum qui a été supprimé.\n",
    "\n",
    "Si un noeud n'a pas de fils gauche, il est le minimum, dans ce cas il est égal à son fils droit.\n",
    "\n",
    "On suppose l'arbre non vide."
   ]
  },
  {
   "cell_type": "code",
   "execution_count": null,
   "metadata": {},
   "outputs": [],
   "source": [
    "def supprime_minimum(a):\n",
    "    \"\"\" supprime le plus petit élément de a\n",
    "        Renvoie un nouvel arbre\n",
    "    \"\"\"\n",
    "    assert a is None\n",
    " "
   ]
  },
  {
   "cell_type": "markdown",
   "metadata": {},
   "source": [
    "### Question 3 : `supprime(x, a)`\n",
    "Il ne reste plsu qu'à écrire `supprime(x, a)` qui supprime l'élément `x` dans `a`.\n",
    "\n",
    "Le principe pour supprimer est le suivant :\n",
    "\n",
    "- Si la valeur de a est strictement plus petite que x alors supprimer x dans l'arbre gauche\n",
    "- Si la valeur de a est strictement plus grande que x alors supprimer x dans l'abre droit\n",
    "- Sinon \n",
    "    - si le fils droit est vide, le fils gauche devient l'arbre\n",
    "    - sinon, supprimer la valeur de a et mettre le minimum du fils droit (que l'on aura supprimer) à la place."
   ]
  },
  {
   "cell_type": "code",
   "execution_count": null,
   "metadata": {},
   "outputs": [],
   "source": [
    "def supprime(x, a):\n",
    "    \"\"\" Supprime une occurence de x dans a\"\"\"\n",
    "  "
   ]
  },
  {
   "cell_type": "code",
   "execution_count": null,
   "metadata": {},
   "outputs": [],
   "source": []
  }
 ],
 "metadata": {
  "kernelspec": {
   "display_name": "Python 3",
   "language": "python",
   "name": "python3"
  },
  "language_info": {
   "codemirror_mode": {
    "name": "ipython",
    "version": 3
   },
   "file_extension": ".py",
   "mimetype": "text/x-python",
   "name": "python",
   "nbconvert_exporter": "python",
   "pygments_lexer": "ipython3",
   "version": "3.6.9"
  }
 },
 "nbformat": 4,
 "nbformat_minor": 4
}
