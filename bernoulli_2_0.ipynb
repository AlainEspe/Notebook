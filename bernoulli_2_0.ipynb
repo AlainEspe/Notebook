{
 "cells": [
  {
   "cell_type": "markdown",
   "metadata": {},
   "source": [
    "# Simuler une expérience de Bernoulli\n",
    "\n",
    "On cherche à simuler plusieurs lancer d'une pièce équilibrée. On représente l'issue \"pile\" par le nombre 1 et \"face\" par le nombre 0."
   ]
  },
  {
   "cell_type": "markdown",
   "metadata": {},
   "source": [
    "On commence par simuler une unique pièce. Executer plusieurs fois la cellule suivante en cliquant sur \"▶ Executer\" et vérifier que le résultat change."
   ]
  },
  {
   "cell_type": "code",
   "execution_count": 2,
   "metadata": {},
   "outputs": [
    {
     "name": "stdout",
     "output_type": "stream",
     "text": [
      "La pièce donne pile\n"
     ]
    }
   ],
   "source": [
    "from random import *\n",
    "\n",
    "# Tirage au hasard entre 0 et 1\n",
    "pièce = randint(0,1)\n",
    "\n",
    "# Affichage du résultat\n",
    "if pièce == 1:\n",
    "    print(\"La pièce donne pile\")\n",
    "else:\n",
    "    print(\"La pièce donne face\")"
   ]
  },
  {
   "cell_type": "markdown",
   "metadata": {},
   "source": [
    "Dans le code qui précède, que fait la ligne suivante ?\n",
    "```python\n",
    "pièce = randint(0,1)\n",
    "```\n"
   ]
  },
  {
   "cell_type": "markdown",
   "metadata": {},
   "source": [
    "Le code suivant compte le nombre de fois qu'on obtient pile après `nb_tirages` tirages: "
   ]
  },
  {
   "cell_type": "code",
   "execution_count": 5,
   "metadata": {},
   "outputs": [
    {
     "name": "stdout",
     "output_type": "stream",
     "text": [
      "4 piles après 10 tirages\n"
     ]
    }
   ],
   "source": [
    "# CODE PRINCIPAL\n",
    "nb_tirages = 10\n",
    "nb_piles = 0\n",
    "for boucle in range(nb_tirages):\n",
    "    pièce = randint(0,1)\n",
    "    if pièce == 1:\n",
    "        nb_piles = nb_piles + 1\n",
    "        \n",
    "# Affichage résultat\n",
    "print(f\"{nb_piles} piles après {nb_tirages} tirages\")"
   ]
  },
  {
   "cell_type": "markdown",
   "metadata": {},
   "source": [
    "Répondez à chacune des questions suivantes dans la cellule \"Réponses\" ci-dessous\n",
    "## Comprendre le code\n",
    "1. Dans le code précédent, combien de fois sont répétées les instructions suivantes ?\n",
    "```python\n",
    "pièce = randint(0,1)\n",
    "   if pièce == 1:\n",
    "        nb_piles = nb_piles + 1\n",
    "```\n",
    "2. Comment changer le code principal pour afficher la proportion de pile obtenue ?\n",
    "3. Que se passe t'il si on modifie le code de la façon suivante ?\n",
    "```python\n",
    "nb_tirages = 10\n",
    "for boucle in range(nb_tirages):\n",
    "     nb_piles = 0\n",
    "     pièce = randint(0,1)\n",
    "     if pièce == 1:\n",
    "         nb_piles = nb_piles + 1\n",
    "print(f\"{nb_piles} piles après {nb_tirages} tirages\")\n",
    "```\n",
    "Faire la modification ci-dessous pour tester."
   ]
  },
  {
   "cell_type": "code",
   "execution_count": 3,
   "metadata": {},
   "outputs": [
    {
     "name": "stdout",
     "output_type": "stream",
     "text": [
      "4 piles après 10 tirages\n"
     ]
    }
   ],
   "source": [
    "# A MODIFIER\n",
    "nb_tirages = 10\n",
    "nb_piles = 0\n",
    "for boucle in range(nb_tirages):\n",
    "    pièce = randint(0,1)\n",
    "    if pièce == 1:\n",
    "        nb_piles = nb_piles + 1\n",
    "        \n",
    "# Affichage résultat\n",
    "print(f\"{nb_piles} piles après {nb_tirages} tirages\")"
   ]
  },
  {
   "cell_type": "markdown",
   "metadata": {},
   "source": [
    "## Fluctuation\n",
    "1. Executer le code principal plusieurs fois et noter 5 valeurs.\n",
    "2. Même question, mais après voir changé la valeur de `nb_tirages`.\n",
    "    * De quelle valeur semble se rapprocher la proportion ?\n",
    "    * Comparer à la question 1.\n",
    "3. Pour chacune des questions 1 et 2, compter le nombre de fois qu'on est proche de 0.5 à 0.05 près. Que se passe-t'il quand `nb_tirages` augmente ?"
   ]
  },
  {
   "cell_type": "markdown",
   "metadata": {},
   "source": [
    "# Réponses\n",
    "\n",
    "## Comprendre le code\n",
    "1.\n",
    "2.\n",
    "3.\n",
    "\n",
    "## Fluctuation\n",
    "1.\n",
    "2.\n",
    "3."
   ]
  }
 ],
 "metadata": {
  "kernelspec": {
   "display_name": "Python 3",
   "language": "python",
   "name": "python3"
  },
  "language_info": {
   "codemirror_mode": {
    "name": "ipython",
    "version": 3
   },
   "file_extension": ".py",
   "mimetype": "text/x-python",
   "name": "python",
   "nbconvert_exporter": "python",
   "pygments_lexer": "ipython3",
   "version": "3.8.5"
  }
 },
 "nbformat": 4,
 "nbformat_minor": 4
}
