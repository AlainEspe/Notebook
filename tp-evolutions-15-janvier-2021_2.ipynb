{
 "cells": [
  {
   "cell_type": "markdown",
   "metadata": {},
   "source": [
    "# Python : taux d'évolution"
   ]
  },
  {
   "cell_type": "markdown",
   "metadata": {},
   "source": [
    "## Découverte"
   ]
  },
  {
   "cell_type": "markdown",
   "metadata": {},
   "source": [
    "Vous travaillez ici sur un document interactif appellé un \"*Notebook*\" Python. Ce document peut contenir du texte, mais aussi des cellules avec du code qui peut être interprété en Python (à gauche de ces cellules est écrit \"*Entrée*\").\n",
    "\n",
    "Pour **éxécuter** une cellule Python, il suffit de la **sélectionner**, puis, au choix, de : \n",
    "* Cliquer sur le bouton *Exécuter* de la barre d'outil\n",
    "* Aller dans le menu \"*Cellule*\", puis cliquer sur \"*Exécuter les cellules*\"\n",
    "* D'effectuer au clavier la combinaison de touches Shift+Enter (permet de passer à la cellule suivante) ou Ctrl+Enter (on ne change pas de cellule)\n",
    "\n"
   ]
  },
  {
   "cell_type": "markdown",
   "metadata": {},
   "source": [
    "La cellule suivante contient un script en Python.\n",
    "\n",
    "1. Pouvez-vous **calculer de tête** la valeur qui va être affichée à la fin ?\n",
    "\n",
    "2. **Exécutez-là** et vérifiez le résultat. "
   ]
  },
  {
   "cell_type": "code",
   "execution_count": null,
   "metadata": {},
   "outputs": [],
   "source": [
    "a=7\n",
    "a=a+2\n",
    "a=a*2\n",
    "print(a)"
   ]
  },
  {
   "cell_type": "markdown",
   "metadata": {},
   "source": [
    "Dans le script précédent, modifiez la valeur initiale de la variable *a*, puis relancez le script et observez le nouveau résultat."
   ]
  },
  {
   "cell_type": "markdown",
   "metadata": {},
   "source": [
    "## Situation 1 : Appliquer un pourcentage de diminution"
   ]
  },
  {
   "cell_type": "markdown",
   "metadata": {},
   "source": [
    "### Introduction : un premier calcul"
   ]
  },
  {
   "cell_type": "markdown",
   "metadata": {},
   "source": [
    "Un vêtement coûte 47 euros. En raison des soldes, on y applique une réduction de 15%.\n",
    "\n",
    "Ecrivez ci-dessous le calcul à effectuer pour calculer le prix du vêtement après la réduction de 15%.\n"
   ]
  },
  {
   "cell_type": "markdown",
   "metadata": {},
   "source": [
    "Votre réponse ici (*faites un double clic pour écrire dans la cellule*) :\n",
    "    \n",
    "    "
   ]
  },
  {
   "cell_type": "markdown",
   "metadata": {},
   "source": [
    "### Une fonction avec un paramètre ###"
   ]
  },
  {
   "cell_type": "markdown",
   "metadata": {},
   "source": [
    "Pour la suite, nous allons en général une utiliser des **fonctions** informatiques."
   ]
  },
  {
   "cell_type": "markdown",
   "metadata": {},
   "source": [
    "Dans le script ci-dessous, la fonction **soldes** doit permettre de calculer, pour une valeur initiale *prix*, sa valeur finale après une réduction de 15%.\n",
    "\n",
    "Complétez le script ci-dessous en replaçant les pointillés par une expression appropriée (en utilisant la variable *prix*), puis exécutez-le."
   ]
  },
  {
   "cell_type": "code",
   "execution_count": null,
   "metadata": {},
   "outputs": [],
   "source": [
    "def soldes(prix):\n",
    "    ValeurFinale=...\n",
    "    return(ValeurFinale)"
   ]
  },
  {
   "cell_type": "markdown",
   "metadata": {},
   "source": [
    "Exécutez la cellulule suivante pour tester cette fonction avec un prix initial de 100 euros."
   ]
  },
  {
   "cell_type": "code",
   "execution_count": null,
   "metadata": {},
   "outputs": [],
   "source": [
    "soldes(100)"
   ]
  },
  {
   "cell_type": "markdown",
   "metadata": {},
   "source": [
    "Dans la cellule suivante, calculez, en utilisant la fonction **soldes** précédemment définie, la valeur soldée d'un article initialement à 76 euros."
   ]
  },
  {
   "cell_type": "code",
   "execution_count": null,
   "metadata": {},
   "outputs": [],
   "source": []
  },
  {
   "cell_type": "markdown",
   "metadata": {},
   "source": [
    "### Une fonction avec deux paramètres"
   ]
  },
  {
   "cell_type": "markdown",
   "metadata": {},
   "source": [
    "On cherche à automatiser le calcul d'un prix après une réduction, pour n'importe quel montant initial et n'importe quel pourcentage de diminution.\n",
    "\n",
    "Complétez le scrit suivant pour que la fonction **reduction** renvoie le prix d'un article dont le prix initial en euros est *prix*, après une réduction de *t* %.\n",
    "\n",
    "*Indication* : adaptez la fonction **soldes** précédente, pour prendre en compte les deux paramètres *prix* et *t*."
   ]
  },
  {
   "cell_type": "code",
   "execution_count": null,
   "metadata": {},
   "outputs": [],
   "source": [
    "def reduction(prix,t):\n",
    "    \n",
    "    "
   ]
  },
  {
   "cell_type": "markdown",
   "metadata": {},
   "source": [
    "Testez votre script dans la cellule suivante, en calculant : \n",
    "* la valeur d'un article initialement à 34 euros, après une réduction de 20%. \n",
    "* la valeur d'un article initialement à 135 euros, après une réduction de 15%. "
   ]
  },
  {
   "cell_type": "code",
   "execution_count": null,
   "metadata": {},
   "outputs": [],
   "source": [
    "\n"
   ]
  },
  {
   "cell_type": "markdown",
   "metadata": {
    "collapsed": true
   },
   "source": [
    "## Situation  2 : Compte rémunéré (utilisation d'une boucle bornée)"
   ]
  },
  {
   "cell_type": "markdown",
   "metadata": {},
   "source": [
    "#### Rappel : La boucle bornée (for)"
   ]
  },
  {
   "cell_type": "markdown",
   "metadata": {},
   "source": [
    "Cette boucle permet de répéter un ensemble d'instructions. \n",
    "Elle s'utilise avec un compteur. \n",
    "\n",
    "Par exemple, l'instruction *for i in range(5)* indique que le compteur *i* prend les valeurs de 0 à 4. \n",
    "\n",
    "Observez bien le script qui définit la fonction **somme**. Cette fonction calcule la somme $$1+2+3+\\ldots + 100$$.\n",
    "\n",
    "Remarquez bien l'indentation qui permet de délimiter l'ensemble des instructions à répéter."
   ]
  },
  {
   "cell_type": "code",
   "execution_count": null,
   "metadata": {},
   "outputs": [],
   "source": [
    "def somme():\n",
    "    S=0\n",
    "    for i in range(101):\n",
    "        S=S+i\n",
    "    return(S)"
   ]
  },
  {
   "cell_type": "markdown",
   "metadata": {},
   "source": [
    "Testez cette fonction en tapant **somme()** et en éxecutant (n'oubliez pas les parenthèses) : "
   ]
  },
  {
   "cell_type": "code",
   "execution_count": null,
   "metadata": {},
   "outputs": [],
   "source": []
  },
  {
   "cell_type": "markdown",
   "metadata": {},
   "source": [
    "Le script suivant doit permettre de redéfinir la fonction **somme** pour qu'elle renvoie la somme $1+2+3+...+N$.\n",
    "\n",
    "Complétez la définition de la fonction en remplaçant les pointillés par les instructions qui conviennent, puis exécutez la cellule."
   ]
  },
  {
   "cell_type": "code",
   "execution_count": null,
   "metadata": {},
   "outputs": [],
   "source": [
    "def somme(N):\n",
    "    S=0\n",
    "    ..."
   ]
  },
  {
   "cell_type": "markdown",
   "metadata": {},
   "source": [
    "Dans la cellule suivante, utilisez la fonction **somme** ainsi redéfinie pour calculer la somme $1+2+3+...+50$."
   ]
  },
  {
   "cell_type": "code",
   "execution_count": null,
   "metadata": {},
   "outputs": [],
   "source": []
  },
  {
   "cell_type": "markdown",
   "metadata": {},
   "source": [
    "#### Exercice : Augmentations sucessives sur un compte rémunéré"
   ]
  },
  {
   "cell_type": "markdown",
   "metadata": {},
   "source": [
    "On a placé 5000 euros sur un compte bancaire rémunéré à 2,5% chaque année en intérêts composés. Cela signifie que chaque année, la somme disponible sur le compte augmente de 2,5%.\n",
    "\n",
    "COMPLETEZ puis exécutez le script ci-dessous pour que la fonction **banque** calcule la somme disponible au bout de 10 ans.\n",
    "\n",
    "Puis, éxécutez la cellule suivante pour obtenir le résultat voulu."
   ]
  },
  {
   "cell_type": "code",
   "execution_count": null,
   "metadata": {},
   "outputs": [],
   "source": [
    "def banque():\n",
    "    montant=5000\n",
    "    \n",
    "    \n",
    "    return(c)"
   ]
  },
  {
   "cell_type": "code",
   "execution_count": null,
   "metadata": {},
   "outputs": [],
   "source": [
    "banque()"
   ]
  },
  {
   "cell_type": "markdown",
   "metadata": {},
   "source": [
    "On cherche à présent à automatiser le calcul du montant diponsible après un certain nombre d'années, avec un montant initial et un taux quelconques. \n",
    "Complétez le script ci-dessous pour que la fonction **banque2** renvoie le montant disponible au bout de *n* années, si on a placé un montant initial *ini* (en euros) sur un compte bancaire rémunéré à *t*%."
   ]
  },
  {
   "cell_type": "code",
   "execution_count": null,
   "metadata": {},
   "outputs": [],
   "source": [
    "def banque2(ini,t,n):\n",
    "    "
   ]
  },
  {
   "cell_type": "markdown",
   "metadata": {},
   "source": [
    "Utilisez la cellule suivante pour calculer, en utilisant la fonction précédemment définie, le montant disponible au bout de 15 ans, avec un montant initial de 4000 euros, pour un compte rémunéré à 2%."
   ]
  },
  {
   "cell_type": "code",
   "execution_count": null,
   "metadata": {},
   "outputs": [],
   "source": []
  },
  {
   "cell_type": "markdown",
   "metadata": {},
   "source": [
    "## Situation 3 : Recherche d'un seuil"
   ]
  },
  {
   "cell_type": "markdown",
   "metadata": {
    "collapsed": true
   },
   "source": [
    "#### La boucle non bornée (while) en Python"
   ]
  },
  {
   "cell_type": "markdown",
   "metadata": {},
   "source": [
    "Cette boucle permet de répéter un ensemble d'instructions tant qu'une certaine condition est vérifiée (*while* signifie *tant que*).\n",
    "\n",
    "Exemple : le script suivant affiche le premier multiple de 7 strictement supérieur à 100.\n",
    "\n",
    "Remarquez l'indentation qui permet de repérer l'ensemble des instructions à répéter."
   ]
  },
  {
   "cell_type": "code",
   "execution_count": null,
   "metadata": {},
   "outputs": [],
   "source": [
    "a=0\n",
    "while a<=100:\n",
    "    a=a+7\n",
    "print(a)"
   ]
  },
  {
   "cell_type": "markdown",
   "metadata": {},
   "source": [
    "Il est parfois utile de connaître le nombre passages dans la boucle : observez dans le programme suivant le compteur utilisé."
   ]
  },
  {
   "cell_type": "code",
   "execution_count": null,
   "metadata": {},
   "outputs": [],
   "source": [
    "def multiples():  \n",
    "    a=0\n",
    "    compteur=0\n",
    "    while a<=100:\n",
    "        a=a+7\n",
    "        compteur=compteur+1\n",
    "    return(a,compteur)"
   ]
  },
  {
   "cell_type": "markdown",
   "metadata": {},
   "source": [
    "Exécutez la fonction **multiples** ci-dessous (n'oubliez pas les parenthèses): "
   ]
  },
  {
   "cell_type": "code",
   "execution_count": null,
   "metadata": {},
   "outputs": [],
   "source": []
  },
  {
   "cell_type": "markdown",
   "metadata": {},
   "source": [
    "#### Exercice : recherche d'un seuil avec un compte rémunéré"
   ]
  },
  {
   "cell_type": "markdown",
   "metadata": {},
   "source": [
    "On place 1000 euros sur un compte d’épargne rémunéré, dont le taux d’intérêts annuels composés est de 1,2%.\n",
    "\n",
    "Complétez le script de la cellulle suivante. La fonction **dépasser** doit renvoyer le nombre d'années au bout desquelles la somme sur le compte dépassera 1500 euros, ainsi que la somme disponible sur le compte à ce moment-là."
   ]
  },
  {
   "cell_type": "code",
   "execution_count": null,
   "metadata": {},
   "outputs": [],
   "source": [
    "def depasser():\n",
    "    \n"
   ]
  },
  {
   "cell_type": "markdown",
   "metadata": {},
   "source": [
    "Testez votre fonction : "
   ]
  },
  {
   "cell_type": "code",
   "execution_count": null,
   "metadata": {},
   "outputs": [],
   "source": [
    "depasser()"
   ]
  },
  {
   "cell_type": "markdown",
   "metadata": {},
   "source": [
    "Complétez le script suivant pour automatiser le calcul avec n'importe quel montant initial *ini*, n'importe quel taux d'intérêt *t* %, et n'importe quel montant *seuil* à dépasser."
   ]
  },
  {
   "cell_type": "code",
   "execution_count": null,
   "metadata": {},
   "outputs": [],
   "source": [
    "def depasser2(ini, t, seuil):\n",
    "    \n",
    "    \n",
    "    "
   ]
  },
  {
   "cell_type": "markdown",
   "metadata": {},
   "source": [
    "Testez votre fonction avec différents montants initiaux, différents taux d'intérêt et différents seuils."
   ]
  },
  {
   "cell_type": "code",
   "execution_count": null,
   "metadata": {},
   "outputs": [],
   "source": []
  }
 ],
 "metadata": {
  "kernelspec": {
   "display_name": "Python 3",
   "language": "python",
   "name": "python3"
  },
  "language_info": {
   "codemirror_mode": {
    "name": "ipython",
    "version": 3
   },
   "file_extension": ".py",
   "mimetype": "text/x-python",
   "name": "python",
   "nbconvert_exporter": "python",
   "pygments_lexer": "ipython3",
   "version": "3.6.9"
  }
 },
 "nbformat": 4,
 "nbformat_minor": 2
}
