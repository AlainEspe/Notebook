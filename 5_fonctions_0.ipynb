{
 "cells": [
  {
   "cell_type": "markdown",
   "metadata": {},
   "source": [
    "# <center><span style=\"color: red\"><u> Fonctions</u></span>  </center>\n"
   ]
  },
  {
   "cell_type": "markdown",
   "metadata": {},
   "source": [
    "La notion de fonction est essentielle en programmation.  \n",
    "Elle permet de construire des codes modulaires, plus faciles à lire et à modifier.  \n",
    "En Python, une fonction se crée avec le mot-clé `def`."
   ]
  },
  {
   "cell_type": "markdown",
   "metadata": {},
   "source": [
    "## <span style=\"color:green\"> <u>1) Fonctions sans paramètre, sans valeur renvoyée</u> </span>\n"
   ]
  },
  {
   "cell_type": "markdown",
   "metadata": {},
   "source": [
    "### Exemple"
   ]
  },
  {
   "cell_type": "code",
   "execution_count": null,
   "metadata": {},
   "outputs": [],
   "source": [
    "def accueil():\n",
    "    print(\"bonjour\")\n",
    "    print(\"comment allez-vous\")"
   ]
  },
  {
   "cell_type": "markdown",
   "metadata": {},
   "source": [
    "Lorsque l'interpréteur Python parcourt cette fonction, **rien** ne s'affiche. La fonction est maintenant prête à être appelée, mais n'est pas exécutée tant que l'utilisateur ne le demande pas explicitement."
   ]
  },
  {
   "cell_type": "code",
   "execution_count": null,
   "metadata": {},
   "outputs": [],
   "source": [
    "accueil()"
   ]
  },
  {
   "cell_type": "markdown",
   "metadata": {},
   "source": [
    "## <span style=\"color:green\"> <u>2) Fonction avec un paramètre, sans valeur renvoyée</u> </span>\n"
   ]
  },
  {
   "cell_type": "markdown",
   "metadata": {},
   "source": [
    "### Exemple"
   ]
  },
  {
   "cell_type": "code",
   "execution_count": null,
   "metadata": {},
   "outputs": [],
   "source": [
    "def chat_penible(n):\n",
    "    for k in range(n):\n",
    "        print(\"meoww\")"
   ]
  },
  {
   "cell_type": "markdown",
   "metadata": {},
   "source": [
    "La valeur `n` est appelée **paramètre** de la fonction `chat_penible`. On dit qu'on *passe* le paramètre `n` à la fonction `chat_penible`."
   ]
  },
  {
   "cell_type": "code",
   "execution_count": null,
   "metadata": {},
   "outputs": [],
   "source": [
    "\n",
    "chat_penible(3)\n"
   ]
  },
  {
   "cell_type": "markdown",
   "metadata": {},
   "source": [
    "Dans l'exemple ci-dessus, on dit qu'on a appelé la fonction `chat_penible` avec **l'argument** 3."
   ]
  },
  {
   "cell_type": "markdown",
   "metadata": {},
   "source": [
    "**Remarque :** la bien connue fonction `print()` est une fonction à paramètre, qui affiche dans la console le contenu du paramètre."
   ]
  },
  {
   "cell_type": "markdown",
   "metadata": {},
   "source": [
    "\n",
    "## <span style=\"color:green\"> <u>3) Fonction avec Paramètres multiples, sans valeur renvoyée</u> </span>\n"
   ]
  },
  {
   "cell_type": "markdown",
   "metadata": {},
   "source": [
    "Une fonction peut avoir de multiples paramètres :"
   ]
  },
  {
   "cell_type": "code",
   "execution_count": null,
   "metadata": {},
   "outputs": [],
   "source": [
    "def repete(mot, k) :\n",
    "    for i in range(k):\n",
    "        print(mot)\n",
    "\n",
    "repete(\"NSI\", 3)"
   ]
  },
  {
   "cell_type": "markdown",
   "metadata": {},
   "source": [
    "L'ordre des paramètres passés est alors important ! Le code ci-dessous est incorrect."
   ]
  },
  {
   "cell_type": "code",
   "execution_count": null,
   "metadata": {},
   "outputs": [],
   "source": [
    "repete(3, \"test\")"
   ]
  },
  {
   "cell_type": "markdown",
   "metadata": {},
   "source": [
    "## <span style=\"color:green\"> <u>4) Fonction avec paramètre(s) et  avec valeur renvoyée </u> </span>\n",
    "\n",
    "\n",
    "On retrouve ici la notion classique de fonction rencontrée en mathématiques : un procédé qui prend un nombre et en renvoie un autre. En informatique, l'objet renvoyé ne sera pas forcément un nombre (cela pourra être aussi une liste, un tableau, une image...).\n",
    "Le renvoi d'une valeur se fait grâce au mot-clé `return`."
   ]
  },
  {
   "cell_type": "markdown",
   "metadata": {},
   "source": [
    "### Exemple\n",
    "la fonction mathématique $f : x \\longmapsto 2x+3$ se codera par :"
   ]
  },
  {
   "cell_type": "code",
   "execution_count": null,
   "metadata": {},
   "outputs": [],
   "source": [
    "def f(x):\n",
    "    return 2*x+3"
   ]
  },
  {
   "cell_type": "code",
   "execution_count": null,
   "metadata": {},
   "outputs": [],
   "source": [
    "f(10)"
   ]
  },
  {
   "cell_type": "markdown",
   "metadata": {},
   "source": [
    "### Exemple\n",
    "Dans l'exemple ci-dessous, le paramètre est une liste (de codes ASCII), et la sortie est une chaîne de caractères."
   ]
  },
  {
   "cell_type": "code",
   "execution_count": null,
   "metadata": {},
   "outputs": [],
   "source": [
    "def conversion_ascii_texte(listecodes):\n",
    "    s = \"\"\n",
    "    for k in listecodes :\n",
    "        s = s + chr(k)\n",
    "    return s"
   ]
  },
  {
   "cell_type": "code",
   "execution_count": null,
   "metadata": {},
   "outputs": [],
   "source": [
    "conversion_ascii_texte([85, 66, 66])"
   ]
  },
  {
   "cell_type": "markdown",
   "metadata": {},
   "source": [
    "## Remarques"
   ]
  },
  {
   "cell_type": "markdown",
   "metadata": {},
   "source": [
    "**Remarque 1 :** Le mot-clé `return` provoque une *éjection* du code : tout ce qui est situé après le  `return` ne sera pas exécuté.  \n",
    "Observez la différence entre les fonctions $g$ et $h$."
   ]
  },
  {
   "cell_type": "code",
   "execution_count": null,
   "metadata": {},
   "outputs": [],
   "source": [
    "def g(x):\n",
    "    print(\"ce texte sera bien affiché\")\n",
    "    return 2*x+3"
   ]
  },
  {
   "cell_type": "code",
   "execution_count": null,
   "metadata": {},
   "outputs": [],
   "source": [
    "g(4)"
   ]
  },
  {
   "cell_type": "code",
   "execution_count": null,
   "metadata": {},
   "outputs": [],
   "source": [
    "def h(x):\n",
    "    return 2*x+3\n",
    "    print(\"ceci ne sera jamais affiché\")"
   ]
  },
  {
   "cell_type": "code",
   "execution_count": null,
   "metadata": {},
   "outputs": [],
   "source": [
    "h(5)"
   ]
  },
  {
   "cell_type": "markdown",
   "metadata": {},
   "source": [
    "**Remarque 2 :** Pour les puristes, une fonction sans valeur renvoyée sera plutôt appelée *procédure*. Le mot *fonction* étant réservé aux fonctions qui ont effectivement un `return`."
   ]
  },
  {
   "cell_type": "markdown",
   "metadata": {},
   "source": [
    "**Remarque 3 :** Dans un code amené à être partagé ou à beaucoup évoluer, on prendra l'habitude de *documenter* la fonction grâce à une *docstring*, située en début de fonction et encadrée par des triples quotes."
   ]
  },
  {
   "cell_type": "code",
   "execution_count": null,
   "metadata": {},
   "outputs": [],
   "source": [
    "def conversion_ascii_texte(listecodes):\n",
    "    \"\"\" \n",
    "    Cette fonction convertit une liste de codes Ascii (ex [69, 78, 72]) \n",
    "    en une chaîne de caractères (ex 'ENH')\n",
    "    \"\"\"\n",
    "    s = \"\"\n",
    "    for k in listecodes :\n",
    "        s = s + chr(k)\n",
    "    return s"
   ]
  },
  {
   "cell_type": "markdown",
   "metadata": {},
   "source": [
    "Cette docstring est une sorte de manuel de la fonction, qu'on appelle avec le mot-clé `help`."
   ]
  },
  {
   "cell_type": "code",
   "execution_count": null,
   "metadata": {},
   "outputs": [],
   "source": [
    "help(conversion_ascii_texte)"
   ]
  },
  {
   "cell_type": "markdown",
   "metadata": {},
   "source": [
    "## <u> Exercices </u>"
   ]
  },
  {
   "cell_type": "markdown",
   "metadata": {},
   "source": [
    "### Exercice 1\n",
    "Définissez une fonction `max(n1,n2)` qui renvoie le plus grand élément entre `n1` et `n2`."
   ]
  },
  {
   "cell_type": "code",
   "execution_count": null,
   "metadata": {},
   "outputs": [],
   "source": []
  },
  {
   "cell_type": "markdown",
   "metadata": {},
   "source": [
    "### Exercice 2\n",
    "Définissez une **fonction** `decale(lettre)` qui décale de 3 rangs dans l'alphabet la lettre `lettre` passée en argument (après Z, on recommencera à A..)"
   ]
  },
  {
   "cell_type": "code",
   "execution_count": null,
   "metadata": {},
   "outputs": [],
   "source": [
    "def decale(lettre):\n",
    "    lettre=lettre.upper()#la lettre en majuscule\n",
    "    # ord(lettre) permet d'obtenir le code ascii de la lettre...\n",
    "    \n",
    "\n"
   ]
  },
  {
   "cell_type": "code",
   "execution_count": null,
   "metadata": {},
   "outputs": [],
   "source": [
    "decale(\"A\") # doit renvoyer \"D\""
   ]
  },
  {
   "cell_type": "markdown",
   "metadata": {},
   "source": [
    "### Exercice 3\n",
    "Rajoutez un paramètre `n` à la fonction précédente pour pouvoir décaler la lettre de `n` rangs."
   ]
  },
  {
   "cell_type": "code",
   "execution_count": null,
   "metadata": {},
   "outputs": [],
   "source": []
  },
  {
   "cell_type": "markdown",
   "metadata": {},
   "source": [
    "### Exercice 4\n",
    "Utilisez la fonction précédente pour créer la fonction `decale_phrase(p, n)` qui décale toutes les lettres d'une phrase `p` de `n` rangs."
   ]
  },
  {
   "cell_type": "code",
   "execution_count": null,
   "metadata": {},
   "outputs": [],
   "source": []
  },
  {
   "cell_type": "markdown",
   "metadata": {},
   "source": [
    "## Exercice 5\n",
    "Décodez la phrase `PRZRFFNTRARPBAGVRAGEVRAQVAGRERFFNAG`"
   ]
  },
  {
   "cell_type": "code",
   "execution_count": null,
   "metadata": {},
   "outputs": [],
   "source": []
  },
  {
   "cell_type": "markdown",
   "metadata": {},
   "source": [
    "## Exercice : le damier et la tortue\n",
    "\n",
    "\n",
    "L’objectif est de faire dessiner par le module turtle de Python le \n",
    "damier ci-contre : \n",
    "il est composé d’un grand carré rouge et de rangées alternées et décalés\n",
    "de carrés verts et bleus.\n",
    "\n",
    "Une première version de code est proposée ci-contre.\n",
    "![](https://capytale2.ac-paris.fr/web/sites/default/files/2020-12-02-9-29-21/ac-creteil-1/mln_romainpierrej.planchais/damier.png)\n",
    "\n"
   ]
  },
  {
   "cell_type": "code",
   "execution_count": null,
   "metadata": {},
   "outputs": [],
   "source": [
    "import turtle as tortue\n",
    "tortue.reset ()\n",
    "tortue.goto (0,0)\n",
    "tortue.pencolor (1,0,0)\n",
    "for i in range (4) :\n",
    "    tortue.forward (100)\n",
    "    tortue.left (90)\n",
    "tortue.pencolor (0,1,0)\n",
    "for j in range (5) :\n",
    "    for i in range (4) :\n",
    "        tortue.forward (10)\n",
    "        tortue.left (90)\n",
    "    tortue.up()\n",
    "    tortue.forward (20)\n",
    "    tortue.down()\n",
    "tortue.up ()\n",
    "tortue.goto (10,10)\n",
    "tortue.down ()\n",
    "tortue.pencolor(0,0,1)\n",
    "for j in range (5) :\n",
    "    for i in range (4) :\n",
    "        tortue.forward (10)\n",
    "        tortue.left (90)\n",
    "    tortue.up()\n",
    "    tortue.forward (20)\n",
    "    tortue.down()\n",
    "\n",
    "tortue.mainloop ()"
   ]
  },
  {
   "cell_type": "markdown",
   "metadata": {},
   "source": [
    "1. Dans un tableau répertorier les fonctions prédéfinies du module turtle, leur nombre\n",
    "   de paramètres et leur signification."
   ]
  },
  {
   "cell_type": "markdown",
   "metadata": {},
   "source": [
    "| fonction | nombre de paramètre| signification|\n",
    "|--|--|--|\n",
    "|reset()|0| efface la trace de la tortue|\n",
    "|goto(a,o)|2|déplace la tortue au points de coordonnées a,o|\n",
    "|pencolor(r,g,b)|3|Set pencolor to the RGB color represented by the tuple of r, g, and b. Each of r, g, and b must be in the range 0..colormode, where colormode is either 1.0 or 255 |\n",
    "|forwar(d)|1| avance la tortue de la distance d (en pixel)|\n",
    "|left(a)| 1| tourne la tortue à gauche avec un angle a|\n",
    "|down()|0|Baisse la pointe du stylo — dessine quand il se déplace.|\n",
    "|up()|0|Lève la pointe du stylo — pas de dessin quand il se déplace.|\n"
   ]
  },
  {
   "cell_type": "markdown",
   "metadata": {},
   "source": [
    "2. Modifier ce code afin qu’il dessine le damier complet et le rendre plus lisible et compact\n",
    "(en utilisant des fonctions … )"
   ]
  },
  {
   "cell_type": "code",
   "execution_count": null,
   "metadata": {},
   "outputs": [],
   "source": []
  },
  {
   "cell_type": "markdown",
   "metadata": {},
   "source": [
    "## Exercice: le nombre mystérieux ( le retour) \n",
    "Reprendre le jeux : le nombre mystérieux ( notebook précédent) et ajouter le stocage des records et des noms à l'aide des fonctions suivantes:"
   ]
  },
  {
   "cell_type": "code",
   "execution_count": null,
   "metadata": {},
   "outputs": [],
   "source": [
    "def enregister(nom,cpt):\n",
    "    # ouvrir un fichier texte record.txt et enregistrer un message dans ce fichier\n",
    "    f = open('record.txt','w')# ouvir/créer le fichier record.txt\n",
    "    f.write(nom+\" \"+str(cpt))# écrire  dans le fichier\n",
    "    f.close() # fermer le fichier\n",
    "\n",
    "def lire_record():\n",
    "    f = open('record.txt','r')# ouvre le fichier dans une variable f\n",
    "    message = f.read()# lire le fichier et le placer dans une variable message\n",
    "    f.close() # fermer le fichier\n",
    "    return message.split(\" \")\n",
    "\n",
    "enregister(\"tata\",30) # utilisation de la fonction...\n",
    "print(lire_record()[1])# afficher le score record\n",
    "print(lire_record()[0]) # afficher le nom du recordman\n"
   ]
  },
  {
   "cell_type": "code",
   "execution_count": null,
   "metadata": {},
   "outputs": [],
   "source": [
    "from random import randint       # permet d'avoir un nb aléatoire : randint(2,10) icic entre 2 et 10\n",
    "\n",
    "N=randint(1,100)\n",
    "cpt=1\n",
    "code_triche=-10\n",
    "nombre=int(input(\"saisir un nombre\"))\n",
    "while nombre!=N and nombre!=code_triche:\n",
    "    if nombre>N:\n",
    "        print(\"trop grand\")\n",
    "        nombre=int(input(\"saisir un nombre\"))\n",
    "        cpt=cpt+1\n",
    "    else:\n",
    "        print(\"trop petit\")\n",
    "        nombre=int(input(\"saisir un nombre\"))\n",
    "        cpt=cpt+1\n",
    "print(\"gagner!!\")\n",
    "print(\"nombre de coup\",cpt)\n"
   ]
  }
 ],
 "metadata": {
  "kernelspec": {
   "display_name": "Python 3",
   "language": "python",
   "name": "python3"
  },
  "language_info": {
   "codemirror_mode": {
    "name": "ipython",
    "version": 3
   },
   "file_extension": ".py",
   "mimetype": "text/x-python",
   "name": "python",
   "nbconvert_exporter": "python",
   "pygments_lexer": "ipython3",
   "version": "3.7.6"
  },
  "toc": {
   "base_numbering": 1,
   "nav_menu": {},
   "number_sections": false,
   "sideBar": true,
   "skip_h1_title": true,
   "title_cell": "Table of Contents",
   "title_sidebar": "Contents",
   "toc_cell": false,
   "toc_position": {
    "height": "calc(100% - 180px)",
    "left": "10px",
    "top": "150px",
    "width": "308.333px"
   },
   "toc_section_display": true,
   "toc_window_display": true
  }
 },
 "nbformat": 4,
 "nbformat_minor": 4
}
