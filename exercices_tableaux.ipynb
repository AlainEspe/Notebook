{
 "cells": [
  {
   "cell_type": "markdown",
   "metadata": {},
   "source": [
    "# Quelques exercices de manipulations de tableau\n",
    "\n",
    "Les exercices sont indépendants les uns des autres. Faites le maximum.\n",
    "Ce travail peut être noté.\n"
   ]
  },
  {
   "cell_type": "markdown",
   "metadata": {},
   "source": [
    "## Exercice 1\n",
    "Écrire une fonction `echange(tab, i, j)` qui échange dans le tableau `tab` les éléments aux indices `i` et `j`\n",
    "Cette fonction ne crééra pas de nouveau tableau."
   ]
  },
  {
   "cell_type": "code",
   "execution_count": null,
   "metadata": {},
   "outputs": [],
   "source": [
    "def echange(tab, i, j):\n",
    "    \"\"\" Échange dans tab les éléments aux indices i et j\n",
    "        Cette fonction ne renvoie rien\n",
    "        Précondition : 0 <= i < len(tab) and 0<= j < len(tab)\n",
    "    \"\"\"\n",
    "\n",
    "# Jeu de tests\n",
    "tab = [7, 5]\n",
    "assert echange(tab, 0, 1) == None, \"Cette fonction ne doit rien renvoyer\"\n",
    "assert tab == [5, 7]\n",
    "tab = [7, 5, 2, 3, 6]\n",
    "echange(tab, 2, 4)\n",
    "assert tab == [7, 5, 6, 3, 2]"
   ]
  },
  {
   "cell_type": "markdown",
   "metadata": {},
   "source": [
    "## Exercice 2"
   ]
  },
  {
   "cell_type": "markdown",
   "metadata": {},
   "source": [
    "Écrire une fonction `miroir(tab)` qui reçoit un tableau en argument et le modifie pour échager le premier élément avec le dernir, le second avec l'avant dernier, etc. Dit autrement, on remplace le tableau par son image miroir.\n",
    "\n",
    "On pourra se servir de la fonction échange de l'exercice précédent."
   ]
  },
  {
   "cell_type": "code",
   "execution_count": null,
   "metadata": {},
   "outputs": [],
   "source": [
    "def miroir(tab):\n",
    "    \"\"\" Transforme tab en son miroir\n",
    "        Cette fonction ne doit rien renvoyer\n",
    "    \"\"\"\n",
    "\n",
    "\n",
    "# Jeu de tests\n",
    "tab = [7, 5]\n",
    "assert miroir(tab) == None, \"Cette fonction ne doit rien renvoyer\"\n",
    "assert tab == [5, 7], \"Test pour [5, 7] à revoir\"\n",
    "tab = [7, 5, 2, 3, 6]\n",
    "miroir(tab)\n",
    "assert tab == [6, 3, 2, 5, 7], \"Test pour [6, 3, 2, 5, 7] à revoir\"\n",
    "tab = []\n",
    "miroir(tab)\n",
    "assert tab == [], \"Le test pour une liste vide est à revoir\""
   ]
  },
  {
   "cell_type": "markdown",
   "metadata": {},
   "source": [
    "## Exercice 3\n",
    "Écrire un fonction `prefixe(tab1, tab2)` qui renvoie `True` si le tableau `tab1` est un préfixe du tableau `tab2`, c'est-à-dire si le tableau `tab2` commence par les éléments du tableau `tab1` dans le même ordre."
   ]
  },
  {
   "cell_type": "code",
   "execution_count": null,
   "metadata": {},
   "outputs": [],
   "source": [
    "def prefixe(tab1, tab2):\n",
    "    \"\"\" Renvoie True si tab1 est un prefixe du tableau tab2\n",
    "        Précondition len(tab1) <= len(tab2)\n",
    "    \"\"\"\n",
    "    assert len(tab1) <= len(tab2), \"la longueur de tab1 doit être <= longueur de tab2\"\n",
    "\n",
    "\n",
    "# Jeu de tests\n",
    "assert prefixe([], []), \"La liste vide doit être traitée\"\n",
    "assert prefixe([], [5, 6, 7]), \"La liste vide doit être traitée\"\n",
    "assert prefixe([5], [5, 6, 7]), \"Faux pour prefixe([5], [5, 6, 7])\"\n",
    "assert prefixe([5, 6, 7], [5, 6, 7, 8, 9]), \"Faux pour prefixe([5, 6, 7], [5, 6, 7, 8, 9])\"\n",
    "assert not prefixe([5, 6, 7], [5, 6, 8, 7, 9]), \"Faux pour prefixe([5, 6, 7], [5, 6, 8, 7, 9])\"\n",
    "assert prefixe([5, 6, 7, 8, 9], [5, 6, 7, 8, 9]), \"Faux pour prefixe([5, 6, 7, 8, 9], [5, 6, 7, 8, 9])\""
   ]
  },
  {
   "cell_type": "markdown",
   "metadata": {},
   "source": [
    "## Exercice 4\n",
    "Écrire un fonction `suffixe(tab1, tab2)` qui renvoie `True` si le tableau `tab1` est un suffixe du tableau `tab2`, c'est-à-dire si le tableau `tab2` finit par les éléments du tableau `tab1` dans le même ordre."
   ]
  },
  {
   "cell_type": "code",
   "execution_count": null,
   "metadata": {},
   "outputs": [],
   "source": [
    "def suffixe(tab1, tab2):\n",
    "    \"\"\" Renvoie True si tab1 est un suffixe du tableau tab2\n",
    "        Précondition len(tab1) <= len(tab2)\n",
    "    \"\"\"\n",
    "    assert len(tab1) <= len(tab2), \"la longueur de tab1 doit être <= longueur de tab2\"\n",
    "\n",
    "# Jeu de tests\n",
    "assert suffixe([], []), \"La liste vide doit être traitée\"\n",
    "assert suffixe([], [5, 6, 7]), \"La liste vide doit être traitée\"\n",
    "assert suffixe([7], [5, 6, 7]), \"Faux pour prefixe([7], [5, 6, 7])\"\n",
    "assert suffixe([5, 6, 7], [8, 9, 5, 6, 7]), \"Faux pour prefixe([5, 6, 7], [8, 9, 5, 6, 7])\"\n",
    "assert not suffixe([6, 7, 9], [5, 6, 8, 7, 9]), \"Faux pour prefixe([6, 7, 9], [5, 6, 8, 7, 9])\"\n",
    "assert suffixe([5, 6, 7, 8, 9], [5, 6, 7, 8, 9]), \"Faux pour prefixe([5, 6, 7, 8, 9], [5, 6, 7, 8, 9])\""
   ]
  },
  {
   "cell_type": "markdown",
   "metadata": {},
   "source": [
    "## Exercice 5"
   ]
  },
  {
   "cell_type": "markdown",
   "metadata": {},
   "source": [
    "Écrire une fonction `hamming(tab1, tab2)` qui prend en paramètres deux tableaux, que l'on supposera de la même taille, et qui renvoie le nombre d'indices auquels les deux tableaux diffèrent."
   ]
  },
  {
   "cell_type": "code",
   "execution_count": null,
   "metadata": {},
   "outputs": [],
   "source": [
    "def hamming(tab1, tab2):\n",
    "    \"\"\" Renvoie le nombre d'indices auquels les deux tableaux diffèrent\n",
    "        Précondition : len(tab1) == len(tab2)\n",
    "    \"\"\"\n",
    "    assert len(tab1) == len(tab2), \"Les longueurs doivent être les mêmes\"\n",
    "    compteur = 0\n",
    "\n",
    "\n",
    "# Jeu de tests\n",
    "\n",
    "assert hamming([], []) == 0, \"faux pour hamming([], [])\"\n",
    "assert hamming([5], [5]) == 0, \"faux pour hamming([5], [5])\"\n",
    "assert hamming([5], [6]) == 1, \"faux pour hamming([5], [6])\"\n",
    "assert hamming([5, 7, 8], [5, 7, 8]) == 0, \"faux pour hamming([5, 7, 8], [5, 7, 8])\"\n",
    "assert hamming([5, 7, 8], [5, 7, 7]) == 1, \"faux pour hamming([5, 7, 8], [5, 7, 7])\"\n",
    "assert hamming([5, 7, 8], [5, 8, 7]) == 2, \"faux pour hamming([5, 7, 8], [5, 8, 7])\"\n",
    "assert hamming([5, 7, 8], [7, 8, 5]) == 3, \"faux pour hamming([5, 7, 8], [7, 7, 5])\""
   ]
  },
  {
   "cell_type": "markdown",
   "metadata": {},
   "source": [
    "## Exercice 6\n",
    "Écrire la fonction `est_trie(tab)` qui renvoie `True` si le tableau `tab` est trié par ordre croissant et `False` sinon"
   ]
  },
  {
   "cell_type": "code",
   "execution_count": null,
   "metadata": {},
   "outputs": [],
   "source": [
    "def est_trie(tab):\n",
    "    \"\"\" Renvoie True si tab est trié par ordre croissant\n",
    "    \"\"\"\n",
    "\n",
    "    \n",
    "# Jeu de tests\n",
    "\n",
    "assert est_trie([]), \"Faux, un tableau vide est trié par ordre croissant\"\n",
    "assert est_trie([1]), \"Faux, un tableau à un élément est trié par ordre croissant\"\n",
    "assert est_trie([1, 5, 7]), \"Faux pour est_trie([1, 5, 7])\"\n",
    "assert not est_trie([1, 7, 5]), \"Faux pour est_trie([1, 7, 5])\"\n",
    "assert est_trie([1, 7, 9, 12, 13, 15, 25, 37]), \"Faux pour est_trie([1, 7, 9, 12, 13, 15, 25, 37])\""
   ]
  },
  {
   "cell_type": "markdown",
   "metadata": {},
   "source": [
    "## Exercice 7\n",
    "Écrire la fonction `negatif(tab)` qui prend en argument un tablau de tableau de `0` et `1` et transforme les 0 et 1 du tableau.\n",
    "\n",
    "Cette fonction ne renvoie rien\n",
    "\n",
    "Par exemple le tableau tab :\n",
    "\n",
    "     |0|1|0|\n",
    "     |1|0|0|\n",
    "     |0|0|1|\n",
    "\n",
    "devient \n",
    "\n",
    "     |1|0|1|\n",
    "     |0|1|1|\n",
    "     |1|1|0|"
   ]
  },
  {
   "cell_type": "code",
   "execution_count": null,
   "metadata": {},
   "outputs": [],
   "source": [
    "def negatif(tab):\n",
    "    \"\"\" Modifie tab en son négatif\"\"\"\n",
    "\n",
    "\n",
    "# Jeu de tests\n",
    "\n",
    "tab = []\n",
    "assert negatif(tab) == None, \"negatif ne renvoie rien\"\n",
    "assert tab == [], \"Faux si tab = []\"\n",
    "tab = [[0]]\n",
    "negatif(tab)\n",
    "assert tab == [[1]], \"Faux si tab = [[1]]\"\n",
    "tab = [[0, 1, 0], [1, 0, 0], [0, 0, 1], [1, 0, 1]]\n",
    "negatif(tab)\n",
    "assert tab == [[1, 0, 1], [0, 1, 1], [1, 1, 0], [0, 1, 0]], \"Faux si tab = [[1, 0, 1], [0, 1, 1], [1, 1, 0], [0, 1, 0]]\""
   ]
  },
  {
   "cell_type": "markdown",
   "metadata": {},
   "source": [
    "## Exercice 8\n",
    "Écrire la fonction `horizontale(tab)` qui prend en argument un tablau de tableau le transforme en son symétrique par rapport à l'axe horizontal du milieu.\n",
    "\n",
    "Par exemple le tableau tab :\n",
    "\n",
    "     |1|1|0|\n",
    "     |0|1|1|\n",
    "     |1|0|1|\n",
    "\n",
    "devient \n",
    "\n",
    "     |1|0|1|\n",
    "     |0|1|1|\n",
    "     |1|1|0|\n",
    "     \n"
   ]
  },
  {
   "cell_type": "code",
   "execution_count": null,
   "metadata": {},
   "outputs": [],
   "source": [
    "def horizontale(tab):\n",
    "    \"\"\" Transforme tab en son symétrique horizontal\n",
    "        Cette fonction ne renvoie rien\n",
    "    \"\"\"\n",
    "\n",
    "            \n",
    "# Jeu de tests\n",
    "tab = []\n",
    "assert horizontale(tab) == None, \"negatif ne renvoie rien\"\n",
    "assert tab == [], \"Faux si tab = []\"\n",
    "tab = [[1]]\n",
    "horizontale(tab)\n",
    "assert tab == [[1]], \"Faux si tab = [[1]]\"\n",
    "tab = [[1, 1, 0], [0, 1, 1], [1, 0, 1]]\n",
    "horizontale(tab)\n",
    "assert tab == [[1, 0, 1], [0, 1, 1], [1, 1, 0]], \"Faux si tab = [[1, 1, 0], [0, 1, 1], [1, 0, 1]]\"\n",
    "tab = [[0, 7, 25], [1, 0, 0], [0, 0, 1], [1, 0, 1]]\n",
    "horizontale(tab)\n",
    "assert tab == [[1, 0, 1], [0, 0, 1], [1, 0, 0], [0, 7, 25]], \"Faux si tab = [[1, 0, 1], [0, 0, 1], [1, 0, 0], [0, 7, 25]]\""
   ]
  },
  {
   "cell_type": "code",
   "execution_count": null,
   "metadata": {},
   "outputs": [],
   "source": []
  }
 ],
 "metadata": {
  "kernelspec": {
   "display_name": "Python 3",
   "language": "python",
   "name": "python3"
  },
  "language_info": {
   "codemirror_mode": {
    "name": "ipython",
    "version": 3
   },
   "file_extension": ".py",
   "mimetype": "text/x-python",
   "name": "python",
   "nbconvert_exporter": "python",
   "pygments_lexer": "ipython3",
   "version": "3.6.9"
  }
 },
 "nbformat": 4,
 "nbformat_minor": 4
}
