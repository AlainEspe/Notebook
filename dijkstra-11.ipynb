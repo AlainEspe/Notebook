{
 "cells": [
  {
   "cell_type": "markdown",
   "metadata": {},
   "source": [
    "<table style=\"border:1px solid black\">\n",
    "    <tbody>\n",
    "    <tr>\n",
    "    <td style=\"text-align: center; vertical-align: middle; border:1px solid black;\"><h1>TP</h1></td>\n",
    "       <td><h2>2 h</h2></td>\n",
    "    <td style=\"text-align: center; vertical-align: middle; border:1px solid black;\"><h2>Structures de données<br>\n",
    "       Langages et programmation <br> Algorithmique </h2></td>\n",
    "    <th rowspan=\"2\" style=\"text-align: center; vertical-align: middle; border:1px solid black; background-color:white;\"><img alt=\"Dijkstra\" src=\"unnamed.png\"></th>\n",
    "     </tr>\n",
    "     <tr>\n",
    "    <th colspan=\"2\" style=\"text-align: center; vertical-align: middle; border:1px solid black; background-color:white;\"><img alt=\"logoNSI\" src=\"logoNSI.png\"></th>\n",
    "    <td style=\"text-align: center; vertical-align: middle; border:1px solid black;\"><h2>Implémentation de l'algorithme du plus court chemin<br>Algorithme de Dijkstra\n",
    "       </h2></td>\n",
    "    </tr>\n",
    "    </tbody>\n",
    "</table>"
   ]
  },
  {
   "cell_type": "markdown",
   "metadata": {},
   "source": [
    "<p>Création du graphe avec un dictionnaire et initialisation des variables :</p>"
   ]
  },
  {
   "cell_type": "code",
   "execution_count": 1,
   "metadata": {},
   "outputs": [],
   "source": [
    "graph = {\n",
    "    \"A\": { \"C\": 5, \"U\" : 7, \"R\":9 } ,\n",
    "    \"C\": { \"M\": 14, \"H\":8, \"U\":9, \"A\":5} ,\n",
    "    \"H\": { \"M\":7, \"C\":8, \"U\":11} ,\n",
    "    \"M\": { \"C\":14, \"H\":7} ,\n",
    "    \"R\": {\"A\":9, \"U\":12} ,\n",
    "    \"U\": {\"A\":7, \"R\":12, \"C\":9, \"H\":11} ,\n",
    "    }\n",
    "\n",
    "distances_min={} # Noeuds -> coût minimum pour être atteint\n",
    "predecesseur= {} # Noeuds -> prédécesseur\n",
    "NV =  graph # Ensemble des noeuds non visité\n",
    "inf = float(\"inf\")\n",
    "chemin=[] # Chemin contenant des noeuds du plus court chemin"
   ]
  },
  {
   "cell_type": "code",
   "execution_count": 2,
   "metadata": {},
   "outputs": [],
   "source": [
    "def initialiser(source, distances_min, predecesseur, NV):\n",
    "    for sommet in NV:\n",
    "        distances_min[sommet]=inf\n",
    "    distances_min[source]=0\n",
    "    predecesseur[source]=source"
   ]
  },
  {
   "cell_type": "code",
   "execution_count": 3,
   "metadata": {},
   "outputs": [
    {
     "name": "stdout",
     "output_type": "stream",
     "text": [
      "{'A': inf, 'C': inf, 'H': inf, 'M': inf, 'R': 0, 'U': inf}\n"
     ]
    }
   ],
   "source": [
    "source=\"R\"\n",
    "initialiser(source, distances_min, predecesseur, NV)\n",
    "print(distances_min)"
   ]
  },
  {
   "cell_type": "code",
   "execution_count": 4,
   "metadata": {},
   "outputs": [],
   "source": [
    "def traiter(NV, predecesseur, distances_min):   \n",
    "    # Tant qu'il y a des sommets non visités\n",
    "    while len(NV)>0:\n",
    "        # On cherche le sommet non visité de coût minimum\n",
    "        sommet_min = trouveMin(distances_min,NV)\n",
    "        \n",
    "        # Pour tous les successeurs du Sommet_min\n",
    "        for nom_successeur, distance in NV[sommet_min].items():\n",
    "            if distances_min[sommet_min] + distance < distances_min[nom_successeur]:\n",
    "              distances_min[nom_successeur] = distances_min[sommet_min] + distance \n",
    "              predecesseur[nom_successeur]= sommet_min\n",
    "        \n",
    "        # On supprime le sommet que l'on a visité de l'ensemble des non visités     \n",
    "        del NV[sommet_min]"
   ]
  },
  {
   "cell_type": "code",
   "execution_count": 5,
   "metadata": {},
   "outputs": [],
   "source": [
    "def trouveMin(distances_min, NV):\n",
    "    dist_min = inf\n",
    "    sommet_min = None\n",
    "    #print(\"distances_min\",distances_min)\n",
    "    \n",
    "    # pour tous les successeurs de sommet, trouver celui de distance minimal\n",
    "    for nom_sommet, distance in distances_min.items():\n",
    "        if distance < dist_min and nom_sommet in NV:\n",
    "            sommet_min = nom_sommet\n",
    "            dist_min = distance\n",
    "            \n",
    "    return sommet_min"
   ]
  },
  {
   "cell_type": "code",
   "execution_count": 6,
   "metadata": {},
   "outputs": [
    {
     "name": "stdout",
     "output_type": "stream",
     "text": [
      "{'A': 9, 'C': 14, 'H': 22, 'M': 28, 'R': 0, 'U': 12}\n"
     ]
    }
   ],
   "source": [
    "traiter(NV, predecesseur, distances_min)\n",
    "print(distances_min)"
   ]
  },
  {
   "cell_type": "code",
   "execution_count": 7,
   "metadata": {},
   "outputs": [],
   "source": [
    "def afficheChemin(source, destination, distances_min, predecesseur):        \n",
    "    # Construction du plus court chemin en partant de la destination.\n",
    "    sommet_courant = destination\n",
    "    \n",
    "    \n",
    "    while sommet_courant!=source:\n",
    "        # On ajoute le sommet courant\n",
    "        chemin.append(sommet_courant)\n",
    "        # On cherche son prédécesseur\n",
    "        sommet_courant = predecesseur[sommet_courant]\n",
    "    \n",
    "    # On ajoute la source en dernier.\n",
    "    chemin.append(sommet_courant)\n",
    "    \n",
    "    # On inverse l'ordre du chemin pour le remettre dans le bon sens et on l'affiche\n",
    "    chemin.reverse()\n",
    "    print(\"Le plus court chemin entre\", source, \"et\", destination, \" est \", chemin)\n",
    "    print(\"et représente un coût de\", distances_min[destination] ,\".\")"
   ]
  },
  {
   "cell_type": "code",
   "execution_count": 8,
   "metadata": {},
   "outputs": [
    {
     "name": "stdout",
     "output_type": "stream",
     "text": [
      "Le plus court chemin entre R et M  est  ['R', 'A', 'C', 'M']\n",
      "et représente un coût de 28 .\n"
     ]
    }
   ],
   "source": [
    "destination = \"M\"\n",
    "afficheChemin(source, destination, distances_min, predecesseur)"
   ]
  },
  {
   "cell_type": "markdown",
   "metadata": {},
   "source": [
    "<h2>Vérification des résultats</h2>\n",
    "<p>Nous allons vérifier les résultats précedents en utilisant une bibliothèque spécialisée <b>\"networkx\"</b></p>"
   ]
  },
  {
   "cell_type": "code",
   "execution_count": 9,
   "metadata": {},
   "outputs": [
    {
     "ename": "ModuleNotFoundError",
     "evalue": "No module named 'networkx'",
     "output_type": "error",
     "traceback": [
      "\u001b[0;31m---------------------------------------------------------------------------\u001b[0m",
      "\u001b[0;31mModuleNotFoundError\u001b[0m                       Traceback (most recent call last)",
      "\u001b[0;32m<ipython-input-9-ee9d0b6da2f1>\u001b[0m in \u001b[0;36m<module>\u001b[0;34m\u001b[0m\n\u001b[1;32m      1\u001b[0m \u001b[0;32mimport\u001b[0m \u001b[0mmatplotlib\u001b[0m\u001b[0;34m.\u001b[0m\u001b[0mpyplot\u001b[0m \u001b[0;32mas\u001b[0m \u001b[0mplt\u001b[0m\u001b[0;34m\u001b[0m\u001b[0;34m\u001b[0m\u001b[0m\n\u001b[0;32m----> 2\u001b[0;31m \u001b[0;32mimport\u001b[0m \u001b[0mnetworkx\u001b[0m \u001b[0;32mas\u001b[0m \u001b[0mnx\u001b[0m\u001b[0;34m\u001b[0m\u001b[0;34m\u001b[0m\u001b[0m\n\u001b[0m\u001b[1;32m      3\u001b[0m \u001b[0;34m\u001b[0m\u001b[0m\n\u001b[1;32m      4\u001b[0m \u001b[0;31m#création de l'objet Reseau\u001b[0m\u001b[0;34m\u001b[0m\u001b[0;34m\u001b[0m\u001b[0;34m\u001b[0m\u001b[0m\n\u001b[1;32m      5\u001b[0m \u001b[0mReseau\u001b[0m \u001b[0;34m=\u001b[0m \u001b[0mnx\u001b[0m\u001b[0;34m.\u001b[0m\u001b[0mGraph\u001b[0m\u001b[0;34m(\u001b[0m\u001b[0;34m)\u001b[0m\u001b[0;34m\u001b[0m\u001b[0;34m\u001b[0m\u001b[0m\n",
      "\u001b[0;31mModuleNotFoundError\u001b[0m: No module named 'networkx'"
     ]
    }
   ],
   "source": [
    "import matplotlib.pyplot as plt\n",
    "import networkx as nx\n",
    "\n",
    "#création de l'objet Reseau\n",
    "Reseau = nx.Graph()"
   ]
  },
  {
   "cell_type": "markdown",
   "metadata": {},
   "source": [
    "<p>Création du graphe dans l'objet Reseau</p>"
   ]
  },
  {
   "cell_type": "code",
   "execution_count": null,
   "metadata": {},
   "outputs": [],
   "source": [
    "Reseau.add_edge('A', 'C', weight=5)\n",
    "Reseau.add_edge('A', 'U', weight=7)\n",
    "Reseau.add_edge('A', 'R', weight=9)\n",
    "Reseau.add_edge('R', 'U', weight=12)\n",
    "Reseau.add_edge('U', 'C', weight=9)\n",
    "Reseau.add_edge('U', 'H', weight=11)\n",
    "Reseau.add_edge('H', 'C', weight=8)\n",
    "Reseau.add_edge('H', 'M', weight=7)\n",
    "Reseau.add_edge('M', 'C', weight=14)"
   ]
  },
  {
   "cell_type": "markdown",
   "metadata": {},
   "source": [
    "<p>Mise en place du dessin du graphe</p>"
   ]
  },
  {
   "cell_type": "code",
   "execution_count": null,
   "metadata": {},
   "outputs": [],
   "source": [
    "#positionnement des éléments\n",
    "pos = nx.spring_layout(Reseau)  # positions for all nodes\n",
    "\n",
    "# nodes\n",
    "nx.draw_networkx_nodes(Reseau, pos, node_size=700, node_color='green')\n",
    "\n",
    "# edges\n",
    "nx.draw_networkx_edges(Reseau, pos, width=3)\n",
    "\n",
    "# labels\n",
    "nx.draw_networkx_labels(Reseau, pos, font_size=20, font_family='sans-serif')\n",
    "nx.draw_networkx_edge_labels(Reseau, pos, font_size=7, font_family='sans-serif', alpha=0.5)\n",
    "\n",
    "#représentation\n",
    "plt.axis('off')\n",
    "plt.show()"
   ]
  },
  {
   "cell_type": "markdown",
   "metadata": {},
   "source": [
    "<p>On peut maintenant afficher le plus court chemin entre deux points :</p>"
   ]
  },
  {
   "cell_type": "code",
   "execution_count": 10,
   "metadata": {},
   "outputs": [
    {
     "ename": "NameError",
     "evalue": "name 'nx' is not defined",
     "output_type": "error",
     "traceback": [
      "\u001b[0;31m---------------------------------------------------------------------------\u001b[0m",
      "\u001b[0;31mNameError\u001b[0m                                 Traceback (most recent call last)",
      "\u001b[0;32m<ipython-input-10-de8b78aea6c5>\u001b[0m in \u001b[0;36m<module>\u001b[0;34m\u001b[0m\n\u001b[0;32m----> 1\u001b[0;31m \u001b[0mprint\u001b[0m\u001b[0;34m(\u001b[0m\u001b[0mnx\u001b[0m\u001b[0;34m.\u001b[0m\u001b[0mdijkstra_path\u001b[0m\u001b[0;34m(\u001b[0m\u001b[0mReseau\u001b[0m\u001b[0;34m,\u001b[0m\u001b[0;34m'R'\u001b[0m\u001b[0;34m,\u001b[0m\u001b[0;34m'M'\u001b[0m\u001b[0;34m)\u001b[0m\u001b[0;34m)\u001b[0m\u001b[0;34m\u001b[0m\u001b[0;34m\u001b[0m\u001b[0m\n\u001b[0m",
      "\u001b[0;31mNameError\u001b[0m: name 'nx' is not defined"
     ]
    }
   ],
   "source": [
    "print(nx.dijkstra_path(Reseau,'R','M'))"
   ]
  },
  {
   "cell_type": "code",
   "execution_count": null,
   "metadata": {},
   "outputs": [],
   "source": []
  }
 ],
 "metadata": {
  "kernelspec": {
   "display_name": "Python 3",
   "language": "python",
   "name": "python3"
  },
  "language_info": {
   "codemirror_mode": {
    "name": "ipython",
    "version": 3
   },
   "file_extension": ".py",
   "mimetype": "text/x-python",
   "name": "python",
   "nbconvert_exporter": "python",
   "pygments_lexer": "ipython3",
   "version": "3.6.9"
  }
 },
 "nbformat": 4,
 "nbformat_minor": 2
}
