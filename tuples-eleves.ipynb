{
 "cells": [
  {
   "cell_type": "markdown",
   "metadata": {},
   "source": [
    "# <center><span style=\"color: red\"><u>Les tulpes</u></span>  </center>\n",
    "\n",
    "# <span style=\"color: green\"><u>1.Définition</u></span> \n",
    "\n",
    "Les tuples (appelés *p-uplets* dans le programme officiel de NSI) sont une collection d'objets **ordonnée** mais **NON MODIFIABLE**.  \n",
    "Pour rappel :\n",
    "- **chaine de caractères** : ordonnée et non modifiable\n",
    "- **liste** : ordonnée et modifiable\n",
    "- **tuple** : ordonnée et non modifiable \n",
    "\n",
    "\n",
    "Quel peut être l'intérêt d'un tuple par rapport à une liste ?\n",
    "- Justement son caractère protégé : jamais une portion de code ne pourra venir modifier les informations contenues dans le tuple. \n",
    "- L'utilisation des tuples est économe en ressources-système par rapport à une liste (en particulier, parce que sa taille est fixe).\n"
   ]
  },
  {
   "cell_type": "code",
   "execution_count": null,
   "metadata": {},
   "outputs": [],
   "source": [
    "monPremierTuple = (3, 5, 6)"
   ]
  },
  {
   "cell_type": "markdown",
   "metadata": {},
   "source": [
    "Un tuple se différencie d'une liste par l'utilisation des parenthèses au lieu des crochets."
   ]
  },
  {
   "cell_type": "code",
   "execution_count": null,
   "metadata": {},
   "outputs": [],
   "source": [
    "type(monPremierTuple)"
   ]
  },
  {
   "cell_type": "markdown",
   "metadata": {},
   "source": [
    "# <span style=\"color: green\"><u>2. Accès aux éléments d'un tuple </u></span> \n",
    "\n",
    "Comme pour une liste ou une chaîne de caractère, l'accès se fait par un indice entre **crochets**\n",
    "."
   ]
  },
  {
   "cell_type": "code",
   "execution_count": null,
   "metadata": {},
   "outputs": [],
   "source": [
    "a = (12, 25, 6)\n",
    "a[0]"
   ]
  },
  {
   "cell_type": "markdown",
   "metadata": {},
   "source": [
    "\n",
    "# <span style=\"color: green\"><u>3.Tentative de modification d'un tuple </u></span> \n"
   ]
  },
  {
   "cell_type": "code",
   "execution_count": null,
   "metadata": {},
   "outputs": [],
   "source": [
    "a[0] = 4"
   ]
  },
  {
   "cell_type": "markdown",
   "metadata": {},
   "source": [
    "\n",
    "# <span style=\"color: green\"><u>4.Parcours d'un tuple </u></span> \n",
    "\n",
    "On retrouve bien évidemment les deux méthodes utilisables pour les listes :"
   ]
  },
  {
   "cell_type": "code",
   "execution_count": null,
   "metadata": {},
   "outputs": [],
   "source": [
    "for k in a :\n",
    "    print(k)"
   ]
  },
  {
   "cell_type": "code",
   "execution_count": null,
   "metadata": {},
   "outputs": [],
   "source": [
    "for k in range(len(a)):\n",
    "    print(a[k])"
   ]
  },
  {
   "cell_type": "markdown",
   "metadata": {},
   "source": [
    "## \n",
    "## <span style=\"color: green\"><u>4.Construction d'une fonction renvoyant un tuple</u></span> \n"
   ]
  },
  {
   "cell_type": "code",
   "execution_count": null,
   "metadata": {},
   "outputs": [],
   "source": [
    "# fonction renvoyant le tuple (quotient, reste) de la division euclidienne de a par b.\n",
    "def division(a, b):\n",
    "    q = a // b\n",
    "    r = a % b\n",
    "    return (q, r)"
   ]
  },
  {
   "cell_type": "code",
   "execution_count": null,
   "metadata": {},
   "outputs": [],
   "source": [
    "division(48,12)"
   ]
  },
  {
   "cell_type": "markdown",
   "metadata": {},
   "source": [
    "# <u> Exercice : Jeux de cartes  </u>\n",
    "\n",
    "## Création de tuples pour un jeu de cartes\n",
    "Un jeu de 52 cartes est constitué de quatre couleurs ( Pique, carreau, Cœur et Trèfle) et pour chacune il y a le 2, 3, 4, 5, 6, 7, 8, 9, 10, valet, dame roi et as\n",
    "\n",
    "Constituez deux listes :\n",
    "\n",
    "    -La liste couleurs\n",
    "\n",
    "    -La liste valeurs constituée de tuples contenant la valeur en entier et la valeur en chaîne ( exemple ( 2,\"Deux\") ( 11 , \"Valet\" )"
   ]
  },
  {
   "cell_type": "code",
   "execution_count": null,
   "metadata": {},
   "outputs": [],
   "source": [
    "couleurs=\n",
    "\n",
    "valeurs="
   ]
  },
  {
   "cell_type": "markdown",
   "metadata": {},
   "source": [
    "## Mélanger et distribuer les cartes à deux joueurs\n",
    "\n",
    "jeu est une liste de tuples ( comme un jeu neuf....)\n",
    "\n",
    "Pour mélanger aléatoirement les éléments d'une liste, on utilise la bibliothèque random et l'instruction random.shuffle(jeu).\n",
    "\n",
    "Écrire un programme qui mélange les cartes puis les séparent en deux listes de 26 cartes ( en simulant une distribution une par une )"
   ]
  },
  {
   "cell_type": "code",
   "execution_count": null,
   "metadata": {},
   "outputs": [],
   "source": [
    "import random\n",
    "\n",
    "jeu=[]\n",
    "\n",
    "for c in couleurs:\n",
    "\n",
    "    for v in valeurs:\n",
    "\n",
    "        jeu.append((c,)+v)\n",
    "\n",
    "\n",
    "random.shuffle(jeu)\n",
    "\n",
    "print(jeu)\n",
    "\n",
    "print(\"##############################################\")\n",
    "\n",
    "joueur1=[]\n",
    "\n",
    "joueur2=[]\n",
    "\n",
    "#distribution\n",
    "\n",
    "\n",
    "\n",
    "\n",
    "\n",
    "\n",
    "print(joueur1)\n",
    "\n",
    "print(\"##############################################\")\n",
    "\n",
    "print(joueur2)\n",
    "\n",
    "print(\"##############################################\")"
   ]
  },
  {
   "cell_type": "markdown",
   "metadata": {},
   "source": [
    "## Accéder à une valeur de la liste\n",
    "\n",
    "Quel est l'affichage relatif à ces lignes de codes  ?\n",
    "\n",
    "    print(joueur1[2])\n",
    "\n",
    "    print(joueur1[2][0])\n",
    "\n",
    "    print(joueur1[2][1])\n",
    "\n",
    "    print(joueur1[2][2])\n",
    "\n",
    "    print(\"le %s de %s\"%(joueur1[2][2],joueur1[2][0]))\n",
    "\n",
    "Quelle est l'instruction pour faire afficher  la 10ème carte du joueur 2 ?"
   ]
  },
  {
   "cell_type": "code",
   "execution_count": null,
   "metadata": {},
   "outputs": [],
   "source": []
  },
  {
   "cell_type": "markdown",
   "metadata": {},
   "source": [
    "## Un jeu de bataille\n",
    "\n",
    "Les règles :\n",
    "\n",
    "Une manche consiste à retourner une par une les cartes de son jeu\n",
    "\n",
    "    Celui dont la valeur de la carte est supérieure remporte les deux cartes.\n",
    "\n",
    "    Si les cartes sont de même valeur, elles sont écartées.\n",
    "\n",
    "En fin de manche celui qui a le plus de cartes a gagné la manche.\n",
    "\n",
    "Écrire un programme qui simule ce jeu de bataille."
   ]
  },
  {
   "cell_type": "code",
   "execution_count": null,
   "metadata": {},
   "outputs": [],
   "source": [
    "pioche=0 # nombre de cas de bataille dans le  jeux\n",
    "\n",
    "Gjoueur1=0 #gain du joueur 1\n",
    "\n",
    "Gjoueur2=0 #gain du joueur 2\n",
    "\n",
    "random.shuffle(joueur1)\n",
    "\n",
    "random.shuffle(joueur2)\n",
    "\n",
    "## code dujeux\n",
    "\n",
    "\n",
    "   \n",
    "\n",
    "print(\"le joueur 1 possède \", Gjoueur1, \"  cartes \")\n",
    "\n",
    "print(\"le joueur 2 possède \", Gjoueur2, \"  cartes \")\n",
    "\n",
    "print(\"il y a eu \", pioche, \"coups nuls\") "
   ]
  }
 ],
 "metadata": {
  "kernelspec": {
   "display_name": "Python 3",
   "language": "python",
   "name": "python3"
  },
  "language_info": {
   "codemirror_mode": {
    "name": "ipython",
    "version": 3
   },
   "file_extension": ".py",
   "mimetype": "text/x-python",
   "name": "python",
   "nbconvert_exporter": "python",
   "pygments_lexer": "ipython3",
   "version": "3.7.6"
  },
  "toc": {
   "base_numbering": 1,
   "nav_menu": {},
   "number_sections": false,
   "sideBar": true,
   "skip_h1_title": false,
   "title_cell": "Table of Contents",
   "title_sidebar": "Contents",
   "toc_cell": false,
   "toc_position": {
    "height": "calc(100% - 180px)",
    "left": "10px",
    "top": "150px",
    "width": "339.167px"
   },
   "toc_section_display": true,
   "toc_window_display": false
  }
 },
 "nbformat": 4,
 "nbformat_minor": 4
}
