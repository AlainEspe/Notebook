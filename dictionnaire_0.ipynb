{
 "cells": [
  {
   "cell_type": "markdown",
   "metadata": {},
   "source": [
    "# Cours : Dictionnaires"
   ]
  },
  {
   "cell_type": "markdown",
   "metadata": {},
   "source": [
    "Un `dictionnaire` est une structure permettant de stocker une collection de données en repérant non pas chaque donnée par un `index` comme pour les tableaux (c'est-à-dire les objets de type `<list>`) mais par une `clé`.\n",
    "\n",
    "Chaque entrée du dictionnaire est alors un coupe : `clé : valeur`.\n",
    "\n",
    "Ce type de structure est très adaptée pour stocker des tableaux à deux dimensions dont chaque colonne représente une information d'un type particulier, comme dans une base de données, ou un fichier csv (comma separated values : valeurs séparées par des virgules)."
   ]
  },
  {
   "cell_type": "markdown",
   "metadata": {},
   "source": [
    "## Création d'un dictionnaire vide"
   ]
  },
  {
   "cell_type": "code",
   "execution_count": null,
   "metadata": {},
   "outputs": [],
   "source": [
    "a = {}  # Ou bien : a = dict(). \n",
    "print(a, \"est un objet de type :\", type(a))"
   ]
  },
  {
   "cell_type": "markdown",
   "metadata": {},
   "source": [
    "## Ajout d'entrées dans le dictionnaire\n",
    "\n",
    "On ajoute les clés : `\"nom\"`, `\"tel\"`, `\"adresse\"`, `\"année\"` et on leur associe les valeurs située après le `=`"
   ]
  },
  {
   "cell_type": "code",
   "execution_count": null,
   "metadata": {
    "scrolled": true
   },
   "outputs": [],
   "source": [
    "a[\"nom\"] = \"Alice\"\n",
    "a[\"tel\"] = \"0625336842\"\n",
    "a[\"adresse\"] = \"28 rue Ada\"\n",
    "a[\"année\"] = 2003\n",
    "\n",
    "print(\"contenu du dictionnaire a : \\n\", a)"
   ]
  },
  {
   "cell_type": "markdown",
   "metadata": {},
   "source": [
    "Ou bien : on peut définir d'un seul coup toutes les clés et valeurs :"
   ]
  },
  {
   "cell_type": "code",
   "execution_count": null,
   "metadata": {},
   "outputs": [],
   "source": [
    "a = {\"nom\": \"Alice\", \n",
    "     \"tel\": \"0625336842\", \n",
    "     \"adresse\": \"28 rue Ada\", \n",
    "     \"année\": 2003}\n",
    "print(\"a = \", a)"
   ]
  },
  {
   "cell_type": "markdown",
   "metadata": {},
   "source": [
    "Si on veut rentrer une clé sans lui associer de valeur, ce n'est pas possible. On peut toujours donc par défaut lui associer la valeur `None`, ou une autre valeur par défaut de son choix."
   ]
  },
  {
   "cell_type": "code",
   "execution_count": null,
   "metadata": {},
   "outputs": [],
   "source": [
    "a[\"nationalité\"] = None\n",
    "print(a)"
   ]
  },
  {
   "cell_type": "markdown",
   "metadata": {},
   "source": [
    "## Suppression d'une clé"
   ]
  },
  {
   "cell_type": "code",
   "execution_count": null,
   "metadata": {},
   "outputs": [],
   "source": [
    "del a[\"nationalité\"]\n",
    "print(a)"
   ]
  },
  {
   "cell_type": "markdown",
   "metadata": {},
   "source": [
    "#### Remarques\n",
    "\n",
    "- l'affichage ne se fait pas forcément dans le même ordre que la déclaration : la clé année est affichée avant la clé adresse ici. C'est Python qui gère tout seul comment il range les données en mémoire, en contrepartie de quoi l'insertion d'une nouvelle clé et l'accès à la valeur qui lui est associée sont des opérations extrêmement efficaces car elles ne dépendent pas de la taille du dictionnaire .<br><br>\n",
    "\n",
    "- On ne contrôle donc jamais dans quel ordre vont être parcourues les clés quand on parcourt le dictionnaire : c'est une structure non ordonnée."
   ]
  },
  {
   "cell_type": "code",
   "execution_count": null,
   "metadata": {},
   "outputs": [],
   "source": [
    "c = {\"a\":1, \"b\":2}=={\"b\":2, \"a\":1}\n",
    "print(c)\n",
    "\n",
    "d = {\"a\":1, \"b\":2, \"c\":3}=={\"a\":1, \"b\":2}\n",
    "print(d)"
   ]
  },
  {
   "cell_type": "markdown",
   "metadata": {},
   "source": [
    "- Les clés doivent impérativement être de type non mutables : `int`, `float`, `str`, `tuple`, `bool`,  mais jamais de type `list`, `dict` etc... En effet, un nombre est calculé à partir de chaque clé (son `hash`) qui permet à Python de retrouver où il a stocké la clé et la valeur associée. Si on pouvait changer la clé (par exemple en rajoutant un élément à une liste), le hash changerait aussi, et on ne peut plus retrouver la valeur associée.<br><br>\n",
    "\n",
    "- Si l'on utilise une clé de type `str`, la casse (majuscule / minuscule) est importante. La clé \"Nom\" n'est pas la même que \"nom\".<br><br>\n",
    "\n",
    "- Une clé ne peut figurer qu'une et une seule fois. Si on écrit l'instruction : `a[\"nom\"] = \"ambre\"`, la valeur précédente (`\"Alice\"`) associée à la même clé est effacée et remplacée par `\"ambre\"`\n",
    "\n",
    "## Accès aux valeurs d'un dictionnaire\n",
    "\n",
    "Accéder à la valeur associée à un clé : \n",
    "La valeur associée à la clé `\"nom\"` dans le dictionnaire `a` est simplement : `a[\"nom\"]`"
   ]
  },
  {
   "cell_type": "code",
   "execution_count": null,
   "metadata": {},
   "outputs": [],
   "source": [
    "print(a[\"nom\"])\n",
    "print(a[\"année\"])"
   ]
  },
  {
   "cell_type": "markdown",
   "metadata": {},
   "source": [
    "#### Remarque : \n",
    "On ne peut pas retrouver facilement la clé associée à une valeur que l'on connait : il faut parcourir les clés, et comparer les valeurs associées à la valeur souhaitée."
   ]
  },
  {
   "cell_type": "markdown",
   "metadata": {},
   "source": [
    "## Savoir si une clé est dans un dictionnaire"
   ]
  },
  {
   "cell_type": "code",
   "execution_count": null,
   "metadata": {},
   "outputs": [],
   "source": [
    "\"nom\" in a "
   ]
  },
  {
   "cell_type": "markdown",
   "metadata": {},
   "source": [
    "## Savoir le nombre de clés d'un dictionnaire"
   ]
  },
  {
   "cell_type": "code",
   "execution_count": null,
   "metadata": {},
   "outputs": [],
   "source": [
    "len(a)"
   ]
  },
  {
   "cell_type": "markdown",
   "metadata": {},
   "source": [
    "## Parcours d'un dictionnaire par clé\n",
    "\n",
    "Par défaut, quand on fait une boucle simple, ce sont les clés du dictionnaire que l'on parcourt :"
   ]
  },
  {
   "cell_type": "code",
   "execution_count": null,
   "metadata": {},
   "outputs": [],
   "source": [
    "##Affichage des clés d'un dictionnaire\n",
    "for cle in a :\n",
    "    print(cle)"
   ]
  },
  {
   "cell_type": "markdown",
   "metadata": {},
   "source": [
    "ou bien avec la méthode `keys()` des dictionnaires :    "
   ]
  },
  {
   "cell_type": "code",
   "execution_count": null,
   "metadata": {},
   "outputs": [],
   "source": [
    "for cle in a.keys():\n",
    "    print(cle)"
   ]
  },
  {
   "cell_type": "markdown",
   "metadata": {},
   "source": [
    "La méthode keys (valable aussi pour les méthodes suivantes : values() et items()) renvoie un objet de type `dict_keys` listant les clés du dictionnaire, qu'on peut parcourir avec une boucle for comme précédemment, ou à partir duquel on peut créer un tableau de clés au moyen de la fonction `list()` :"
   ]
  },
  {
   "cell_type": "code",
   "execution_count": null,
   "metadata": {},
   "outputs": [],
   "source": [
    "print(a.keys())\n",
    "\n",
    "tableau_de_cles = list(a.keys())\n",
    "print(tableau_de_cles)"
   ]
  },
  {
   "cell_type": "markdown",
   "metadata": {},
   "source": [
    "## Parcours d'un dictionnaire par valeurs"
   ]
  },
  {
   "cell_type": "code",
   "execution_count": null,
   "metadata": {},
   "outputs": [],
   "source": [
    "a.values() #renvoie un objet listant les valeurs et que l'on peut parcourir avec une boucle for."
   ]
  },
  {
   "cell_type": "code",
   "execution_count": null,
   "metadata": {},
   "outputs": [],
   "source": [
    "for val in a.values():\n",
    "    print(val)   "
   ]
  },
  {
   "cell_type": "markdown",
   "metadata": {},
   "source": [
    "même s'il y a des valeurs identiques, la boucle est éxécutée autant de fois qu'il y a de clés."
   ]
  },
  {
   "cell_type": "code",
   "execution_count": null,
   "metadata": {},
   "outputs": [],
   "source": [
    "b = {1:1, 2:1, 3:1}  \n",
    "for val in b.values(): \n",
    "    print(val)"
   ]
  },
  {
   "cell_type": "markdown",
   "metadata": {},
   "source": [
    "##  Parcours par clé, valeurs "
   ]
  },
  {
   "cell_type": "code",
   "execution_count": null,
   "metadata": {},
   "outputs": [],
   "source": [
    "for (cle, val) in a.items():\n",
    "    print(\"la clé :\", cle, \", est associée à la valeur :\", val)"
   ]
  },
  {
   "cell_type": "markdown",
   "metadata": {},
   "source": [
    "## A Retenir\n",
    "- Les clés d'un dictionnaire sont l'équivalent des index pour un tableau, mais ne sont pas ordonnées, contrairement aux index. La contrepartie est l'insertion de nouvelles clés plus rapide.\n",
    "- Les clés sont des objets immuables (non mutables), les valeurs peuvent-elle être de tout type.\n",
    "- Trois méthodes importantes. Soit `dico` un objet de type `dict` : \n",
    "\n",
    " - `dico.keys()` : pour obtenir les clés d'un dictionnaire\n",
    " - `dico.values()` : pour obtenir les valeurs d'un dictionnaire\n",
    " - `dico.items()` : pour obtenir les tuples (clé, valeur) d'un dictionnaire.\n",
    "\n",
    "- Création de dictionnaire : `dico = {}` ou `dico = dict()`\n",
    "- Création de couple (clé:valeur) ou modification de la valeur associée à une clé : `dico(\"ma_cle\") = ma_valeur`\n",
    "- Nombre de clés : `len(dico)`\n",
    "- Suppression de la clé \"ma_cle\" : `del dico[\"ma_cle\"]`"
   ]
  },
  {
   "cell_type": "markdown",
   "metadata": {},
   "source": [
    "# Exercices"
   ]
  },
  {
   "cell_type": "markdown",
   "metadata": {},
   "source": [
    "## Exercice 1 : manipulations de base\n",
    "On donne le dictionnaire suivant associant à chaque entrée son nombre de lettres \n",
    "1. Ajouter dans le dictionnaire l'entrée \"Boris\" et la valeur associée : 5"
   ]
  },
  {
   "cell_type": "code",
   "execution_count": null,
   "metadata": {},
   "outputs": [],
   "source": [
    "dico = {\"Alice\":5, \"Bob\":3, \"Charlie\":6, \"David\":5, \"Eleonor\":7\n",
    "#A Compléter"
   ]
  },
  {
   "cell_type": "markdown",
   "metadata": {},
   "source": [
    "2. Afficher la valeur associée à la clé \"Charlie\" sans la calculer vous-même"
   ]
  },
  {
   "cell_type": "code",
   "execution_count": null,
   "metadata": {},
   "outputs": [],
   "source": [
    "#A Compléter"
   ]
  },
  {
   "cell_type": "markdown",
   "metadata": {},
   "source": [
    "3. Supprimer la clé \"Alice\" et vérifier le résultat en affichant le dictionnaire"
   ]
  },
  {
   "cell_type": "code",
   "execution_count": null,
   "metadata": {},
   "outputs": [],
   "source": [
    "#A compléter"
   ]
  },
  {
   "cell_type": "markdown",
   "metadata": {},
   "source": [
    "4. Ecrire une fonction `key_in_dict` qui teste si une clé existe dans le dictionnaire"
   ]
  },
  {
   "cell_type": "code",
   "execution_count": null,
   "metadata": {},
   "outputs": [],
   "source": [
    "def key_in_dict(cle, d)->bool:\n",
    "    \"\"\"Teste si cle est dans le dictionnaire d\"\"\"\n",
    "    #A compléter\n",
    "\n",
    "#tests avec ces dictionnaires. Si votre fonction est bien écrite, l'éxécution ne doit pas renvoyer d'erreur\n",
    "#(les assertions (tests) se sont bien passés comme il le fallait). S'il y a une erreur, le message d'erreur\n",
    "#indique le premier assert qui a crashé.\n",
    "assert key_in_dict(\"Bob\", dico) == True  # \"Bob\" est une clé du dictionnaire dico\n",
    "assert key_in_dict(3, dico) == False  # 3 n'est pas une clé du dictionnaire dico\n"
   ]
  },
  {
   "cell_type": "markdown",
   "metadata": {},
   "source": [
    "5. Créer un tableau de clés du dictionnaire `dico` et le stocker dans la variable `tab_keys`"
   ]
  },
  {
   "cell_type": "code",
   "execution_count": null,
   "metadata": {},
   "outputs": [],
   "source": [
    "#A compléter"
   ]
  },
  {
   "cell_type": "markdown",
   "metadata": {},
   "source": [
    "## Exercice 2 : \n",
    "Ecrire une fonction qui teste si un dictionnaire écrit sur le modèle précédent est bien rentré correctement, c'est-à-dire si la valeur associée à chaque clé est bien le nombre de lettres de chaque prénom"
   ]
  },
  {
   "cell_type": "code",
   "execution_count": null,
   "metadata": {},
   "outputs": [],
   "source": [
    "def test_dico(d:dict)->bool:\n",
    "    \"\"\"Renvoie True si le dictionnaire est rentré correctement, False dans le cas contraire\"\"\"\n",
    "    # A compléter\n",
    "    \n",
    "#tests avec ces dictionnaires. Si votre fonction est bien écrite, l'éxécution ne doit pas renvoyer d'erreur\n",
    "#(les assertions (tests) se sont bien passés comme il le fallait). S'il y a une erreur, le message d'erreur\n",
    "#indique le premier assert qui a crashé.\n",
    "\n",
    "d1 = {\"Alice\":5, \"Bob\":3, \"David\":5, \"Eleonor\":7, \"Fernando\":8}\n",
    "d2 = {\"Alice\":5, \"Bob\":3, \"David\":5, \"Eleonor\":6, \"Fernando\":8}\n",
    "d3 = {}\n",
    "\n",
    "assert test_dico(d1) == True\n",
    "assert test_dico(d2) == False #Eleonor a 7 lettres.\n",
    "assert test_dico(d3) == True  # si le dictionnaire est vide, alors il n'y a pas d'erreur"
   ]
  },
  {
   "cell_type": "markdown",
   "metadata": {},
   "source": [
    "## Exercice 3\n",
    "\n",
    "Ecrire une fonction `doublon(d:dict)->bool` qui prend en argument un dictionnaire d et qui teste s'il existe des clés qui ont des valeurs associées égales. Si c'est le cas, elle renvoie `True`. Sinon, `False`.\n",
    "\n",
    "Pour ce faire, on va parcourir le dictionnaire par valeur et les ajouter comme clés dans un nouveau dictionnaire initalement vide. Avant chaque ajout, on teste si la clé existe déjà. Si oui, c'est qu'il y avait bien deux valeurs identiques dans le premier dictionnaire"
   ]
  },
  {
   "cell_type": "code",
   "execution_count": null,
   "metadata": {},
   "outputs": [],
   "source": [
    "def doublon(d:dict)-> bool:\n",
    "    d1 = {}\n",
    "    # A compléter\n",
    "    \n",
    "    return\n",
    "\n",
    "#tests avec ces dictionnaires. Si votre fonction est bien écrite, l'éxécution ne doit pas renvoyer d'erreur\n",
    "#(les assertions (tests) se sont bien passés comme il le fallait). S'il y a une erreur, le message d'erreur\n",
    "#indique le premier assert qui a crashé.\n",
    "\n",
    "d1 = {\"a\": 1, \"b\": 2, \"c\":1, \"d\":3}\n",
    "d2 = {\"a\": 1, \"b\": 2}\n",
    "d3 = {1:1, 2:3, 4:2, 5:0}\n",
    "\n",
    "assert doublon(d1) == True\n",
    "assert doublon(d2) == False\n",
    "assert doublon(d3) == False"
   ]
  },
  {
   "cell_type": "markdown",
   "metadata": {},
   "source": [
    "## Exercice 4\n",
    "\n",
    "1. Compléter le code ci-dessous avec une boucle afin que le dictionnaire `lettre_position` associe à chaque lettre sa position dans l'alphabet : donc que le dictionnaire soit l'ensemble des couples clé:valeurs suivantes :\n",
    "\n",
    "    a:1, b:2 ... z:26\n",
    "\n",
    "    On évitera d'écrire les 26 couples un à un \"à la main\" bien sûr... \n",
    "\n",
    "    <font size=\"1\">(Sinon, je vous fais faire la même chose avec l'alphabet chinois)</font> \n",
    " "
   ]
  },
  {
   "cell_type": "code",
   "execution_count": null,
   "metadata": {},
   "outputs": [],
   "source": [
    "alphabet = \"abcdefghijklmnopqrstuvwxyz\"\n",
    "lettre_position = {}\n",
    "# A compléter"
   ]
  },
  {
   "cell_type": "markdown",
   "metadata": {},
   "source": [
    "2. A partir du dictionnaire précédent, créer un dictionnaire `position_lettre` qui échange les clés et les valeurs : \n",
    "    les couples cle:valeur de ce dictionnaire doivent être : 1:a, 2:b etc...\n",
    "    \n",
    "    Ne pas se servir de la variable alphabet, mais uniquement de la variable `lettre_position`"
   ]
  },
  {
   "cell_type": "code",
   "execution_count": null,
   "metadata": {},
   "outputs": [],
   "source": [
    "position_lettre = {}\n",
    "# A compléter"
   ]
  },
  {
   "cell_type": "markdown",
   "metadata": {},
   "source": [
    "## Exercice 5 \n",
    "\n",
    "On considère le triangle $ABC$ dont les points sont repérés dans un repère orthonormé par les couples de coordoonnées suivants : \n",
    "\n",
    "$A(1, 4)$, $B(4, 2)$ et $C(5, 6)$\n",
    "\n",
    "1. Créer un dictionnaire nommé triangle qui à chaque point associe son couple de coordonnées. "
   ]
  },
  {
   "cell_type": "code",
   "execution_count": null,
   "metadata": {},
   "outputs": [],
   "source": [
    "triangle = {}\n",
    "\n",
    "#A compléter"
   ]
  },
  {
   "cell_type": "markdown",
   "metadata": {},
   "source": [
    "2. Ecrire une fonction `est_isocèle(d:dict)->bool` qui prend en paramètre un dictionnaire de trois points dont les valeurs sont leur tuple de coordonnées et qui renvoie un booléen indiquant si le triangle est isocèle ou non. on rappelle que la distance entre deux points A et B vaut : $ \\sqrt{(x_B-x_A)^2 + (y_B-y_A)^2 }$ mais que cette distance est le plus souvent un flottant, et que les calculs en flottants et les égalités ne font pas bon ménage..."
   ]
  },
  {
   "cell_type": "code",
   "execution_count": null,
   "metadata": {},
   "outputs": [],
   "source": [
    "def est_isocele(d:dict)->bool:\n",
    "    #A compléter\n",
    "    return "
   ]
  },
  {
   "cell_type": "code",
   "execution_count": null,
   "metadata": {},
   "outputs": [],
   "source": [
    "\"\"\"Test avec le triangle ABC (il l'est)\"\"\"\n",
    "est_isocele(triangle) "
   ]
  },
  {
   "cell_type": "markdown",
   "metadata": {},
   "source": [
    "## Exercice 5\n",
    "\n",
    "On lance 20 fois un dé à 6 faces. On voudrait savoir combien de fois chaque face tombe, et stocker les résultats dans un dictionnaire. Les clés du dictionnaire seront les entiers de 1 à 6 et pour chaque clé, sa valeur associée sera le nombre de fois où le dé est tombé sur cette face. On s'interdit aussi d'utiliser la méthode `count()`.\n",
    "\n",
    "#### 1) Création de la liste aléatoire"
   ]
  },
  {
   "cell_type": "code",
   "execution_count": null,
   "metadata": {},
   "outputs": [],
   "source": [
    "from random import *\n",
    "\n",
    "\"\"\"créez en une ligne une liste de 20 entiers aléatoirement compris entre 1 et 6 et affectez-là à la variable lst\"\"\"\n",
    "lst = []\n",
    "\n",
    "#A compléter"
   ]
  },
  {
   "cell_type": "code",
   "execution_count": null,
   "metadata": {},
   "outputs": [],
   "source": [
    "\"\"\"Vérification\"\"\"\n",
    "print(lst)"
   ]
  },
  {
   "cell_type": "markdown",
   "metadata": {},
   "source": [
    "#### 2) Création du dictionnaire souhaité\n",
    "\n",
    "On va procéder ainsi :\n",
    "- On crée un dictionnaire vide nommé `resultats`\n",
    "- on parcourt la liste créée en 1) avec une boucle for. \n",
    "- Pour chaque élément dans la liste : \n",
    " - si c'est déjà une clé existante du dictionnaire, on augmente la valeur associée à cette clé de 1\n",
    " - sinon, on ajoute cet élément comme nouvelle clé à laquelle on associe la valeur 1 (puisqu'on vient de la rencontrer pour la 1ère fois)"
   ]
  },
  {
   "cell_type": "code",
   "execution_count": null,
   "metadata": {},
   "outputs": [],
   "source": [
    "\"\"\"Création du dictionnaire vide resultats\"\"\"\n",
    "# A completer\n",
    "\n",
    "for elem in lst :\n",
    "    #A completer"
   ]
  },
  {
   "cell_type": "code",
   "execution_count": null,
   "metadata": {},
   "outputs": [],
   "source": [
    "\"\"\"vérification\"\"\"\n",
    "print(resultats)"
   ]
  },
  {
   "cell_type": "markdown",
   "metadata": {},
   "source": [
    "## Exercice 6\n",
    "\n",
    "Au moyen des bouts de code précédents, écrire une fonction `modalite_effectif(tab:list)-> dict:` qui prend en paramètre un tableau d'entiers et qui renvoie un dictionnaire dont les clés sont les entiers du tableau et qui ont comme valeur associée : leur nombre d'apparitions dans le tableau `tab`. Ici aussi, on s'interdit la méthode `count`\n",
    "Tester cette fonction avec plusieurs listes aléatoires."
   ]
  },
  {
   "cell_type": "code",
   "execution_count": null,
   "metadata": {},
   "outputs": [],
   "source": [
    "def modalite_effectif(tab:list)-> dict:\n",
    "    dico = {} \n",
    "    for elem in tab:\n",
    "        \n",
    "        #A compléter\n",
    "        \n",
    "        pass #instruction pass à supprimer quand vous aurez écrit votre code.\n",
    "    \n",
    "    return dico\n",
    "\n",
    "#Test :\n",
    "assert modalite_effectif([1, 3, 1, 5, 3, 0]) == {0:1, 1:2, 3:2, 5:1}"
   ]
  },
  {
   "cell_type": "markdown",
   "metadata": {},
   "source": [
    "## Exercice 7\n",
    "Ecrire une fonction `max_val(d:dict)->int` qui renvoie la clé du dictionnaire associée à la valeur la plus grande. On suppose que les valeurs sont des entiers. Cette fonction renvoie `None` si le dictionnaire est vide."
   ]
  },
  {
   "cell_type": "code",
   "execution_count": null,
   "metadata": {},
   "outputs": [],
   "source": [
    "def max_val(d:dict)->int:\n",
    "    if d == {}:\n",
    "        #A completer\n",
    "        pass\n",
    "    \n",
    "    else:\n",
    "        #A completer\n",
    "        pass\n",
    "    \n",
    "    return  #A completer"
   ]
  },
  {
   "cell_type": "markdown",
   "metadata": {},
   "source": [
    "## Exercice 8\n"
   ]
  },
  {
   "cell_type": "markdown",
   "metadata": {},
   "source": [
    "Le fichier ltdme80j.txt contient le texte du tour du monde en 80 jours, de Jules Verne (aussi present sur le site gutenberg.org, qui recence des oeuvres littéraires libres de droit). Le code suivant permet, à partir de ce fichier, de créer le tableau des mots du texte (on considère que les mots du texte sont les chaines de caractères séparées par\n",
    "des espaces. On a auparavant transforme des symboles de ponctuation en espace, au moyen de la\n",
    "boucle for (mais on peut s'en dispenser, les résultats seront légèrement différents)."
   ]
  },
  {
   "cell_type": "code",
   "execution_count": null,
   "metadata": {},
   "outputs": [],
   "source": [
    "import urllib\n",
    "import urllib.request\n",
    "url = 'http://www.gutenberg.org/cache/epub/800/pg800.txt'\n",
    "response = urllib.request.urlopen(url)\n",
    "lines = response.readlines()\n",
    "text = \"\"\n",
    "for line in lines:\n",
    "    line = line.decode(\"utf-8\")\n",
    "    text = text + str(line)\n",
    "for char in \".!:,;\\\"\\'\" :\n",
    "    text = text.replace(char, \" \")\n",
    "text = text.split()  #tableau des mots du texte de jules Verne\n",
    "print(text) #vérification que les opérations précédentes ont bien fonctionné"
   ]
  },
  {
   "cell_type": "markdown",
   "metadata": {},
   "source": [
    "\n",
    "1. Ecrire une fonction `plus_frequent(d:dict, k:int)-> str` qui renvoie le mot de k lettres qui est associé à la plus grand valeur du dictionnaire d. Autrement dit, on veut stocker les mots de k lettres du tableau text comme clés du dictionnaire, avec pour valeur associée le nombre de fois où ils apparaissent."
   ]
  },
  {
   "cell_type": "code",
   "execution_count": null,
   "metadata": {},
   "outputs": [],
   "source": [
    "def plus_frequent(d: dict, k:int)->str:\n",
    "    \n",
    "    #a compléter\n",
    "    return "
   ]
  },
  {
   "cell_type": "markdown",
   "metadata": {},
   "source": [
    "2. Quel est le mot de 7 lettres le plus fréquent dans le livre : le tour du monde en 80 jours de Jules Verne ?"
   ]
  },
  {
   "cell_type": "code",
   "execution_count": null,
   "metadata": {},
   "outputs": [],
   "source": []
  },
  {
   "cell_type": "code",
   "execution_count": null,
   "metadata": {},
   "outputs": [],
   "source": []
  },
  {
   "cell_type": "code",
   "execution_count": null,
   "metadata": {},
   "outputs": [],
   "source": []
  }
 ],
 "metadata": {
  "kernelspec": {
   "display_name": "Python 3",
   "language": "python",
   "name": "python3"
  },
  "language_info": {
   "codemirror_mode": {
    "name": "ipython",
    "version": 3
   },
   "file_extension": ".py",
   "mimetype": "text/x-python",
   "name": "python",
   "nbconvert_exporter": "python",
   "pygments_lexer": "ipython3",
   "version": "3.6.9"
  }
 },
 "nbformat": 4,
 "nbformat_minor": 4
}
