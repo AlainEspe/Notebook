{
 "cells": [
  {
   "cell_type": "markdown",
   "metadata": {},
   "source": [
    "# Différentes façons de calculer (k parmi n)"
   ]
  },
  {
   "cell_type": "markdown",
   "metadata": {},
   "source": [
    "Voici quelques petites astuces concernant l'interface de \"jupyter notebook\":"
   ]
  },
  {
   "cell_type": "markdown",
   "metadata": {},
   "source": [
    "<p>* Pour modifier une cellule de texte: double-click sur l'int&eacute;rieur de la cellule, puis click sur l'icone \"Markdown editing\" (l'icone en haut &agrave; gauche de la cellule).</p>\n",
    "<p>* Pour ex&eacute;cuter une cellule de code: la s&eacute;lectionner puis CTRL+ENTER.</p>\n",
    "<p>* Si une cellule de code [2] fait r&eacute;f&eacute;rence &agrave; un objet d&eacute;fini dans une cellule de code [1], alors la [1] doit &ecirc;tre ex&eacute;cut&eacute;e avant [2].</p>\n",
    "<p>* Si vous modifiez une cellule, celle-ci doit &ecirc;tre ex&eacute;cut&eacute;e pour que vos modifications soient prises en compte.</p>"
   ]
  },
  {
   "cell_type": "markdown",
   "metadata": {},
   "source": [
    "<b>\n",
    "    Le but de ce notebook est de présenter différentes fonctions, qui prennent en arguments deux entiers naturels $k\\leq n$, et qui renvoient $\\displaystyle{n\\choose k}$.\n",
    "</b>"
   ]
  },
  {
   "cell_type": "markdown",
   "metadata": {},
   "source": [
    "<b>Algorithme 1.</b>\n",
    "\n",
    "On utilise la formule suivante:\n",
    "    $${n\\choose k}=\\frac{n!}{k!\\,(n-k)!}$$\n",
    "Compléter l'algorithme, et exécuter la cellule ci-dessous:"
   ]
  },
  {
   "cell_type": "code",
   "execution_count": null,
   "metadata": {},
   "outputs": [],
   "source": [
    "def combi01(k, n):\n",
    "    a, b, c =1, 1, 1                  # On initialise les variables a, b et c à 1\n",
    "                                      # A la fin de l'algorithme:\n",
    "                                      #     la variable a contiendra n!\n",
    "                                      #     la variable b contiendra k!\n",
    "                                      #     la variable c contiendra (n-k)!\n",
    "    for counter in range(1, n+1):     # L'entier counter varie dans l'intervalle [1; n+1[\n",
    "        a = a*counter                 # la variable a contient n! à la fin de cette boucle.\n",
    "    for counter in range(..., ...):\n",
    "        b = b*counter                 # la variable b contient k! à la fin de cette boucle\n",
    "    for counter in range(1, ...):\n",
    "        c = .........                 # la variable c contient (n-k)! à la fin de cette boucle\n",
    "    nb_combi= .......                 # La variable nb_combi contiendra (k parmi n),\n",
    "                                      # on applique la formule: (k parmi n) =  n!/(k! * (n-k)!)\n",
    "    return(nb_combi)"
   ]
  },
  {
   "cell_type": "markdown",
   "metadata": {},
   "source": [
    "Dans la cellule ci-dessous, écrire et exécuter la commande qui renvoie $\\displaystyle{5\\choose3}$:"
   ]
  },
  {
   "cell_type": "code",
   "execution_count": null,
   "metadata": {},
   "outputs": [],
   "source": []
  },
  {
   "cell_type": "markdown",
   "metadata": {},
   "source": [
    "<b>\n",
    "    Algorithme 2.\n",
    "</b>\n",
    "\n",
    "On utilise la formule suivante:\n",
    "$$\n",
    "{n\\choose k}=\\frac{n\\times(n-1)\\times\\ldots\\times1}{k\\times(k-1)\\times\\ldots\\times1}\n",
    "$$\n",
    "Avec $k$ facteurs décroissants et partant de $n$ au numérateur, et $k$ facteurs décroissants et partant de $k$ au dénominateur.\n",
    "\n",
    "Compléter l'algorithme, et exécuter la cellule ci-dessous:"
   ]
  },
  {
   "cell_type": "code",
   "execution_count": null,
   "metadata": {},
   "outputs": [],
   "source": [
    "def combi02(k, n):\n",
    "    nb_combi = 1                                      # on initialise nb_combi à 1 avant de le multiplier\n",
    "                                                      # et de le diviser par k facteurs.\n",
    "    for counter in range(k):                          # counter prend k valeurs, dans l'intervalle [0; k[        \n",
    "        nb_combi =  nb_combi * (........) / (......)  # il faut pultiplier nb_combi par n, le diviser par k, \n",
    "                                                      # puis le multiplier par n-1 et le diviser par k-1, etc.\n",
    "    return(nb_combi)"
   ]
  },
  {
   "cell_type": "markdown",
   "metadata": {},
   "source": [
    "Dans la cellule ci-dessous, écrire et exécuter la commande qui renvoie  $\\displaystyle{6\\choose 4}$:"
   ]
  },
  {
   "cell_type": "code",
   "execution_count": null,
   "metadata": {},
   "outputs": [],
   "source": []
  },
  {
   "cell_type": "markdown",
   "metadata": {},
   "source": [
    "<b>\n",
    "    Algorithme 3.\n",
    "</b>\n",
    "\n",
    "On utilise les formule suivante:\n",
    "$$\n",
    "{n\\choose0}={n\\choose n}=1\n",
    "$$\n",
    "et\n",
    "$$\n",
    "{n\\choose k}={n-1\\choose k-1}+{n-1\\choose k}\n",
    "$$\n",
    "\n",
    "Cette dernière fonction est dite <i><b> récursive </i></b> car elle s'appelle elle-même au cours de son exécution.\n",
    "\n",
    "Compléter l'algorithme, et exécuter la cellule ci-dessous:"
   ]
  },
  {
   "cell_type": "code",
   "execution_count": null,
   "metadata": {},
   "outputs": [],
   "source": [
    "def combi03(k, n):\n",
    "    if k==0 or k==n:\n",
    "        nb_combi = ........                      # (0 parmi n) = (n parmi n) = 1\n",
    "    else:\n",
    "        nb_combi = combi03(k-1, n-1) + ......... # (k parmi n) = (k-1 parmi n-1) + (k parmi n-1)\n",
    "    return(nb_combi)"
   ]
  },
  {
   "cell_type": "markdown",
   "metadata": {},
   "source": [
    "Dans la cellule ci-dessous, écrire et exécuter la commande qui renvoie $\\displaystyle{7\\choose5}$:"
   ]
  },
  {
   "cell_type": "code",
   "execution_count": null,
   "metadata": {},
   "outputs": [],
   "source": []
  }
 ],
 "metadata": {
  "kernelspec": {
   "display_name": "Python 3",
   "language": "python",
   "name": "python3"
  },
  "language_info": {
   "codemirror_mode": {
    "name": "ipython",
    "version": 3
   },
   "file_extension": ".py",
   "mimetype": "text/x-python",
   "name": "python",
   "nbconvert_exporter": "python",
   "pygments_lexer": "ipython3",
   "version": "3.8.6"
  }
 },
 "nbformat": 4,
 "nbformat_minor": 2
}
