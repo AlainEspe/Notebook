{
 "cells": [
  {
   "cell_type": "markdown",
   "metadata": {},
   "source": [
    "# Algorithme de dichotomie"
   ]
  },
  {
   "cell_type": "markdown",
   "metadata": {},
   "source": [
    "<p>Voici quelques petites astuces concernant l'interface de \"jupyter notebook\":</p>"
   ]
  },
  {
   "cell_type": "markdown",
   "metadata": {},
   "source": [
    "<ul>\n",
    "<li style=\"text-align: left;\">Pour modifier une cellule de texte: double-click sur l'int&eacute;rieur de la cellule, puis click sur l'icone \"Markdown editing\" (l'icone en haut &agrave; gauche de la cellule)</li>\n",
    "<li style=\"text-align: left;\">\n",
    "<p>Pour ex&eacute;cuter une cellule de code: la s&eacute;lectionner puis CTRL+ENTER</p>\n",
    "</li>\n",
    "<li style=\"text-align: left;\">\n",
    "<p>Si une cellule de code [2] fait r&eacute;f&eacute;rence &agrave; un objet d&eacute;fini dans une cellule de code [1], alors la [1] doit &ecirc;tre ex&eacute;cut&eacute;e avant [2].</p>\n",
    "</li>\n",
    "<li style=\"text-align: left;\">\n",
    "<p>Si vous modifiez une cellule, celle-ci doit &ecirc;tre ex&eacute;cut&eacute;e pour que vos modifications soient prises en compte.</p>\n",
    "</li>\n",
    "</ul>"
   ]
  },
  {
   "cell_type": "markdown",
   "metadata": {},
   "source": [
    "Dans ce T.D., on cherche à résoudre de façon approchée l'équation (E) suivante:\n",
    "$$x^3-x-3=0$$\n",
    "\n",
    "Pour cela, on définit sur la fonction$f$ par $f(x)=x^3-x-3$:\n",
    "\n",
    "la cellule qui suit est donc a exécuter."
   ]
  },
  {
   "cell_type": "code",
   "execution_count": null,
   "metadata": {},
   "outputs": [],
   "source": [
    "def f(x):\n",
    "    return(x**3-x-3)"
   ]
  },
  {
   "cell_type": "markdown",
   "metadata": {},
   "source": [
    "Le programme ci-dessous (qu'il n'est pas nécessaire de comprendre, mais que l'on doit exécuter) permet de représenter $f$:"
   ]
  },
  {
   "cell_type": "code",
   "execution_count": null,
   "metadata": {},
   "outputs": [],
   "source": [
    "import numpy as np\n",
    "import matplotlib.pyplot as plt\n",
    "X=np.linspace(-2, 3, 1000)\n",
    "Y=f(X)\n",
    "plt.plot(X, Y)\n",
    "plt.show()"
   ]
  },
  {
   "cell_type": "markdown",
   "metadata": {},
   "source": [
    "<b>1. Conjecturer, à l'aide du graphique le nombre de solutions dans $\\mathbb{R}$ de l'équation $(E)$.\n",
    "\n",
    "   Donner un encadrement de chaque solution par deux entiers consécutifs.</b>"
   ]
  },
  {
   "cell_type": "markdown",
   "metadata": {},
   "source": [
    "<b>2. Etudier les variations de $f$ sur $\\mathbb{R}$,\n",
    "\n",
    "   ainsi que ses limites en $-\\infty$ et $+\\infty$,\n",
    "   \n",
    "   puis dresser un tableau de variations complet de $f$.</b>"
   ]
  },
  {
   "cell_type": "markdown",
   "metadata": {},
   "source": [
    "<b>3. En déduire que l'équation $(E)$ admet une unique solution $\\alpha\\in\\mathbb{R}$, et que $\\alpha\\in[1; 2]$.</b>"
   ]
  },
  {
   "cell_type": "markdown",
   "metadata": {},
   "source": [
    "On cherche à déterminer un encadrement de $\\alpha$ l'aide d'un algorithme de dichotomie."
   ]
  },
  {
   "cell_type": "markdown",
   "metadata": {},
   "source": [
    "<b>4. Compléter puis exécuter l'algorithme suivant pour qu'il donne un encadrement de $\\alpha$ d'amplitude au plus $10^{-2}$:</b>"
   ]
  },
  {
   "cell_type": "code",
   "execution_count": null,
   "metadata": {},
   "outputs": [],
   "source": [
    "a=1                 # on sait que alpha est dans [1; 2]\n",
    "b=2                 # a et b sont les valeurs inférieure et supérieur de l'encadrement.\n",
    "while (b-a)>.....:  # tant que l'amplitude est supérieure à l'amplitude souhaitée, \n",
    "    c=(a+b)/2       # on coupe l'intervalle [a, b] en deux en prenant c au milieu entre a et b.\n",
    "    if f(a)*f(c)<0: # Si f(a) et f(c) sont de signe contraire, c'est que alpha est dans [a; c]\n",
    "        ..........  # je dois donc changer la borne supérieure de mon encadrement \n",
    "    else:           # Sinon, c'est que alpha est dans [b; c]\n",
    "        ..........  # je dois donc changer la valeur inférieure de mon encadrement.\n",
    "print(\"[\", a,\";\", b, \"]\") # affichage de l'intervalle dans lequel se situe alpha."
   ]
  },
  {
   "cell_type": "markdown",
   "metadata": {},
   "source": [
    "<b>4. Même algorithme, mais à l'intérieur d'une fonction qui prend en argument l'amplitude $d$ souhaitée, et renvoie cet encadrement de $\\alpha$:</b>"
   ]
  },
  {
   "cell_type": "code",
   "execution_count": null,
   "metadata": {},
   "outputs": [],
   "source": [
    "def encadrement(d):\n",
    "    a=1                 \n",
    "    b=2                 \n",
    "    while (b-a)>.....:  \n",
    "        c=(a+b)/2       \n",
    "        if f(a)*f(c)<0: \n",
    "            ..........  \n",
    "        else:           \n",
    "            ..........  \n",
    "    return(\"[\"+str(a)+\";\"+str(b)+\"]\") # renvoie une chaine de caractère contenant l'intervalle \"[a;b]\")"
   ]
  },
  {
   "cell_type": "markdown",
   "metadata": {},
   "source": [
    "<b>5. Dans la cellule ci-dessous, écrire et exécuter la commande qui permettra d'obtenir un encadrement de $\\alpha$ d'amplitude $10^{-9}$:</b>"
   ]
  },
  {
   "cell_type": "code",
   "execution_count": null,
   "metadata": {},
   "outputs": [],
   "source": []
  },
  {
   "cell_type": "markdown",
   "metadata": {},
   "source": [
    "<b>6. Modifier le TD pour qu'il permette de donner un encadrement d'amplitude $10^{-10}$ de l'équation $(F)$ suivante:\n",
    "$$x^5-2x+2=0$$</b>"
   ]
  }
 ],
 "metadata": {
  "kernelspec": {
   "display_name": "Python 3",
   "language": "python",
   "name": "python3"
  },
  "language_info": {
   "codemirror_mode": {
    "name": "ipython",
    "version": 3
   },
   "file_extension": ".py",
   "mimetype": "text/x-python",
   "name": "python",
   "nbconvert_exporter": "python",
   "pygments_lexer": "ipython3",
   "version": "3.8.6"
  }
 },
 "nbformat": 4,
 "nbformat_minor": 2
}
