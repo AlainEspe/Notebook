{
 "cells": [
  {
   "cell_type": "code",
   "execution_count": null,
   "metadata": {},
   "outputs": [],
   "source": [
    "from pylab import *\n",
    "\n",
    "print(\"\")\n",
    "print(\"*************************************\")\n",
    "print(\"*  Quantites de matiere et titrage  *\")\n",
    "print(\"*  Activité 4 p. 91                 *\")\n",
    "print(\"*  Reaction support du titrage :    *\")\n",
    "print(\"*        H3O+ + HO- --> 2 H2O       *\")\n",
    "print(\"************************Hatier 2020**\")\n",
    "\n",
    "print(\"\")\n",
    "print(\"Attention : le separateur decimal est le point\")\n",
    "print(\"\")\n",
    "\n",
    "### A MODIFIER : DONNEES ###\n",
    "### Concentration de la solution titree en mol/L\n",
    "c1=\n",
    "### Volume de solution titree en L\n",
    "V1=\n",
    "### Concentration de la solution titrante en mol/L\n",
    "c=\n",
    "### Volume maximal affiche en L\n",
    "Vmax=\n",
    "\n",
    "### A MODIFIER : CALCULS ###\n",
    "### Quantite de matiere apportee de reactif titre en mol\n",
    "ntitrei=\n",
    "### Volume equivalent en mL\n",
    "Ve=\n",
    "### Quantite de matiere de reactif titrant a Vmax en mol\n",
    "ntitrantmax=\n",
    "\n",
    "### A MODIFIER : LISTES ###\n",
    "V=[0,Ve,Vmax]\n",
    "ntitre=[ntitrei,0,0]\n",
    "ntitrant=[0,0,ntitrantmax]\n",
    "\n",
    "### A MODIFIER : TRACES ###\n",
    "plot(V,ntitre,\"r\",label=\"Reactif titre\")\n",
    "plot(V,ntitrant,\"b\",label=\"Reactif titrant\")\n",
    "\n",
    "### NE PAS MODIFIER ###\n",
    "\n",
    "### Ecriture des resultats\n",
    "print(\"\")\n",
    "print(\"Volume equivalent :\",round(Ve,3),\"L\")\n",
    "### Mise en forme des graphes\n",
    "xlabel(\"V (en L)\")\n",
    "ylabel(\"Quantites de matiere (en mol)\")\n",
    "legend()\n",
    "grid(True)\n",
    "show()\n",
    "\n"
   ]
  }
 ],
 "metadata": {
  "kernelspec": {
   "display_name": "Python 3",
   "language": "python",
   "name": "python3"
  },
  "language_info": {
   "codemirror_mode": {
    "name": "ipython",
    "version": 3
   },
   "file_extension": ".py",
   "mimetype": "text/x-python",
   "name": "python",
   "nbconvert_exporter": "python",
   "pygments_lexer": "ipython3",
   "version": "3.6.9"
  }
 },
 "nbformat": 4,
 "nbformat_minor": 4
}
