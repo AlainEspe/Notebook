{
 "cells": [
  {
   "cell_type": "markdown",
   "metadata": {
    "deletable": false,
    "editable": false
   },
   "source": [
    "# Première expérience avec jupyter\n",
    "\n",
    "Nous faisons un essai d'utilisation de l'environnement jupyter.\n",
    "Cet environnement permet d'afficher un notebook *carnet* contenant du texte et du code.\n",
    "\n",
    "Vous pouvez compléter les zones de code et vous pouvez les exécuter une zone de code en la selectionnant et en appuyant **Ctrl + Return**\n",
    "\n",
    "Les zones de code fonctionnent ensemble : par exemple une variable définie dans une zone est utilisable dans une zone ultérieure."
   ]
  },
  {
   "cell_type": "markdown",
   "metadata": {
    "deletable": false,
    "editable": false
   },
   "source": [
    "# Projet Puissance 4\n",
    "## Présentation\n",
    "\n",
    "On veut réaliser un jeu de puissance 4. La règle est simple :\n",
    "\n",
    "* l'aire de jeu est une grille de 7 cases horizontalement, 6 verticalement,\n",
    "* si une colonne est vide, on peut y insérer un jeton qui ira se loger dans la case libre la plus basse,\n",
    "* les deux joueurs inserrent un jeton, chacun son tour,\n",
    "* un joueur gagne quand il réussit un alignement de 4 jetons consécutifs, horizontalement, verticalement ou en diagonale\n",
    "* si la grille est remplie sans qu'aucun joueur ait réussi un alignement, c'est une partie nulle\n",
    "\n",
    "**Important :** plutôt que d'écrire les valeurs 4, 7, 6 dans le programme, nous utiliserons des constantes. Cela rend le programme plus clair et permet, si on le souhaite, de modifier facilement les règles en passant à une grille plus grande par exemple."
   ]
  },
  {
   "cell_type": "code",
   "execution_count": null,
   "metadata": {
    "deletable": false,
    "editable": false
   },
   "outputs": [],
   "source": [
    "# Définition des paramètres\n",
    "N_COLS   = 7\n",
    "N_LIGNES = 6\n",
    "TO_WIN   = 4"
   ]
  },
  {
   "cell_type": "markdown",
   "metadata": {
    "deletable": false,
    "editable": false
   },
   "source": [
    "## Stockage des données\n",
    "\n",
    "* Le premier joueur a des jetons `'X'` et le second joueur a des jetons `'O'`.\n",
    "* Une case libre est représentée par `'_'`\n",
    "* Chaque ligne est stockée comme une liste de `N_COLS` caractères, par exemple avec `N_COLS == 7` :\n",
    "```python\n",
    "['X', '_', '_', 'O', 'O', 'X', '_']\n",
    "```\n",
    "* La grille est stockée comme une liste de `N_LIGNES` lignes. La ligne numéro `0` est celle du haut.\n",
    "\n",
    "## Fonctions utilitaires\n",
    "\n",
    "Avant de réaliser le jeu lui même, on a besoin de pouvoir manipuler la grille.\n",
    "\n",
    "* créer une grille vide,\n",
    "* afficher le contenu d'une grille,\n",
    "* connaître le contenu d'une cellule,\n",
    "* mettre un jeton dans une colonne,\n",
    "* tester si une colonne est pleine,\n",
    "* tester s'il y a un alignement...\n",
    "\n",
    "Vous allez réaliser toutes ces fonctions."
   ]
  },
  {
   "cell_type": "code",
   "execution_count": null,
   "metadata": {
    "deletable": false
   },
   "outputs": [],
   "source": [
    "def emptyGrid():\n",
    "    '''\n",
    "    return: tableau de N_LIGNES lignes de N_COLS caractères '_'\n",
    "    '''\n",
    "    # Votre code ici\n",
    "    pass"
   ]
  },
  {
   "cell_type": "markdown",
   "metadata": {
    "deletable": false,
    "editable": false
   },
   "source": [
    "*Aide pour la fonction suivante :* La commande `\"|\".join(['A','B','C'])` produit la chaîne `\"A|B|C\"`, c'est à dire que l'on colle les éléments de la liste avec `\"|\"`."
   ]
  },
  {
   "cell_type": "code",
   "execution_count": null,
   "metadata": {
    "deletable": false
   },
   "outputs": [],
   "source": [
    "def displayGrid(grid):\n",
    "    '''\n",
    "    grid: une grille formée d'un tableau de N_LIGNES lignes et N_COLS colonnes\n",
    "      contenant chacune 'X', 'O' ou '_'\n",
    "    La ligne numéro 0 est celle du haut !\n",
    "    Pas de sortie, seulement un affichage (donc print, exceptionnellement !)\n",
    "    '''\n",
    "    # Votre code ici\n",
    "    pass\n",
    "    "
   ]
  },
  {
   "cell_type": "code",
   "execution_count": null,
   "metadata": {
    "deletable": false
   },
   "outputs": [],
   "source": [
    "def getCell(lig, col, grid):\n",
    "    '''\n",
    "    lig: indice de ligne\n",
    "    col: indice de colonne\n",
    "    grid: grille de jeu\n",
    "    return: contenu de la cellule demandée si cette cellule existe, sinon renvoie '?'\n",
    "    '''\n",
    "    # Votre code ici\n",
    "    pass\n"
   ]
  },
  {
   "cell_type": "code",
   "execution_count": null,
   "metadata": {
    "deletable": false
   },
   "outputs": [],
   "source": [
    "def colIsFull(col, grid):\n",
    "    '''\n",
    "    col: indice de la colonne\n",
    "    grid: la grille de jeu\n",
    "    return: True si la colonne est pleine ou si la colonne demandée n'existe pas. False sinon\n",
    "    '''\n",
    "    # Votre code ici\n",
    "    pass\n"
   ]
  },
  {
   "cell_type": "code",
   "execution_count": null,
   "metadata": {
    "deletable": false
   },
   "outputs": [],
   "source": [
    "def gridIsFull(grid):\n",
    "    '''\n",
    "    grid: grille de jeu\n",
    "    return: True si la grille est pleine, False sinon\n",
    "    '''\n",
    "    # Votre code ici\n",
    "    pass\n"
   ]
  },
  {
   "cell_type": "code",
   "execution_count": null,
   "metadata": {
    "deletable": false
   },
   "outputs": [],
   "source": [
    "def insertPawn(joueur, col, grid):\n",
    "    '''\n",
    "    insert un pion dans une colonne si c'est possible\n",
    "    joueur: caractère correspondant au joueur, soit 'X' soit 'O'\n",
    "    col: indice de la colonne\n",
    "    return: True si l'insertion a eu lieu, False sinon\n",
    "    précondition: 0 <= col < N_COLS\n",
    "    attention : grid est modifié par cette fonction\n",
    "    '''\n",
    "    # Votre code ici\n",
    "    pass\n"
   ]
  },
  {
   "cell_type": "markdown",
   "metadata": {
    "deletable": false,
    "editable": false
   },
   "source": [
    "Les fonctions qui suivent servent à visualiser tous les alignements de façon à tester facilement une victoire.\n",
    "Par exemple, si on a la grille (j'en donne une petite pour simplifier)\n",
    "\n",
    "```\n",
    "|_|O|_|_|X|\n",
    "|X|X|O|_|X|\n",
    "|O|O|X|O|X|\n",
    "|O|X|X|O|O|\n",
    "```\n",
    "\n",
    "* la fonctions `getLinesStr(grid)` devra renvoyer la chaîne :\n",
    "  `\"_O__X|XXO_X|OOXOX|OXXOO\"`. Il sera ainsi facile de tester si `\"OOOO\"` ou `\"XXXX\"` est dans cette chaîne pour savoir si un joueur à gagné avec une ligne.\n",
    "* suivant le même principe, `getColsStr(grid)` devra renvoyer la chaîne :\n",
    "\n",
    "  `\"_XOO|OXOX|_OXX|__OO|XXXO\"`\n",
    "* toujours la même chose, `getDiagsSE(grid)`, dans la direction sud-est :\n",
    "\n",
    "  `\"O|OX|XOX|_XXO|OOOO|__X|_X|X\"`\n",
    "  \n",
    "  À noter que dans ce cas les diagonales sont de tailles variables.\n",
    "  \n",
    "  La recherche est facilitée par le fait que nous pouvons demander une cellule extérieure à la grille avec `getCell` ce qui renvoie `'?'` et que si vous préférez, la fonction pourrait alors retourner :\n",
    "  \n",
    "  `\"???O|??OX|?XOX|_XXO|OOOO|__X?|_X??|X???\"`\n",
    "* même chose mais dans la direction nord-est, `getDiagsNE(grid)` avec comme retour, au choix :\n",
    "\n",
    "  `\"_|XO|OX_|OOO_|XX_X|XOX|XX|O\"` ou\n",
    "  \n",
    "  `\"???_|??XO|?OX_|OOO_|XX_X|XOX?|XX??|O???\"`"
   ]
  },
  {
   "cell_type": "code",
   "execution_count": null,
   "metadata": {
    "deletable": false
   },
   "outputs": [],
   "source": [
    "def getLinesStr(grid):\n",
    "    '''\n",
    "    grid: grille de jeu\n",
    "    return: chaîne de caractères représentant les lignes\n",
    "    '''\n",
    "    # Votre code ici\n",
    "    pass"
   ]
  },
  {
   "cell_type": "code",
   "execution_count": null,
   "metadata": {
    "deletable": false
   },
   "outputs": [],
   "source": [
    "def getColsStr(grid):\n",
    "    '''\n",
    "    grid: grille de jeu\n",
    "    return: chaîne de caractères représentant les colonnes\n",
    "    '''\n",
    "    # Votre code ici\n",
    "    pass"
   ]
  },
  {
   "cell_type": "code",
   "execution_count": null,
   "metadata": {
    "deletable": false
   },
   "outputs": [],
   "source": [
    "def getDiagsSE(col,grid):\n",
    "    '''\n",
    "    grid: grille de jeu\n",
    "    return: chaîne de caractères représentant les diagonales suivant l'axe sud-est\n",
    "    '''\n",
    "    # votre code ici\n",
    "    pass"
   ]
  },
  {
   "cell_type": "code",
   "execution_count": null,
   "metadata": {
    "deletable": false
   },
   "outputs": [],
   "source": [
    "def getDiagsNE(col,grid):\n",
    "    '''\n",
    "    grid: grille de jeu\n",
    "    return: chaîne de caractères représentant les diagonales suivant l'axe nord-est\n",
    "    '''\n",
    "    # votre code ici\n",
    "    pass"
   ]
  },
  {
   "cell_type": "markdown",
   "metadata": {
    "deletable": false,
    "editable": false
   },
   "source": [
    "On peut maintenant tester la victoire d'un joueur."
   ]
  },
  {
   "cell_type": "code",
   "execution_count": null,
   "metadata": {
    "deletable": false
   },
   "outputs": [],
   "source": [
    "def hasWin(joueur, grid):\n",
    "    '''\n",
    "    joueur: caractère représentant un joueur, 'X' ou 'O'\n",
    "    grid: grille de jeu\n",
    "    return: True si un alignement de TO_WIN est trouvé dans la grille pour le joueur concerné\n",
    "            False sinon\n",
    "    '''\n",
    "    # Votre code ici\n",
    "    pass    "
   ]
  },
  {
   "cell_type": "markdown",
   "metadata": {
    "deletable": false,
    "editable": false
   },
   "source": [
    "## Finalisation\n",
    "\n",
    "Ajoutez le code qui exécute une partie :\n",
    "\n",
    "* initialise la grille et l'affiche\n",
    "* demander au premier joueur de choisir une colonne (vérifier si réponse valable)\n",
    "* inserrer pion dans la colonne\n",
    "* tester si le joueur gagne\n",
    "* si le joueur gagne, terminer la partie et annoncer victoire\n",
    "* tester si la grille est pleine\n",
    "* si la grille est pleine, terminer la partie et annoncer nul\n",
    "* recommencer avec l'autre joueur"
   ]
  },
  {
   "cell_type": "code",
   "execution_count": null,
   "metadata": {
    "deletable": false
   },
   "outputs": [],
   "source": [
    "# Votre code ici\n",
    "\n"
   ]
  }
 ],
 "metadata": {
  "celltoolbar": "Éditer les Méta-Données",
  "kernelspec": {
   "display_name": "Python 3",
   "language": "python",
   "name": "python3"
  },
  "language_info": {
   "codemirror_mode": {
    "name": "ipython",
    "version": 3
   },
   "file_extension": ".py",
   "mimetype": "text/x-python",
   "name": "python",
   "nbconvert_exporter": "python",
   "pygments_lexer": "ipython3",
   "version": "3.6.9"
  }
 },
 "nbformat": 4,
 "nbformat_minor": 2
}
