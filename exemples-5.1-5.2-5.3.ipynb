{
 "cells": [
  {
   "cell_type": "markdown",
   "metadata": {},
   "source": [
    "Exemple 5.1 :\n",
    "Dans une école de rugby, il y a quatre groupes :\n",
    "- le groupe des U8 pour les joueurs entre 8 ans inclus et 10 ans exclus,\n",
    "- le groupe U10 pour les joueurs entre 10 ans inclus et 12 ans exclus,\n",
    "- le groupe U12 pour les joueurs entre 12 ans inclus et 14 ans exclus,\n",
    "- le groupe U14 pour les joueurs entre 14 ans inclus et 16 ans exclus.\n",
    "\n",
    "1. Identifier la variable à créer.\n",
    "2. Identifier les instructions conditionnelles dans l’énoncé.\n",
    "3. Rédiger un programme permettant de calculer le prix de revient pour un nombre de tirage qui sera saisi au clavier."
   ]
  },
  {
   "cell_type": "markdown",
   "metadata": {},
   "source": [
    "Exemple 5.2 :\n",
    "Un magasin de location de vélos propose les tarifs suivants en fonction de la durée de location :\n",
    "- durée < 1 h, le tarif est de 10 €,\n",
    "- 1 h ≤ durée < 2 h, on calcule le tarif en euros par durée*5,\n",
    "- 2 h ≤ durée < 4 h, on calcule le tarif en euros par durée*4,\n",
    "- pour la journée, on paie un forfait de 20 €.\n",
    "\n",
    "Compléter le programme ci-dessous pour qu’il calcule le tarif d’une location de vélo."
   ]
  },
  {
   "cell_type": "code",
   "execution_count": null,
   "metadata": {},
   "outputs": [],
   "source": [
    "duree=float(input(\"Quelle durée en heures souhaitez-vous louer le vélo ?\"))\n",
    "if duree<1:\n",
    "    print(\"Le tarif de la location en euros est de\",8)\n",
    "elif 2<duree<4:\n",
    "    print(\"Le tarif de la location en euros est de\",duree*4)"
   ]
  },
  {
   "cell_type": "markdown",
   "metadata": {},
   "source": [
    "Exemple 5.3 :\n",
    "Un magasin propose le développement de photographies avec un tarif dégressif suivant le nombre de tirages à développer.\n",
    "Pour 50 tirages, l’unité revient à 0,16 €, à partir du 51ème tirage et jusqu’au 100ème, il revient à 0,12 € et à partir du 101ème, il coûte 0,10 €.\n",
    "1. Identifier la variable à créer.\n",
    "2. Identifier les instructions conditionnelles dans l’énoncé.\n",
    "3. Rédiger un programme permettant de calculer le prix de revient pour un nombre de tirage qui sera saisi au clavier."
   ]
  }
 ],
 "metadata": {
  "kernelspec": {
   "display_name": "Python 3",
   "language": "python",
   "name": "python3"
  },
  "language_info": {
   "codemirror_mode": {
    "name": "ipython",
    "version": 3
   },
   "file_extension": ".py",
   "mimetype": "text/x-python",
   "name": "python",
   "nbconvert_exporter": "python",
   "pygments_lexer": "ipython3",
   "version": "3.6.9"
  }
 },
 "nbformat": 4,
 "nbformat_minor": 4
}
