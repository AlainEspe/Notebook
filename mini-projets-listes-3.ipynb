{
 "cells": [
  {
   "cell_type": "markdown",
   "metadata": {},
   "source": [
    "## Mini projets \n",
    "\n"
   ]
  },
  {
   "cell_type": "markdown",
   "metadata": {},
   "source": [
    "## Les 5 projets\n",
    "Les cinq projets ici proposés vont permettre de tester vos capacités algorithmiques. \n",
    "+ 1. Pésentation : Il est essentiel que vous présentiez votre code en français en expliquant brièvement son fonctionnement.\n",
    "+ 2. Commentaires Python : n'oubliez pas de commenter les étapes de votre code.\n",
    "+ 3. Les tests : le jeu de  tests que vous proposerez afin de valider votre programme fait partie de la note attribuée à l'exercice. Vous devez commenter vos tests et exécuter vos fonctions.\n",
    "\n",
    "## Un projet c'est quoi ?\n",
    "+ 1 Un énoncé. \n",
    "+ 2 Les entrées.\n",
    "+ 3 Les sorties.\n",
    "+ 4 Commentaires.\n",
    "+ 5 Rendu \n",
    "\n",
    "## Conseils\n",
    "+ Vous pouvez développer vos projets sur un éditeur python comme Edupython par exemple puis recopier le code sur votre notebooks.\n",
    "+ Commentez le code, exécuter le code, testez le code, commentez le test, retestez le code, commentez le test, retestez le code, commentez le test, retestez le code, commentez le test ….\n",
    "\n",
    "## Notations : devoir sur 30 points\n",
    "+ Chaque exercice est noté sur 6 points.\n",
    "+ 4 points pour le code + 2 points pour les tests.\n",
    "+ Même si chaque exercice est noté sur 6 points, ils ne sont pas tous de la même difficulté, certains sont très simples et d'autres plus ardus.\n"
   ]
  },
  {
   "cell_type": "markdown",
   "metadata": {},
   "source": [
    "# Projet 1  : Arnaque aérienne \n",
    "## Énoncé\n",
    "\n",
    "Comme le disait le grand-père de Joseph Marchand, « Le plus beau voyage est celui qu'on n'a pas encore fait ». New York était dans la tête de Joseph depuis plusieurs années maintenant, et il a décidé aujourd'hui d'acheter son billet d'avion.\n",
    "\n",
    "Quelques secondes avant de cliquer sur le bouton « Acheter ! », son amie Haruhi lui envoie une liste de prix qu'elle a trouvés sur Internet. Joseph est curieux de voir si ces derniers sont moins chers que le billet qu'il s'apprêtait à acheter.\n",
    "\n",
    "## Entrée\n",
    "\n",
    "+ Le prix initial du billet de Joseph.\n",
    "+ Une liste contenant les N prix trouvés par Haruhi..\n",
    "\n",
    "## Sortie\n",
    "\n",
    "+ Si Haruhi a trouvé au moins 3 prix strictement moins chers que celui de Joseph, affichez « ARNAQUE ! » pour l'avertir.\n",
    "+ Sinon « Ok bon voyage, bisous, n'oublie pas de m'envoyer des photos ! ».\n"
   ]
  },
  {
   "cell_type": "code",
   "execution_count": null,
   "metadata": {},
   "outputs": [],
   "source": [
    "#Exemples d'entrée/sortie\n",
    "\n",
    "# Dans la console Python\n",
    "prixInit=570\n",
    "listeHaruhi= [495, 1200 ,540 ,450]\n",
    "arnaqueAerienne(prixInit,listeHaruhi)\n",
    "\"ARNAQUE\""
   ]
  },
  {
   "cell_type": "markdown",
   "metadata": {},
   "source": [
    "## Commentaire\n",
    "\n",
    "Exactement 3 billets sont strictement moins chers que celui choisi par Joseph : 495, 540, et 450. \n",
    "Ça sent l'arnaque.."
   ]
  },
  {
   "cell_type": "code",
   "execution_count": null,
   "metadata": {},
   "outputs": [],
   "source": [
    "# Dans la console Python\n",
    "prixInit=820\n",
    "listeHaruhi= [580, 2000, 970, 1050, 820]\n",
    "arnaqueAerienne(prixInit,listeHaruhi)\n",
    "\"Ok bon voyage, bisous, n'oublie pas de m'envoyer des photos !\""
   ]
  },
  {
   "cell_type": "markdown",
   "metadata": {},
   "source": [
    "## Commentaire\n",
    "Seul le billet à 580€ est strictement inférieur au billet de Joseph à 820€.\n",
    "## Rendu\n",
    "+ Un code python dans le bon format.\n",
    "+ Un jeu de tests en fin de code contenant entre autre les deux exemples précédents. Ne vous limitez surtout pas aux exemples précédents.\n"
   ]
  },
  {
   "cell_type": "code",
   "execution_count": null,
   "metadata": {},
   "outputs": [],
   "source": [
    "#Mettre le code python ici: (3points)\n",
    "\n"
   ]
  },
  {
   "cell_type": "markdown",
   "metadata": {},
   "source": [
    "Présentation de votre code\n"
   ]
  },
  {
   "cell_type": "code",
   "execution_count": null,
   "metadata": {},
   "outputs": [],
   "source": [
    "#TESTS , ATTENTION LA QUALITE ET LE NOMBRE DE TESTS EST EVALUES. (3points)\n"
   ]
  },
  {
   "cell_type": "markdown",
   "metadata": {},
   "source": [
    "++++++++++++++++++++++++++++++++++++++++++++++++++++++++++++++++++++++++++++++++++++++++\n",
    "# Projet 2 : Les « 101 » Dalmatiens \n",
    "## Énoncé\n",
    "\n",
    "Joseph Marchand veut faire une farce à son fidèle dalmatien Scooby-Naire : il souhaite accrocher dans sa niche une photo de ce bel animal, en inversant au préalable les couleurs blanc et noir.\n",
    "\n",
    "On vous donne un tableau de bits représentant une image en noir et blanc, vous devez implémenter une fonction qui calcule le négatif de cette image.\n",
    "\n",
    "## Entrée\n",
    "    \n",
    "Le tableau de bits (N x M) fait avec une liste de liste, par exemple pour un tableau 3x5:\n",
    "    \n"
   ]
  },
  {
   "cell_type": "code",
   "execution_count": null,
   "metadata": {},
   "outputs": [],
   "source": [
    "#dans l'éditeur PYTHON\n",
    "exemple=[[0,0,0,1,0],[1,1,1,1,1],[1,0,1,0,1]]\n",
    "#Comme on parle d'un tableau, on l'écrira plutôt\n",
    "exemple=[[0,0,0,1,0],\n",
    "         [1,1,1,1,1],\n",
    "         [1,0,1,0,1]]\n",
    "#Remarquez que les deux exemples precedents sont EXACTEMENT les mêmes. Seul l'affichage est different"
   ]
  },
  {
   "cell_type": "markdown",
   "metadata": {},
   "source": [
    "## Sortie\n",
    "Le négatif de l'image (N x M) fait avec une liste de liste.\n",
    "\n",
    "## Exemples d'entrée/sortie"
   ]
  },
  {
   "cell_type": "code",
   "execution_count": null,
   "metadata": {},
   "outputs": [],
   "source": [
    "#Exemples d'entrée/sortie\n",
    "#dans l'éditeur PYTHON\n",
    "monChien=[[0,0,0],\n",
    "         [1,0,1],\n",
    "         [0,1,0]]\n",
    "\n",
    "dalmatienI(monChien)\n",
    "[[1,1,1], [0,1,0],[1,0,1]]"
   ]
  },
  {
   "cell_type": "markdown",
   "metadata": {},
   "source": [
    "## Rendu\n",
    "+ Un code python dans le bon format.\n",
    "+ Un jeu de tests en fin de code contenant entre autre les deux exemples précédents. Ne vous limitez surtout pas aux exemples précédents.\n",
    "+ Un jeu de tests aléatoires."
   ]
  },
  {
   "cell_type": "code",
   "execution_count": null,
   "metadata": {},
   "outputs": [],
   "source": [
    "#Mettre le code python ici:\n",
    "\n",
    "\n"
   ]
  },
  {
   "cell_type": "code",
   "execution_count": null,
   "metadata": {},
   "outputs": [],
   "source": [
    "##TESTS , ATTENTION LA QUALITE ET LE NOMBRE DE TESTS SONT EVALUES\n"
   ]
  },
  {
   "cell_type": "markdown",
   "metadata": {},
   "source": [
    "Commentaires\n"
   ]
  },
  {
   "cell_type": "markdown",
   "metadata": {},
   "source": [
    "++++++++++++++++++++++++++++++++++++++++++++++++++++++++++++++++++++++++++++++++++++++++\n",
    "# Projet 3 \n",
    "## Énoncé\n",
    "\n",
    "Une séquence d'ADN sera une suite finie constituée de lettres dans l'ensemble {A, T, G, C}. \n",
    "On vous donne en entrée une séquence d'ADN de longueur N. \n",
    "Écrivez une fonction qui renvoie le nucléotide (la lettre) le plus présent. \n",
    "Si c'est le cas de plusieurs, renvoyez celui qui vient en premier dans l'ordre alphabétique.\n",
    "\n",
    "## Entrée\n",
    "\n",
    "Une chaîne de caractères, la séquence d'ADN de longueur N.\n",
    "\n",
    "## Sortie\n",
    "\n",
    "Le nucléotide le plus fréquent dans la séquence d'ADN.\n",
    "## Exemples d'entrée/sortie"
   ]
  },
  {
   "cell_type": "code",
   "execution_count": null,
   "metadata": {},
   "outputs": [],
   "source": [
    "#Exemples d'entrée/sortie\n",
    "# Dans la console Python\n",
    "chaineADN=\"ATTGCCATATCC\"\n",
    "C\n",
    "chaineADN=\"AAAACCCGGGTTT\"\n",
    "A"
   ]
  },
  {
   "cell_type": "markdown",
   "metadata": {},
   "source": [
    "## Rendu\n",
    "+ Un code python dans le bon format.\n",
    "+ Un jeu de tests en fin de code contenant entre autre les deux exemples précédents. \n",
    "Ne vous limitez surtout pas aux exemples précédents.\n",
    "+ Un jeu de tests aléatoires."
   ]
  },
  {
   "cell_type": "code",
   "execution_count": null,
   "metadata": {},
   "outputs": [],
   "source": [
    "#Mettre le code python ici:\n",
    "\n",
    "\n"
   ]
  },
  {
   "cell_type": "code",
   "execution_count": null,
   "metadata": {},
   "outputs": [],
   "source": [
    "#TESTS , ATTENTION LA QUALITE ET LE NOMBRE DE TESTS SONT EVALUES\n"
   ]
  },
  {
   "cell_type": "markdown",
   "metadata": {},
   "source": [
    "Commentaires\n"
   ]
  },
  {
   "cell_type": "markdown",
   "metadata": {},
   "source": [
    "++++++++++++++++++++++++++++++++++++++++++++++++++++++++++++++++++++++++++++++++++++++++\n",
    "# Projet 4 : Les assiettes\n",
    "## Énoncé\n",
    "\n",
    "Joseph Marchand est un homme très ordonné et il souhaite ranger ses assiettes en trois piles égales. Écrivez une fonction qui prend en argument trois entiers représentant respectivement la hauteur des trois piles actuelles et qui retourne 1 s'il est possible d'obtenir trois piles égales, 0 sinon.\n",
    "## Entrée\n",
    "\n",
    "L'entrée compte 3 entiers, N, M et P, les hauteurs des trois piles d'assiettes.\n",
    "## Sortie\n",
    "\n",
    "La sortie contiendra True s'il est possible de rééquilibrer les piles d'assiettes, False sinon.\n",
    "Contraintes d'exécution\n",
    "## Exemples d'entrée/sortie\n"
   ]
  },
  {
   "cell_type": "code",
   "execution_count": null,
   "metadata": {},
   "outputs": [],
   "source": [
    "# Dans la console Python\n",
    "N,M,P=1,2,3\n",
    "lesAssiettes(N,M,P)\n",
    "True\n",
    "N,M,P=0,0,2\n",
    "lesAssiettes(N,M,P)\n",
    "False"
   ]
  },
  {
   "cell_type": "markdown",
   "metadata": {},
   "source": [
    "## Rendu\n",
    "+ Un code python dans le bon format.\n",
    "+ Un jeu de tests en fin de code contenant entre autre les deux exemples précédents. \n",
    "Ne vous limitez surtout pas aux exemples précédents.\n",
    "+ Un jeu de tests aléatoires."
   ]
  },
  {
   "cell_type": "code",
   "execution_count": null,
   "metadata": {},
   "outputs": [],
   "source": [
    "#Mettre le code python ici:\n"
   ]
  },
  {
   "cell_type": "code",
   "execution_count": null,
   "metadata": {},
   "outputs": [],
   "source": [
    "#TESTS , ATTENTION LA QUALITE ET LE NOMBRE DE TESTS SONT EVALUES\n"
   ]
  },
  {
   "cell_type": "markdown",
   "metadata": {},
   "source": [
    "++++++++++++++++++++++++++++++++++++++++++++++++++++++++++++++++++++++++++++++++++++++++\n",
    "# Projet 5 : Timestamps \n",
    "## Énoncé\n",
    "\n",
    "On vous donne six variables entières représentant trois heures de soumission (données sous la forme de deux entiers, l'un pour les heures et l'autre pour les minutes). Écrivez une fonction qui détermine l'heure de la première soumission. Les trois heures données à votre programme seront toujours différentes.\n",
    "## Entrée\n",
    " Une liste de trois couples d'entiers, le premier étant l'heure de soumission et le second, les minutes. \n",
    "## Sortie\n",
    "\n",
    "Renvoyez 1, 2, ou 3, si la première, la deuxième, ou la troisième heure est la première soumission.\n",
    "\n",
    "## Exemples d'entrée/sortie\n"
   ]
  },
  {
   "cell_type": "code",
   "execution_count": null,
   "metadata": {},
   "outputs": [],
   "source": [
    "#Exemples d'entrée/sortie\n",
    "# Dans la console Python\n",
    "soumission=[[10,48],[9,3],[9,39]]\n",
    "timeStamps(soumission)\n",
    "2\n",
    "soumission=[[7,58],[20,26],[9,29]]\n",
    "timeStamps(soumission)\n",
    "1"
   ]
  },
  {
   "cell_type": "markdown",
   "metadata": {},
   "source": [
    "## Rendu\n",
    "+ Un code python dans le bon format.\n",
    "+ Un jeu de tests en fin de code contenant entre autre les deux exemples précédents. \n",
    "Ne vous limitez surtout pas aux exemples précédents.\n",
    "+ Un jeu de tests aléatoires."
   ]
  },
  {
   "cell_type": "code",
   "execution_count": null,
   "metadata": {},
   "outputs": [],
   "source": [
    "#Mettre le code python ici:\n",
    "\n"
   ]
  },
  {
   "cell_type": "code",
   "execution_count": null,
   "metadata": {},
   "outputs": [],
   "source": [
    "#TESTS , ATTENTION LA QUALITE ET LE NOMBRE DE TESTS SONT EVALUES"
   ]
  }
 ],
 "metadata": {
  "kernelspec": {
   "display_name": "Python 3",
   "language": "python",
   "name": "python3"
  },
  "language_info": {
   "codemirror_mode": {
    "name": "ipython",
    "version": 3
   },
   "file_extension": ".py",
   "mimetype": "text/x-python",
   "name": "python",
   "nbconvert_exporter": "python",
   "pygments_lexer": "ipython3",
   "version": "3.6.9"
  }
 },
 "nbformat": 4,
 "nbformat_minor": 4
}
