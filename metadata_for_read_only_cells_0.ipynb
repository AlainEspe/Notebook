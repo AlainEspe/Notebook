{
 "cells": [
  {
   "cell_type": "markdown",
   "metadata": {},
   "source": [
    "# Utiliser les meta-données pour vérouiller des cellules\n",
    "\n",
    "Il est possible d'empêcher la modification de cellules d'un notebook.\n",
    "Pour cela, deux méthodes."
   ]
  },
  {
   "cell_type": "markdown",
   "metadata": {},
   "source": [
    "## 1. Avec les barres d'outils de cellule\n",
    "\n",
    "Dans jupyterHub, cliquez sur Affichage > Barre d'outils de cellule > Éditer les meta-données\n",
    "\n",
    "Cliquez sur le bouton \"Éditer les Méta-Données\" de la cellule qui vous intéresse puis ajoutez le texte comme indiqué sur la copie d'écran suivante puis cliquez sur le bouton Éditer.\n",
    "\n",
    "Une fois le travail terminé, Affichage > Barre d'outils de cellule > Format de la Cellule Texte Brut.\n",
    "\n",
    "![description](https://capytale2.ac-paris.fr/web/sites/default/files/2020-12-10-10-22-04/ac-paris-1/admin/capture-decran-de-2020-12-10-10-18-09.png)"
   ]
  },
  {
   "cell_type": "markdown",
   "metadata": {},
   "source": [
    "## 2. En éditant le fichier .ipynb\n",
    "\n",
    "Pour cela, ouvrez le fichier .ipynb dans un éditeur de texte.\n",
    "\n",
    "Le fichier json qui s'affiche contient pour chaque cellule un ensemble qui ressemble à cela :\n",
    "\n",
    "\n",
    "```\n",
    "  {\n",
    "   \"cell_type\": \"code\",\n",
    "   \"execution_count\": 1,\n",
    "   \"metadata\": {},\n",
    "   \"outputs\": [],\n",
    "   \"source\": [\n",
    "    \"a = 3\"\n",
    "   ]\n",
    "  },\n",
    " ```\n",
    " \n",
    " \n",
    " en remplaçant la ligne ` \"metadata\": {},` par\n",
    " \n",
    " ```\n",
    "  \"metadata\": {\n",
    "    \"trusted\": true,\n",
    "    \"editable\": false,\n",
    "    \"deletable\": false\n",
    "  },\n",
    "  ```\n",
    "  \n",
    "  La cellule n'est plus modifiable et ne peut plus être supprimée."
   ]
  }
 ],
 "metadata": {
  "celltoolbar": "Format de la Cellule Texte Brut",
  "kernelspec": {
   "display_name": "Python 3",
   "language": "python",
   "name": "python3"
  },
  "language_info": {
   "codemirror_mode": {
    "name": "ipython",
    "version": 3
   },
   "file_extension": ".py",
   "mimetype": "text/x-python",
   "name": "python",
   "nbconvert_exporter": "python",
   "pygments_lexer": "ipython3",
   "version": "3.6.9"
  }
 },
 "nbformat": 4,
 "nbformat_minor": 4
}
