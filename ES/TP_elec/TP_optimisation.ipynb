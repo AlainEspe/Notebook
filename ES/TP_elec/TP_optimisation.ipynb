{
 "cells": [
  {
   "cell_type": "markdown",
   "metadata": {},
   "source": [
    "# TP Optimisation"
   ]
  },
  {
   "cell_type": "markdown",
   "metadata": {},
   "source": [
    "## Comment transporter l’électricité en minimisant les pertes ?"
   ]
  },
  {
   "cell_type": "markdown",
   "metadata": {},
   "source": [
    "Le réseau électrique est constitué de plusieurs milliers de kilomètres de fils dans lesquels circule le courant. Une partie de l’énergie électrique est convertie en énergie thermique par effet Joule, puis dissipée dans l’environnement. \n",
    "\n",
    "**➜ Comment minimiser les pertes lors du transport de l’électricité ?**"
   ]
  },
  {
   "cell_type": "markdown",
   "metadata": {},
   "source": [
    "### Modéliser le réseau électrique par le modèle du graphe"
   ]
  },
  {
   "cell_type": "markdown",
   "metadata": {},
   "source": [
    "**Définition d’un graphe**\n",
    "Un graphe est défini par :\n",
    "\n",
    "❯ un ensemble S de sommets (que l’on appelle aussi nœuds ou points) ; \n",
    "\n",
    "❯ un ensemble V d’arcs (appelées aussi arêtes).\n",
    "\n",
    "\n",
    "Chaque arc relie deux sommets éventuellement identiques. Un chemin est défini par la succession d’arcs consécutifs reliant deux sommets. On peut l’exprimer comme la liste des sommets ou des arcs parcourus."
   ]
  },
  {
   "cell_type": "markdown",
   "metadata": {},
   "source": [
    "**Applications**\n",
    "\n",
    "\n",
    "Des problèmes classiques sont résolus avec les graphes : coloration (nombre minimal de couleurs différentes pour que les sommets reliés entre eux soient tous de couleurs différentes), plus court chemin, recherche du chemin de plus faible poids dans un graphe pondéré, etc. Pour chacun de ces problèmes, il existe un ou plusieurs algorithmes permettant de les résoudre à l’aide d’un ordinateur."
   ]
  },
  {
   "cell_type": "markdown",
   "metadata": {},
   "source": [
    "**Éléments de vocabulaire de la théorie des graphes**\n"
   ]
  },
  {
   "cell_type": "markdown",
   "metadata": {},
   "source": [
    "\n",
    "<img src=\"graphe1.png\" width=\"800\"/>\n"
   ]
  },
  {
   "cell_type": "markdown",
   "metadata": {},
   "source": [
    "**Un réseau insulaire**\n",
    "\n",
    "Une île comporte quatre villes. Pour répondre aux besoins énergétiques de ces quatre villes, un champ éolien, une centrale marémotrice et une centrale thermique ont été construits.\n",
    "\n",
    "La répartition du courant se fait par l’intermédiaire de deux postes de distribution reliés entre eux. La centrale marémotrice et le champ éolien sont chacun reliés à un poste différent. La centrale thermique est reliée au même poste que le champ éolien. Deux villes sont connectées à un poste et les deux autres villes à l’autre."
   ]
  },
  {
   "cell_type": "markdown",
   "metadata": {},
   "source": [
    "**Application au réseau électrique**\n",
    "\n",
    "Un réseau de transport électrique peut être modélisé par un graphe orienté.\n",
    "\n",
    "\n",
    "Dans ce modèle :\n",
    "\n",
    "❯ les arcs représentent les lignes électriques ;\n",
    "\n",
    "❯ les sommets représentent soit les sources distributrices (centrales), soit les nœuds intermédiaires (postes de distribution) ou les cibles réceptrices (villes)."
   ]
  },
  {
   "cell_type": "markdown",
   "metadata": {},
   "source": [
    "**Question:**\n",
    "\n",
    "Représenter le graphe modélisant la réseau électrique en prenant soin d'identifier:\n",
    "\n",
    "-les différents sommets du graphe\n",
    "\n",
    "-les différents arcs du graphe\n",
    "\n",
    "-le sens des arcs\n",
    "\n",
    "On utilisera le lien suivant pour construire le graphe: https://www.geogebra.org/classic/sjt82zkv et on fera \"exporter image\" Télécharger et on placera le fichier fans le dossier du TP "
   ]
  },
  {
   "cell_type": "markdown",
   "metadata": {},
   "source": [
    "<img src=\"creer_graphe.png\" width=\"800\"/>\n"
   ]
  },
  {
   "cell_type": "markdown",
   "metadata": {},
   "source": [
    "## Minimiser les pertes pour la distribution d’énergie"
   ]
  },
  {
   "cell_type": "markdown",
   "metadata": {},
   "source": [
    "### **Situation étudiée**\n",
    "\n",
    "<img src=\"illustration1.png\" width=\"400\"/>\n",
    "\n",
    "Deux villes de moyenne montagne sont connectées à l’ensemble du réseau, mais l’électricité provient essentiellement de deux sources : une centrale hydroélectrique et une petite centrale à charbon.\n",
    "Avant d’arriver aux villes, l’électricité passe par un poste électrique qui répartit le courant électrique en fonction des besoins.\n",
    "On cherche ici à déterminer l’intensité du courant dans toutes les branches du réseau avec le minimum de perte d’énergie lors du transport de l’électricité."
   ]
  },
  {
   "cell_type": "markdown",
   "metadata": {},
   "source": [
    "**Caractéristiques du réseau**\n",
    "\n",
    "<img src=\"illustration2.png\" width=\"400\"/>\n",
    "\n",
    "La tension au sein du réseau étudié est de 20 kV.\n",
    "La longueur des lignes reliant la centrale hydroélectrique au poste électrique est deux fois plus grande que celle reliant la centrale à charbon au poste électrique. La résistance est donc aussi deux fois plus grande. La résistance des autres branches est négligée.\n",
    "La ville 1 a besoin d’une puissance électrique moyenne de 4,0 MW. La ville 2 a besoin d’une puissance électrique moyenne de 1,0 MW."
   ]
  },
  {
   "cell_type": "markdown",
   "metadata": {},
   "source": [
    "**Modélisation du réseau et réalité physique**\n",
    "\n",
    "Pour respecter la réalité physique du système, le graphe doit répondre à plusieurs contraintes : \n",
    "\n",
    "❯ l’intensité totale qui sort d’une source (usine de production) est limitée par la puissance maximale distribuée aux utilisateurs ;\n",
    "\n",
    "❯ l’intensité totale entrant dans un nœud intermédiaire est égale à l’intensité totale qui en sort ;\n",
    "\n",
    "❯ l’intensité totale qui arrive à une cible (l’utilisateur) est imposée par la puissance qui est consommée par cet utilisateur ;\n",
    "\n",
    "❯ la valeur de la résistance des lignes reliant la centrale à charbon au poste de distribution est arbitrairement prise comme valant 1 Ω."
   ]
  },
  {
   "cell_type": "markdown",
   "metadata": {},
   "source": [
    "**Puissance transportée**\n",
    "\n",
    "La puissance transportée par les lignes électriques est P=U⋅I, où I est l’intensité du courant et U la tension aux bornes du dipôle."
   ]
  },
  {
   "cell_type": "markdown",
   "metadata": {},
   "source": [
    "**Questions**\n",
    "\n",
    "1. Calculer les intensités des branches desservant les villes\n",
    "\n",
    "2. Déterminer les valeurs des résistances des branches reliant les centrales au poste de distribution.\n",
    "\n",
    "3. Exprimer les pertes en fonction des paramètres du système. \n",
    "\n",
    "4. Identifier les grandeurs sur lesquelles le distributeur peut influer.\n"
   ]
  },
  {
   "cell_type": "markdown",
   "metadata": {},
   "source": [
    "**Réponses:**"
   ]
  },
  {
   "cell_type": "markdown",
   "metadata": {},
   "source": [
    "1. "
   ]
  },
  {
   "cell_type": "markdown",
   "metadata": {},
   "source": [
    "2. "
   ]
  },
  {
   "cell_type": "markdown",
   "metadata": {},
   "source": [
    "3. "
   ]
  },
  {
   "cell_type": "markdown",
   "metadata": {},
   "source": [
    "4. "
   ]
  },
  {
   "cell_type": "code",
   "execution_count": 1,
   "metadata": {},
   "outputs": [
    {
     "data": {
      "text/plain": [
       "Text(0, 0.5, 'Puissance dissipée en amont du poste (W)')"
      ]
     },
     "execution_count": 1,
     "metadata": {},
     "output_type": "execute_result"
    },
    {
     "data": {
      "image/png": "[encoded data removed]",
      "text/plain": [
       "<Figure size 432x288 with 1 Axes>"
      ]
     },
     "metadata": {
      "needs_background": "light"
     },
     "output_type": "display_data"
    }
   ],
   "source": [
    "import numpy as np\n",
    "import matplotlib.pyplot as plt\n",
    "\n",
    "imax=250\n",
    "R1=1\n",
    "R2=2\n",
    "def puiss(x): \n",
    "        return x**2*R1+(imax-x)**2*R2\n",
    "\n",
    "x = np.linspace(0, imax, 50)\n",
    "y = puiss(x)\n",
    "plt.plot(x, y)\n",
    "plt.xlabel(\"Intensité dans la branche 1 (A)\")\n",
    "plt.ylabel(\"Puissance dissipée en amont du poste (W)\")"
   ]
  }
 ],
 "metadata": {
  "kernelspec": {
   "display_name": "Python 3",
   "language": "python",
   "name": "python3"
  },
  "language_info": {
   "codemirror_mode": {
    "name": "ipython",
    "version": 3
   },
   "file_extension": ".py",
   "mimetype": "text/x-python",
   "name": "python",
   "nbconvert_exporter": "python",
   "pygments_lexer": "ipython3",
   "version": "3.8.6"
  }
 },
 "nbformat": 4,
 "nbformat_minor": 4
}
