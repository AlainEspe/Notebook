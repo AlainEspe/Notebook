{
 "cells": [
  {
   "cell_type": "markdown",
   "metadata": {},
   "source": [
    "# Examen pratique en python,  1ère NSI, T1 "
   ]
  },
  {
   "cell_type": "markdown",
   "metadata": {},
   "source": [
    "## Exercice : l'avenir en musique\n",
    "\n",
    "Une boîte à musique chante jusqu'à la fin des temps cette rengaine de Beethoven : \"si\" \"si\" \"do\" \"ré\" \"ré\" \"do\" \"si\" \"la\" \"sol\" \"sol\" \"la\" \"si\" \"la\" \"sol\" \"sol\", au rythme d'une note par seconde. Elle commence maintenant. \n",
    "\n",
    "Écrivez le code python permettant de prévoir la note qu'elle chantera dans un  an exactement (sachant qu'une année compte 365 jours).  "
   ]
  },
  {
   "cell_type": "code",
   "execution_count": 83,
   "metadata": {},
   "outputs": [],
   "source": [
    "hymne = (\"si\", \"si\", \"do\", \"ré\", \"ré\", \"do\", \"si\", \\\n",
    "         \"la\", \"sol\", \"sol\", \"la\", \"si\", \"la\", \"sol\", \"sol\")\n",
    "# à vous"
   ]
  },
  {
   "cell_type": "markdown",
   "metadata": {},
   "source": [
    "## Exercice : décimal et binaire\n",
    "\n",
    "Écrivez la fonction `dec2bin(dec)`  selon les spécifications suivantes : \n",
    "\n",
    "`dec2bin(dec)`\n",
    "\n",
    "* Entrée : un nombre entier positif `dec` représenté en décimal\n",
    "* sortie : la représentation binaire de `dec`, sous forme de `str`.\n",
    "\n",
    "Vous ne pouvez pas utiliser la fonction `bin()`."
   ]
  },
  {
   "cell_type": "code",
   "execution_count": 84,
   "metadata": {},
   "outputs": [],
   "source": [
    "# à vous"
   ]
  },
  {
   "cell_type": "markdown",
   "metadata": {},
   "source": [
    "## Exercice : cette liste est-elle croissante ? \n",
    "\n",
    "Écrire la fonction `est_croissante(L)` qui retourne `True` si la liste `L` est croissante, et  `False` sinon. \n",
    "\n",
    "Une liste est croissante si et seulement si pour tout `x, y` dans l'intervalle `[0, len(liste)-1]`, si `x < y`, alors `L[x] <= L[y]`. Une liste vide est croissante.\n",
    "\n",
    "Vous ne pouvez pas utiliser les fonctions python `sort(), sorted(), max(), min()`."
   ]
  },
  {
   "cell_type": "code",
   "execution_count": null,
   "metadata": {},
   "outputs": [],
   "source": [
    "# à vous"
   ]
  },
  {
   "cell_type": "markdown",
   "metadata": {},
   "source": [
    "## Exercice : tri par sélection\n",
    "\n",
    "Écrivez la fonction `tri_select(L)` selon la spécification suivante : \n",
    "* Entrée : une liste (ou un tuple) `L` d'éléments tous comparables ;\n",
    "* sortie : une liste contenant tous les éléments de `L` classés dans l'ordre croissant. \n",
    "\n",
    "Utilisez l'algorithme suivant : \n",
    "\n",
    "    créer une liste vide `M`,     \n",
    "    faire autant de fois qu'il y a d'éléments dans `L`:\n",
    "        sélectionner le plus petit élément de `L`, \n",
    "        le retirer de `L`\n",
    "        l'ajouter à la fin de `M`\n",
    "        \n",
    "Vous pouvez utiliser la fonction python `min(...)` et pour retirer un élément d'une liste `liste`, utilisez :"
   ]
  },
  {
   "cell_type": "code",
   "execution_count": 28,
   "metadata": {},
   "outputs": [
    {
     "data": {
      "text/plain": [
       "[1, 3]"
      ]
     },
     "execution_count": 28,
     "metadata": {},
     "output_type": "execute_result"
    }
   ],
   "source": [
    "liste = [1, 2, 3]\n",
    "liste.remove(2)\n",
    "liste"
   ]
  },
  {
   "cell_type": "code",
   "execution_count": 77,
   "metadata": {},
   "outputs": [],
   "source": [
    "# à vous"
   ]
  },
  {
   "cell_type": "markdown",
   "metadata": {},
   "source": [
    "## Exercice : anagrammes\n",
    "\n",
    "Le mot A est un *anagramme* du mot B si et seulement si le mot B contient toutes les lettres du mot A et seulement ces lettres, dans un ordre éventuellement différent. \n",
    "\n",
    "Par ex, *nectar* est un anagramme de *carnet*. \n",
    "\n",
    "Dans cet exercice, tous les caractères sont minuscules, et peu importe que les mots appartiennent au Français ou pas.\n",
    "\n",
    "Vous devez écrire une fonction `est_anagramme(A, B)` selon la spécification suivante : \n",
    "* Entrée : deux `str` A et B\n",
    "* Sortie : `True` si B est un anagramme de A, `False` dans le cas contraire. \n",
    "\n",
    "Par ex : \n",
    "    \n",
    "    est_anagramme(\"romain\", \"marion\") => True\n",
    "    est_anagramme(\"pot\", \"poto\") => False\n",
    "    est_anagramme(\"aac\", \"aca\") => True\n",
    "    est_anagramme(\"aac\", \"aaa\") => False\n",
    "\n",
    "Suggestion : \n",
    "commencez par vous familiariser (avec la console) avec les instructions sur ce modèle :"
   ]
  },
  {
   "cell_type": "code",
   "execution_count": 85,
   "metadata": {},
   "outputs": [
    {
     "data": {
      "text/plain": [
       "False"
      ]
     },
     "execution_count": 85,
     "metadata": {},
     "output_type": "execute_result"
    }
   ],
   "source": [
    "2 in [1, 2, 3]"
   ]
  },
  {
   "cell_type": "code",
   "execution_count": 86,
   "metadata": {},
   "outputs": [
    {
     "data": {
      "text/plain": [
       "False"
      ]
     },
     "execution_count": 86,
     "metadata": {},
     "output_type": "execute_result"
    }
   ],
   "source": [
    "1 not in [1, 2, 3]"
   ]
  },
  {
   "cell_type": "code",
   "execution_count": 80,
   "metadata": {},
   "outputs": [],
   "source": [
    "# à vous"
   ]
  }
 ],
 "metadata": {
  "kernelspec": {
   "display_name": "Python 3",
   "language": "python",
   "name": "python3"
  },
  "language_info": {
   "codemirror_mode": {
    "name": "ipython",
    "version": 3
   },
   "file_extension": ".py",
   "mimetype": "text/x-python",
   "name": "python",
   "nbconvert_exporter": "python",
   "pygments_lexer": "ipython3",
   "version": "3.8.6"
  }
 },
 "nbformat": 4,
 "nbformat_minor": 4
}
