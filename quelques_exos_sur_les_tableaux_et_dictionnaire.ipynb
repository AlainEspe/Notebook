{
 "cells": [
  {
   "cell_type": "markdown",
   "metadata": {},
   "source": [
    "# Exercices dictionnaires et listes"
   ]
  },
  {
   "cell_type": "markdown",
   "metadata": {},
   "source": [
    "## Exercice 1\n",
    "Écrire la fonction `somme(tab)` qui effectue la somme de tous les éléments d'un tableau"
   ]
  },
  {
   "cell_type": "code",
   "execution_count": 16,
   "metadata": {},
   "outputs": [],
   "source": [
    "def somme(tab):\n",
    "    \"\"\" Renvoie la somme des éléments de tab\n",
    "    \"\"\"\n",
    "    \n",
    "\n",
    "# jeu de tests\n",
    "assert somme([]) == 0, \"La somme d'une liste vide est 0\"\n",
    "assert somme([1, 4, 6]) == 11, \"Faux pour somme([1, 4, 6])\"\n",
    "assert somme([1, 4, 6, 2, 3, 9]) == 25, \"Faux pour somme([1, 4, 6, -6, 3, -5])\""
   ]
  },
  {
   "cell_type": "markdown",
   "metadata": {},
   "source": [
    "##  Exercice 2\n",
    "Écrire la fonction `somme_de_tab_de_tab(tab)` qui effectue la somme de tous les éléments positifs d'un tableau de tableaux.\n",
    "\n",
    "Le nombre de colonnes n'est pas forcément le même pour chaque ligne.\n",
    "\n",
    "Par exemple : \n",
    "\n",
    "```\n",
    "tab = [[7, 2, 5],\n",
    "       [6, 2],\n",
    "       [5, 6, 8, 9],\n",
    "       []]\n",
    "```"
   ]
  },
  {
   "cell_type": "code",
   "execution_count": 17,
   "metadata": {},
   "outputs": [],
   "source": [
    "def somme_de_tab_de_tab(tab):\n",
    "    \"\"\" Renvoie la somme des éléments positifs de tab\n",
    "        Précondition : tab[i] est un tableau\n",
    "    \"\"\"\n",
    "\n",
    "\n",
    "# Jeu de tests\n",
    "\n",
    "assert somme_de_tab_de_tab([[1]]) == 1, \"Faux pour somme_de_tab_de_tab([[1]])\"\n",
    "assert somme_de_tab_de_tab([[2, 3], [5, 6]]) == 16, \"Faux pour somme_de_tab_de_tab([[2, 3], [5, 6]])\"\n",
    "assert somme_de_tab_de_tab([[2, 3, 5], [5, 6, 7]]) == 28, \"Faux pour somme_de_tab_de_tab([[2, 3, 5], [5, 6, 7]])\"\n",
    "assert somme_de_tab_de_tab([[-2, 3, 5], [6, -7, 8]]) == 22, \"Faux pour somme_de_tab_de_tab([[-2, 3, 5], [6, -7, 8]]), il faut penser à ne pas compter les nombres négatifs\""
   ]
  },
  {
   "cell_type": "markdown",
   "metadata": {},
   "source": [
    "## Exercice 3\n",
    "Écrire la fonction `somme_max_lignes(tab)` qui renvoie le maximum des sommes des lignes de tab.\n",
    "\n",
    "Par exemple pour : \n",
    "\n",
    "```\n",
    "tab = [[7, 2, 5, 2],\n",
    "       [6, 2, -2, 3],\n",
    "       [5, 6, 8, 9],\n",
    "       [2, 3, 6, 7]]\n",
    "```\n",
    "\n",
    "le maximum est la 3 ème ligne `[5, 6, 8, 9]` dont la somme est `27`"
   ]
  },
  {
   "cell_type": "code",
   "execution_count": 21,
   "metadata": {},
   "outputs": [],
   "source": [
    "def somme_max_lignes(tab):\n",
    "    \"\"\" Renvoie le maximum de la somme des lignes de tab\n",
    "    \"\"\"\n",
    "\n",
    "\n",
    "# Jeu de tests\n",
    "assert somme_max_lignes([[5]]) == 5, \"Faux pour somme_max_lignes([[5]])\"\n",
    "assert somme_max_lignes([[5, 6], [2, 3]]) == 11, \"Faux pour somme_max_lignes([[5, 6], [2, 3])\"\n",
    "assert somme_max_lignes([[5, 6, 7], [3, 2, 6], [2, 5, 3], [2, 1, 6]]) == 18, \"Faux pour somme_max_lignes([[5, 6, 7], [3, 2, 6], [2, 5,3], [2, 1, 6]])\"\n",
    "        "
   ]
  },
  {
   "cell_type": "markdown",
   "metadata": {},
   "source": [
    "## Exercice 4\n",
    "Écrire la fonction `somme_max_colonnes(tab)` qui renvoie le maximum des sommes des colonnes de tab.\n",
    "\n",
    "Par exemple pour : \n",
    "\n",
    "```\n",
    "tab = [[7, 2, 5, 2],\n",
    "       [6, 2, -2, 3],\n",
    "       [5, 6, 8, 9]]\n",
    "```\n",
    "\n",
    "le maximum est la 1 ère colonne `[7, 6, 5]` dont la somme est `18`"
   ]
  },
  {
   "cell_type": "code",
   "execution_count": 27,
   "metadata": {},
   "outputs": [],
   "source": [
    "def somme_max_colonnes(tab):\n",
    "    \"\"\" Renvoie la somme des colonnes de tab\n",
    "    \"\"\"\n",
    "\n",
    "\n",
    "# Jeu de tests\n",
    "\n",
    "assert somme_max_colonnes([[1]]) == 1, \"Faux pour somme_max_colonnes([[1]])\"\n",
    "assert somme_max_colonnes([[7, 2, 5, 2], [6, 2, -2, 3], [5, 6, 8, 9]]) == 18, \"Faux pour somme_max_colonnes([[7, 2, 5, 2], [6, 2, -2, 3], [5, 6, 8, 9]])\""
   ]
  },
  {
   "cell_type": "markdown",
   "metadata": {},
   "source": [
    "# Exercice 5\n",
    "Écrire la fonction `dictionnaire_vers_tableau(dictionnaire)` qui transforme un dictionnaire en tableau de couple.\n",
    "\n",
    "Par exemple si le dictionnaire est :\n",
    "```\n",
    "age = {'Jean': 50, 'Heloïse': 35, 'Virginie': 60, 'Coline': 10}\n",
    "```\n",
    "\n",
    "On obtient :\n",
    "\n",
    "```\n",
    "[('Jean', 50), ('Heloïse', 35), ('Virginie', 60), ('Coline': 10)]\n",
    "```"
   ]
  },
  {
   "cell_type": "code",
   "execution_count": 36,
   "metadata": {},
   "outputs": [],
   "source": [
    "def dictionnaire_vers_tableau(dictionnaire):\n",
    "    \"\"\" Renvoie un tableau de couple représentant le dictionnaire\n",
    "    \"\"\"\n",
    "\n",
    "\n",
    "# Jeu de tests\n",
    "assert dictionnaire_vers_tableau({}) == [], \"Faux pour dictionnaire vide\"\n",
    "assert dictionnaire_vers_tableau({1: 2, 3: 4, 6: 2, 8: 3}) == [(1, 2), (3, 4), (6, 2), (8, 3)], \"Faux pour dictionnaire_vers_tableau({1: 2, 3: 4, 6: 2, 8: 3}) == [(1, 2), (3, 4), (6, 2), (8, 3)]\"\n",
    "assert dictionnaire_vers_tableau({'Jean': 50, 'Heloïse': 35, 'Virginie': 60, 'Coline': 10}) == [('Jean', 50), ('Heloïse', 35), ('Virginie', 60), ('Coline', 10)]"
   ]
  },
  {
   "cell_type": "markdown",
   "metadata": {},
   "source": [
    "## Exercice 6\n",
    "Écrire la fonction `tableau_vers_dictionnaire(tab)` qui transforme tableau de couple en dictionnaire.\n",
    "\n",
    "Par exemple si le tableau est :\n",
    "\n",
    "```\n",
    "[('Jean', 50), ('Heloïse', 35), ('Virginie', 60), ('Coline': 10)]\n",
    "```\n",
    "\n",
    "On obtient :\n",
    "\n",
    "```\n",
    "{'Jean': 50, 'Heloïse': 35, 'Virginie': 60, 'Coline': 10}\n",
    "```\n"
   ]
  },
  {
   "cell_type": "code",
   "execution_count": 37,
   "metadata": {},
   "outputs": [],
   "source": [
    "def tableau_vers_dictionnaire(tab):\n",
    "    \"\"\" Renvoie un dictionnaire représentant le tableau tab\"\"\"\n",
    "\n",
    "\n",
    "# Jeu de tests\n",
    "assert tableau_vers_dictionnaire([]) == {}, \"Faux pour liste vide\"\n",
    "assert tableau_vers_dictionnaire([(1, 2), (3, 4), (6, 2), (8, 3)]) == {1: 2, 3: 4, 6: 2, 8: 3}, \"Faux pour tableau_vers_dictionnaire([(1, 2), (3, 4), (6, 2), (8, 3)])\"\n",
    "assert tableau_vers_dictionnaire([('Jean', 50), ('Heloïse', 35), ('Virginie', 60), ('Coline', 10)]) == {'Jean': 50, 'Heloïse': 35, 'Virginie': 60, 'Coline': 10}, \"Faux pour tableau_vers_dictionnaire([('Jean', 50), ('Heloïse', 35), ('Virginie', 60), ('Coline', 10)])\""
   ]
  },
  {
   "cell_type": "markdown",
   "metadata": {},
   "source": [
    "## Exercice 7\n",
    "Écrire la fonction `occurrence(tab)` qui renvoie un dictionnaire contenant le nombre d'occurences de chaque élément de tab\n",
    "\n",
    "Par exemple si tab est :\n",
    "\n",
    "```\n",
    "tab = [1, 7, 2, 6, 1, 9, 3, 2, 6, 1]\n",
    "```\n",
    "\n",
    "On obtient :\n",
    "\n",
    "```\n",
    "{1: 3, 7: 1, 2: 2, 6: 2, 9: 1, 3: 1}\n",
    "```"
   ]
  },
  {
   "cell_type": "code",
   "execution_count": 35,
   "metadata": {},
   "outputs": [],
   "source": [
    "def occurrences(tab):\n",
    "    \"\"\" Renvoie un dictionnaire contenant le nombre d'occurences de chaque élément de tab\n",
    "    \"\"\"\n",
    "\n",
    "\n",
    "# Jeu de tests\n",
    "\n",
    "assert occurrences([]) == {}, \"Faux pour liste vide\"\n",
    "assert occurrences([1, 1, 1, 1, 2, 2, 2, 2, 2, 3]) == {1: 4, 2: 5, 3: 1}, \"Faux pour occurrences([1, 1, 1, 1, 2, 2, 2, 2, 2, 3])\"\n",
    "assert occurrences([1, 7, 2, 6, 1, 9, 3, 2, 6, 1]) == {1: 3, 7: 1, 2: 2, 6: 2, 9: 1, 3: 1}, \"Faux pour occurrences([1, 7, 2, 6, 1, 9, 3, 2, 6, 1])\""
   ]
  },
  {
   "cell_type": "code",
   "execution_count": null,
   "metadata": {},
   "outputs": [],
   "source": []
  }
 ],
 "metadata": {
  "kernelspec": {
   "display_name": "Python 3",
   "language": "python",
   "name": "python3"
  },
  "language_info": {
   "codemirror_mode": {
    "name": "ipython",
    "version": 3
   },
   "file_extension": ".py",
   "mimetype": "text/x-python",
   "name": "python",
   "nbconvert_exporter": "python",
   "pygments_lexer": "ipython3",
   "version": "3.6.9"
  }
 },
 "nbformat": 4,
 "nbformat_minor": 4
}
